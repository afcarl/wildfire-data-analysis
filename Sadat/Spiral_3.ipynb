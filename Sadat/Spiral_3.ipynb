{
 "cells": [
  {
   "cell_type": "code",
   "execution_count": 47,
   "metadata": {
    "collapsed": false
   },
   "outputs": [
    {
     "data": {
      "text/html": [
       "<script>\n",
       "code_show=true; \n",
       "function code_toggle() {\n",
       " if (code_show){\n",
       " $('div.input').hide();\n",
       " } else {\n",
       " $('div.input').show();\n",
       " }\n",
       " code_show = !code_show\n",
       "} \n",
       "$( document ).ready(code_toggle);\n",
       "</script>\n",
       "<form action=\"javascript:code_toggle()\"><input type=\"submit\" value=\"Click here to toggle on/off the raw code.\"></form>"
      ],
      "text/plain": [
       "<IPython.core.display.HTML object>"
      ]
     },
     "execution_count": 47,
     "metadata": {},
     "output_type": "execute_result"
    }
   ],
   "source": [
    "from IPython.display import HTML\n",
    "\n",
    "HTML('''<script>\n",
    "code_show=true; \n",
    "function code_toggle() {\n",
    " if (code_show){\n",
    " $('div.input').hide();\n",
    " } else {\n",
    " $('div.input').show();\n",
    " }\n",
    " code_show = !code_show\n",
    "} \n",
    "$( document ).ready(code_toggle);\n",
    "</script>\n",
    "<form action=\"javascript:code_toggle()\"><input type=\"submit\" value=\"Click here to toggle on/off the raw code.\"></form>''')"
   ]
  },
  {
   "cell_type": "markdown",
   "metadata": {},
   "source": [
    "# Contents"
   ]
  },
  {
   "cell_type": "markdown",
   "metadata": {},
   "source": [
    "* [Executive Summary](#Executive-Summary)\n",
    "* [Base Model (Without SAE)](#Base-Model-(Without-SAE)\n",
    "* [High Frequency (Without SAE)](#High-Frequency-(Without-SAE)\n",
    "* [Base Model (With SAE)](#Base-Model-(With-SAE)\n",
    "* [High Frequency (With SAE)](#High-Frequency-(With-SAE)"
   ]
  },
  {
   "cell_type": "markdown",
   "metadata": {},
   "source": [
    "# Executive Summary"
   ]
  },
  {
   "cell_type": "markdown",
   "metadata": {},
   "source": [
    "Spiral 3 is the attempt to replicate the previous CPU based linear classifiers on a GPU using a single layer Neural Network. The NN architecutre parameters were picked as:\n",
    "- epoch=8. Any higher value leads to overfitting.\n",
    "- batch_size=1000. This gives the highest accuracy for computation speed. \n",
    "\n",
    "The test score of each model is given below using 5 fold CV:\n",
    "\n",
    "| Model | No SAE | SAE |\n",
    "|------|------|------|\n",
    "|   Base Model  | 59.31% | 60.58% |\n",
    "|   High Frequency  | 73.65% | 43.16% |\n",
    "\n",
    "On the high frequency model with SAE, most of the 3 classes were being identified as FBFM1. This caused the model to have an accuracy of 43.16% . Altering the batch_size or epoch did not benefit the accuracy. This is strage as the CPU based high frequency model of Spiral 2b achieved an accuracy of 72%. If we are unable to fix the issue, the future Spirals will be run without SAE."
   ]
  },
  {
   "cell_type": "markdown",
   "metadata": {},
   "source": [
    "# Without SAE"
   ]
  },
  {
   "cell_type": "code",
   "execution_count": 1,
   "metadata": {
    "collapsed": false
   },
   "outputs": [
    {
     "name": "stderr",
     "output_type": "stream",
     "text": [
      "Using TensorFlow backend.\n"
     ]
    },
    {
     "name": "stdout",
     "output_type": "stream",
     "text": [
      "Couldn't import dot_parser, loading of dot files will not be possible.\n"
     ]
    }
   ],
   "source": [
    "import sys, os, random\n",
    "import matplotlib.pyplot as plt\n",
    "import pandas as pd\n",
    "import numpy as np\n",
    "import keras.backend.tensorflow_backend as K\n",
    "from keras.models import Sequential\n",
    "from keras.layers import Dense\n",
    "from keras.wrappers.scikit_learn import KerasClassifier\n",
    "from keras.utils import np_utils\n",
    "from sklearn.metrics import confusion_matrix\n",
    "from sklearn.model_selection import cross_val_score, GridSearchCV, train_test_split, KFold\n",
    "from sklearn.preprocessing import LabelEncoder\n",
    "from sklearn.pipeline import Pipeline\n",
    "from sklearn.preprocessing import normalize\n",
    "%matplotlib inline"
   ]
  },
  {
   "cell_type": "markdown",
   "metadata": {},
   "source": [
    "## Prepare fc1000 engineered images"
   ]
  },
  {
   "cell_type": "code",
   "execution_count": 2,
   "metadata": {
    "collapsed": true
   },
   "outputs": [],
   "source": [
    "root = \"~/WIFIRE/ResNet50_Analysis/WIFIRE_Engineered/\"\n",
    "\n",
    "image_features = pd.read_csv(root+\"WIFIRE_fc1000_engineered_features.csv\",  delimiter=',', header=None)\n",
    "df = pd.read_csv(root+'WIFIRE_labels.csv')\n",
    "labels = df.Labels.values"
   ]
  },
  {
   "cell_type": "code",
   "execution_count": 3,
   "metadata": {
    "collapsed": false
   },
   "outputs": [],
   "source": [
    "image_features = normalize(image_features.values) #convert df to np array"
   ]
  },
  {
   "cell_type": "code",
   "execution_count": 4,
   "metadata": {
    "collapsed": false
   },
   "outputs": [
    {
     "data": {
      "text/plain": [
       "(437153, 1000)"
      ]
     },
     "execution_count": 4,
     "metadata": {},
     "output_type": "execute_result"
    }
   ],
   "source": [
    "np.shape(image_features)"
   ]
  },
  {
   "cell_type": "markdown",
   "metadata": {},
   "source": [
    "## Base Model (Without SAE)"
   ]
  },
  {
   "cell_type": "markdown",
   "metadata": {},
   "source": [
    "Prepare image features and labels for modelling"
   ]
  },
  {
   "cell_type": "code",
   "execution_count": 5,
   "metadata": {
    "collapsed": false
   },
   "outputs": [],
   "source": [
    "X = image_features\n",
    "Y = labels"
   ]
  },
  {
   "cell_type": "code",
   "execution_count": 6,
   "metadata": {
    "collapsed": true
   },
   "outputs": [],
   "source": [
    "#Encode class values as integers\n",
    "encoder = LabelEncoder()\n",
    "encoder.fit(Y)\n",
    "encoded_Y = encoder.transform(Y)\n",
    "#Convert integers to dummy variables (i.e. one hot encoded)\n",
    "dummy_y = np_utils.to_categorical(encoded_Y)"
   ]
  },
  {
   "cell_type": "code",
   "execution_count": 7,
   "metadata": {
    "collapsed": true
   },
   "outputs": [],
   "source": [
    "X_train, X_test, y_train, y_test = train_test_split(X, dummy_y, test_size=0.2, random_state=0)"
   ]
  },
  {
   "cell_type": "markdown",
   "metadata": {},
   "source": [
    "The following function creates and compiles the NN architecture on the GPU"
   ]
  },
  {
   "cell_type": "code",
   "execution_count": 8,
   "metadata": {
    "collapsed": false
   },
   "outputs": [],
   "source": [
    "def baseline_model(device = 1):\n",
    "    #Shut down tensorflow after use\n",
    "    with K.tf.device('/gpu:'+str(device)):\n",
    "        #Create model\n",
    "        model = Sequential()\n",
    "        model.add(Dense(np.shape(X)[1], input_dim=np.shape(X)[1], \n",
    "                        kernel_initializer='normal', activation='relu'))\n",
    "        model.add(Dense(len(np.unique(Y)), \n",
    "                        kernel_initializer='normal', activation='sigmoid'))\n",
    "        \n",
    "        #Compile model\n",
    "        model.compile(loss='categorical_crossentropy', optimizer='adam', \n",
    "                      metrics=['accuracy'])\n",
    "        return model"
   ]
  },
  {
   "cell_type": "markdown",
   "metadata": {},
   "source": [
    "KerasClassifier is an sklearn wrapper for our baseline_model"
   ]
  },
  {
   "cell_type": "code",
   "execution_count": 9,
   "metadata": {
    "collapsed": false,
    "scrolled": false
   },
   "outputs": [
    {
     "name": "stdout",
     "output_type": "stream",
     "text": [
      "Epoch 1/8\n",
      "5s - loss: 1.2974 - acc: 0.5435\n",
      "Epoch 2/8\n",
      "3s - loss: 1.1730 - acc: 0.5768\n",
      "Epoch 3/8\n",
      "3s - loss: 1.1528 - acc: 0.5838\n",
      "Epoch 4/8\n",
      "3s - loss: 1.1394 - acc: 0.5882\n",
      "Epoch 5/8\n",
      "3s - loss: 1.1307 - acc: 0.5899\n",
      "Epoch 6/8\n",
      "3s - loss: 1.1224 - acc: 0.5925\n",
      "Epoch 7/8\n",
      "3s - loss: 1.1151 - acc: 0.5951\n",
      "Epoch 8/8\n",
      "3s - loss: 1.1087 - acc: 0.5964\n",
      "Epoch 1/8\n",
      "3s - loss: 1.2939 - acc: 0.5382\n",
      "Epoch 2/8\n",
      "3s - loss: 1.1736 - acc: 0.5769\n",
      "Epoch 3/8\n",
      "3s - loss: 1.1541 - acc: 0.5823\n",
      "Epoch 4/8\n",
      "3s - loss: 1.1411 - acc: 0.5868\n",
      "Epoch 5/8\n",
      "3s - loss: 1.1316 - acc: 0.5895\n",
      "Epoch 6/8\n",
      "3s - loss: 1.1232 - acc: 0.5918\n",
      "Epoch 7/8\n",
      "3s - loss: 1.1163 - acc: 0.5937\n",
      "Epoch 8/8\n",
      "3s - loss: 1.1103 - acc: 0.5952\n",
      "Epoch 1/8\n",
      "3s - loss: 1.3029 - acc: 0.5406\n",
      "Epoch 2/8\n",
      "3s - loss: 1.1754 - acc: 0.5772\n",
      "Epoch 3/8\n",
      "3s - loss: 1.1553 - acc: 0.5824\n",
      "Epoch 4/8\n",
      "3s - loss: 1.1418 - acc: 0.5870\n",
      "Epoch 5/8\n",
      "3s - loss: 1.1326 - acc: 0.5894\n",
      "Epoch 6/8\n",
      "3s - loss: 1.1223 - acc: 0.5932\n",
      "Epoch 7/8\n",
      "3s - loss: 1.1157 - acc: 0.5949\n",
      "Epoch 8/8\n",
      "3s - loss: 1.1093 - acc: 0.5967\n",
      "Epoch 1/8\n",
      "3s - loss: 1.2971 - acc: 0.5376\n",
      "Epoch 2/8\n",
      "3s - loss: 1.1710 - acc: 0.5781\n",
      "Epoch 3/8\n",
      "3s - loss: 1.1509 - acc: 0.5842\n",
      "Epoch 4/8\n",
      "3s - loss: 1.1388 - acc: 0.5876\n",
      "Epoch 5/8\n",
      "3s - loss: 1.1288 - acc: 0.5906\n",
      "Epoch 6/8\n",
      "3s - loss: 1.1200 - acc: 0.5933\n",
      "Epoch 7/8\n",
      "3s - loss: 1.1138 - acc: 0.5947\n",
      "Epoch 8/8\n",
      "3s - loss: 1.1058 - acc: 0.5976\n",
      "Epoch 1/8\n",
      "3s - loss: 1.3010 - acc: 0.5351\n",
      "Epoch 2/8\n",
      "3s - loss: 1.1755 - acc: 0.5765\n",
      "Epoch 3/8\n",
      "3s - loss: 1.1549 - acc: 0.5828\n",
      "Epoch 4/8\n",
      "3s - loss: 1.1415 - acc: 0.5868\n",
      "Epoch 5/8\n",
      "3s - loss: 1.1305 - acc: 0.5900\n",
      "Epoch 6/8\n",
      "3s - loss: 1.1225 - acc: 0.5931\n",
      "Epoch 7/8\n",
      "3s - loss: 1.1155 - acc: 0.5950\n",
      "Epoch 8/8\n",
      "3s - loss: 1.1082 - acc: 0.5970\n",
      "Epoch 1/8\n",
      "4s - loss: 1.2798 - acc: 0.5447\n",
      "Epoch 2/8\n",
      "4s - loss: 1.1671 - acc: 0.5788\n",
      "Epoch 3/8\n",
      "4s - loss: 1.1457 - acc: 0.5854\n",
      "Epoch 4/8\n",
      "4s - loss: 1.1331 - acc: 0.5898\n",
      "Epoch 5/8\n",
      "4s - loss: 1.1233 - acc: 0.5924\n",
      "Epoch 6/8\n",
      "4s - loss: 1.1145 - acc: 0.5946\n",
      "Epoch 7/8\n",
      "4s - loss: 1.1080 - acc: 0.5965\n",
      "Epoch 8/8\n",
      "4s - loss: 1.1013 - acc: 0.5989\n"
     ]
    },
    {
     "data": {
      "text/plain": [
       "GridSearchCV(cv=5, error_score='raise',\n",
       "       estimator=<keras.wrappers.scikit_learn.KerasClassifier object at 0x7fb931bf7358>,\n",
       "       fit_params={}, iid=True, n_jobs=1, param_grid={'epochs': (8,)},\n",
       "       pre_dispatch='2*n_jobs', refit=True, return_train_score=True,\n",
       "       scoring=None, verbose=0)"
      ]
     },
     "execution_count": 9,
     "metadata": {},
     "output_type": "execute_result"
    }
   ],
   "source": [
    "kc = KerasClassifier(build_fn=baseline_model, \n",
    "                            epochs=1, batch_size=1000, verbose=2)\n",
    "\n",
    "parameters =  {'epochs':(8,)}\n",
    "        \n",
    "               \n",
    "classifier = GridSearchCV(kc, parameters, cv=5)\n",
    "classifier.fit(X_train, y_train)"
   ]
  },
  {
   "cell_type": "code",
   "execution_count": 10,
   "metadata": {
    "collapsed": true
   },
   "outputs": [],
   "source": [
    "#Attempt to predict validation data\n",
    "predict_target = classifier.predict(X_test)"
   ]
  },
  {
   "cell_type": "code",
   "execution_count": 11,
   "metadata": {
    "collapsed": false
   },
   "outputs": [],
   "source": [
    "conf_arr = confusion_matrix(np.argmax(y_test, axis=1), predict_target)\n",
    "log_conf_arr = np.log((conf_arr+1)*10000) #For better color choice\n",
    "norm_conf = []\n",
    "for i in log_conf_arr:\n",
    "    a = 0\n",
    "    tmp_arr = []\n",
    "    a = sum(i, 0)\n",
    "    for j in i:\n",
    "        tmp_arr.append(float(j)/float(a))\n",
    "    norm_conf.append(tmp_arr)"
   ]
  },
  {
   "cell_type": "code",
   "execution_count": 12,
   "metadata": {
    "collapsed": false
   },
   "outputs": [
    {
     "data": {
      "image/png": "[encoded data removed]",
      "text/plain": [
       "<matplotlib.figure.Figure at 0x7fb92ff177f0>"
      ]
     },
     "metadata": {},
     "output_type": "display_data"
    }
   ],
   "source": [
    "fig = plt.figure(figsize = (15,15))\n",
    "plt.clf()\n",
    "ax = fig.add_subplot(111)\n",
    "ax.set_aspect(1)\n",
    "res = ax.imshow(np.array(norm_conf), cmap=plt.cm.YlGn, \n",
    "                interpolation='nearest')\n",
    "\n",
    "width, height = conf_arr.shape\n",
    "\n",
    "for x in range(width):\n",
    "    for y in range(height):\n",
    "        ax.annotate(str(conf_arr[x][y]), xy=(y, x), \n",
    "                    horizontalalignment='center',\n",
    "                    verticalalignment='center')\n",
    "\n",
    "# cb = fig.colorbar(res)\n",
    "alphabet = np.unique(Y)\n",
    "plt.xticks(range(width), alphabet[:width], rotation='vertical')\n",
    "plt.yticks(range(height), alphabet[:height])\n",
    "plt.xlabel('PREDICTED', fontsize=15)\n",
    "plt.ylabel('ACTUAL', fontsize=15)\n",
    "plt.title('Pre-Trained ResNet-50 on WIFIRE\\n(Confusion Matrix)\\n', fontsize=20);"
   ]
  },
  {
   "cell_type": "code",
   "execution_count": 13,
   "metadata": {
    "collapsed": false
   },
   "outputs": [
    {
     "data": {
      "text/plain": [
       "59.310770779243057"
      ]
     },
     "execution_count": 13,
     "metadata": {},
     "output_type": "execute_result"
    }
   ],
   "source": [
    "((np.sum([np.argmax(y_test, axis=1) == predict_target])*1.0)/(len(y_test)*1.0))*100"
   ]
  },
  {
   "cell_type": "markdown",
   "metadata": {},
   "source": [
    "## High Frequency (Without SAE)"
   ]
  },
  {
   "cell_type": "markdown",
   "metadata": {},
   "source": [
    "Prepare image features and labels for modelling"
   ]
  },
  {
   "cell_type": "code",
   "execution_count": 14,
   "metadata": {
    "collapsed": true
   },
   "outputs": [],
   "source": [
    "high_dist_class_list = ['FBFM1','FBFM5','Urban']\n",
    "df_high_class = df[df.Labels.isin(high_dist_class_list)]\n",
    "high_class_idx = np.array(df_high_class.index)"
   ]
  },
  {
   "cell_type": "code",
   "execution_count": 15,
   "metadata": {
    "collapsed": true
   },
   "outputs": [],
   "source": [
    "X = image_features[high_class_idx]\n",
    "Y = labels[high_class_idx]"
   ]
  },
  {
   "cell_type": "code",
   "execution_count": 16,
   "metadata": {
    "collapsed": true
   },
   "outputs": [],
   "source": [
    "#Encode class values as integers\n",
    "encoder = LabelEncoder()\n",
    "encoder.fit(Y)\n",
    "encoded_Y = encoder.transform(Y)\n",
    "#Convert integers to dummy variables (i.e. one hot encoded)\n",
    "dummy_y = np_utils.to_categorical(encoded_Y)"
   ]
  },
  {
   "cell_type": "code",
   "execution_count": 17,
   "metadata": {
    "collapsed": true
   },
   "outputs": [],
   "source": [
    "X_train, X_test, y_train, y_test = train_test_split(X, dummy_y, test_size=0.2, random_state=0)"
   ]
  },
  {
   "cell_type": "markdown",
   "metadata": {},
   "source": [
    "The following function creates and compiles the NN architecture on the GPU"
   ]
  },
  {
   "cell_type": "code",
   "execution_count": 18,
   "metadata": {
    "collapsed": true
   },
   "outputs": [],
   "source": [
    "def baseline_model(device = 1):\n",
    "    #Shut down tensorflow after use\n",
    "    with K.tf.device('/gpu:'+str(device)):\n",
    "        #Create model\n",
    "        model = Sequential()\n",
    "        model.add(Dense(np.shape(X)[1], input_dim=np.shape(X)[1], \n",
    "                        kernel_initializer='normal', activation='relu'))\n",
    "        model.add(Dense(len(np.unique(Y)), \n",
    "                        kernel_initializer='normal', activation='sigmoid'))\n",
    "        \n",
    "        #Compile model\n",
    "        model.compile(loss='categorical_crossentropy', optimizer='adam', \n",
    "                      metrics=['accuracy'])\n",
    "        return model"
   ]
  },
  {
   "cell_type": "markdown",
   "metadata": {},
   "source": [
    "KerasClassifier is an sklearn wrapper for our baseline_model"
   ]
  },
  {
   "cell_type": "code",
   "execution_count": 19,
   "metadata": {
    "collapsed": false
   },
   "outputs": [
    {
     "name": "stdout",
     "output_type": "stream",
     "text": [
      "Epoch 1/8\n",
      "2s - loss: 0.7233 - acc: 0.6932\n",
      "Epoch 2/8\n",
      "2s - loss: 0.6738 - acc: 0.7156\n",
      "Epoch 3/8\n",
      "2s - loss: 0.6596 - acc: 0.7223\n",
      "Epoch 4/8\n",
      "2s - loss: 0.6506 - acc: 0.7264\n",
      "Epoch 5/8\n",
      "2s - loss: 0.6436 - acc: 0.7297\n",
      "Epoch 6/8\n",
      "2s - loss: 0.6374 - acc: 0.7329\n",
      "Epoch 7/8\n",
      "2s - loss: 0.6318 - acc: 0.7350\n",
      "Epoch 8/8\n",
      "2s - loss: 0.6272 - acc: 0.7381\n",
      "Epoch 1/8\n",
      "2s - loss: 0.7242 - acc: 0.6916\n",
      "Epoch 2/8\n",
      "2s - loss: 0.6743 - acc: 0.7147\n",
      "Epoch 3/8\n",
      "2s - loss: 0.6604 - acc: 0.7218\n",
      "Epoch 4/8\n",
      "2s - loss: 0.6520 - acc: 0.7258\n",
      "Epoch 5/8\n",
      "2s - loss: 0.6449 - acc: 0.7287\n",
      "Epoch 6/8\n",
      "2s - loss: 0.6386 - acc: 0.7318\n",
      "Epoch 7/8\n",
      "2s - loss: 0.6330 - acc: 0.7346\n",
      "Epoch 8/8\n",
      "2s - loss: 0.6288 - acc: 0.7374\n",
      "Epoch 1/8\n",
      "2s - loss: 0.7247 - acc: 0.6918\n",
      "Epoch 2/8\n",
      "2s - loss: 0.6729 - acc: 0.7161\n",
      "Epoch 3/8\n",
      "2s - loss: 0.6588 - acc: 0.7231\n",
      "Epoch 4/8\n",
      "2s - loss: 0.6499 - acc: 0.7276\n",
      "Epoch 5/8\n",
      "2s - loss: 0.6420 - acc: 0.7307\n",
      "Epoch 6/8\n",
      "2s - loss: 0.6366 - acc: 0.7331\n",
      "Epoch 7/8\n",
      "2s - loss: 0.6321 - acc: 0.7345\n",
      "Epoch 8/8\n",
      "2s - loss: 0.6268 - acc: 0.7380\n",
      "Epoch 1/8\n",
      "2s - loss: 0.7229 - acc: 0.6917\n",
      "Epoch 2/8\n",
      "2s - loss: 0.6730 - acc: 0.7162\n",
      "Epoch 3/8\n",
      "2s - loss: 0.6602 - acc: 0.7218\n",
      "Epoch 4/8\n",
      "2s - loss: 0.6499 - acc: 0.7273\n",
      "Epoch 5/8\n",
      "2s - loss: 0.6424 - acc: 0.7310\n",
      "Epoch 6/8\n",
      "2s - loss: 0.6374 - acc: 0.7328\n",
      "Epoch 7/8\n",
      "2s - loss: 0.6319 - acc: 0.7350\n",
      "Epoch 8/8\n",
      "2s - loss: 0.6270 - acc: 0.7371\n",
      "Epoch 1/8\n",
      "2s - loss: 0.7222 - acc: 0.6926\n",
      "Epoch 2/8\n",
      "2s - loss: 0.6716 - acc: 0.7169\n",
      "Epoch 3/8\n",
      "2s - loss: 0.6590 - acc: 0.7227\n",
      "Epoch 4/8\n",
      "2s - loss: 0.6494 - acc: 0.7276\n",
      "Epoch 5/8\n",
      "2s - loss: 0.6428 - acc: 0.7304\n",
      "Epoch 6/8\n",
      "2s - loss: 0.6363 - acc: 0.7335\n",
      "Epoch 7/8\n",
      "2s - loss: 0.6317 - acc: 0.7356\n",
      "Epoch 8/8\n",
      "2s - loss: 0.6273 - acc: 0.7374\n",
      "Epoch 1/8\n",
      "3s - loss: 0.7163 - acc: 0.6942\n",
      "Epoch 2/8\n",
      "3s - loss: 0.6683 - acc: 0.7184\n",
      "Epoch 3/8\n",
      "3s - loss: 0.6552 - acc: 0.7246\n",
      "Epoch 4/8\n",
      "3s - loss: 0.6463 - acc: 0.7292\n",
      "Epoch 5/8\n",
      "3s - loss: 0.6383 - acc: 0.7323\n",
      "Epoch 6/8\n",
      "3s - loss: 0.6340 - acc: 0.7347\n",
      "Epoch 7/8\n",
      "3s - loss: 0.6292 - acc: 0.7362\n",
      "Epoch 8/8\n",
      "3s - loss: 0.6238 - acc: 0.7393\n"
     ]
    },
    {
     "data": {
      "text/plain": [
       "GridSearchCV(cv=5, error_score='raise',\n",
       "       estimator=<keras.wrappers.scikit_learn.KerasClassifier object at 0x7fb92fec1668>,\n",
       "       fit_params={}, iid=True, n_jobs=1, param_grid={'epochs': (8,)},\n",
       "       pre_dispatch='2*n_jobs', refit=True, return_train_score=True,\n",
       "       scoring=None, verbose=0)"
      ]
     },
     "execution_count": 19,
     "metadata": {},
     "output_type": "execute_result"
    }
   ],
   "source": [
    "kc = KerasClassifier(build_fn=baseline_model, \n",
    "                            epochs=1, batch_size=1000, verbose=2)\n",
    "\n",
    "parameters =  {'epochs':(8,)}\n",
    "        \n",
    "               \n",
    "classifier = GridSearchCV(kc, parameters, cv=5)\n",
    "classifier.fit(X_train, y_train)"
   ]
  },
  {
   "cell_type": "code",
   "execution_count": 20,
   "metadata": {
    "collapsed": true
   },
   "outputs": [],
   "source": [
    "#Attempt to predict validation data\n",
    "predict_target = classifier.predict(X_test)"
   ]
  },
  {
   "cell_type": "code",
   "execution_count": 21,
   "metadata": {
    "collapsed": true
   },
   "outputs": [],
   "source": [
    "conf_arr = confusion_matrix(np.argmax(y_test, axis=1), predict_target)\n",
    "log_conf_arr = np.log((conf_arr+1)*10000) #For better color choice\n",
    "norm_conf = []\n",
    "for i in log_conf_arr:\n",
    "    a = 0\n",
    "    tmp_arr = []\n",
    "    a = sum(i, 0)\n",
    "    for j in i:\n",
    "        tmp_arr.append(float(j)/float(a))\n",
    "    norm_conf.append(tmp_arr)"
   ]
  },
  {
   "cell_type": "code",
   "execution_count": 22,
   "metadata": {
    "collapsed": false
   },
   "outputs": [
    {
     "data": {
      "image/png": "[encoded data removed]",
      "text/plain": [
       "<matplotlib.figure.Figure at 0x7fb919f17898>"
      ]
     },
     "metadata": {},
     "output_type": "display_data"
    }
   ],
   "source": [
    "fig = plt.figure(figsize = (15,15))\n",
    "plt.clf()\n",
    "ax = fig.add_subplot(111)\n",
    "ax.set_aspect(1)\n",
    "res = ax.imshow(np.array(norm_conf), cmap=plt.cm.YlGn, \n",
    "                interpolation='nearest')\n",
    "\n",
    "width, height = conf_arr.shape\n",
    "\n",
    "for x in range(width):\n",
    "    for y in range(height):\n",
    "        ax.annotate(str(conf_arr[x][y]), xy=(y, x), \n",
    "                    horizontalalignment='center',\n",
    "                    verticalalignment='center')\n",
    "\n",
    "# cb = fig.colorbar(res)\n",
    "alphabet = np.unique(Y)\n",
    "plt.xticks(range(width), alphabet[:width], rotation='vertical')\n",
    "plt.yticks(range(height), alphabet[:height])\n",
    "plt.xlabel('PREDICTED', fontsize=15)\n",
    "plt.ylabel('ACTUAL', fontsize=15)\n",
    "plt.title('Pre-Trained ResNet-50 on WIFIRE\\n(Confusion Matrix)\\n', fontsize=20);"
   ]
  },
  {
   "cell_type": "code",
   "execution_count": 23,
   "metadata": {
    "collapsed": false
   },
   "outputs": [
    {
     "data": {
      "text/plain": [
       "73.651756453745762"
      ]
     },
     "execution_count": 23,
     "metadata": {},
     "output_type": "execute_result"
    }
   ],
   "source": [
    "((np.sum([np.argmax(y_test, axis=1) == predict_target])*1.0)/(len(y_test)*1.0))*100"
   ]
  },
  {
   "cell_type": "markdown",
   "metadata": {},
   "source": [
    "# With SAE"
   ]
  },
  {
   "cell_type": "markdown",
   "metadata": {},
   "source": [
    "## Prepare fc1000 engineered images"
   ]
  },
  {
   "cell_type": "code",
   "execution_count": 24,
   "metadata": {
    "collapsed": true
   },
   "outputs": [],
   "source": [
    "root = \"~/WIFIRE/ResNet50_Analysis/WIFIRE_Engineered/\"\n",
    "\n",
    "image_features = pd.read_csv(root+\"WIFIRE_fc1000_engineered_features.csv\",  delimiter=',', header=None)\n",
    "df = pd.read_csv(root+'WIFIRE_labels.csv')\n",
    "labels = df.Labels.values"
   ]
  },
  {
   "cell_type": "code",
   "execution_count": 25,
   "metadata": {
    "collapsed": false
   },
   "outputs": [
    {
     "data": {
      "text/html": [
       "<div>\n",
       "<table border=\"1\" class=\"dataframe\">\n",
       "  <thead>\n",
       "    <tr style=\"text-align: right;\">\n",
       "      <th></th>\n",
       "      <th>Slope_WM</th>\n",
       "      <th>Aspect_WM</th>\n",
       "      <th>Elev_WM</th>\n",
       "    </tr>\n",
       "  </thead>\n",
       "  <tbody>\n",
       "    <tr>\n",
       "      <th>0</th>\n",
       "      <td>9.925750</td>\n",
       "      <td>79.746309</td>\n",
       "      <td>165.550253</td>\n",
       "    </tr>\n",
       "    <tr>\n",
       "      <th>1</th>\n",
       "      <td>11.804788</td>\n",
       "      <td>71.184017</td>\n",
       "      <td>171.092049</td>\n",
       "    </tr>\n",
       "    <tr>\n",
       "      <th>2</th>\n",
       "      <td>2.385194</td>\n",
       "      <td>83.726426</td>\n",
       "      <td>118.241052</td>\n",
       "    </tr>\n",
       "    <tr>\n",
       "      <th>3</th>\n",
       "      <td>17.021817</td>\n",
       "      <td>81.384949</td>\n",
       "      <td>129.447622</td>\n",
       "    </tr>\n",
       "    <tr>\n",
       "      <th>4</th>\n",
       "      <td>1.075829</td>\n",
       "      <td>0.000000</td>\n",
       "      <td>116.848341</td>\n",
       "    </tr>\n",
       "  </tbody>\n",
       "</table>\n",
       "</div>"
      ],
      "text/plain": [
       "    Slope_WM  Aspect_WM     Elev_WM\n",
       "0   9.925750  79.746309  165.550253\n",
       "1  11.804788  71.184017  171.092049\n",
       "2   2.385194  83.726426  118.241052\n",
       "3  17.021817  81.384949  129.447622\n",
       "4   1.075829   0.000000  116.848341"
      ]
     },
     "execution_count": 25,
     "metadata": {},
     "output_type": "execute_result"
    }
   ],
   "source": [
    "df_extras = pd.DataFrame.from_csv(\"~/WIFIRE/WIFIRE_labels_ElevAspectSlope.csv\")[[\"Slope_WM\",\"Aspect_WM\",\"Elev_WM\"]].reset_index( drop=True)\n",
    "df_extras.head()"
   ]
  },
  {
   "cell_type": "code",
   "execution_count": 26,
   "metadata": {
    "collapsed": true
   },
   "outputs": [],
   "source": [
    "image_features = image_features.merge(df_extras,right_index=True, left_index=True).values"
   ]
  },
  {
   "cell_type": "code",
   "execution_count": 27,
   "metadata": {
    "collapsed": false
   },
   "outputs": [
    {
     "name": "stdout",
     "output_type": "stream",
     "text": [
      "(437153, 1003)\n"
     ]
    }
   ],
   "source": [
    "print (image_features.shape)"
   ]
  },
  {
   "cell_type": "markdown",
   "metadata": {},
   "source": [
    "## Base Model (With SAE)"
   ]
  },
  {
   "cell_type": "markdown",
   "metadata": {},
   "source": [
    "Prepare image features and labels for modelling"
   ]
  },
  {
   "cell_type": "code",
   "execution_count": 28,
   "metadata": {
    "collapsed": true
   },
   "outputs": [],
   "source": [
    "X = image_features\n",
    "Y = labels"
   ]
  },
  {
   "cell_type": "code",
   "execution_count": 29,
   "metadata": {
    "collapsed": true
   },
   "outputs": [],
   "source": [
    "#Encode class values as integers\n",
    "encoder = LabelEncoder()\n",
    "encoder.fit(Y)\n",
    "encoded_Y = encoder.transform(Y)\n",
    "#Convert integers to dummy variables (i.e. one hot encoded)\n",
    "dummy_y = np_utils.to_categorical(encoded_Y)"
   ]
  },
  {
   "cell_type": "code",
   "execution_count": 30,
   "metadata": {
    "collapsed": true
   },
   "outputs": [],
   "source": [
    "X_train, X_test, y_train, y_test = train_test_split(X, dummy_y, test_size=0.2, random_state=0)"
   ]
  },
  {
   "cell_type": "markdown",
   "metadata": {},
   "source": [
    "The following function creates and compiles the NN architecture on the GPU"
   ]
  },
  {
   "cell_type": "code",
   "execution_count": 31,
   "metadata": {
    "collapsed": true
   },
   "outputs": [],
   "source": [
    "def baseline_model(device = 1):\n",
    "    #Shut down tensorflow after use\n",
    "    with K.tf.device('/gpu:'+str(device)):\n",
    "        #Create model\n",
    "        model = Sequential()\n",
    "        model.add(Dense(np.shape(X)[1], input_dim=np.shape(X)[1], \n",
    "                        kernel_initializer='normal', activation='relu'))\n",
    "        model.add(Dense(len(np.unique(Y)), \n",
    "                        kernel_initializer='normal', activation='sigmoid'))\n",
    "        \n",
    "        #Compile model\n",
    "        model.compile(loss='categorical_crossentropy', optimizer='adam', \n",
    "                      metrics=['accuracy'])\n",
    "        return model"
   ]
  },
  {
   "cell_type": "markdown",
   "metadata": {},
   "source": [
    "KerasClassifier is an sklearn wrapper for our baseline_model"
   ]
  },
  {
   "cell_type": "code",
   "execution_count": 32,
   "metadata": {
    "collapsed": false
   },
   "outputs": [
    {
     "name": "stdout",
     "output_type": "stream",
     "text": [
      "Epoch 1/8\n",
      "3s - loss: 1.8282 - acc: 0.2387\n",
      "Epoch 2/8\n",
      "3s - loss: 1.7903 - acc: 0.2393\n",
      "Epoch 3/8\n",
      "3s - loss: 1.7387 - acc: 0.2391\n",
      "Epoch 4/8\n",
      "3s - loss: 1.6280 - acc: 0.2386\n",
      "Epoch 5/8\n",
      "3s - loss: 1.5739 - acc: 0.2325\n",
      "Epoch 6/8\n",
      "3s - loss: 1.3062 - acc: 0.4720\n",
      "Epoch 7/8\n",
      "3s - loss: 1.0997 - acc: 0.5923\n",
      "Epoch 8/8\n",
      "3s - loss: 1.0640 - acc: 0.6010\n",
      "Epoch 1/8\n",
      "3s - loss: 1.6942 - acc: 0.2355\n",
      "Epoch 2/8\n",
      "3s - loss: 1.5879 - acc: 0.2304\n",
      "Epoch 3/8\n",
      "3s - loss: 1.5247 - acc: 0.2067\n",
      "Epoch 4/8\n",
      "3s - loss: 1.4560 - acc: 0.3168\n",
      "Epoch 5/8\n",
      "3s - loss: 1.2837 - acc: 0.3695\n",
      "Epoch 6/8\n",
      "3s - loss: 1.2199 - acc: 0.3732\n",
      "Epoch 7/8\n",
      "3s - loss: 1.0796 - acc: 0.5943\n",
      "Epoch 8/8\n",
      "3s - loss: 1.0479 - acc: 0.6012\n",
      "Epoch 1/8\n",
      "3s - loss: 1.5812 - acc: 0.3671\n",
      "Epoch 2/8\n",
      "3s - loss: 1.3863 - acc: 0.3573\n",
      "Epoch 3/8\n",
      "3s - loss: 1.3214 - acc: 0.3401\n",
      "Epoch 4/8\n",
      "3s - loss: 1.2770 - acc: 0.3349\n",
      "Epoch 5/8\n",
      "3s - loss: 1.2453 - acc: 0.3318\n",
      "Epoch 6/8\n",
      "3s - loss: 1.2216 - acc: 0.3311\n",
      "Epoch 7/8\n",
      "3s - loss: 1.2146 - acc: 0.3342\n",
      "Epoch 8/8\n",
      "3s - loss: 1.1982 - acc: 0.3448\n",
      "Epoch 1/8\n",
      "3s - loss: 1.6600 - acc: 0.2410\n",
      "Epoch 2/8\n",
      "3s - loss: 1.5418 - acc: 0.2406\n",
      "Epoch 3/8\n",
      "3s - loss: 1.4655 - acc: 0.2412\n",
      "Epoch 4/8\n",
      "3s - loss: 1.4142 - acc: 0.2547\n",
      "Epoch 5/8\n",
      "3s - loss: 1.3880 - acc: 0.2432\n",
      "Epoch 6/8\n",
      "3s - loss: 1.3592 - acc: 0.2775\n",
      "Epoch 7/8\n",
      "3s - loss: 1.1678 - acc: 0.5091\n",
      "Epoch 8/8\n",
      "3s - loss: 1.0670 - acc: 0.5972\n",
      "Epoch 1/8\n",
      "3s - loss: 1.6783 - acc: 0.2391\n",
      "Epoch 2/8\n",
      "3s - loss: 1.5910 - acc: 0.2392\n",
      "Epoch 3/8\n",
      "3s - loss: 1.5556 - acc: 0.2392\n",
      "Epoch 4/8\n",
      "3s - loss: 1.5015 - acc: 0.2392\n",
      "Epoch 5/8\n",
      "3s - loss: 1.4267 - acc: 0.2398\n",
      "Epoch 6/8\n",
      "3s - loss: 1.3845 - acc: 0.2699\n",
      "Epoch 7/8\n",
      "3s - loss: 1.2132 - acc: 0.4739\n",
      "Epoch 8/8\n",
      "3s - loss: 1.0770 - acc: 0.5947\n",
      "Epoch 1/8\n",
      "4s - loss: 1.6703 - acc: 0.2387\n",
      "Epoch 2/8\n",
      "4s - loss: 1.5870 - acc: 0.2394\n",
      "Epoch 3/8\n",
      "4s - loss: 1.5200 - acc: 0.2396\n",
      "Epoch 4/8\n",
      "4s - loss: 1.4145 - acc: 0.2448\n",
      "Epoch 5/8\n",
      "4s - loss: 1.3686 - acc: 0.3045\n",
      "Epoch 6/8\n",
      "4s - loss: 1.2147 - acc: 0.4325\n",
      "Epoch 7/8\n",
      "4s - loss: 1.0726 - acc: 0.5973\n",
      "Epoch 8/8\n",
      "4s - loss: 1.0446 - acc: 0.6052\n"
     ]
    },
    {
     "data": {
      "text/plain": [
       "GridSearchCV(cv=5, error_score='raise',\n",
       "       estimator=<keras.wrappers.scikit_learn.KerasClassifier object at 0x7fb8e850c860>,\n",
       "       fit_params={}, iid=True, n_jobs=1, param_grid={'epochs': (8,)},\n",
       "       pre_dispatch='2*n_jobs', refit=True, return_train_score=True,\n",
       "       scoring=None, verbose=0)"
      ]
     },
     "execution_count": 32,
     "metadata": {},
     "output_type": "execute_result"
    }
   ],
   "source": [
    "kc = KerasClassifier(build_fn=baseline_model, \n",
    "                            epochs=1, batch_size=1000, verbose=2)\n",
    "\n",
    "parameters =  {'epochs':(8,)}\n",
    "        \n",
    "               \n",
    "classifier = GridSearchCV(kc, parameters, cv=5)\n",
    "classifier.fit(X_train, y_train)"
   ]
  },
  {
   "cell_type": "code",
   "execution_count": 33,
   "metadata": {
    "collapsed": true
   },
   "outputs": [],
   "source": [
    "#Attempt to predict validation data\n",
    "predict_target = classifier.predict(X_test)"
   ]
  },
  {
   "cell_type": "code",
   "execution_count": 34,
   "metadata": {
    "collapsed": true
   },
   "outputs": [],
   "source": [
    "conf_arr = confusion_matrix(np.argmax(y_test, axis=1), predict_target)\n",
    "log_conf_arr = np.log((conf_arr+1)*10000) #For better color choice\n",
    "norm_conf = []\n",
    "for i in log_conf_arr:\n",
    "    a = 0\n",
    "    tmp_arr = []\n",
    "    a = sum(i, 0)\n",
    "    for j in i:\n",
    "        tmp_arr.append(float(j)/float(a))\n",
    "    norm_conf.append(tmp_arr)"
   ]
  },
  {
   "cell_type": "code",
   "execution_count": 35,
   "metadata": {
    "collapsed": false
   },
   "outputs": [
    {
     "data": {
      "image/png": "[encoded data removed]",
      "text/plain": [
       "<matplotlib.figure.Figure at 0x7fb931e36da0>"
      ]
     },
     "metadata": {},
     "output_type": "display_data"
    }
   ],
   "source": [
    "fig = plt.figure(figsize = (15,15))\n",
    "plt.clf()\n",
    "ax = fig.add_subplot(111)\n",
    "ax.set_aspect(1)\n",
    "res = ax.imshow(np.array(norm_conf), cmap=plt.cm.YlGn, \n",
    "                interpolation='nearest')\n",
    "\n",
    "width, height = conf_arr.shape\n",
    "\n",
    "for x in range(width):\n",
    "    for y in range(height):\n",
    "        ax.annotate(str(conf_arr[x][y]), xy=(y, x), \n",
    "                    horizontalalignment='center',\n",
    "                    verticalalignment='center')\n",
    "\n",
    "# cb = fig.colorbar(res)\n",
    "alphabet = np.unique(Y)\n",
    "plt.xticks(range(width), alphabet[:width], rotation='vertical')\n",
    "plt.yticks(range(height), alphabet[:height])\n",
    "plt.xlabel('PREDICTED', fontsize=15)\n",
    "plt.ylabel('ACTUAL', fontsize=15)\n",
    "plt.title('Pre-Trained ResNet-50 on WIFIRE\\n(Confusion Matrix)\\n', fontsize=20);"
   ]
  },
  {
   "cell_type": "code",
   "execution_count": 36,
   "metadata": {
    "collapsed": false
   },
   "outputs": [
    {
     "data": {
      "text/plain": [
       "60.580343356475396"
      ]
     },
     "execution_count": 36,
     "metadata": {},
     "output_type": "execute_result"
    }
   ],
   "source": [
    "((np.sum([np.argmax(y_test, axis=1) == predict_target])*1.0)/(len(y_test)*1.0))*100"
   ]
  },
  {
   "cell_type": "markdown",
   "metadata": {},
   "source": [
    "## High Frequency (With SAE)"
   ]
  },
  {
   "cell_type": "code",
   "execution_count": 37,
   "metadata": {
    "collapsed": true
   },
   "outputs": [],
   "source": [
    "high_dist_class_list = ['FBFM1','FBFM5','Urban']\n",
    "df_high_class = df[df.Labels.isin(high_dist_class_list)]\n",
    "high_class_idx = np.array(df_high_class.index)"
   ]
  },
  {
   "cell_type": "code",
   "execution_count": 38,
   "metadata": {
    "collapsed": true
   },
   "outputs": [],
   "source": [
    "X = image_features[high_class_idx]\n",
    "Y = labels[high_class_idx]"
   ]
  },
  {
   "cell_type": "code",
   "execution_count": 39,
   "metadata": {
    "collapsed": true
   },
   "outputs": [],
   "source": [
    "#Encode class values as integers\n",
    "encoder = LabelEncoder()\n",
    "encoder.fit(Y)\n",
    "encoded_Y = encoder.transform(Y)\n",
    "#Convert integers to dummy variables (i.e. one hot encoded)\n",
    "dummy_y = np_utils.to_categorical(encoded_Y)"
   ]
  },
  {
   "cell_type": "code",
   "execution_count": 40,
   "metadata": {
    "collapsed": true
   },
   "outputs": [],
   "source": [
    "X_train, X_test, y_train, y_test = train_test_split(X, dummy_y, test_size=0.2, random_state=0)"
   ]
  },
  {
   "cell_type": "markdown",
   "metadata": {},
   "source": [
    "The following function creates and compiles the NN architecture on the GPU"
   ]
  },
  {
   "cell_type": "code",
   "execution_count": 41,
   "metadata": {
    "collapsed": true
   },
   "outputs": [],
   "source": [
    "def baseline_model(device = 1):\n",
    "    #Shut down tensorflow after use\n",
    "    with K.tf.device('/gpu:'+str(device)):\n",
    "        #Create model\n",
    "        model = Sequential()\n",
    "        model.add(Dense(np.shape(X)[1], input_dim=np.shape(X)[1], \n",
    "                        kernel_initializer='normal', activation='relu'))\n",
    "        model.add(Dense(len(np.unique(Y)), \n",
    "                        kernel_initializer='normal', activation='sigmoid'))\n",
    "        \n",
    "        #Compile model\n",
    "        model.compile(loss='categorical_crossentropy', optimizer='adam', \n",
    "                      metrics=['accuracy'])\n",
    "        return model"
   ]
  },
  {
   "cell_type": "markdown",
   "metadata": {},
   "source": [
    "KerasClassifier is an sklearn wrapper for our baseline_model"
   ]
  },
  {
   "cell_type": "code",
   "execution_count": 49,
   "metadata": {
    "collapsed": false,
    "scrolled": true
   },
   "outputs": [
    {
     "name": "stdout",
     "output_type": "stream",
     "text": [
      "Epoch 1/8\n",
      "3s - loss: 1.0230 - acc: 0.3019\n",
      "Epoch 2/8\n",
      "2s - loss: 0.9962 - acc: 0.3009\n",
      "Epoch 3/8\n",
      "2s - loss: 0.9818 - acc: 0.3009\n",
      "Epoch 4/8\n",
      "2s - loss: 0.9765 - acc: 0.3009\n",
      "Epoch 5/8\n",
      "2s - loss: 0.9694 - acc: 0.3009\n",
      "Epoch 6/8\n",
      "2s - loss: 0.9712 - acc: 0.3009\n",
      "Epoch 7/8\n",
      "2s - loss: 0.9591 - acc: 0.3009\n",
      "Epoch 8/8\n",
      "2s - loss: 0.9531 - acc: 0.3009\n",
      "Epoch 1/8\n",
      "3s - loss: 1.0524 - acc: 0.3020\n",
      "Epoch 2/8\n",
      "2s - loss: 1.0167 - acc: 0.3009\n",
      "Epoch 3/8\n",
      "2s - loss: 0.9898 - acc: 0.3009\n",
      "Epoch 4/8\n",
      "2s - loss: 0.9809 - acc: 0.3009\n",
      "Epoch 5/8\n",
      "2s - loss: 0.9727 - acc: 0.3009\n",
      "Epoch 6/8\n",
      "2s - loss: 0.9698 - acc: 0.3009\n",
      "Epoch 7/8\n",
      "2s - loss: 0.9649 - acc: 0.3009\n",
      "Epoch 8/8\n",
      "2s - loss: 0.9579 - acc: 0.3009\n",
      "Epoch 1/8\n",
      "3s - loss: 1.0230 - acc: 0.4752\n",
      "Epoch 2/8\n",
      "2s - loss: 0.9421 - acc: 0.6041\n",
      "Epoch 3/8\n",
      "2s - loss: 0.8846 - acc: 0.6020\n",
      "Epoch 4/8\n",
      "2s - loss: 0.8523 - acc: 0.5463\n",
      "Epoch 5/8\n",
      "2s - loss: 0.8268 - acc: 0.4891\n",
      "Epoch 6/8\n",
      "2s - loss: 0.8075 - acc: 0.4459\n",
      "Epoch 7/8\n",
      "2s - loss: 0.7962 - acc: 0.4373\n",
      "Epoch 8/8\n",
      "2s - loss: 0.7887 - acc: 0.4250\n",
      "Epoch 1/8\n",
      "3s - loss: 1.1171 - acc: 0.3047\n",
      "Epoch 2/8\n",
      "2s - loss: 1.0595 - acc: 0.3017\n",
      "Epoch 3/8\n",
      "2s - loss: 1.0501 - acc: 0.3017\n",
      "Epoch 4/8\n",
      "2s - loss: 1.0474 - acc: 0.3017\n",
      "Epoch 5/8\n",
      "2s - loss: 1.0410 - acc: 0.3017\n",
      "Epoch 6/8\n",
      "2s - loss: 1.0353 - acc: 0.3017\n",
      "Epoch 7/8\n",
      "2s - loss: 1.0268 - acc: 0.3017\n",
      "Epoch 8/8\n",
      "2s - loss: 1.0205 - acc: 0.3017\n",
      "Epoch 1/8\n",
      "3s - loss: 0.9805 - acc: 0.3860\n",
      "Epoch 2/8\n",
      "2s - loss: 0.8985 - acc: 0.4815\n",
      "Epoch 3/8\n",
      "2s - loss: 0.8488 - acc: 0.5249\n",
      "Epoch 4/8\n",
      "2s - loss: 0.7720 - acc: 0.6353\n",
      "Epoch 5/8\n",
      "2s - loss: 0.6855 - acc: 0.6828\n",
      "Epoch 6/8\n",
      "2s - loss: 0.6461 - acc: 0.7190\n",
      "Epoch 7/8\n",
      "2s - loss: 0.6222 - acc: 0.7328\n",
      "Epoch 8/8\n",
      "2s - loss: 0.6056 - acc: 0.7374\n",
      "Epoch 1/8\n",
      "3s - loss: 1.0381 - acc: 0.4588\n",
      "Epoch 2/8\n",
      "3s - loss: 0.9379 - acc: 0.6108\n",
      "Epoch 3/8\n",
      "3s - loss: 0.8676 - acc: 0.5819\n",
      "Epoch 4/8\n",
      "3s - loss: 0.8359 - acc: 0.5081\n",
      "Epoch 5/8\n",
      "3s - loss: 0.8131 - acc: 0.4711\n",
      "Epoch 6/8\n",
      "3s - loss: 0.8045 - acc: 0.4479\n",
      "Epoch 7/8\n",
      "3s - loss: 0.8004 - acc: 0.4438\n",
      "Epoch 8/8\n",
      "3s - loss: 0.7837 - acc: 0.4314\n"
     ]
    },
    {
     "data": {
      "text/plain": [
       "GridSearchCV(cv=5, error_score='raise',\n",
       "       estimator=<keras.wrappers.scikit_learn.KerasClassifier object at 0x7fb9349a8320>,\n",
       "       fit_params={}, iid=True, n_jobs=1, param_grid={'epochs': (8,)},\n",
       "       pre_dispatch='2*n_jobs', refit=True, return_train_score=True,\n",
       "       scoring=None, verbose=0)"
      ]
     },
     "execution_count": 49,
     "metadata": {},
     "output_type": "execute_result"
    }
   ],
   "source": [
    "kc = KerasClassifier(build_fn=baseline_model, \n",
    "                            epochs=1, batch_size=1000, verbose=2)\n",
    "\n",
    "parameters =  {'epochs':(8,)}\n",
    "        \n",
    "               \n",
    "classifier = GridSearchCV(kc, parameters, cv=5)\n",
    "classifier.fit(X_train, y_train)"
   ]
  },
  {
   "cell_type": "code",
   "execution_count": 50,
   "metadata": {
    "collapsed": true
   },
   "outputs": [],
   "source": [
    "#Attempt to predict validation data\n",
    "predict_target = classifier.predict(X_test)"
   ]
  },
  {
   "cell_type": "code",
   "execution_count": 51,
   "metadata": {
    "collapsed": true
   },
   "outputs": [],
   "source": [
    "conf_arr = confusion_matrix(np.argmax(y_test, axis=1), predict_target)\n",
    "log_conf_arr = np.log((conf_arr+1)*10000) #For better color choice\n",
    "norm_conf = []\n",
    "for i in log_conf_arr:\n",
    "    a = 0\n",
    "    tmp_arr = []\n",
    "    a = sum(i, 0)\n",
    "    for j in i:\n",
    "        tmp_arr.append(float(j)/float(a))\n",
    "    norm_conf.append(tmp_arr)"
   ]
  },
  {
   "cell_type": "code",
   "execution_count": 52,
   "metadata": {
    "collapsed": false
   },
   "outputs": [
    {
     "data": {
      "image/png": "[encoded data removed]",
      "text/plain": [
       "<matplotlib.figure.Figure at 0x7fb933b3a358>"
      ]
     },
     "metadata": {},
     "output_type": "display_data"
    }
   ],
   "source": [
    "fig = plt.figure(figsize = (15,15))\n",
    "plt.clf()\n",
    "ax = fig.add_subplot(111)\n",
    "ax.set_aspect(1)\n",
    "res = ax.imshow(np.array(norm_conf), cmap=plt.cm.YlGn, \n",
    "                interpolation='nearest')\n",
    "\n",
    "width, height = conf_arr.shape\n",
    "\n",
    "for x in range(width):\n",
    "    for y in range(height):\n",
    "        ax.annotate(str(conf_arr[x][y]), xy=(y, x), \n",
    "                    horizontalalignment='center',\n",
    "                    verticalalignment='center')\n",
    "\n",
    "# cb = fig.colorbar(res)\n",
    "alphabet = np.unique(Y)\n",
    "plt.xticks(range(width), alphabet[:width], rotation='vertical')\n",
    "plt.yticks(range(height), alphabet[:height])\n",
    "plt.xlabel('PREDICTED', fontsize=15)\n",
    "plt.ylabel('ACTUAL', fontsize=15)\n",
    "plt.title('Pre-Trained ResNet-50 on WIFIRE\\n(Confusion Matrix)\\n', fontsize=20);"
   ]
  },
  {
   "cell_type": "code",
   "execution_count": 53,
   "metadata": {
    "collapsed": false
   },
   "outputs": [
    {
     "data": {
      "text/plain": [
       "43.16391651813948"
      ]
     },
     "execution_count": 53,
     "metadata": {},
     "output_type": "execute_result"
    }
   ],
   "source": [
    "((np.sum([np.argmax(y_test, axis=1) == predict_target])*1.0)/(len(y_test)*1.0))*100"
   ]
  },
  {
   "cell_type": "code",
   "execution_count": null,
   "metadata": {
    "collapsed": true
   },
   "outputs": [],
   "source": []
  }
 ],
 "metadata": {
  "kernelspec": {
   "display_name": "Python 3 conda",
   "language": "python",
   "name": "conda"
  },
  "language_info": {
   "codemirror_mode": {
    "name": "ipython",
    "version": 3
   },
   "file_extension": ".py",
   "mimetype": "text/x-python",
   "name": "python",
   "nbconvert_exporter": "python",
   "pygments_lexer": "ipython3",
   "version": "3.5.2"
  }
 },
 "nbformat": 4,
 "nbformat_minor": 2
}
