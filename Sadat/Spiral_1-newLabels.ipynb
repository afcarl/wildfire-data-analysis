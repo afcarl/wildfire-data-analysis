{
 "cells": [
  {
   "cell_type": "code",
   "execution_count": 1,
   "metadata": {
    "collapsed": false
   },
   "outputs": [
    {
     "data": {
      "text/html": [
       "<script>\n",
       "code_show=true; \n",
       "function code_toggle() {\n",
       " if (code_show){\n",
       " $('div.input').hide();\n",
       " } else {\n",
       " $('div.input').show();\n",
       " }\n",
       " code_show = !code_show\n",
       "} \n",
       "$( document ).ready(code_toggle);\n",
       "</script>\n",
       "<form action=\"javascript:code_toggle()\"><input type=\"submit\" value=\"Click here to toggle on/off the raw code.\"></form>"
      ],
      "text/plain": [
       "<IPython.core.display.HTML object>"
      ]
     },
     "execution_count": 1,
     "metadata": {},
     "output_type": "execute_result"
    }
   ],
   "source": [
    "from IPython.display import HTML\n",
    "\n",
    "HTML('''<script>\n",
    "code_show=true; \n",
    "function code_toggle() {\n",
    " if (code_show){\n",
    " $('div.input').hide();\n",
    " } else {\n",
    " $('div.input').show();\n",
    " }\n",
    " code_show = !code_show\n",
    "} \n",
    "$( document ).ready(code_toggle);\n",
    "</script>\n",
    "<form action=\"javascript:code_toggle()\"><input type=\"submit\" value=\"Click here to toggle on/off the raw code.\"></form>''')"
   ]
  },
  {
   "cell_type": "markdown",
   "metadata": {},
   "source": [
    "# Contents"
   ]
  },
  {
   "cell_type": "markdown",
   "metadata": {},
   "source": [
    "* [Executive Summary](#Executive-Summary)\n",
    "* [fc1000 Feature Engineering](fc1000-Feature-Engineering)\n",
    "* [Base Model](#Base-Model)\n",
    "* [PCA Based Model](#PCA-Based-Model)\n",
    "* [High Frequency Classes](#High-Frequency-Classes)\n",
    "* [High Frequency With PCA](#High-Frequency-with-PCA)\n",
    "* [Analyze Iterations at High Frequency and PCA](#Analyze-Iterations-at-High-Frequency-and-PCA)\n",
    "* [Analyze Iterations at High Frequency without PCA](#Analyze-Iterations-at-High-Frequency-without-PCA)\n",
    "* [Anayze Learning Curve](#Analyze-Learning-Curve)"
   ]
  },
  {
   "cell_type": "markdown",
   "metadata": {},
   "source": [
    "# Executive Summary"
   ]
  },
  {
   "cell_type": "markdown",
   "metadata": {},
   "source": [
    "Our final Spiral 1 model has achieved an accuracy of 72% accuracy after 5 fold CV. This was achieved after the following:\n",
    "- Only looking at the 3 classes with the highest frequency (FBFM1, FBFM5, Urban).\n",
    "- FBM2 has a high frequency but is suspected to have a lot of mislabels due to significantly high level of misclassification.\n",
    "- Reducing the number of features from 1000 to 400 via PCA (capturing 98% variance).\n",
    "\n",
    "Below shows the iterations of the Spiral 1 model along with their 5 fold CV validation scores:\n",
    "\n",
    "| Model | Old   | New |\n",
    "|------|------|------|\n",
    "|   Base Model  | 55.76% | 54.23% |\n",
    "|   PCA Based Model  | 56.92% | 55.27% |\n",
    "\n",
    "The best results were achieved by NOT using PCA and using the following parameters:\n",
    "* {'loss': 'hinge', 'n_iter': 8, 'penalty': 'none'}\n",
    "\n",
    "The follow evidence shows that the final model is suffering from high variance:\n",
    "- The optimal parameters from GridSearchCV are higher than default number of iterations and no penality for regularization. This indicates the model wishes to grow more complex to understand the underlying results better. \n",
    "- The learning curve is converging at 100% but the validation score flattens out. Under a high bias or overfit condition, there would be a significant gap between the 2 score curves.\n",
    "\n",
    "This high variance in our resulting model indicates that the Spiral 1 model is not complex enough. Increasing the complexity of the model (i.e. use a more complex linear model or even a non-linear model) will help improve the accuracy of our model."
   ]
  },
  {
   "cell_type": "markdown",
   "metadata": {},
   "source": [
    "# fc1000 Feature Engineering\n",
    "\n",
    "#### Importing Libraries"
   ]
  },
  {
   "cell_type": "code",
   "execution_count": 2,
   "metadata": {
    "collapsed": false
   },
   "outputs": [],
   "source": [
    "# from skicaffe import SkiCaffe\n",
    "import sys, os, random\n",
    "import matplotlib.pyplot as plt\n",
    "import pandas as pd\n",
    "import numpy as np\n",
    "from sklearn.metrics import confusion_matrix\n",
    "from sklearn.linear_model import LogisticRegression, SGDClassifier\n",
    "from sklearn.model_selection import GridSearchCV, train_test_split\n",
    "from sklearn.preprocessing import normalize\n",
    "%matplotlib inline"
   ]
  },
  {
   "cell_type": "code",
   "execution_count": 3,
   "metadata": {
    "collapsed": false
   },
   "outputs": [
    {
     "data": {
      "text/plain": [
       "'0.18.1'"
      ]
     },
     "execution_count": 3,
     "metadata": {},
     "output_type": "execute_result"
    }
   ],
   "source": [
    "import sklearn\n",
    "sklearn.__version__"
   ]
  },
  {
   "cell_type": "markdown",
   "metadata": {},
   "source": [
    "#### Set Caffe root\n",
    "\n",
    "The Caffe binary paths are based on the binaries provided by John. The pre-trained ResNet-50 can be found here:\n",
    "https://github.com/KaimingHe/deep-residual-networks"
   ]
  },
  {
   "cell_type": "code",
   "execution_count": 4,
   "metadata": {
    "collapsed": true
   },
   "outputs": [],
   "source": [
    "# caffe_root = '/usr/local/caffe/'  # this file should be run from {caffe_root}/examples (otherwise change this line)\n",
    "# sys.path.insert(0, caffe_root + 'python')\n",
    "# model_prototxt = '/home/ssnazrul/WIFIRE/ResNet50_Analysis/models/ResNet-50-deploy.prototxt'\n",
    "# model_trained = '/home/ssnazrul/WIFIRE/ResNet50_Analysis/models/ResNet-50-model.caffemodel'"
   ]
  },
  {
   "cell_type": "markdown",
   "metadata": {},
   "source": [
    "#### Inception Model\n",
    "\n",
    "Setting up a Deep Learning model based on ResNet-50 that has been pre-trained on ImageNet data for our Inception Model. Check appropriate layer name here:\n",
    "http://ethereon.github.io/netscope/#/gist/db945b393d40bfa26006"
   ]
  },
  {
   "cell_type": "code",
   "execution_count": 5,
   "metadata": {
    "collapsed": false
   },
   "outputs": [],
   "source": [
    "# DLmodel = SkiCaffe(caffe_root=caffe_root, \n",
    "#                    model_prototxt_path=model_prototxt, \n",
    "#                    model_trained_path=model_trained, \n",
    "#                    layer_name='fc1000')"
   ]
  },
  {
   "cell_type": "markdown",
   "metadata": {},
   "source": [
    "#### Feature Engineering\n",
    "\n",
    "Passing WIFIRE data through the Inception Model for Feature Engineering."
   ]
  },
  {
   "cell_type": "code",
   "execution_count": 6,
   "metadata": {
    "collapsed": false
   },
   "outputs": [],
   "source": [
    "# #Source Path\n",
    "# src_path = '/home/ssnazrul/WIFIRE/Processed_Data/LabelledTiles_Fuel_EqualArea/JPG_Files'\n",
    "\n",
    "# #Paths\n",
    "# image_types = ('.jpg')\n",
    "# image_paths = []\n",
    "# for root, dirs, files in os.walk(src_path):\n",
    "#     image_paths.extend([os.path.join(root,f) for f in files if f.endswith(image_types)])\n",
    "    \n",
    "# #Labels    \n",
    "# labels = [os.path.basename(f).split('_')[-1][:-4] for f in image_paths]\n",
    "\n",
    "# #DataFrame\n",
    "# df = pd.DataFrame({'Path':image_paths, 'Labels':labels})"
   ]
  },
  {
   "cell_type": "code",
   "execution_count": 17,
   "metadata": {
    "collapsed": false
   },
   "outputs": [
    {
     "data": {
      "text/html": [
       "<div>\n",
       "<table border=\"1\" class=\"dataframe\">\n",
       "  <thead>\n",
       "    <tr style=\"text-align: right;\">\n",
       "      <th></th>\n",
       "      <th>Image</th>\n",
       "      <th>FuelFileIndex</th>\n",
       "      <th>NewLabel</th>\n",
       "    </tr>\n",
       "  </thead>\n",
       "  <tbody>\n",
       "    <tr>\n",
       "      <th>0</th>\n",
       "      <td>WIFIRE/Processed_Data/LabelledTiles_Fuel_Equal...</td>\n",
       "      <td>90</td>\n",
       "      <td>B</td>\n",
       "    </tr>\n",
       "    <tr>\n",
       "      <th>1</th>\n",
       "      <td>WIFIRE/Processed_Data/LabelledTiles_Fuel_Equal...</td>\n",
       "      <td>104</td>\n",
       "      <td>B</td>\n",
       "    </tr>\n",
       "    <tr>\n",
       "      <th>2</th>\n",
       "      <td>WIFIRE/Processed_Data/LabelledTiles_Fuel_Equal...</td>\n",
       "      <td>202</td>\n",
       "      <td>B</td>\n",
       "    </tr>\n",
       "    <tr>\n",
       "      <th>3</th>\n",
       "      <td>WIFIRE/Processed_Data/LabelledTiles_Fuel_Equal...</td>\n",
       "      <td>378</td>\n",
       "      <td>B</td>\n",
       "    </tr>\n",
       "    <tr>\n",
       "      <th>4</th>\n",
       "      <td>WIFIRE/Processed_Data/LabelledTiles_Fuel_Equal...</td>\n",
       "      <td>409</td>\n",
       "      <td>B</td>\n",
       "    </tr>\n",
       "  </tbody>\n",
       "</table>\n",
       "</div>"
      ],
      "text/plain": [
       "                                               Image  FuelFileIndex NewLabel\n",
       "0  WIFIRE/Processed_Data/LabelledTiles_Fuel_Equal...             90        B\n",
       "1  WIFIRE/Processed_Data/LabelledTiles_Fuel_Equal...            104        B\n",
       "2  WIFIRE/Processed_Data/LabelledTiles_Fuel_Equal...            202        B\n",
       "3  WIFIRE/Processed_Data/LabelledTiles_Fuel_Equal...            378        B\n",
       "4  WIFIRE/Processed_Data/LabelledTiles_Fuel_Equal...            409        B"
      ]
     },
     "execution_count": 17,
     "metadata": {},
     "output_type": "execute_result"
    }
   ],
   "source": [
    "df = pd.read_csv('~/WIFIRE/Processed_Data/LabelledTiles_Fuel_EqualArea/Reference_Fuel_EqualArea_18May2017_LabelsFromClustering.csv')\n",
    "df.head()"
   ]
  },
  {
   "cell_type": "code",
   "execution_count": 18,
   "metadata": {
    "collapsed": true
   },
   "outputs": [],
   "source": [
    "idx = df.FuelFileIndex\n",
    "labels = df.NewLabel"
   ]
  },
  {
   "cell_type": "markdown",
   "metadata": {},
   "source": [
    "#### Classification\n",
    "\n",
    "The engineered features are classified using a linear classifier. Based on available memory, the Logistic Classifier calculates the weights either by matrix manipulation or Stochastic Gradient Descent."
   ]
  },
  {
   "cell_type": "code",
   "execution_count": 42,
   "metadata": {
    "collapsed": false
   },
   "outputs": [],
   "source": [
    "root = \"/home/ssnazrul/WIFIRE/ResNet50_Analysis/WIFIRE_Engineered/\"\n",
    "\n",
    "image_features = pd.read_csv(root+\"WIFIRE_fc1000_engineered_features.csv\",  delimiter=',', header=None)"
   ]
  },
  {
   "cell_type": "code",
   "execution_count": 43,
   "metadata": {
    "collapsed": false
   },
   "outputs": [],
   "source": [
    "image_features = image_features.ix[idx,:].values #convert df to np array"
   ]
  },
  {
   "cell_type": "markdown",
   "metadata": {},
   "source": [
    "# Base Model\n",
    "\n",
    "The base model uses SGD's default parameters at 5 fold cross validation."
   ]
  },
  {
   "cell_type": "code",
   "execution_count": 44,
   "metadata": {
    "collapsed": false
   },
   "outputs": [],
   "source": [
    "X = normalize(image_features)\n",
    "y = labels\n",
    "\n",
    "X_train, X_test, y_train, y_test = train_test_split(X, y, test_size=0.2, random_state=0)"
   ]
  },
  {
   "cell_type": "code",
   "execution_count": 45,
   "metadata": {
    "collapsed": false
   },
   "outputs": [
    {
     "data": {
      "text/plain": [
       "GridSearchCV(cv=5, error_score='raise',\n",
       "       estimator=SGDClassifier(alpha=0.0001, average=False, class_weight=None, epsilon=0.1,\n",
       "       eta0=0.0, fit_intercept=True, l1_ratio=0.15,\n",
       "       learning_rate='optimal', loss='hinge', n_iter=5, n_jobs=-1,\n",
       "       penalty='l2', power_t=0.5, random_state=0, shuffle=True, verbose=0,\n",
       "       warm_start=False),\n",
       "       fit_params={}, iid=True, n_jobs=1,\n",
       "       param_grid={'penalty': ('l1', 'l2', 'none'), 'loss': ('hinge', 'log'), 'n_iter': [1, 2, 3, 4, 5, 6, 7, 8, 9]},\n",
       "       pre_dispatch='2*n_jobs', refit=True, return_train_score=True,\n",
       "       scoring=None, verbose=0)"
      ]
     },
     "execution_count": 45,
     "metadata": {},
     "output_type": "execute_result"
    }
   ],
   "source": [
    "#Logistic Classifier\n",
    "sgd = SGDClassifier(n_jobs=-1, random_state=0)\n",
    "parameters =  {'loss':('hinge','log'),\n",
    "              'penalty':('l1','l2','none'),\n",
    "              'n_iter':range(1,10)}\n",
    "        \n",
    "               \n",
    "classifier = GridSearchCV(sgd, parameters, cv=5)\n",
    "classifier.fit(X_train, y_train)"
   ]
  },
  {
   "cell_type": "code",
   "execution_count": 46,
   "metadata": {
    "collapsed": false
   },
   "outputs": [],
   "source": [
    "#Attempt to predict validation data\n",
    "predict_target = classifier.predict(X_test)"
   ]
  },
  {
   "cell_type": "code",
   "execution_count": 47,
   "metadata": {
    "collapsed": false
   },
   "outputs": [],
   "source": [
    "conf_arr = confusion_matrix(y_test, predict_target)\n",
    "log_conf_arr = np.log((conf_arr+1)*10000) #For better color choice\n",
    "norm_conf = []\n",
    "for i in log_conf_arr:\n",
    "    a = 0\n",
    "    tmp_arr = []\n",
    "    a = sum(i, 0)\n",
    "    for j in i:\n",
    "        tmp_arr.append(float(j)/float(a))\n",
    "    norm_conf.append(tmp_arr)"
   ]
  },
  {
   "cell_type": "code",
   "execution_count": 48,
   "metadata": {
    "collapsed": false
   },
   "outputs": [
    {
     "data": {
      "image/png": "[encoded data removed]",
      "text/plain": [
       "<matplotlib.figure.Figure at 0xc83b3b10>"
      ]
     },
     "metadata": {},
     "output_type": "display_data"
    }
   ],
   "source": [
    "fig = plt.figure(figsize = (15,15))\n",
    "plt.clf()\n",
    "ax = fig.add_subplot(111)\n",
    "ax.set_aspect(1)\n",
    "res = ax.imshow(np.array(norm_conf), cmap=plt.cm.YlGn, \n",
    "                interpolation='nearest')\n",
    "\n",
    "width, height = conf_arr.shape\n",
    "\n",
    "for x in range(width):\n",
    "    for y in range(height):\n",
    "        ax.annotate(str(conf_arr[x][y]), xy=(y, x), \n",
    "                    horizontalalignment='center',\n",
    "                    verticalalignment='center')\n",
    "\n",
    "# cb = fig.colorbar(res)\n",
    "alphabet = np.unique(y_test)\n",
    "plt.xticks(range(width), alphabet[:width], rotation='vertical')\n",
    "plt.yticks(range(height), alphabet[:height])\n",
    "plt.xlabel('PREDICTED', fontsize=15)\n",
    "plt.ylabel('ACTUAL', fontsize=15)\n",
    "plt.title('Pre-Trained ResNet-50 on WIFIRE\\n(Confusion Matrix)\\n', fontsize=20);"
   ]
  },
  {
   "cell_type": "markdown",
   "metadata": {},
   "source": [
    "Poor classification achieved. The confusion matrix is very... \n",
    "\n",
    "CONFUSING!!! (pun intended.. *badam tiss*)"
   ]
  },
  {
   "cell_type": "markdown",
   "metadata": {},
   "source": [
    "#### Validation Score"
   ]
  },
  {
   "cell_type": "code",
   "execution_count": 49,
   "metadata": {
    "collapsed": false
   },
   "outputs": [
    {
     "data": {
      "text/plain": [
       "49.671435416524062"
      ]
     },
     "execution_count": 49,
     "metadata": {},
     "output_type": "execute_result"
    }
   ],
   "source": [
    "((np.sum([y_test == predict_target])*1.0)/(len(y_test)*1.0))*100"
   ]
  },
  {
   "cell_type": "markdown",
   "metadata": {},
   "source": [
    "#### Optimum Parameters"
   ]
  },
  {
   "cell_type": "code",
   "execution_count": null,
   "metadata": {
    "collapsed": true
   },
   "outputs": [],
   "source": [
    "classifier.best_params_"
   ]
  },
  {
   "cell_type": "markdown",
   "metadata": {},
   "source": [
    "# PCA Based Model"
   ]
  },
  {
   "cell_type": "markdown",
   "metadata": {},
   "source": [
    "#### Original Dimensions"
   ]
  },
  {
   "cell_type": "code",
   "execution_count": 50,
   "metadata": {
    "collapsed": false
   },
   "outputs": [
    {
     "data": {
      "text/plain": [
       "(146087, 1000)"
      ]
     },
     "execution_count": 50,
     "metadata": {},
     "output_type": "execute_result"
    }
   ],
   "source": [
    "from sklearn.decomposition import PCA\n",
    "\n",
    "M = normalize(image_features)\n",
    "\n",
    "pca = PCA(n_components=np.shape(M)[1]) \n",
    "T = pca.fit_transform(M) \n",
    "T.shape"
   ]
  },
  {
   "cell_type": "markdown",
   "metadata": {},
   "source": [
    "#### Variance Captured by PCA"
   ]
  },
  {
   "cell_type": "code",
   "execution_count": 51,
   "metadata": {
    "collapsed": false
   },
   "outputs": [
    {
     "name": "stdout",
     "output_type": "stream",
     "text": [
      "[ 0.30573455  0.09119605  0.06047109  0.04509057  0.03787385  0.02480992\n",
      "  0.0204774   0.01833458  0.01690462  0.01552339]\n"
     ]
    },
    {
     "data": {
      "image/png": "[encoded data removed]",
      "text/plain": [
       "<matplotlib.figure.Figure at 0xc83b3890>"
      ]
     },
     "metadata": {},
     "output_type": "display_data"
    }
   ],
   "source": [
    "cumulative_explained = np.cumsum(pca.explained_variance_ratio_) \n",
    "plt.figure(figsize=(10,7))\n",
    "plt.plot(cumulative_explained);\n",
    "#xlim([0,365])\n",
    "plt.grid()\n",
    "plt.title('PCA of fc1000 features', fontsize=18)\n",
    "\n",
    "print(pca.explained_variance_ratio_[:10])"
   ]
  },
  {
   "cell_type": "code",
   "execution_count": 52,
   "metadata": {
    "collapsed": true
   },
   "outputs": [],
   "source": [
    "pca = PCA(n_components=400) \n",
    "T = pca.fit_transform(M) "
   ]
  },
  {
   "cell_type": "code",
   "execution_count": 53,
   "metadata": {
    "collapsed": false
   },
   "outputs": [],
   "source": [
    "n_samples = len(df)\n",
    "X = normalize(T)\n",
    "y = labels\n",
    "\n",
    "X_train, X_test, y_train, y_test = train_test_split(X, y, test_size=0.2, random_state=0)"
   ]
  },
  {
   "cell_type": "code",
   "execution_count": 54,
   "metadata": {
    "collapsed": false
   },
   "outputs": [
    {
     "data": {
      "text/plain": [
       "GridSearchCV(cv=5, error_score='raise',\n",
       "       estimator=SGDClassifier(alpha=0.0001, average=False, class_weight=None, epsilon=0.1,\n",
       "       eta0=0.0, fit_intercept=True, l1_ratio=0.15,\n",
       "       learning_rate='optimal', loss='hinge', n_iter=5, n_jobs=-1,\n",
       "       penalty='l2', power_t=0.5, random_state=0, shuffle=True, verbose=0,\n",
       "       warm_start=False),\n",
       "       fit_params={}, iid=True, n_jobs=1,\n",
       "       param_grid={'penalty': ('l1', 'l2', 'none'), 'loss': ('hinge', 'log'), 'n_iter': [1, 2, 3, 4, 5, 6, 7, 8, 9]},\n",
       "       pre_dispatch='2*n_jobs', refit=True, return_train_score=True,\n",
       "       scoring=None, verbose=0)"
      ]
     },
     "execution_count": 54,
     "metadata": {},
     "output_type": "execute_result"
    }
   ],
   "source": [
    "#Logistic Classifier\n",
    "sgd = SGDClassifier(n_jobs=-1, random_state=0)\n",
    "parameters =  {'loss':('hinge','log'),\n",
    "              'penalty':('l1','l2','none'),\n",
    "              'n_iter':range(1,10)}\n",
    "        \n",
    "               \n",
    "classifier = GridSearchCV(sgd, parameters, cv=5)\n",
    "classifier.fit(X_train, y_train)"
   ]
  },
  {
   "cell_type": "code",
   "execution_count": 55,
   "metadata": {
    "collapsed": true
   },
   "outputs": [],
   "source": [
    "#Attempt to predict validation data\n",
    "predict_target = classifier.predict(X_test)"
   ]
  },
  {
   "cell_type": "code",
   "execution_count": 56,
   "metadata": {
    "collapsed": false
   },
   "outputs": [
    {
     "data": {
      "image/png": "[encoded data removed]",
      "text/plain": [
       "<matplotlib.figure.Figure at 0x5daa9810>"
      ]
     },
     "metadata": {},
     "output_type": "display_data"
    }
   ],
   "source": [
    "conf_arr = confusion_matrix(y_test, predict_target)\n",
    "log_conf_arr = np.log((conf_arr+1)*10000) #For better color choice\n",
    "norm_conf = []\n",
    "for i in log_conf_arr:\n",
    "    a = 0\n",
    "    tmp_arr = []\n",
    "    a = sum(i, 0)\n",
    "    for j in i:\n",
    "        tmp_arr.append(float(j)/float(a))\n",
    "    norm_conf.append(tmp_arr)\n",
    "    \n",
    "fig = plt.figure(figsize = (15,15))\n",
    "plt.clf()\n",
    "ax = fig.add_subplot(111)\n",
    "ax.set_aspect(1)\n",
    "res = ax.imshow(np.array(norm_conf), cmap=plt.cm.YlGn, \n",
    "                interpolation='nearest')\n",
    "\n",
    "width, height = conf_arr.shape\n",
    "\n",
    "for x in range(width):\n",
    "    for y in range(height):\n",
    "        ax.annotate(str(conf_arr[x][y]), xy=(y, x), \n",
    "                    horizontalalignment='center',\n",
    "                    verticalalignment='center')\n",
    "\n",
    "# cb = fig.colorbar(res)\n",
    "alphabet = np.unique(y_test)\n",
    "plt.xticks(range(width), alphabet[:width], rotation='vertical')\n",
    "plt.yticks(range(height), alphabet[:height])\n",
    "plt.xlabel('PREDICTED', fontsize=15)\n",
    "plt.ylabel('ACTUAL', fontsize=15)\n",
    "plt.title('Pre-Trained ResNet-50 on PCA\\n(Confusion Matrix)\\n', fontsize=20);"
   ]
  },
  {
   "cell_type": "markdown",
   "metadata": {},
   "source": [
    "#### Validation Score"
   ]
  },
  {
   "cell_type": "code",
   "execution_count": 57,
   "metadata": {
    "collapsed": false
   },
   "outputs": [
    {
     "data": {
      "text/plain": [
       "49.671435416524062"
      ]
     },
     "execution_count": 57,
     "metadata": {},
     "output_type": "execute_result"
    }
   ],
   "source": [
    "((np.sum([y_test == predict_target])*1.0)/(len(y_test)*1.0))*100"
   ]
  },
  {
   "cell_type": "markdown",
   "metadata": {},
   "source": [
    "#### Optimal Parameters"
   ]
  },
  {
   "cell_type": "code",
   "execution_count": 58,
   "metadata": {
    "collapsed": false
   },
   "outputs": [
    {
     "data": {
      "text/plain": [
       "{'loss': 'log', 'n_iter': 1, 'penalty': 'l1'}"
      ]
     },
     "execution_count": 58,
     "metadata": {},
     "output_type": "execute_result"
    }
   ],
   "source": [
    "classifier.best_params_"
   ]
  },
  {
   "cell_type": "markdown",
   "metadata": {
    "collapsed": true
   },
   "source": [
    "# Analyze Learning Curve"
   ]
  },
  {
   "cell_type": "code",
   "execution_count": null,
   "metadata": {
    "collapsed": false,
    "scrolled": false
   },
   "outputs": [],
   "source": [
    "from sklearn.model_selection import learning_curve\n",
    "\n",
    "n_samples = len(df)\n",
    "X = normalize(image_features=)\n",
    "y = np.array(labels)\n",
    "\n",
    "clf = SGDClassifier(n_jobs=-1, loss='log', n_iter=9, \n",
    "                    penalty='none', random_state=0)\n",
    "\n",
    "train_percent = np.array([0.60,0.70,0.80,0.90,1.])\n",
    "                         \n",
    "train_sizes, train_scores, valid_scores = learning_curve(clf, X, y, cv=5, train_sizes=train_percent)    "
   ]
  },
  {
   "cell_type": "code",
   "execution_count": null,
   "metadata": {
    "collapsed": false
   },
   "outputs": [],
   "source": [
    "train_av = np.mean(train_scores, axis=1)\n",
    "train_std = np.std(train_scores, axis=1)\n",
    "\n",
    "valid_av = np.mean(valid_scores, axis=1)\n",
    "valid_std = np.std(valid_scores, axis=1)\n",
    "\n",
    "plt.figure(figsize=(10,7))\n",
    "plt.plot(train_percent*100, train_av, 'bo-', label=\"Training\")\n",
    "plt.plot(train_percent*100, valid_av, 'go-', label=\"Validation\")\n",
    "plt.xlabel('% Training',fontsize=12)\n",
    "plt.ylabel('Score',fontsize=12)\n",
    "plt.axhline(y=train_av[-1], color = 'r', linestyle ='--')\n",
    "plt.title('Learning Curve',fontsize=16)\n",
    "plt.legend(fontsize=12)\n",
    "plt.grid()\n",
    "print('Optimal Score:\\t',train_av[-1])"
   ]
  },
  {
   "cell_type": "code",
   "execution_count": null,
   "metadata": {
    "collapsed": true
   },
   "outputs": [],
   "source": []
  }
 ],
 "metadata": {
  "kernelspec": {
   "display_name": "Python 2",
   "language": "python",
   "name": "python2"
  },
  "language_info": {
   "codemirror_mode": {
    "name": "ipython",
    "version": 2
   },
   "file_extension": ".py",
   "mimetype": "text/x-python",
   "name": "python",
   "nbconvert_exporter": "python",
   "pygments_lexer": "ipython2",
   "version": "2.7.5"
  }
 },
 "nbformat": 4,
 "nbformat_minor": 2
}
