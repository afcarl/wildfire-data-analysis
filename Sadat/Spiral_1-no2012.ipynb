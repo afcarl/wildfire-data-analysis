{
 "cells": [
  {
   "cell_type": "code",
   "execution_count": 1,
   "metadata": {
    "collapsed": false
   },
   "outputs": [
    {
     "data": {
      "text/html": [
       "<script>\n",
       "code_show=true; \n",
       "function code_toggle() {\n",
       " if (code_show){\n",
       " $('div.input').hide();\n",
       " } else {\n",
       " $('div.input').show();\n",
       " }\n",
       " code_show = !code_show\n",
       "} \n",
       "$( document ).ready(code_toggle);\n",
       "</script>\n",
       "<form action=\"javascript:code_toggle()\"><input type=\"submit\" value=\"Click here to toggle on/off the raw code.\"></form>"
      ],
      "text/plain": [
       "<IPython.core.display.HTML object>"
      ]
     },
     "execution_count": 1,
     "metadata": {},
     "output_type": "execute_result"
    }
   ],
   "source": [
    "from IPython.display import HTML\n",
    "\n",
    "HTML('''<script>\n",
    "code_show=true; \n",
    "function code_toggle() {\n",
    " if (code_show){\n",
    " $('div.input').hide();\n",
    " } else {\n",
    " $('div.input').show();\n",
    " }\n",
    " code_show = !code_show\n",
    "} \n",
    "$( document ).ready(code_toggle);\n",
    "</script>\n",
    "<form action=\"javascript:code_toggle()\"><input type=\"submit\" value=\"Click here to toggle on/off the raw code.\"></form>''')"
   ]
  },
  {
   "cell_type": "markdown",
   "metadata": {},
   "source": [
    "# Contents"
   ]
  },
  {
   "cell_type": "markdown",
   "metadata": {},
   "source": [
    "* [Executive Summary](#Executive-Summary)\n",
    "* [fc1000 Feature Engineering](fc1000-Feature-Engineering)\n",
    "* [Base Model](#Base-Model)\n",
    "* [PCA Based Model](#PCA-Based-Model)\n",
    "* [High Frequency Classes](#High-Frequency-Classes)\n",
    "* [High Frequency With PCA](#High-Frequency-with-PCA)\n",
    "* [Analyze Iterations at High Frequency and PCA](#Analyze-Iterations-at-High-Frequency-and-PCA)\n",
    "* [Analyze Iterations at High Frequency without PCA](#Analyze-Iterations-at-High-Frequency-without-PCA)\n",
    "* [Classification Report (With 2012)](#Classification-Report-(With-2012)\n",
    "* [Classification Report (Without 2012)](#Classification-Report-(Without-2012)"
   ]
  },
  {
   "cell_type": "markdown",
   "metadata": {},
   "source": [
    "# Executive Summary"
   ]
  },
  {
   "cell_type": "markdown",
   "metadata": {},
   "source": [
    "The previous Spiral 1 model has been modified by removing 2012 images due to suspicion of mislabelling. This hypothesis was established by analyzing the vegetation to fuel mapping. This hypothesis was tested using teh Spiral 1 model and the following differences are seen:\n",
    "\n",
    "| Model | With 2012   | Without 2012 |\n",
    "|------|------| ------|\n",
    "|   Base Model  | 55.76% | 56.16% |\n",
    "|   PCA Based Model  | 56.92% | 57.19% |\n",
    "|   High Frequency Classes  | 71.71% | 72.54% |\n",
    "|   High Frequency with PCA  | 71.15% | 70.91% |\n",
    "| Analyze Iterations at High Frequency without PCA | 71.79% | 71.64% |\n",
    "\n",
    "As we can see, there is negligible change in classification accuracy when 2012 data is removed. \n",
    "\n",
    "The f1 scores were also analyzed:\n",
    "\n",
    "| Label | With 2012   | Without 2012 |\n",
    "|------|------| ------|\n",
    "|Argriculture |      0.00|  0.00|\n",
    "|      Barren |      0.00|  0.00|\n",
    "|       **FBFM1** |      **0.46**|  **0.49**|\n",
    "|       **FBFM2** |      **0.02**|  **0.04**|\n",
    "|       FBFM4 |      0.03|  0.03|\n",
    "|       **FBFM5** |      **0.60**|  **0.59**|\n",
    "|       FBFM6 |      0.00|  0.00|\n",
    "|       FBFM7 |      0.00|  0.00|\n",
    "|       FBFM8 |      0.01|  0.10|\n",
    "|       FBFM9 |      0.03|  0.03|\n",
    "|       **Urban** |      **0.71**|  **0.73**|\n",
    "|       **Water** |      **0.72**|  **0.73**|\n",
    "\n",
    "The change in f1-score seems negligible too. However, the interesting bit is the **bold** labels. \n",
    "- Water is not among the high frequency labels but has among the highest f1-scores, indicating good accuracy even with little training. \n",
    "- FBFM1, FBFM2, FBFM5 and Urban are the high frequency labels with  high f1-scores\n",
    "- FBFM2, despite being a high frequency label has an extremely low f1-score of 0.02. This is an issue as this label contributed 12% of the overall Escondido dataset. Any improvement in this label will significantly improve our model."
   ]
  },
  {
   "cell_type": "markdown",
   "metadata": {},
   "source": [
    "# fc1000 Feature Engineering\n",
    "\n",
    "#### Importing Libraries"
   ]
  },
  {
   "cell_type": "code",
   "execution_count": 2,
   "metadata": {
    "collapsed": false
   },
   "outputs": [],
   "source": [
    "# from skicaffe import SkiCaffe\n",
    "import sys, os, random\n",
    "import matplotlib.pyplot as plt\n",
    "import pandas as pd\n",
    "import numpy as np\n",
    "from sklearn.metrics import confusion_matrix\n",
    "from sklearn.linear_model import LogisticRegression, SGDClassifier\n",
    "from sklearn.model_selection import GridSearchCV, train_test_split\n",
    "from sklearn.preprocessing import normalize\n",
    "%matplotlib inline"
   ]
  },
  {
   "cell_type": "code",
   "execution_count": 3,
   "metadata": {
    "collapsed": false
   },
   "outputs": [
    {
     "data": {
      "text/plain": [
       "'0.18.1'"
      ]
     },
     "execution_count": 3,
     "metadata": {},
     "output_type": "execute_result"
    }
   ],
   "source": [
    "import sklearn\n",
    "sklearn.__version__"
   ]
  },
  {
   "cell_type": "markdown",
   "metadata": {},
   "source": [
    "#### Set Caffe root\n",
    "\n",
    "The Caffe binary paths are based on the binaries provided by John. The pre-trained ResNet-50 can be found here:\n",
    "https://github.com/KaimingHe/deep-residual-networks"
   ]
  },
  {
   "cell_type": "code",
   "execution_count": 4,
   "metadata": {
    "collapsed": true
   },
   "outputs": [],
   "source": [
    "# caffe_root = '/usr/local/caffe/'  # this file should be run from {caffe_root}/examples (otherwise change this line)\n",
    "# sys.path.insert(0, caffe_root + 'python')\n",
    "# model_prototxt = '/home/ssnazrul/WIFIRE/ResNet50_Analysis/models/ResNet-50-deploy.prototxt'\n",
    "# model_trained = '/home/ssnazrul/WIFIRE/ResNet50_Analysis/models/ResNet-50-model.caffemodel'"
   ]
  },
  {
   "cell_type": "markdown",
   "metadata": {},
   "source": [
    "#### Inception Model\n",
    "\n",
    "Setting up a Deep Learning model based on ResNet-50 that has been pre-trained on ImageNet data for our Inception Model. Check appropriate layer name here:\n",
    "http://ethereon.github.io/netscope/#/gist/db945b393d40bfa26006"
   ]
  },
  {
   "cell_type": "code",
   "execution_count": 5,
   "metadata": {
    "collapsed": true
   },
   "outputs": [],
   "source": [
    "# DLmodel = SkiCaffe(caffe_root=caffe_root, \n",
    "#                    model_prototxt_path=model_prototxt, \n",
    "#                    model_trained_path=model_trained, \n",
    "#                    layer_name='fc1000')"
   ]
  },
  {
   "cell_type": "markdown",
   "metadata": {},
   "source": [
    "#### Feature Engineering\n",
    "\n",
    "Passing WIFIRE data through the Inception Model for Feature Engineering."
   ]
  },
  {
   "cell_type": "code",
   "execution_count": 6,
   "metadata": {
    "collapsed": true
   },
   "outputs": [],
   "source": [
    "# #Source Path\n",
    "# src_path = '/home/ssnazrul/WIFIRE/Processed_Data/LabelledTiles_Fuel_EqualArea/JPG_Files'\n",
    "\n",
    "# #Paths\n",
    "# image_types = ('.jpg')\n",
    "# image_paths = []\n",
    "# for root, dirs, files in os.walk(src_path):\n",
    "#     image_paths.extend([os.path.join(root,f) for f in files if f.endswith(image_types)])\n",
    "    \n",
    "# #Labels    \n",
    "# labels = [os.path.basename(f).split('_')[-1][:-4] for f in image_paths]\n",
    "\n",
    "# #DataFrame\n",
    "# df = pd.DataFrame({'Path':image_paths, 'Labels':labels})"
   ]
  },
  {
   "cell_type": "code",
   "execution_count": 7,
   "metadata": {
    "collapsed": true
   },
   "outputs": [],
   "source": [
    "# DLmodel.fit()\n",
    "# image_features = DLmodel.transform(X=df['Path'], device = 0)"
   ]
  },
  {
   "cell_type": "markdown",
   "metadata": {},
   "source": [
    "Since processing takes forever, the dataframe and engineered features are stored in csv files."
   ]
  },
  {
   "cell_type": "code",
   "execution_count": 8,
   "metadata": {
    "collapsed": true
   },
   "outputs": [],
   "source": [
    "# root = \"/home/ssnazrul/WIFIRE/ResNet50_Analysis/\"\n",
    "\n",
    "# #Saving WIFIRE features engineered from Inception Model on csv file\n",
    "# np.savetxt(root+\"WIFIRE_Engineered/WIFIRE_engineered_features.csv\", \n",
    "#            image_features, \n",
    "#            delimiter=\",\")"
   ]
  },
  {
   "cell_type": "code",
   "execution_count": 9,
   "metadata": {
    "collapsed": true
   },
   "outputs": [],
   "source": [
    "# #Saving WIFIRE path and labels to csv\n",
    "# df.to_csv(root+'WIFIRE_Engineered/WIFIRE_labels.csv')"
   ]
  },
  {
   "cell_type": "markdown",
   "metadata": {},
   "source": [
    "#### Classification\n",
    "\n",
    "The engineered features are classified using a linear classifier. Based on available memory, the Logistic Classifier calculates the weights either by matrix manipulation or Stochastic Gradient Descent."
   ]
  },
  {
   "cell_type": "code",
   "execution_count": 10,
   "metadata": {
    "collapsed": false
   },
   "outputs": [],
   "source": [
    "root = \"/home/ssnazrul/WIFIRE/ResNet50_Analysis/WIFIRE_Engineered/\"\n",
    "\n",
    "image_features = pd.read_csv(root+\"WIFIRE_fc1000_engineered_features.csv\",  delimiter=',', header=None)\n",
    "df = pd.read_csv(root+'WIFIRE_labels.csv')"
   ]
  },
  {
   "cell_type": "code",
   "execution_count": 83,
   "metadata": {
    "collapsed": true
   },
   "outputs": [],
   "source": [
    "image_features = image_features.values #convert df to np array"
   ]
  },
  {
   "cell_type": "code",
   "execution_count": 85,
   "metadata": {
    "collapsed": true
   },
   "outputs": [],
   "source": [
    "df['Year'] = df.Path.apply(lambda x: x.split('/')[-1].split('_')[3])\n",
    "df = df[df.Year != '2012']\n",
    "idx = df.index"
   ]
  },
  {
   "cell_type": "code",
   "execution_count": 86,
   "metadata": {
    "collapsed": true
   },
   "outputs": [],
   "source": [
    "labels = df.Labels.values\n",
    "image_features = image_features[idx]"
   ]
  },
  {
   "cell_type": "markdown",
   "metadata": {},
   "source": [
    "#### Class Distribution"
   ]
  },
  {
   "cell_type": "code",
   "execution_count": 87,
   "metadata": {
    "collapsed": false
   },
   "outputs": [
    {
     "data": {
      "image/png": "[encoded data removed]",
      "text/plain": [
       "<matplotlib.figure.Figure at 0x7fcaa9fbf5c0>"
      ]
     },
     "metadata": {},
     "output_type": "display_data"
    }
   ],
   "source": [
    "df.groupby(['Labels'])['Year'].count().plot(kind='bar');"
   ]
  },
  {
   "cell_type": "markdown",
   "metadata": {},
   "source": [
    "# Base Model\n",
    "\n",
    "The base model uses SGD's default parameters at 5 fold cross validation."
   ]
  },
  {
   "cell_type": "code",
   "execution_count": 88,
   "metadata": {
    "collapsed": false
   },
   "outputs": [],
   "source": [
    "n_samples = len(df)\n",
    "X = normalize(image_features)\n",
    "y = labels\n",
    "\n",
    "X_train, X_test, y_train, y_test = train_test_split(X, y, test_size=0.2, random_state=0)"
   ]
  },
  {
   "cell_type": "code",
   "execution_count": 89,
   "metadata": {
    "collapsed": false
   },
   "outputs": [],
   "source": [
    "#Logistic Classifier\n",
    "sgd = SGDClassifier(n_jobs=-1, random_state=0)\n",
    "parameters =  {'loss':('hinge',)}\n",
    "        \n",
    "               \n",
    "classifier = GridSearchCV(sgd, parameters, cv=5)\n",
    "classifier.fit(X_train, y_train)\n",
    "\n",
    "#Attempt to predict validation data\n",
    "predict_target = classifier.predict(X_test)"
   ]
  },
  {
   "cell_type": "code",
   "execution_count": 90,
   "metadata": {
    "collapsed": false
   },
   "outputs": [],
   "source": [
    "#Attempt to predict validation data\n",
    "predict_target = classifier.predict(X_test)"
   ]
  },
  {
   "cell_type": "code",
   "execution_count": 91,
   "metadata": {
    "collapsed": false
   },
   "outputs": [],
   "source": [
    "conf_arr = confusion_matrix(y_test, predict_target)\n",
    "log_conf_arr = np.log((conf_arr+1)*10000) #For better color choice\n",
    "norm_conf = []\n",
    "for i in log_conf_arr:\n",
    "    a = 0\n",
    "    tmp_arr = []\n",
    "    a = sum(i, 0)\n",
    "    for j in i:\n",
    "        tmp_arr.append(float(j)/float(a))\n",
    "    norm_conf.append(tmp_arr)"
   ]
  },
  {
   "cell_type": "code",
   "execution_count": 92,
   "metadata": {
    "collapsed": false
   },
   "outputs": [
    {
     "data": {
      "image/png": "[encoded data removed]",
      "text/plain": [
       "<matplotlib.figure.Figure at 0x7fcaa9d4b5f8>"
      ]
     },
     "metadata": {},
     "output_type": "display_data"
    }
   ],
   "source": [
    "fig = plt.figure(figsize = (15,15))\n",
    "plt.clf()\n",
    "ax = fig.add_subplot(111)\n",
    "ax.set_aspect(1)\n",
    "res = ax.imshow(np.array(norm_conf), cmap=plt.cm.YlGn, \n",
    "                interpolation='nearest')\n",
    "\n",
    "width, height = conf_arr.shape\n",
    "\n",
    "for x in range(width):\n",
    "    for y in range(height):\n",
    "        ax.annotate(str(conf_arr[x][y]), xy=(y, x), \n",
    "                    horizontalalignment='center',\n",
    "                    verticalalignment='center')\n",
    "\n",
    "# cb = fig.colorbar(res)\n",
    "alphabet = np.unique(y_test)\n",
    "plt.xticks(range(width), alphabet[:width], rotation='vertical')\n",
    "plt.yticks(range(height), alphabet[:height])\n",
    "plt.xlabel('PREDICTED', fontsize=15)\n",
    "plt.ylabel('ACTUAL', fontsize=15)\n",
    "plt.title('Pre-Trained ResNet-50 on WIFIRE\\n(Confusion Matrix)\\n', fontsize=20);"
   ]
  },
  {
   "cell_type": "markdown",
   "metadata": {},
   "source": [
    "Poor classification achieved. The confusion matrix is very... \n",
    "\n",
    "CONFUSING!!! (pun intended.. *badam tiss*)"
   ]
  },
  {
   "cell_type": "markdown",
   "metadata": {},
   "source": [
    "#### Validation Score"
   ]
  },
  {
   "cell_type": "code",
   "execution_count": 93,
   "metadata": {
    "collapsed": false
   },
   "outputs": [
    {
     "data": {
      "text/plain": [
       "56.164126371844546"
      ]
     },
     "execution_count": 93,
     "metadata": {},
     "output_type": "execute_result"
    }
   ],
   "source": [
    "((np.sum([y_test == predict_target])*1.0)/(len(y_test)*1.0))*100"
   ]
  },
  {
   "cell_type": "markdown",
   "metadata": {},
   "source": [
    "# PCA Based Model"
   ]
  },
  {
   "cell_type": "markdown",
   "metadata": {},
   "source": [
    "#### Original Dimensions"
   ]
  },
  {
   "cell_type": "code",
   "execution_count": 94,
   "metadata": {
    "collapsed": false
   },
   "outputs": [
    {
     "data": {
      "text/plain": [
       "(292943, 1000)"
      ]
     },
     "execution_count": 94,
     "metadata": {},
     "output_type": "execute_result"
    }
   ],
   "source": [
    "from sklearn.decomposition import PCA\n",
    "\n",
    "M = normalize(image_features)\n",
    "\n",
    "pca = PCA(n_components=np.shape(M)[1]) \n",
    "T = pca.fit_transform(M) \n",
    "T.shape"
   ]
  },
  {
   "cell_type": "markdown",
   "metadata": {},
   "source": [
    "#### Variance Captured by PCA"
   ]
  },
  {
   "cell_type": "code",
   "execution_count": 95,
   "metadata": {
    "collapsed": false
   },
   "outputs": [
    {
     "name": "stdout",
     "output_type": "stream",
     "text": [
      "[ 0.30293285  0.12561902  0.06859981  0.04985818  0.03701486  0.02205899\n",
      "  0.01994912  0.01830744  0.01672325  0.01505453]\n"
     ]
    },
    {
     "data": {
      "image/png": "[encoded data removed]",
      "text/plain": [
       "<matplotlib.figure.Figure at 0x7fcaa994cc88>"
      ]
     },
     "metadata": {},
     "output_type": "display_data"
    }
   ],
   "source": [
    "cumulative_explained = np.cumsum(pca.explained_variance_ratio_) \n",
    "plt.figure(figsize=(10,7))\n",
    "plt.plot(cumulative_explained);\n",
    "#xlim([0,365])\n",
    "plt.grid()\n",
    "plt.title('PCA of fc1000 features', fontsize=18)\n",
    "\n",
    "print(pca.explained_variance_ratio_[:10])"
   ]
  },
  {
   "cell_type": "code",
   "execution_count": 96,
   "metadata": {
    "collapsed": true
   },
   "outputs": [],
   "source": [
    "pca = PCA(n_components=400) \n",
    "T = pca.fit_transform(M) "
   ]
  },
  {
   "cell_type": "code",
   "execution_count": 97,
   "metadata": {
    "collapsed": false
   },
   "outputs": [],
   "source": [
    "n_samples = len(df)\n",
    "X = normalize(T)\n",
    "y = labels\n",
    "\n",
    "X_train, X_test, y_train, y_test = train_test_split(X, y, test_size=0.2, random_state=0)"
   ]
  },
  {
   "cell_type": "code",
   "execution_count": 98,
   "metadata": {
    "collapsed": false
   },
   "outputs": [
    {
     "data": {
      "text/plain": [
       "GridSearchCV(cv=5, error_score='raise',\n",
       "       estimator=SGDClassifier(alpha=0.0001, average=False, class_weight=None, epsilon=0.1,\n",
       "       eta0=0.0, fit_intercept=True, l1_ratio=0.15,\n",
       "       learning_rate='optimal', loss='hinge', n_iter=5, n_jobs=-1,\n",
       "       penalty='l2', power_t=0.5, random_state=0, shuffle=True, verbose=0,\n",
       "       warm_start=False),\n",
       "       fit_params={}, iid=True, n_jobs=1,\n",
       "       param_grid={'loss': ('hinge', 'log'), 'penalty': ('l1', 'l2')},\n",
       "       pre_dispatch='2*n_jobs', refit=True, return_train_score=True,\n",
       "       scoring=None, verbose=0)"
      ]
     },
     "execution_count": 98,
     "metadata": {},
     "output_type": "execute_result"
    }
   ],
   "source": [
    "#Logistic Classifier\n",
    "sgd = SGDClassifier(n_jobs=-1, random_state=0)\n",
    "parameters =  {'loss':('hinge','log'),\n",
    "              'penalty':('l1','l2')}\n",
    "        \n",
    "               \n",
    "classifier = GridSearchCV(sgd, parameters, cv=5)\n",
    "classifier.fit(X_train, y_train)"
   ]
  },
  {
   "cell_type": "code",
   "execution_count": 99,
   "metadata": {
    "collapsed": true
   },
   "outputs": [],
   "source": [
    "#Attempt to predict validation data\n",
    "predict_target = classifier.predict(X_test)"
   ]
  },
  {
   "cell_type": "code",
   "execution_count": 100,
   "metadata": {
    "collapsed": false
   },
   "outputs": [
    {
     "data": {
      "image/png": "[encoded data removed]",
      "text/plain": [
       "<matplotlib.figure.Figure at 0x7fcaa98089b0>"
      ]
     },
     "metadata": {},
     "output_type": "display_data"
    }
   ],
   "source": [
    "conf_arr = confusion_matrix(y_test, predict_target)\n",
    "log_conf_arr = np.log((conf_arr+1)*10000) #For better color choice\n",
    "norm_conf = []\n",
    "for i in log_conf_arr:\n",
    "    a = 0\n",
    "    tmp_arr = []\n",
    "    a = sum(i, 0)\n",
    "    for j in i:\n",
    "        tmp_arr.append(float(j)/float(a))\n",
    "    norm_conf.append(tmp_arr)\n",
    "    \n",
    "fig = plt.figure(figsize = (15,15))\n",
    "plt.clf()\n",
    "ax = fig.add_subplot(111)\n",
    "ax.set_aspect(1)\n",
    "res = ax.imshow(np.array(norm_conf), cmap=plt.cm.YlGn, \n",
    "                interpolation='nearest')\n",
    "\n",
    "width, height = conf_arr.shape\n",
    "\n",
    "for x in range(width):\n",
    "    for y in range(height):\n",
    "        ax.annotate(str(conf_arr[x][y]), xy=(y, x), \n",
    "                    horizontalalignment='center',\n",
    "                    verticalalignment='center')\n",
    "\n",
    "# cb = fig.colorbar(res)\n",
    "alphabet = np.unique(y_test)\n",
    "plt.xticks(range(width), alphabet[:width], rotation='vertical')\n",
    "plt.yticks(range(height), alphabet[:height])\n",
    "plt.xlabel('PREDICTED', fontsize=15)\n",
    "plt.ylabel('ACTUAL', fontsize=15)\n",
    "plt.title('Pre-Trained ResNet-50 on PCA\\n(Confusion Matrix)\\n', fontsize=20);"
   ]
  },
  {
   "cell_type": "markdown",
   "metadata": {},
   "source": [
    "#### Validation Score"
   ]
  },
  {
   "cell_type": "code",
   "execution_count": 101,
   "metadata": {
    "collapsed": false
   },
   "outputs": [
    {
     "data": {
      "text/plain": [
       "57.189916195872947"
      ]
     },
     "execution_count": 101,
     "metadata": {},
     "output_type": "execute_result"
    }
   ],
   "source": [
    "((np.sum([y_test == predict_target])*1.0)/(len(y_test)*1.0))*100"
   ]
  },
  {
   "cell_type": "markdown",
   "metadata": {},
   "source": [
    "#### Optimal Parameters"
   ]
  },
  {
   "cell_type": "code",
   "execution_count": 102,
   "metadata": {
    "collapsed": false
   },
   "outputs": [
    {
     "data": {
      "text/plain": [
       "{'loss': 'log', 'penalty': 'l2'}"
      ]
     },
     "execution_count": 102,
     "metadata": {},
     "output_type": "execute_result"
    }
   ],
   "source": [
    "classifier.best_params_"
   ]
  },
  {
   "cell_type": "markdown",
   "metadata": {
    "collapsed": true
   },
   "source": [
    "## High Frequency Classes "
   ]
  },
  {
   "cell_type": "code",
   "execution_count": 103,
   "metadata": {
    "collapsed": true
   },
   "outputs": [],
   "source": [
    "high_dist_class_list = ['FBFM1','FBFM5','Urban']"
   ]
  },
  {
   "cell_type": "code",
   "execution_count": 108,
   "metadata": {
    "collapsed": false
   },
   "outputs": [],
   "source": [
    "df = df.reset_index()"
   ]
  },
  {
   "cell_type": "code",
   "execution_count": 109,
   "metadata": {
    "collapsed": false
   },
   "outputs": [],
   "source": [
    "df_high_class = df[df.Labels.isin(high_dist_class_list)]\n",
    "high_class_idx = np.array(df_high_class.index)"
   ]
  },
  {
   "cell_type": "code",
   "execution_count": 110,
   "metadata": {
    "collapsed": false
   },
   "outputs": [],
   "source": [
    "n_samples = len(df)\n",
    "X = normalize(image_features[high_class_idx])\n",
    "y = np.array(labels)[high_class_idx]\n",
    "\n",
    "X_train, X_test, y_train, y_test = train_test_split(X, y, test_size=0.2, random_state=0)"
   ]
  },
  {
   "cell_type": "code",
   "execution_count": 111,
   "metadata": {
    "collapsed": false
   },
   "outputs": [
    {
     "data": {
      "text/plain": [
       "GridSearchCV(cv=5, error_score='raise',\n",
       "       estimator=SGDClassifier(alpha=0.0001, average=False, class_weight=None, epsilon=0.1,\n",
       "       eta0=0.0, fit_intercept=True, l1_ratio=0.15,\n",
       "       learning_rate='optimal', loss='hinge', n_iter=5, n_jobs=-1,\n",
       "       penalty='l2', power_t=0.5, random_state=0, shuffle=True, verbose=0,\n",
       "       warm_start=False),\n",
       "       fit_params={}, iid=True, n_jobs=1,\n",
       "       param_grid={'loss': ('log', 'hinge'), 'penalty': ('l1', 'l2', 'none')},\n",
       "       pre_dispatch='2*n_jobs', refit=True, return_train_score=True,\n",
       "       scoring=None, verbose=0)"
      ]
     },
     "execution_count": 111,
     "metadata": {},
     "output_type": "execute_result"
    }
   ],
   "source": [
    "#Logistic Classifier\n",
    "sgd = SGDClassifier(n_jobs=-1, random_state=0)\n",
    "parameters = {'loss':('log','hinge'),\n",
    "             'penalty':('l1','l2','none')}\n",
    "        \n",
    "               \n",
    "classifier = GridSearchCV(sgd, parameters, cv=5)\n",
    "classifier.fit(X_train, y_train)"
   ]
  },
  {
   "cell_type": "code",
   "execution_count": 112,
   "metadata": {
    "collapsed": true
   },
   "outputs": [],
   "source": [
    "#Attempt to predict validation data\n",
    "predict_target = classifier.predict(X_test)"
   ]
  },
  {
   "cell_type": "code",
   "execution_count": 113,
   "metadata": {
    "collapsed": false
   },
   "outputs": [
    {
     "data": {
      "text/plain": [
       "array(['FBFM1', 'FBFM5', 'Urban'], dtype=object)"
      ]
     },
     "execution_count": 113,
     "metadata": {},
     "output_type": "execute_result"
    }
   ],
   "source": [
    "np.unique(y_test)"
   ]
  },
  {
   "cell_type": "code",
   "execution_count": 114,
   "metadata": {
    "collapsed": false
   },
   "outputs": [
    {
     "data": {
      "image/png": "[encoded data removed]",
      "text/plain": [
       "<matplotlib.figure.Figure at 0x7fcaa98565c0>"
      ]
     },
     "metadata": {},
     "output_type": "display_data"
    }
   ],
   "source": [
    "conf_arr = confusion_matrix(y_test, predict_target)\n",
    "log_conf_arr = np.log((conf_arr+1)*10000) #For better color choice\n",
    "norm_conf = []\n",
    "for i in log_conf_arr:\n",
    "    a = 0\n",
    "    tmp_arr = []\n",
    "    a = sum(i, 0)\n",
    "    for j in i:\n",
    "        tmp_arr.append(float(j)/float(a))\n",
    "    norm_conf.append(tmp_arr)\n",
    "    \n",
    "fig = plt.figure(figsize = (15,15))\n",
    "plt.clf()\n",
    "ax = fig.add_subplot(111)\n",
    "ax.set_aspect(1)\n",
    "res = ax.imshow(np.array(norm_conf), cmap=plt.cm.YlGn, \n",
    "                interpolation='nearest')\n",
    "\n",
    "width, height = conf_arr.shape\n",
    "\n",
    "for x in range(width):\n",
    "    for y in range(height):\n",
    "        ax.annotate(str(conf_arr[x][y]), xy=(y, x), \n",
    "                    horizontalalignment='center',\n",
    "                    verticalalignment='center')\n",
    "\n",
    "# cb = fig.colorbar(res)\n",
    "alphabet = np.unique(y_test)\n",
    "plt.xticks(range(width), alphabet[:width], rotation='vertical')\n",
    "plt.yticks(range(height), alphabet[:height])\n",
    "plt.xlabel('PREDICTED', fontsize=15)\n",
    "plt.ylabel('ACTUAL', fontsize=15)\n",
    "plt.title('Pre-Trained ResNet-50 on PCA\\n(Confusion Matrix)\\n', fontsize=20);"
   ]
  },
  {
   "cell_type": "markdown",
   "metadata": {},
   "source": [
    "#### Validation Score"
   ]
  },
  {
   "cell_type": "code",
   "execution_count": 115,
   "metadata": {
    "collapsed": false
   },
   "outputs": [
    {
     "data": {
      "text/plain": [
       "71.545534432132371"
      ]
     },
     "execution_count": 115,
     "metadata": {},
     "output_type": "execute_result"
    }
   ],
   "source": [
    "((np.sum([y_test == predict_target])*1.0)/(len(y_test)*1.0))*100"
   ]
  },
  {
   "cell_type": "code",
   "execution_count": 116,
   "metadata": {
    "collapsed": false
   },
   "outputs": [
    {
     "data": {
      "text/plain": [
       "{'loss': 'hinge', 'penalty': 'none'}"
      ]
     },
     "execution_count": 116,
     "metadata": {},
     "output_type": "execute_result"
    }
   ],
   "source": [
    "classifier.best_params_"
   ]
  },
  {
   "cell_type": "markdown",
   "metadata": {
    "collapsed": true
   },
   "source": [
    "## High Frequency with PCA"
   ]
  },
  {
   "cell_type": "markdown",
   "metadata": {},
   "source": [
    "#### Original Dimensions"
   ]
  },
  {
   "cell_type": "code",
   "execution_count": 117,
   "metadata": {
    "collapsed": false
   },
   "outputs": [
    {
     "data": {
      "text/plain": [
       "(233282, 1000)"
      ]
     },
     "execution_count": 117,
     "metadata": {},
     "output_type": "execute_result"
    }
   ],
   "source": [
    "from sklearn.decomposition import PCA\n",
    "\n",
    "M = normalize(image_features[high_class_idx])\n",
    "\n",
    "pca = PCA(n_components=np.shape(M)[1]) \n",
    "T = pca.fit_transform(M) \n",
    "T.shape"
   ]
  },
  {
   "cell_type": "markdown",
   "metadata": {},
   "source": [
    "#### Variance Capture by PCA"
   ]
  },
  {
   "cell_type": "code",
   "execution_count": 118,
   "metadata": {
    "collapsed": false
   },
   "outputs": [
    {
     "name": "stdout",
     "output_type": "stream",
     "text": [
      "[ 0.31852844  0.11970612  0.06508721  0.04791676  0.03677623  0.02229909\n",
      "  0.01862898  0.01830722  0.01646647  0.01492899]\n"
     ]
    },
    {
     "data": {
      "image/png": "[encoded data removed]",
      "text/plain": [
       "<matplotlib.figure.Figure at 0x7fcaa9937198>"
      ]
     },
     "metadata": {},
     "output_type": "display_data"
    }
   ],
   "source": [
    "cumulative_explained = np.cumsum(pca.explained_variance_ratio_) \n",
    "plt.figure(figsize=(10,7))\n",
    "plt.plot(cumulative_explained);\n",
    "#xlim([0,365])\n",
    "plt.grid()\n",
    "plt.title('PCA of fc1000 features (high frequency)', fontsize=18)\n",
    "\n",
    "print(pca.explained_variance_ratio_[:10])"
   ]
  },
  {
   "cell_type": "code",
   "execution_count": 119,
   "metadata": {
    "collapsed": true
   },
   "outputs": [],
   "source": [
    "pca = PCA(n_components=400) \n",
    "T = pca.fit_transform(M) "
   ]
  },
  {
   "cell_type": "code",
   "execution_count": 120,
   "metadata": {
    "collapsed": true
   },
   "outputs": [],
   "source": [
    "n_samples = len(df)\n",
    "X = normalize(T)\n",
    "y = np.array(labels)[high_class_idx]\n",
    "\n",
    "X_train, X_test, y_train, y_test = train_test_split(X, y, test_size=0.2, random_state=0)"
   ]
  },
  {
   "cell_type": "code",
   "execution_count": 121,
   "metadata": {
    "collapsed": false
   },
   "outputs": [
    {
     "data": {
      "text/plain": [
       "GridSearchCV(cv=5, error_score='raise',\n",
       "       estimator=SGDClassifier(alpha=0.0001, average=False, class_weight=None, epsilon=0.1,\n",
       "       eta0=0.0, fit_intercept=True, l1_ratio=0.15,\n",
       "       learning_rate='optimal', loss='hinge', n_iter=5, n_jobs=-1,\n",
       "       penalty='l2', power_t=0.5, random_state=0, shuffle=True, verbose=0,\n",
       "       warm_start=False),\n",
       "       fit_params={}, iid=True, n_jobs=1,\n",
       "       param_grid={'loss': ('hinge', 'log'), 'penalty': ('l1', 'l2')},\n",
       "       pre_dispatch='2*n_jobs', refit=True, return_train_score=True,\n",
       "       scoring=None, verbose=0)"
      ]
     },
     "execution_count": 121,
     "metadata": {},
     "output_type": "execute_result"
    }
   ],
   "source": [
    "#Logistic Classifier\n",
    "sgd = SGDClassifier(n_jobs=-1, random_state=0)\n",
    "parameters =  {'loss':('hinge','log'),\n",
    "              'penalty':('l1','l2')}\n",
    "        \n",
    "               \n",
    "classifier = GridSearchCV(sgd, parameters, cv=5)\n",
    "classifier.fit(X_train, y_train)"
   ]
  },
  {
   "cell_type": "code",
   "execution_count": 122,
   "metadata": {
    "collapsed": true
   },
   "outputs": [],
   "source": [
    "#Attempt to predict validation data\n",
    "predict_target = classifier.predict(X_test)"
   ]
  },
  {
   "cell_type": "markdown",
   "metadata": {},
   "source": [
    "#### Validation Score"
   ]
  },
  {
   "cell_type": "code",
   "execution_count": 123,
   "metadata": {
    "collapsed": false
   },
   "outputs": [
    {
     "data": {
      "text/plain": [
       "70.906830700645131"
      ]
     },
     "execution_count": 123,
     "metadata": {},
     "output_type": "execute_result"
    }
   ],
   "source": [
    "((np.sum([y_test == predict_target])*1.0)/(len(y_test)*1.0))*100"
   ]
  },
  {
   "cell_type": "markdown",
   "metadata": {},
   "source": [
    "#### Optimal Parameters"
   ]
  },
  {
   "cell_type": "code",
   "execution_count": 124,
   "metadata": {
    "collapsed": false
   },
   "outputs": [
    {
     "data": {
      "text/plain": [
       "{'loss': 'hinge', 'penalty': 'l2'}"
      ]
     },
     "execution_count": 124,
     "metadata": {},
     "output_type": "execute_result"
    }
   ],
   "source": [
    "classifier.best_params_"
   ]
  },
  {
   "cell_type": "markdown",
   "metadata": {
    "collapsed": true
   },
   "source": [
    "## Analyze Iterations at High Frequency and PCA"
   ]
  },
  {
   "cell_type": "code",
   "execution_count": 125,
   "metadata": {
    "collapsed": false
   },
   "outputs": [],
   "source": [
    "X = normalize(T)\n",
    "y = np.array(labels)[high_class_idx]\n",
    "\n",
    "X_train, X_test, y_train, y_test = train_test_split(X, y, test_size=0.2, random_state=0)"
   ]
  },
  {
   "cell_type": "code",
   "execution_count": 126,
   "metadata": {
    "collapsed": false
   },
   "outputs": [
    {
     "data": {
      "text/plain": [
       "GridSearchCV(cv=5, error_score='raise',\n",
       "       estimator=SGDClassifier(alpha=0.0001, average=False, class_weight=None, epsilon=0.1,\n",
       "       eta0=0.0, fit_intercept=True, l1_ratio=0.15,\n",
       "       learning_rate='optimal', loss='hinge', n_iter=5, n_jobs=-1,\n",
       "       penalty='l2', power_t=0.5, random_state=0, shuffle=True, verbose=0,\n",
       "       warm_start=False),\n",
       "       fit_params={}, iid=True, n_jobs=-1,\n",
       "       param_grid={'n_iter': range(1, 10), 'loss': ('hinge', 'log'), 'penalty': ('l1', 'l2', 'none')},\n",
       "       pre_dispatch='2*n_jobs', refit=True, return_train_score=True,\n",
       "       scoring=None, verbose=0)"
      ]
     },
     "execution_count": 126,
     "metadata": {},
     "output_type": "execute_result"
    }
   ],
   "source": [
    "#Logistic Classifier\n",
    "sgd = SGDClassifier(n_jobs=-1, random_state=0)\n",
    "parameters =  {'loss':('hinge','log'),\n",
    "              'penalty':('l1','l2','none'),\n",
    "              'n_iter':range(1,10)}\n",
    "        \n",
    "               \n",
    "classifier = GridSearchCV(sgd, parameters, cv=5, n_jobs=-1)\n",
    "classifier.fit(X_train, y_train)"
   ]
  },
  {
   "cell_type": "code",
   "execution_count": 127,
   "metadata": {
    "collapsed": true
   },
   "outputs": [],
   "source": [
    "#Attempt to predict validation data\n",
    "predict_target = classifier.predict(X_test)"
   ]
  },
  {
   "cell_type": "markdown",
   "metadata": {},
   "source": [
    "#### Validation Score"
   ]
  },
  {
   "cell_type": "code",
   "execution_count": 128,
   "metadata": {
    "collapsed": false
   },
   "outputs": [
    {
     "data": {
      "text/plain": [
       "71.635553078852041"
      ]
     },
     "execution_count": 128,
     "metadata": {},
     "output_type": "execute_result"
    }
   ],
   "source": [
    "((np.sum([y_test == predict_target])*1.0)/(len(y_test)*1.0))*100"
   ]
  },
  {
   "cell_type": "code",
   "execution_count": 129,
   "metadata": {
    "collapsed": false
   },
   "outputs": [
    {
     "data": {
      "image/png": "[encoded data removed]",
      "text/plain": [
       "<matplotlib.figure.Figure at 0x7fcaa992fbe0>"
      ]
     },
     "metadata": {},
     "output_type": "display_data"
    }
   ],
   "source": [
    "conf_arr = confusion_matrix(y_test, predict_target)\n",
    "log_conf_arr = np.log((conf_arr+1)*10000) #For better color choice\n",
    "norm_conf = []\n",
    "for i in log_conf_arr:\n",
    "    a = 0\n",
    "    tmp_arr = []\n",
    "    a = sum(i, 0)\n",
    "    for j in i:\n",
    "        tmp_arr.append(float(j)/float(a))\n",
    "    norm_conf.append(tmp_arr)\n",
    "    \n",
    "fig = plt.figure(figsize = (15,15))\n",
    "plt.clf()\n",
    "ax = fig.add_subplot(111)\n",
    "ax.set_aspect(1)\n",
    "res = ax.imshow(np.array(norm_conf), cmap=plt.cm.YlGn, \n",
    "                interpolation='nearest')\n",
    "\n",
    "width, height = conf_arr.shape\n",
    "\n",
    "for x in range(width):\n",
    "    for y in range(height):\n",
    "        ax.annotate(str(conf_arr[x][y]), xy=(y, x), \n",
    "                    horizontalalignment='center',\n",
    "                    verticalalignment='center')\n",
    "\n",
    "# cb = fig.colorbar(res)\n",
    "alphabet = np.unique(y_test)\n",
    "plt.xticks(range(width), alphabet[:width], rotation='vertical')\n",
    "plt.yticks(range(height), alphabet[:height])\n",
    "plt.xlabel('PREDICTED', fontsize=15)\n",
    "plt.ylabel('ACTUAL', fontsize=15)\n",
    "plt.title('Pre-Trained ResNet-50 on PCA+High_Freq+Double_Iter\\n(Confusion Matrix)\\n', fontsize=20);"
   ]
  },
  {
   "cell_type": "markdown",
   "metadata": {},
   "source": [
    "#### Optimal Parameters"
   ]
  },
  {
   "cell_type": "code",
   "execution_count": 130,
   "metadata": {
    "collapsed": false
   },
   "outputs": [
    {
     "data": {
      "text/plain": [
       "{'loss': 'hinge', 'n_iter': 8, 'penalty': 'none'}"
      ]
     },
     "execution_count": 130,
     "metadata": {},
     "output_type": "execute_result"
    }
   ],
   "source": [
    "classifier.best_params_"
   ]
  },
  {
   "cell_type": "markdown",
   "metadata": {
    "collapsed": true
   },
   "source": [
    "## Classification Report (With 2012)"
   ]
  },
  {
   "cell_type": "code",
   "execution_count": 133,
   "metadata": {
    "collapsed": true
   },
   "outputs": [],
   "source": [
    "from sklearn.metrics import classification_report"
   ]
  },
  {
   "cell_type": "code",
   "execution_count": 134,
   "metadata": {
    "collapsed": true
   },
   "outputs": [],
   "source": [
    "root = \"/home/ssnazrul/WIFIRE/ResNet50_Analysis/WIFIRE_Engineered/\"\n",
    "\n",
    "image_features = pd.read_csv(root+\"WIFIRE_fc1000_engineered_features.csv\",  delimiter=',', header=None)\n",
    "df = pd.read_csv(root+'WIFIRE_labels.csv')\n",
    "labels = df.Labels.values"
   ]
  },
  {
   "cell_type": "code",
   "execution_count": 135,
   "metadata": {
    "collapsed": false
   },
   "outputs": [
    {
     "name": "stdout",
     "output_type": "stream",
     "text": [
      "              precision    recall  f1-score   support\n",
      "\n",
      "Argriculture       0.00      0.00      0.00        53\n",
      "      Barren       0.02      0.00      0.00       775\n",
      "       FBFM1       0.50      0.43      0.46     21040\n",
      "       FBFM2       0.20      0.01      0.02     10441\n",
      "       FBFM4       0.05      0.03      0.03       459\n",
      "       FBFM5       0.54      0.68      0.60     20476\n",
      "       FBFM6       0.00      0.00      0.00         5\n",
      "       FBFM7       0.00      0.00      0.00         8\n",
      "       FBFM8       0.11      0.01      0.01      2744\n",
      "       FBFM9       0.20      0.02      0.03      2130\n",
      "       Urban       0.60      0.88      0.71     28161\n",
      "       Water       0.60      0.88      0.72      1139\n",
      "\n",
      " avg / total       0.48      0.56      0.49     87431\n",
      "\n"
     ]
    },
    {
     "name": "stderr",
     "output_type": "stream",
     "text": [
      "/opt/anaconda3/lib/python3.5/site-packages/sklearn/metrics/classification.py:1113: UndefinedMetricWarning: Precision and F-score are ill-defined and being set to 0.0 in labels with no predicted samples.\n",
      "  'precision', 'predicted', average, warn_for)\n"
     ]
    }
   ],
   "source": [
    "X = normalize(image_features.values)\n",
    "y = df.Labels\n",
    "\n",
    "X_train, X_test, y_train, y_test = train_test_split(X, y, test_size=0.2, random_state=0)\n",
    "\n",
    "#Logistic Classifier\n",
    "sgd = SGDClassifier(n_jobs=-1, random_state=0)\n",
    "parameters =  {'loss':('hinge',)}\n",
    "        \n",
    "               \n",
    "classifier = GridSearchCV(sgd, parameters, cv=5)\n",
    "classifier.fit(X_train, y_train)\n",
    "\n",
    "#Attempt to predict validation data\n",
    "predict_target = classifier.predict(X_test)\n",
    "\n",
    "print(classification_report(y_test, predict_target))"
   ]
  },
  {
   "cell_type": "code",
   "execution_count": 136,
   "metadata": {
    "collapsed": false
   },
   "outputs": [
    {
     "data": {
      "text/plain": [
       "11.941988539534032"
      ]
     },
     "execution_count": 136,
     "metadata": {},
     "output_type": "execute_result"
    }
   ],
   "source": [
    "10441/87431*100"
   ]
  },
  {
   "cell_type": "markdown",
   "metadata": {},
   "source": [
    "## Classification Report (Without 2012)"
   ]
  },
  {
   "cell_type": "code",
   "execution_count": 138,
   "metadata": {
    "collapsed": true
   },
   "outputs": [],
   "source": [
    "df['Year'] = df.Path.apply(lambda x: x.split('/')[-1].split('_')[3])\n",
    "idx = df[df.Year != '2012'].index"
   ]
  },
  {
   "cell_type": "code",
   "execution_count": 139,
   "metadata": {
    "collapsed": false
   },
   "outputs": [
    {
     "data": {
      "text/plain": [
       "array(['2010', '2012', '2014'], dtype=object)"
      ]
     },
     "execution_count": 139,
     "metadata": {},
     "output_type": "execute_result"
    }
   ],
   "source": [
    "df.Year.unique()"
   ]
  },
  {
   "cell_type": "code",
   "execution_count": 141,
   "metadata": {
    "collapsed": false
   },
   "outputs": [
    {
     "name": "stdout",
     "output_type": "stream",
     "text": [
      "              precision    recall  f1-score   support\n",
      "\n",
      "Argriculture       0.00      0.00      0.00        27\n",
      "      Barren       0.04      0.00      0.00       508\n",
      "       FBFM1       0.53      0.46      0.49     14435\n",
      "       FBFM2       0.23      0.02      0.04      6927\n",
      "       FBFM4       0.06      0.02      0.03       438\n",
      "       FBFM5       0.53      0.67      0.59     13116\n",
      "       FBFM6       0.00      0.00      0.00         1\n",
      "       FBFM7       0.00      0.00      0.00         7\n",
      "       FBFM8       0.13      0.08      0.10      1846\n",
      "       FBFM9       0.40      0.02      0.03      1369\n",
      "       Urban       0.63      0.86      0.73     19119\n",
      "       Water       0.60      0.91      0.73       796\n",
      "\n",
      " avg / total       0.50      0.56      0.51     58589\n",
      "\n"
     ]
    },
    {
     "name": "stderr",
     "output_type": "stream",
     "text": [
      "/opt/anaconda3/lib/python3.5/site-packages/sklearn/metrics/classification.py:1113: UndefinedMetricWarning: Precision and F-score are ill-defined and being set to 0.0 in labels with no predicted samples.\n",
      "  'precision', 'predicted', average, warn_for)\n"
     ]
    }
   ],
   "source": [
    "X = normalize(image_features.values)[idx]\n",
    "y = df.Labels.values[idx]\n",
    "\n",
    "X_train, X_test, y_train, y_test = train_test_split(X, y, test_size=0.2, random_state=0)\n",
    "\n",
    "#Logistic Classifier\n",
    "sgd = SGDClassifier(n_jobs=-1, random_state=0)\n",
    "parameters =  {'loss':('hinge',)}\n",
    "        \n",
    "               \n",
    "classifier = GridSearchCV(sgd, parameters, cv=5)\n",
    "classifier.fit(X_train, y_train)\n",
    "\n",
    "#Attempt to predict validation data\n",
    "predict_target = classifier.predict(X_test)\n",
    "\n",
    "print(classification_report(y_test, predict_target))"
   ]
  },
  {
   "cell_type": "code",
   "execution_count": null,
   "metadata": {
    "collapsed": true
   },
   "outputs": [],
   "source": []
  }
 ],
 "metadata": {
  "kernelspec": {
   "display_name": "Python 3 conda",
   "language": "python",
   "name": "conda"
  },
  "language_info": {
   "codemirror_mode": {
    "name": "ipython",
    "version": 3
   },
   "file_extension": ".py",
   "mimetype": "text/x-python",
   "name": "python",
   "nbconvert_exporter": "python",
   "pygments_lexer": "ipython3",
   "version": "3.5.2"
  }
 },
 "nbformat": 4,
 "nbformat_minor": 2
}
