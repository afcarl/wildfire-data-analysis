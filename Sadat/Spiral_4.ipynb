{
 "cells": [
  {
   "cell_type": "code",
   "execution_count": 47,
   "metadata": {
    "collapsed": false
   },
   "outputs": [
    {
     "data": {
      "text/html": [
       "<script>\n",
       "code_show=true; \n",
       "function code_toggle() {\n",
       " if (code_show){\n",
       " $('div.input').hide();\n",
       " } else {\n",
       " $('div.input').show();\n",
       " }\n",
       " code_show = !code_show\n",
       "} \n",
       "$( document ).ready(code_toggle);\n",
       "</script>\n",
       "<form action=\"javascript:code_toggle()\"><input type=\"submit\" value=\"Click here to toggle on/off the raw code.\"></form>"
      ],
      "text/plain": [
       "<IPython.core.display.HTML object>"
      ]
     },
     "execution_count": 47,
     "metadata": {},
     "output_type": "execute_result"
    }
   ],
   "source": [
    "from IPython.display import HTML\n",
    "\n",
    "HTML('''<script>\n",
    "code_show=true; \n",
    "function code_toggle() {\n",
    " if (code_show){\n",
    " $('div.input').hide();\n",
    " } else {\n",
    " $('div.input').show();\n",
    " }\n",
    " code_show = !code_show\n",
    "} \n",
    "$( document ).ready(code_toggle);\n",
    "</script>\n",
    "<form action=\"javascript:code_toggle()\"><input type=\"submit\" value=\"Click here to toggle on/off the raw code.\"></form>''')"
   ]
  },
  {
   "cell_type": "markdown",
   "metadata": {},
   "source": [
    "# Contents"
   ]
  },
  {
   "cell_type": "markdown",
   "metadata": {},
   "source": [
    "* [Executive Summary](#Executive-Summary)\n",
    "* [Base Model (Without SAE)](#Base-Model)\n",
    "* [High Frequency (Without SAE)](#High-Frequency)"
   ]
  },
  {
   "cell_type": "markdown",
   "metadata": {},
   "source": [
    "# Executive Summary"
   ]
  },
  {
   "cell_type": "markdown",
   "metadata": {},
   "source": [
    "The original Spiral 3 architecutre parameters were picked as:\n",
    "- **epoch = 8** (Any higher value leads to overfitting)\n",
    "- **batch_size = 1000** (This gives the highest accuracy for computation speed) \n",
    "\n",
    "Spiral 3 used 1 layer to replicate a linear model. On Spiral 4, additional layers are addded to increase model complexity. This is based on the Learning curve calculated in Spiral 1, indicating that increasing model complexity will improve our initial Spiral 1 model of high bias.\n",
    "\n",
    "The test score of each model is given below using 5 fold CV:\n",
    "\n",
    "| Additonal Layers | Base | High Frequency |\n",
    "|------|------|------|\n",
    "|   0  | 59.31% | 73.65% |\n",
    "|   1  | 59.99% | 73.62% |\n",
    "|   <font color='red'>2</font>  | <font color='red'>60.24%</font> | <font color='red'>73.83%</font> |\n",
    "| <font color='red'>10</font> | <font color='red'>59.76%</font> | <font color='red'>73.60%</font> |\n",
    "\n",
    "<font color='red'>**OVERFIT</font>\n",
    "\n",
    "Overfitting starts occuring when we have 2 additonal layers. Even having 1 additional layer did not improve our model significantly. \n",
    "\n",
    "Hence, sticking to just 1 layer is the optimal in terms of memory and classification."
   ]
  },
  {
   "cell_type": "markdown",
   "metadata": {},
   "source": [
    "# Without SAE"
   ]
  },
  {
   "cell_type": "code",
   "execution_count": 1,
   "metadata": {
    "collapsed": false
   },
   "outputs": [
    {
     "name": "stderr",
     "output_type": "stream",
     "text": [
      "Using TensorFlow backend.\n"
     ]
    },
    {
     "name": "stdout",
     "output_type": "stream",
     "text": [
      "Couldn't import dot_parser, loading of dot files will not be possible.\n"
     ]
    }
   ],
   "source": [
    "import sys, os, random\n",
    "import matplotlib.pyplot as plt\n",
    "import pandas as pd\n",
    "import numpy as np\n",
    "import keras.backend.tensorflow_backend as K\n",
    "from keras.models import Sequential\n",
    "from keras.layers import Dense\n",
    "from keras.wrappers.scikit_learn import KerasClassifier\n",
    "from keras.utils import np_utils\n",
    "from sklearn.metrics import confusion_matrix\n",
    "from sklearn.model_selection import cross_val_score, GridSearchCV, train_test_split, KFold\n",
    "from sklearn.preprocessing import LabelEncoder\n",
    "from sklearn.pipeline import Pipeline\n",
    "from sklearn.preprocessing import normalize\n",
    "%matplotlib inline"
   ]
  },
  {
   "cell_type": "markdown",
   "metadata": {},
   "source": [
    "## Prepare fc1000 engineered images"
   ]
  },
  {
   "cell_type": "code",
   "execution_count": 2,
   "metadata": {
    "collapsed": true
   },
   "outputs": [],
   "source": [
    "root = \"~/WIFIRE/ResNet50_Analysis/WIFIRE_Engineered/\"\n",
    "\n",
    "image_features = pd.read_csv(root+\"WIFIRE_fc1000_engineered_features.csv\",  delimiter=',', header=None)\n",
    "df = pd.read_csv(root+'WIFIRE_labels.csv')\n",
    "labels = df.Labels.values"
   ]
  },
  {
   "cell_type": "code",
   "execution_count": 3,
   "metadata": {
    "collapsed": false
   },
   "outputs": [],
   "source": [
    "image_features = normalize(image_features.values) #convert df to np array"
   ]
  },
  {
   "cell_type": "code",
   "execution_count": 4,
   "metadata": {
    "collapsed": false
   },
   "outputs": [
    {
     "data": {
      "text/plain": [
       "(437153, 1000)"
      ]
     },
     "execution_count": 4,
     "metadata": {},
     "output_type": "execute_result"
    }
   ],
   "source": [
    "np.shape(image_features)"
   ]
  },
  {
   "cell_type": "markdown",
   "metadata": {},
   "source": [
    "## Configurations"
   ]
  },
  {
   "cell_type": "code",
   "execution_count": 78,
   "metadata": {
    "collapsed": true
   },
   "outputs": [],
   "source": [
    "additional_layers = 10"
   ]
  },
  {
   "cell_type": "markdown",
   "metadata": {},
   "source": [
    "## Base Model (Without SAE)"
   ]
  },
  {
   "cell_type": "markdown",
   "metadata": {},
   "source": [
    "Prepare image features and labels for modelling"
   ]
  },
  {
   "cell_type": "code",
   "execution_count": 79,
   "metadata": {
    "collapsed": false
   },
   "outputs": [],
   "source": [
    "X = image_features\n",
    "Y = labels"
   ]
  },
  {
   "cell_type": "code",
   "execution_count": 80,
   "metadata": {
    "collapsed": true
   },
   "outputs": [],
   "source": [
    "#Encode class values as integers\n",
    "encoder = LabelEncoder()\n",
    "encoder.fit(Y)\n",
    "encoded_Y = encoder.transform(Y)\n",
    "#Convert integers to dummy variables (i.e. one hot encoded)\n",
    "dummy_y = np_utils.to_categorical(encoded_Y)"
   ]
  },
  {
   "cell_type": "code",
   "execution_count": 81,
   "metadata": {
    "collapsed": true
   },
   "outputs": [],
   "source": [
    "X_train, X_test, y_train, y_test = train_test_split(X, dummy_y, test_size=0.2, random_state=0)"
   ]
  },
  {
   "cell_type": "markdown",
   "metadata": {},
   "source": [
    "The following function creates and compiles the NN architecture on the GPU"
   ]
  },
  {
   "cell_type": "code",
   "execution_count": 82,
   "metadata": {
    "collapsed": false
   },
   "outputs": [],
   "source": [
    "def baseline_model(device = 1):\n",
    "    #Shut down tensorflow after use\n",
    "    with K.tf.device('/gpu:'+str(device)):\n",
    "        #Create model\n",
    "        model = Sequential()\n",
    "        model.add(Dense(np.shape(X)[1], input_dim=np.shape(X)[1], \n",
    "                        kernel_initializer='normal', activation='relu'))\n",
    "        for i in range(additional_layers):\n",
    "            model.add(Dense(np.shape(X)[1], input_dim=np.shape(X)[1],\n",
    "                       kernel_initializer='normal', activation='relu'))\n",
    "        model.add(Dense(len(np.unique(Y)), \n",
    "                        kernel_initializer='normal', activation='sigmoid'))\n",
    "        \n",
    "        #Compile model\n",
    "        model.compile(loss='categorical_crossentropy', optimizer='adam', \n",
    "                      metrics=['accuracy'])\n",
    "        return model"
   ]
  },
  {
   "cell_type": "markdown",
   "metadata": {},
   "source": [
    "KerasClassifier is an sklearn wrapper for our baseline_model"
   ]
  },
  {
   "cell_type": "code",
   "execution_count": 83,
   "metadata": {
    "collapsed": false,
    "scrolled": false
   },
   "outputs": [
    {
     "name": "stdout",
     "output_type": "stream",
     "text": [
      "Epoch 1/8\n",
      "14s - loss: 1.3507 - acc: 0.4640\n",
      "Epoch 2/8\n",
      "13s - loss: 1.1620 - acc: 0.5831\n",
      "Epoch 3/8\n",
      "13s - loss: 1.1340 - acc: 0.5909\n",
      "Epoch 4/8\n",
      "13s - loss: 1.1183 - acc: 0.5948\n",
      "Epoch 5/8\n",
      "13s - loss: 1.1040 - acc: 0.6000\n",
      "Epoch 6/8\n",
      "13s - loss: 1.0880 - acc: 0.6038\n",
      "Epoch 7/8\n",
      "13s - loss: 1.0760 - acc: 0.6072\n",
      "Epoch 8/8\n",
      "13s - loss: 1.0642 - acc: 0.6101\n",
      "Epoch 1/8\n",
      "14s - loss: 1.3907 - acc: 0.4106\n",
      "Epoch 2/8\n",
      "13s - loss: 1.1701 - acc: 0.5780\n",
      "Epoch 3/8\n",
      "13s - loss: 1.1402 - acc: 0.5885\n",
      "Epoch 4/8\n",
      "13s - loss: 1.1210 - acc: 0.5934\n",
      "Epoch 5/8\n",
      "13s - loss: 1.1058 - acc: 0.5991\n",
      "Epoch 6/8\n",
      "13s - loss: 1.0934 - acc: 0.6016\n",
      "Epoch 7/8\n",
      "13s - loss: 1.0773 - acc: 0.6061\n",
      "Epoch 8/8\n",
      "13s - loss: 1.0642 - acc: 0.6100\n",
      "Epoch 1/8\n",
      "14s - loss: 1.3665 - acc: 0.4515\n",
      "Epoch 2/8\n",
      "13s - loss: 1.1665 - acc: 0.5810\n",
      "Epoch 3/8\n",
      "13s - loss: 1.1378 - acc: 0.5896\n",
      "Epoch 4/8\n",
      "13s - loss: 1.1178 - acc: 0.5961\n",
      "Epoch 5/8\n",
      "13s - loss: 1.1064 - acc: 0.5987\n",
      "Epoch 6/8\n",
      "13s - loss: 1.0928 - acc: 0.6033\n",
      "Epoch 7/8\n",
      "13s - loss: 1.0780 - acc: 0.6073\n",
      "Epoch 8/8\n",
      "13s - loss: 1.0667 - acc: 0.6104\n",
      "Epoch 1/8\n",
      "14s - loss: 1.3526 - acc: 0.4562\n",
      "Epoch 2/8\n",
      "13s - loss: 1.1607 - acc: 0.5817\n",
      "Epoch 3/8\n",
      "13s - loss: 1.1334 - acc: 0.5905\n",
      "Epoch 4/8\n",
      "13s - loss: 1.1147 - acc: 0.5964\n",
      "Epoch 5/8\n",
      "13s - loss: 1.1014 - acc: 0.6007\n",
      "Epoch 6/8\n",
      "13s - loss: 1.0904 - acc: 0.6032\n",
      "Epoch 7/8\n",
      "13s - loss: 1.0755 - acc: 0.6076\n",
      "Epoch 8/8\n",
      "13s - loss: 1.0598 - acc: 0.6136\n",
      "Epoch 1/8\n",
      "14s - loss: 1.3703 - acc: 0.4369\n",
      "Epoch 2/8\n",
      "13s - loss: 1.1661 - acc: 0.5809\n",
      "Epoch 3/8\n",
      "13s - loss: 1.1353 - acc: 0.5899\n",
      "Epoch 4/8\n",
      "13s - loss: 1.1197 - acc: 0.5955\n",
      "Epoch 5/8\n",
      "13s - loss: 1.1052 - acc: 0.5997\n",
      "Epoch 6/8\n",
      "13s - loss: 1.0902 - acc: 0.6035\n",
      "Epoch 7/8\n",
      "13s - loss: 1.0790 - acc: 0.6070\n",
      "Epoch 8/8\n",
      "13s - loss: 1.0638 - acc: 0.6118\n",
      "Epoch 1/8\n",
      "18s - loss: 1.3310 - acc: 0.4669\n",
      "Epoch 2/8\n",
      "16s - loss: 1.1583 - acc: 0.5833\n",
      "Epoch 3/8\n",
      "16s - loss: 1.1318 - acc: 0.5911\n",
      "Epoch 4/8\n",
      "16s - loss: 1.1144 - acc: 0.5966\n",
      "Epoch 5/8\n",
      "16s - loss: 1.0996 - acc: 0.6009\n",
      "Epoch 6/8\n",
      "16s - loss: 1.0860 - acc: 0.6047\n",
      "Epoch 7/8\n",
      "16s - loss: 1.0742 - acc: 0.6084\n",
      "Epoch 8/8\n",
      "16s - loss: 1.0600 - acc: 0.6130\n"
     ]
    },
    {
     "data": {
      "text/plain": [
       "GridSearchCV(cv=5, error_score='raise',\n",
       "       estimator=<keras.wrappers.scikit_learn.KerasClassifier object at 0x7fdc724195c0>,\n",
       "       fit_params={}, iid=True, n_jobs=1, param_grid={'epochs': (8,)},\n",
       "       pre_dispatch='2*n_jobs', refit=True, return_train_score=True,\n",
       "       scoring=None, verbose=0)"
      ]
     },
     "execution_count": 83,
     "metadata": {},
     "output_type": "execute_result"
    }
   ],
   "source": [
    "kc = KerasClassifier(build_fn=baseline_model, \n",
    "                            epochs=1, batch_size=1000, verbose=2)\n",
    "\n",
    "parameters =  {'epochs':(8,)}\n",
    "        \n",
    "               \n",
    "classifier = GridSearchCV(kc, parameters, cv=5)\n",
    "classifier.fit(X_train, y_train)"
   ]
  },
  {
   "cell_type": "code",
   "execution_count": 84,
   "metadata": {
    "collapsed": true
   },
   "outputs": [],
   "source": [
    "#Attempt to predict validation data\n",
    "predict_target = classifier.predict(X_test)"
   ]
  },
  {
   "cell_type": "code",
   "execution_count": 85,
   "metadata": {
    "collapsed": false
   },
   "outputs": [],
   "source": [
    "conf_arr = confusion_matrix(np.argmax(y_test, axis=1), predict_target)\n",
    "log_conf_arr = np.log((conf_arr+1)*10000) #For better color choice\n",
    "norm_conf = []\n",
    "for i in log_conf_arr:\n",
    "    a = 0\n",
    "    tmp_arr = []\n",
    "    a = sum(i, 0)\n",
    "    for j in i:\n",
    "        tmp_arr.append(float(j)/float(a))\n",
    "    norm_conf.append(tmp_arr)"
   ]
  },
  {
   "cell_type": "code",
   "execution_count": 86,
   "metadata": {
    "collapsed": false
   },
   "outputs": [
    {
     "data": {
      "image/png": "[encoded data removed]",
      "text/plain": [
       "<matplotlib.figure.Figure at 0x7fdc6f4cc470>"
      ]
     },
     "metadata": {},
     "output_type": "display_data"
    }
   ],
   "source": [
    "fig = plt.figure(figsize = (15,15))\n",
    "plt.clf()\n",
    "ax = fig.add_subplot(111)\n",
    "ax.set_aspect(1)\n",
    "res = ax.imshow(np.array(norm_conf), cmap=plt.cm.YlGn, \n",
    "                interpolation='nearest')\n",
    "\n",
    "width, height = conf_arr.shape\n",
    "\n",
    "for x in range(width):\n",
    "    for y in range(height):\n",
    "        ax.annotate(str(conf_arr[x][y]), xy=(y, x), \n",
    "                    horizontalalignment='center',\n",
    "                    verticalalignment='center')\n",
    "\n",
    "# cb = fig.colorbar(res)\n",
    "alphabet = np.unique(Y)\n",
    "plt.xticks(range(width), alphabet[:width], rotation='vertical')\n",
    "plt.yticks(range(height), alphabet[:height])\n",
    "plt.xlabel('PREDICTED', fontsize=15)\n",
    "plt.ylabel('ACTUAL', fontsize=15)\n",
    "plt.title('Pre-Trained ResNet-50 on WIFIRE\\n(Confusion Matrix)\\n', fontsize=20);"
   ]
  },
  {
   "cell_type": "code",
   "execution_count": 87,
   "metadata": {
    "collapsed": false
   },
   "outputs": [
    {
     "data": {
      "text/plain": [
       "59.763699374363789"
      ]
     },
     "execution_count": 87,
     "metadata": {},
     "output_type": "execute_result"
    }
   ],
   "source": [
    "((np.sum([np.argmax(y_test, axis=1) == predict_target])*1.0)/(len(y_test)*1.0))*100"
   ]
  },
  {
   "cell_type": "markdown",
   "metadata": {},
   "source": [
    "## High Frequency (Without SAE)"
   ]
  },
  {
   "cell_type": "markdown",
   "metadata": {},
   "source": [
    "Prepare image features and labels for modelling"
   ]
  },
  {
   "cell_type": "code",
   "execution_count": 88,
   "metadata": {
    "collapsed": true
   },
   "outputs": [],
   "source": [
    "high_dist_class_list = ['FBFM1','FBFM5','Urban']\n",
    "df_high_class = df[df.Labels.isin(high_dist_class_list)]\n",
    "high_class_idx = np.array(df_high_class.index)"
   ]
  },
  {
   "cell_type": "code",
   "execution_count": 89,
   "metadata": {
    "collapsed": true
   },
   "outputs": [],
   "source": [
    "X = image_features[high_class_idx]\n",
    "Y = labels[high_class_idx]"
   ]
  },
  {
   "cell_type": "code",
   "execution_count": 90,
   "metadata": {
    "collapsed": true
   },
   "outputs": [],
   "source": [
    "#Encode class values as integers\n",
    "encoder = LabelEncoder()\n",
    "encoder.fit(Y)\n",
    "encoded_Y = encoder.transform(Y)\n",
    "#Convert integers to dummy variables (i.e. one hot encoded)\n",
    "dummy_y = np_utils.to_categorical(encoded_Y)"
   ]
  },
  {
   "cell_type": "code",
   "execution_count": 91,
   "metadata": {
    "collapsed": true
   },
   "outputs": [],
   "source": [
    "X_train, X_test, y_train, y_test = train_test_split(X, dummy_y, test_size=0.2, random_state=0)"
   ]
  },
  {
   "cell_type": "markdown",
   "metadata": {},
   "source": [
    "The following function creates and compiles the NN architecture on the GPU"
   ]
  },
  {
   "cell_type": "code",
   "execution_count": 92,
   "metadata": {
    "collapsed": false
   },
   "outputs": [],
   "source": [
    "def baseline_model(device = 1):\n",
    "    #Shut down tensorflow after use\n",
    "    with K.tf.device('/gpu:'+str(device)):\n",
    "        #Create model\n",
    "        model = Sequential()\n",
    "        model.add(Dense(np.shape(X)[1], input_dim=np.shape(X)[1], \n",
    "                        kernel_initializer='normal', activation='relu'))\n",
    "        for i in range(additional_layers):\n",
    "            model.add(Dense(np.shape(X)[1], input_dim=np.shape(X)[1],\n",
    "                       kernel_initializer='normal',activation='relu'))\n",
    "        model.add(Dense(len(np.unique(Y)), \n",
    "                        kernel_initializer='normal', activation='sigmoid'))\n",
    "        \n",
    "        #Compile model\n",
    "        model.compile(loss='categorical_crossentropy', optimizer='adam', \n",
    "                      metrics=['accuracy'])\n",
    "        return model"
   ]
  },
  {
   "cell_type": "markdown",
   "metadata": {},
   "source": [
    "KerasClassifier is an sklearn wrapper for our baseline_model"
   ]
  },
  {
   "cell_type": "code",
   "execution_count": 93,
   "metadata": {
    "collapsed": false
   },
   "outputs": [
    {
     "name": "stdout",
     "output_type": "stream",
     "text": [
      "Epoch 1/8\n",
      "12s - loss: 0.7124 - acc: 0.6935\n",
      "Epoch 2/8\n",
      "10s - loss: 0.6605 - acc: 0.7232\n",
      "Epoch 3/8\n",
      "10s - loss: 0.6416 - acc: 0.7313\n",
      "Epoch 4/8\n",
      "10s - loss: 0.6349 - acc: 0.7341\n",
      "Epoch 5/8\n",
      "10s - loss: 0.6236 - acc: 0.7389\n",
      "Epoch 6/8\n",
      "10s - loss: 0.6130 - acc: 0.7433\n",
      "Epoch 7/8\n",
      "10s - loss: 0.6028 - acc: 0.7481\n",
      "Epoch 8/8\n",
      "10s - loss: 0.5918 - acc: 0.7531\n",
      "Epoch 1/8\n",
      "12s - loss: 0.7195 - acc: 0.6858\n",
      "Epoch 2/8\n",
      "10s - loss: 0.6605 - acc: 0.7221\n",
      "Epoch 3/8\n",
      "10s - loss: 0.6441 - acc: 0.7292\n",
      "Epoch 4/8\n",
      "10s - loss: 0.6332 - acc: 0.7347\n",
      "Epoch 5/8\n",
      "10s - loss: 0.6238 - acc: 0.7389\n",
      "Epoch 6/8\n",
      "10s - loss: 0.6146 - acc: 0.7432\n",
      "Epoch 7/8\n",
      "10s - loss: 0.6033 - acc: 0.7475\n",
      "Epoch 8/8\n",
      "10s - loss: 0.5930 - acc: 0.7515\n",
      "Epoch 1/8\n",
      "12s - loss: 0.7178 - acc: 0.6869\n",
      "Epoch 2/8\n",
      "10s - loss: 0.6578 - acc: 0.7232\n",
      "Epoch 3/8\n",
      "10s - loss: 0.6419 - acc: 0.7302\n",
      "Epoch 4/8\n",
      "10s - loss: 0.6338 - acc: 0.7346\n",
      "Epoch 5/8\n",
      "10s - loss: 0.6220 - acc: 0.7393\n",
      "Epoch 6/8\n",
      "10s - loss: 0.6121 - acc: 0.7435\n",
      "Epoch 7/8\n",
      "10s - loss: 0.6023 - acc: 0.7489\n",
      "Epoch 8/8\n",
      "10s - loss: 0.5922 - acc: 0.7530\n",
      "Epoch 1/8\n",
      "12s - loss: 0.7402 - acc: 0.6613\n",
      "Epoch 2/8\n",
      "10s - loss: 0.6610 - acc: 0.7219\n",
      "Epoch 3/8\n",
      "10s - loss: 0.6454 - acc: 0.7286\n",
      "Epoch 4/8\n",
      "10s - loss: 0.6365 - acc: 0.7333\n",
      "Epoch 5/8\n",
      "10s - loss: 0.6238 - acc: 0.7382\n",
      "Epoch 6/8\n",
      "10s - loss: 0.6134 - acc: 0.7424\n",
      "Epoch 7/8\n",
      "10s - loss: 0.6041 - acc: 0.7469\n",
      "Epoch 8/8\n",
      "10s - loss: 0.5950 - acc: 0.7512\n",
      "Epoch 1/8\n",
      "12s - loss: 0.7253 - acc: 0.6860\n",
      "Epoch 2/8\n",
      "10s - loss: 0.6602 - acc: 0.7235\n",
      "Epoch 3/8\n",
      "10s - loss: 0.6464 - acc: 0.7283\n",
      "Epoch 4/8\n",
      "10s - loss: 0.6341 - acc: 0.7339\n",
      "Epoch 5/8\n",
      "10s - loss: 0.6223 - acc: 0.7391\n",
      "Epoch 6/8\n",
      "10s - loss: 0.6132 - acc: 0.7432\n",
      "Epoch 7/8\n",
      "10s - loss: 0.6038 - acc: 0.7469\n",
      "Epoch 8/8\n",
      "10s - loss: 0.5945 - acc: 0.7518\n",
      "Epoch 1/8\n",
      "15s - loss: 0.7074 - acc: 0.6943\n",
      "Epoch 2/8\n",
      "13s - loss: 0.6547 - acc: 0.7249\n",
      "Epoch 3/8\n",
      "13s - loss: 0.6376 - acc: 0.7325\n",
      "Epoch 4/8\n",
      "13s - loss: 0.6274 - acc: 0.7360\n",
      "Epoch 5/8\n",
      "13s - loss: 0.6200 - acc: 0.7400\n",
      "Epoch 6/8\n",
      "13s - loss: 0.6091 - acc: 0.7444\n",
      "Epoch 7/8\n",
      "13s - loss: 0.6009 - acc: 0.7484\n",
      "Epoch 8/8\n",
      "13s - loss: 0.5891 - acc: 0.7540\n"
     ]
    },
    {
     "data": {
      "text/plain": [
       "GridSearchCV(cv=5, error_score='raise',\n",
       "       estimator=<keras.wrappers.scikit_learn.KerasClassifier object at 0x7fdc6f4d7198>,\n",
       "       fit_params={}, iid=True, n_jobs=1, param_grid={'epochs': (8,)},\n",
       "       pre_dispatch='2*n_jobs', refit=True, return_train_score=True,\n",
       "       scoring=None, verbose=0)"
      ]
     },
     "execution_count": 93,
     "metadata": {},
     "output_type": "execute_result"
    }
   ],
   "source": [
    "kc = KerasClassifier(build_fn=baseline_model, \n",
    "                            epochs=1, batch_size=1000, verbose=2)\n",
    "\n",
    "parameters =  {'epochs':(8,)}\n",
    "        \n",
    "               \n",
    "classifier = GridSearchCV(kc, parameters, cv=5)\n",
    "classifier.fit(X_train, y_train)"
   ]
  },
  {
   "cell_type": "code",
   "execution_count": 94,
   "metadata": {
    "collapsed": true
   },
   "outputs": [],
   "source": [
    "#Attempt to predict validation data\n",
    "predict_target = classifier.predict(X_test)"
   ]
  },
  {
   "cell_type": "code",
   "execution_count": 95,
   "metadata": {
    "collapsed": true
   },
   "outputs": [],
   "source": [
    "conf_arr = confusion_matrix(np.argmax(y_test, axis=1), predict_target)\n",
    "log_conf_arr = np.log((conf_arr+1)*10000) #For better color choice\n",
    "norm_conf = []\n",
    "for i in log_conf_arr:\n",
    "    a = 0\n",
    "    tmp_arr = []\n",
    "    a = sum(i, 0)\n",
    "    for j in i:\n",
    "        tmp_arr.append(float(j)/float(a))\n",
    "    norm_conf.append(tmp_arr)"
   ]
  },
  {
   "cell_type": "code",
   "execution_count": 96,
   "metadata": {
    "collapsed": false
   },
   "outputs": [
    {
     "data": {
      "image/png": "[encoded data removed]",
      "text/plain": [
       "<matplotlib.figure.Figure at 0x7fdc6e9133c8>"
      ]
     },
     "metadata": {},
     "output_type": "display_data"
    }
   ],
   "source": [
    "fig = plt.figure(figsize = (15,15))\n",
    "plt.clf()\n",
    "ax = fig.add_subplot(111)\n",
    "ax.set_aspect(1)\n",
    "res = ax.imshow(np.array(norm_conf), cmap=plt.cm.YlGn, \n",
    "                interpolation='nearest')\n",
    "\n",
    "width, height = conf_arr.shape\n",
    "\n",
    "for x in range(width):\n",
    "    for y in range(height):\n",
    "        ax.annotate(str(conf_arr[x][y]), xy=(y, x), \n",
    "                    horizontalalignment='center',\n",
    "                    verticalalignment='center')\n",
    "\n",
    "# cb = fig.colorbar(res)\n",
    "alphabet = np.unique(Y)\n",
    "plt.xticks(range(width), alphabet[:width], rotation='vertical')\n",
    "plt.yticks(range(height), alphabet[:height])\n",
    "plt.xlabel('PREDICTED', fontsize=15)\n",
    "plt.ylabel('ACTUAL', fontsize=15)\n",
    "plt.title('Pre-Trained ResNet-50 on WIFIRE\\n(Confusion Matrix)\\n', fontsize=20);"
   ]
  },
  {
   "cell_type": "code",
   "execution_count": 97,
   "metadata": {
    "collapsed": false
   },
   "outputs": [
    {
     "data": {
      "text/plain": [
       "73.600011498878857"
      ]
     },
     "execution_count": 97,
     "metadata": {},
     "output_type": "execute_result"
    }
   ],
   "source": [
    "((np.sum([np.argmax(y_test, axis=1) == predict_target])*1.0)/(len(y_test)*1.0))*100"
   ]
  },
  {
   "cell_type": "code",
   "execution_count": null,
   "metadata": {
    "collapsed": true
   },
   "outputs": [],
   "source": []
  }
 ],
 "metadata": {
  "kernelspec": {
   "display_name": "Python 3 conda",
   "language": "python",
   "name": "conda"
  },
  "language_info": {
   "codemirror_mode": {
    "name": "ipython",
    "version": 3
   },
   "file_extension": ".py",
   "mimetype": "text/x-python",
   "name": "python",
   "nbconvert_exporter": "python",
   "pygments_lexer": "ipython3",
   "version": "3.5.2"
  }
 },
 "nbformat": 4,
 "nbformat_minor": 2
}
