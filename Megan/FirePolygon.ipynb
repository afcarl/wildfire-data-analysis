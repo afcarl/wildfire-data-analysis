{
 "cells": [
  {
   "cell_type": "markdown",
   "metadata": {},
   "source": [
    "## 2014 Fire Polygon\n",
    "\n",
    "In this notebook we will find those pixels that lie within the Fire Polygon from 2014.  There was a fire in 2014 and Jessica provided a file of  the resulting fire polygon.  Advisors believe that the high frequency of short grass is due to  the effects of this fire.  We want to  find all those Tiles that reside within the Fire Polygon to test this theory."
   ]
  },
  {
   "cell_type": "code",
   "execution_count": 1,
   "metadata": {
    "collapsed": true
   },
   "outputs": [],
   "source": [
    "import gdal\n",
    "import os\n",
    "import pandas as pd\n",
    "import geopandas as gpd\n",
    "from shapely.geometry import Polygon\n",
    "import matplotlib.pyplot as plt\n",
    "%matplotlib inline"
   ]
  },
  {
   "cell_type": "code",
   "execution_count": null,
   "metadata": {
    "collapsed": false
   },
   "outputs": [],
   "source": [
    "def MakeGeoPanda(DF):\n",
    "    poly=[]\n",
    "    for index,row in DF.iterrows():\n",
    "        p=Polygon([(row['ulx'],row['lry']),(row['lrx'],row['lry']),(row['lrx'],row['uly']),(row['ulx'],row['uly'])])\n",
    "        poly.append(p)\n",
    "    DF_GP=gpd.GeoDataFrame({'geometry':poly,\"Fuel2014\":list(DF[\"Label\"].values),'FuelFileIndex':list(DF['FuelFileIndex'].values),\"TileName\":list(DF[\"TileName\"].values)})\n",
    "    return DF_GP"
   ]
  },
  {
   "cell_type": "code",
   "execution_count": 2,
   "metadata": {
    "collapsed": false
   },
   "outputs": [
    {
     "data": {
      "text/html": [
       "<div>\n",
       "<table border=\"1\" class=\"dataframe\">\n",
       "  <thead>\n",
       "    <tr style=\"text-align: right;\">\n",
       "      <th></th>\n",
       "      <th>Unnamed: 0</th>\n",
       "      <th>FuelFileIndex</th>\n",
       "      <th>Label</th>\n",
       "      <th>Lat</th>\n",
       "      <th>Long</th>\n",
       "      <th>TileName</th>\n",
       "      <th>lrx</th>\n",
       "      <th>lry</th>\n",
       "      <th>ulx</th>\n",
       "      <th>uly</th>\n",
       "    </tr>\n",
       "  </thead>\n",
       "  <tbody>\n",
       "    <tr>\n",
       "      <th>0</th>\n",
       "      <td>0</td>\n",
       "      <td>0</td>\n",
       "      <td>91</td>\n",
       "      <td>33.147027</td>\n",
       "      <td>-117.205855</td>\n",
       "      <td>/home/mcmccart/WIFIRE/Processed_Data/LabelledT...</td>\n",
       "      <td>-117.205703</td>\n",
       "      <td>33.146875</td>\n",
       "      <td>-117.206007</td>\n",
       "      <td>33.147179</td>\n",
       "    </tr>\n",
       "    <tr>\n",
       "      <th>1</th>\n",
       "      <td>1</td>\n",
       "      <td>1</td>\n",
       "      <td>1</td>\n",
       "      <td>33.147027</td>\n",
       "      <td>-117.205551</td>\n",
       "      <td>/home/mcmccart/WIFIRE/Processed_Data/LabelledT...</td>\n",
       "      <td>-117.205400</td>\n",
       "      <td>33.146875</td>\n",
       "      <td>-117.205703</td>\n",
       "      <td>33.147179</td>\n",
       "    </tr>\n",
       "    <tr>\n",
       "      <th>2</th>\n",
       "      <td>2</td>\n",
       "      <td>2</td>\n",
       "      <td>1</td>\n",
       "      <td>33.147027</td>\n",
       "      <td>-117.205248</td>\n",
       "      <td>/home/mcmccart/WIFIRE/Processed_Data/LabelledT...</td>\n",
       "      <td>-117.205096</td>\n",
       "      <td>33.146875</td>\n",
       "      <td>-117.205400</td>\n",
       "      <td>33.147179</td>\n",
       "    </tr>\n",
       "    <tr>\n",
       "      <th>3</th>\n",
       "      <td>3</td>\n",
       "      <td>3</td>\n",
       "      <td>91</td>\n",
       "      <td>33.147027</td>\n",
       "      <td>-117.204944</td>\n",
       "      <td>/home/mcmccart/WIFIRE/Processed_Data/LabelledT...</td>\n",
       "      <td>-117.204793</td>\n",
       "      <td>33.146875</td>\n",
       "      <td>-117.205096</td>\n",
       "      <td>33.147179</td>\n",
       "    </tr>\n",
       "    <tr>\n",
       "      <th>4</th>\n",
       "      <td>4</td>\n",
       "      <td>4</td>\n",
       "      <td>91</td>\n",
       "      <td>33.147027</td>\n",
       "      <td>-117.204641</td>\n",
       "      <td>/home/mcmccart/WIFIRE/Processed_Data/LabelledT...</td>\n",
       "      <td>-117.204489</td>\n",
       "      <td>33.146875</td>\n",
       "      <td>-117.204793</td>\n",
       "      <td>33.147179</td>\n",
       "    </tr>\n",
       "  </tbody>\n",
       "</table>\n",
       "</div>"
      ],
      "text/plain": [
       "   Unnamed: 0  FuelFileIndex  Label        Lat        Long  \\\n",
       "0           0              0     91  33.147027 -117.205855   \n",
       "1           1              1      1  33.147027 -117.205551   \n",
       "2           2              2      1  33.147027 -117.205248   \n",
       "3           3              3     91  33.147027 -117.204944   \n",
       "4           4              4     91  33.147027 -117.204641   \n",
       "\n",
       "                                            TileName         lrx        lry  \\\n",
       "0  /home/mcmccart/WIFIRE/Processed_Data/LabelledT... -117.205703  33.146875   \n",
       "1  /home/mcmccart/WIFIRE/Processed_Data/LabelledT... -117.205400  33.146875   \n",
       "2  /home/mcmccart/WIFIRE/Processed_Data/LabelledT... -117.205096  33.146875   \n",
       "3  /home/mcmccart/WIFIRE/Processed_Data/LabelledT... -117.204793  33.146875   \n",
       "4  /home/mcmccart/WIFIRE/Processed_Data/LabelledT... -117.204489  33.146875   \n",
       "\n",
       "          ulx        uly  \n",
       "0 -117.206007  33.147179  \n",
       "1 -117.205703  33.147179  \n",
       "2 -117.205400  33.147179  \n",
       "3 -117.205096  33.147179  \n",
       "4 -117.204793  33.147179  "
      ]
     },
     "execution_count": 2,
     "metadata": {},
     "output_type": "execute_result"
    }
   ],
   "source": [
    "#Import Tiles Reference File\n",
    "Tiles=pd.read_csv('WIFIRE/Processed_Data/LabelledTiles_Fuel_EqualArea/Reference_Fuel_EqualArea_18May2017.csv')\n",
    "Tiles.head()"
   ]
  },
  {
   "cell_type": "code",
   "execution_count": 3,
   "metadata": {
    "collapsed": false
   },
   "outputs": [
    {
     "ename": "NameError",
     "evalue": "name 'MakeGeoPanda' is not defined",
     "output_type": "error",
     "traceback": [
      "\u001b[0;31m---------------------------------------------------------------------------\u001b[0m",
      "\u001b[0;31mNameError\u001b[0m                                 Traceback (most recent call last)",
      "\u001b[0;32m<ipython-input-3-f0c9c5082f4c>\u001b[0m in \u001b[0;36m<module>\u001b[0;34m()\u001b[0m\n\u001b[1;32m      1\u001b[0m \u001b[0;31m#Create GeoPanda for Tiles\u001b[0m\u001b[0;34m\u001b[0m\u001b[0;34m\u001b[0m\u001b[0m\n\u001b[0;32m----> 2\u001b[0;31m \u001b[0mTiles_GP\u001b[0m\u001b[0;34m=\u001b[0m\u001b[0mMakeGeoPanda\u001b[0m\u001b[0;34m(\u001b[0m\u001b[0mTiles\u001b[0m\u001b[0;34m)\u001b[0m\u001b[0;34m\u001b[0m\u001b[0m\n\u001b[0m\u001b[1;32m      3\u001b[0m \u001b[0mTiles_GP\u001b[0m\u001b[0;34m.\u001b[0m\u001b[0mhead\u001b[0m\u001b[0;34m(\u001b[0m\u001b[0;34m)\u001b[0m\u001b[0;34m\u001b[0m\u001b[0m\n",
      "\u001b[0;31mNameError\u001b[0m: name 'MakeGeoPanda' is not defined"
     ]
    }
   ],
   "source": [
    "#Create GeoPanda for Tiles\n",
    "Tiles_GP=MakeGeoPanda(Tiles)\n",
    "Tiles_GP.head()"
   ]
  },
  {
   "cell_type": "code",
   "execution_count": null,
   "metadata": {
    "collapsed": false
   },
   "outputs": [],
   "source": [
    "#Import 2014 Fire Polygon shapefile\n",
    "Fire=gpd.read_file('ca_cocos_20140515_2344_dd83.shp')\n",
    "Fire.head()"
   ]
  },
  {
   "cell_type": "code",
   "execution_count": null,
   "metadata": {
    "collapsed": false
   },
   "outputs": [],
   "source": [
    "#Find all \"Tiles\" that intersect with the Fire Polygon\n",
    "Intersect = gpd.sjoin(Fire, Tiles_GP, how=\"inner\", op='intersects')\n",
    "Intersect.head()"
   ]
  },
  {
   "cell_type": "code",
   "execution_count": null,
   "metadata": {
    "collapsed": false
   },
   "outputs": [],
   "source": [
    "Intersect.shape"
   ]
  },
  {
   "cell_type": "code",
   "execution_count": null,
   "metadata": {
    "collapsed": false
   },
   "outputs": [],
   "source": [
    "#Check Labels\n",
    "Intersect['Fuel2014'].value_counts()"
   ]
  },
  {
   "cell_type": "code",
   "execution_count": null,
   "metadata": {
    "collapsed": false
   },
   "outputs": [],
   "source": [
    "#Import Fuel \"decoder ring\"\n",
    "DecodeFuel=pd.read_csv('WIFIRE/Data_labels/fuel_labels.csv')\n",
    "DecodeFuel.columns=[\"filename\",'id','fuelLabel']\n",
    "DecodeFuel.head()\n",
    "\n",
    "A=pd.merge(Intersect,DecodeFuel,left_on='Fuel2014',right_on='id',how='left')\n",
    "A[\"fuelLabel\"].value_counts()"
   ]
  },
  {
   "cell_type": "code",
   "execution_count": null,
   "metadata": {
    "collapsed": false
   },
   "outputs": [],
   "source": [
    "Out=pd.merge(Intersect[['FuelFileIndex']],Tiles,on='FuelFileIndex',how='left')\n",
    "Out[['Long','Lat','Label']].to_csv('Fuel2014_FirePolygon.xyz',sep=' ', index=False, header=False)\n",
    "gdal_str=\"/opt/anaconda3/bin/gdal_translate Fuel2014_FirePolygon.xyz Fuel2014_FirePolygon.tif\"\n",
    "os.system(gdal_str)\n",
    "\n",
    "Out[['Long','Lat','FuelFileIndex']].to_csv('Fuel2014Index_FirePolygon.xyz',sep=' ', index=False, header=False)"
   ]
  },
  {
   "cell_type": "code",
   "execution_count": null,
   "metadata": {
    "collapsed": true
   },
   "outputs": [],
   "source": []
  },
  {
   "cell_type": "markdown",
   "metadata": {
    "collapsed": true
   },
   "source": [
    "-----\n",
    "Want to make  Fire Polygon for the new  labels (made via clustering)"
   ]
  },
  {
   "cell_type": "code",
   "execution_count": 2,
   "metadata": {
    "collapsed": false
   },
   "outputs": [
    {
     "data": {
      "text/html": [
       "<div>\n",
       "<table border=\"1\" class=\"dataframe\">\n",
       "  <thead>\n",
       "    <tr style=\"text-align: right;\">\n",
       "      <th></th>\n",
       "      <th>FuelFileIndex</th>\n",
       "      <th>Label</th>\n",
       "      <th>Lat</th>\n",
       "      <th>Long</th>\n",
       "      <th>TileName</th>\n",
       "      <th>lrx</th>\n",
       "      <th>lry</th>\n",
       "      <th>ulx</th>\n",
       "      <th>uly</th>\n",
       "    </tr>\n",
       "  </thead>\n",
       "  <tbody>\n",
       "    <tr>\n",
       "      <th>0</th>\n",
       "      <td>0</td>\n",
       "      <td>91</td>\n",
       "      <td>33.1470269678005991</td>\n",
       "      <td>-117.205854862079065</td>\n",
       "      <td>/home/mcmccart/WIFIRE/Processed_Data/LabelledT...</td>\n",
       "      <td>-117.205703</td>\n",
       "      <td>33.146875</td>\n",
       "      <td>-117.206007</td>\n",
       "      <td>33.147179</td>\n",
       "    </tr>\n",
       "    <tr>\n",
       "      <th>1</th>\n",
       "      <td>1</td>\n",
       "      <td>1</td>\n",
       "      <td>33.1470269678005991</td>\n",
       "      <td>-117.205551406658813</td>\n",
       "      <td>/home/mcmccart/WIFIRE/Processed_Data/LabelledT...</td>\n",
       "      <td>-117.205400</td>\n",
       "      <td>33.146875</td>\n",
       "      <td>-117.205703</td>\n",
       "      <td>33.147179</td>\n",
       "    </tr>\n",
       "    <tr>\n",
       "      <th>2</th>\n",
       "      <td>2</td>\n",
       "      <td>1</td>\n",
       "      <td>33.1470269678005991</td>\n",
       "      <td>-117.205247951238547</td>\n",
       "      <td>/home/mcmccart/WIFIRE/Processed_Data/LabelledT...</td>\n",
       "      <td>-117.205096</td>\n",
       "      <td>33.146875</td>\n",
       "      <td>-117.205400</td>\n",
       "      <td>33.147179</td>\n",
       "    </tr>\n",
       "    <tr>\n",
       "      <th>3</th>\n",
       "      <td>3</td>\n",
       "      <td>91</td>\n",
       "      <td>33.1470269678005991</td>\n",
       "      <td>-117.204944495818296</td>\n",
       "      <td>/home/mcmccart/WIFIRE/Processed_Data/LabelledT...</td>\n",
       "      <td>-117.204793</td>\n",
       "      <td>33.146875</td>\n",
       "      <td>-117.205096</td>\n",
       "      <td>33.147179</td>\n",
       "    </tr>\n",
       "    <tr>\n",
       "      <th>4</th>\n",
       "      <td>4</td>\n",
       "      <td>91</td>\n",
       "      <td>33.1470269678005991</td>\n",
       "      <td>-117.20464104039803</td>\n",
       "      <td>/home/mcmccart/WIFIRE/Processed_Data/LabelledT...</td>\n",
       "      <td>-117.204489</td>\n",
       "      <td>33.146875</td>\n",
       "      <td>-117.204793</td>\n",
       "      <td>33.147179</td>\n",
       "    </tr>\n",
       "  </tbody>\n",
       "</table>\n",
       "</div>"
      ],
      "text/plain": [
       "   FuelFileIndex Label                  Lat                  Long  \\\n",
       "0              0    91  33.1470269678005991  -117.205854862079065   \n",
       "1              1     1  33.1470269678005991  -117.205551406658813   \n",
       "2              2     1  33.1470269678005991  -117.205247951238547   \n",
       "3              3    91  33.1470269678005991  -117.204944495818296   \n",
       "4              4    91  33.1470269678005991   -117.20464104039803   \n",
       "\n",
       "                                            TileName         lrx        lry  \\\n",
       "0  /home/mcmccart/WIFIRE/Processed_Data/LabelledT... -117.205703  33.146875   \n",
       "1  /home/mcmccart/WIFIRE/Processed_Data/LabelledT... -117.205400  33.146875   \n",
       "2  /home/mcmccart/WIFIRE/Processed_Data/LabelledT... -117.205096  33.146875   \n",
       "3  /home/mcmccart/WIFIRE/Processed_Data/LabelledT... -117.204793  33.146875   \n",
       "4  /home/mcmccart/WIFIRE/Processed_Data/LabelledT... -117.204489  33.146875   \n",
       "\n",
       "          ulx        uly  \n",
       "0 -117.206007  33.147179  \n",
       "1 -117.205703  33.147179  \n",
       "2 -117.205400  33.147179  \n",
       "3 -117.205096  33.147179  \n",
       "4 -117.204793  33.147179  "
      ]
     },
     "execution_count": 2,
     "metadata": {},
     "output_type": "execute_result"
    }
   ],
   "source": [
    "#Import Tiles Reference File\n",
    "Tiles=pd.read_csv('WIFIRE/Processed_Data/LabelledTiles_Fuel_EqualArea/Reference_Fuel_EqualArea_18May2017.csv',dtype=object, index_col=0)\n",
    "Tiles[\"FuelFileIndex\"]=Tiles[\"FuelFileIndex\"].apply(lambda x: int(x))\n",
    "Tiles[\"lrx\"]=Tiles[\"lrx\"].apply(lambda x: float(x))\n",
    "Tiles[\"lry\"]=Tiles[\"lry\"].apply(lambda x: float(x))\n",
    "Tiles[\"ulx\"]=Tiles[\"ulx\"].apply(lambda x: float(x))\n",
    "Tiles[\"uly\"]=Tiles[\"uly\"].apply(lambda x: float(x))\n",
    "Tiles.head()"
   ]
  },
  {
   "cell_type": "code",
   "execution_count": 3,
   "metadata": {
    "collapsed": false
   },
   "outputs": [
    {
     "data": {
      "text/html": [
       "<div>\n",
       "<table border=\"1\" class=\"dataframe\">\n",
       "  <thead>\n",
       "    <tr style=\"text-align: right;\">\n",
       "      <th></th>\n",
       "      <th>Image</th>\n",
       "      <th>FuelFileIndex</th>\n",
       "      <th>NewLabel</th>\n",
       "      <th>NewLabel_V</th>\n",
       "    </tr>\n",
       "  </thead>\n",
       "  <tbody>\n",
       "    <tr>\n",
       "      <th>0</th>\n",
       "      <td>WIFIRE/Processed_Data/LabelledTiles_Fuel_Equal...</td>\n",
       "      <td>90</td>\n",
       "      <td>B</td>\n",
       "      <td>10</td>\n",
       "    </tr>\n",
       "    <tr>\n",
       "      <th>1</th>\n",
       "      <td>WIFIRE/Processed_Data/LabelledTiles_Fuel_Equal...</td>\n",
       "      <td>104</td>\n",
       "      <td>B</td>\n",
       "      <td>10</td>\n",
       "    </tr>\n",
       "    <tr>\n",
       "      <th>2</th>\n",
       "      <td>WIFIRE/Processed_Data/LabelledTiles_Fuel_Equal...</td>\n",
       "      <td>202</td>\n",
       "      <td>B</td>\n",
       "      <td>10</td>\n",
       "    </tr>\n",
       "    <tr>\n",
       "      <th>3</th>\n",
       "      <td>WIFIRE/Processed_Data/LabelledTiles_Fuel_Equal...</td>\n",
       "      <td>378</td>\n",
       "      <td>B</td>\n",
       "      <td>10</td>\n",
       "    </tr>\n",
       "    <tr>\n",
       "      <th>4</th>\n",
       "      <td>WIFIRE/Processed_Data/LabelledTiles_Fuel_Equal...</td>\n",
       "      <td>409</td>\n",
       "      <td>B</td>\n",
       "      <td>10</td>\n",
       "    </tr>\n",
       "  </tbody>\n",
       "</table>\n",
       "</div>"
      ],
      "text/plain": [
       "                                               Image  FuelFileIndex NewLabel  \\\n",
       "0  WIFIRE/Processed_Data/LabelledTiles_Fuel_Equal...             90        B   \n",
       "1  WIFIRE/Processed_Data/LabelledTiles_Fuel_Equal...            104        B   \n",
       "2  WIFIRE/Processed_Data/LabelledTiles_Fuel_Equal...            202        B   \n",
       "3  WIFIRE/Processed_Data/LabelledTiles_Fuel_Equal...            378        B   \n",
       "4  WIFIRE/Processed_Data/LabelledTiles_Fuel_Equal...            409        B   \n",
       "\n",
       "  NewLabel_V  \n",
       "0         10  \n",
       "1         10  \n",
       "2         10  \n",
       "3         10  \n",
       "4         10  "
      ]
     },
     "execution_count": 3,
     "metadata": {},
     "output_type": "execute_result"
    }
   ],
   "source": [
    "#Import Tiles Reference File (need new labels)\n",
    "TilesNL=pd.read_csv('WIFIRE/Processed_Data/LabelledTiles_Fuel_EqualArea/Reference_Fuel_EqualArea_18May2017_LabelsFromClustering.csv')\n",
    "#change labels to values\n",
    "Switch={'G':'1','S':'2','UF':'3','UG':'4','US':'5','UUF':'6','U':'7','W':'8','B':'10'}\n",
    "TilesNL[\"NewLabel_V\"]=TilesNL[\"NewLabel\"].apply(lambda x: Switch[x])\n",
    "#TilesNL[\"FuelFileIndex\"]=TilesNL[\"FuelFileIndex\"].apply(lambda x: str(x))\n",
    "TilesNL.head()"
   ]
  },
  {
   "cell_type": "code",
   "execution_count": 4,
   "metadata": {
    "collapsed": false
   },
   "outputs": [
    {
     "name": "stdout",
     "output_type": "stream",
     "text": [
      "int64\n",
      "int64\n"
     ]
    }
   ],
   "source": [
    "print (Tiles[\"FuelFileIndex\"].dtype)\n",
    "print (TilesNL[\"FuelFileIndex\"].dtype)"
   ]
  },
  {
   "cell_type": "code",
   "execution_count": 5,
   "metadata": {
    "collapsed": false
   },
   "outputs": [
    {
     "data": {
      "text/html": [
       "<div>\n",
       "<table border=\"1\" class=\"dataframe\">\n",
       "  <thead>\n",
       "    <tr style=\"text-align: right;\">\n",
       "      <th></th>\n",
       "      <th>FuelFileIndex</th>\n",
       "      <th>Label</th>\n",
       "      <th>Lat</th>\n",
       "      <th>Long</th>\n",
       "      <th>TileName</th>\n",
       "      <th>lrx</th>\n",
       "      <th>lry</th>\n",
       "      <th>ulx</th>\n",
       "      <th>uly</th>\n",
       "      <th>Image</th>\n",
       "      <th>NewLabel</th>\n",
       "      <th>NewLabel_V</th>\n",
       "    </tr>\n",
       "  </thead>\n",
       "  <tbody>\n",
       "    <tr>\n",
       "      <th>0</th>\n",
       "      <td>0</td>\n",
       "      <td>91</td>\n",
       "      <td>33.1470269678005991</td>\n",
       "      <td>-117.205854862079065</td>\n",
       "      <td>/home/mcmccart/WIFIRE/Processed_Data/LabelledT...</td>\n",
       "      <td>-117.205703</td>\n",
       "      <td>33.146875</td>\n",
       "      <td>-117.206007</td>\n",
       "      <td>33.147179</td>\n",
       "      <td>WIFIRE/Processed_Data/LabelledTiles_Fuel_Equal...</td>\n",
       "      <td>U</td>\n",
       "      <td>7</td>\n",
       "    </tr>\n",
       "    <tr>\n",
       "      <th>1</th>\n",
       "      <td>1</td>\n",
       "      <td>1</td>\n",
       "      <td>33.1470269678005991</td>\n",
       "      <td>-117.205551406658813</td>\n",
       "      <td>/home/mcmccart/WIFIRE/Processed_Data/LabelledT...</td>\n",
       "      <td>-117.205400</td>\n",
       "      <td>33.146875</td>\n",
       "      <td>-117.205703</td>\n",
       "      <td>33.147179</td>\n",
       "      <td>WIFIRE/Processed_Data/LabelledTiles_Fuel_Equal...</td>\n",
       "      <td>U</td>\n",
       "      <td>7</td>\n",
       "    </tr>\n",
       "    <tr>\n",
       "      <th>2</th>\n",
       "      <td>2</td>\n",
       "      <td>1</td>\n",
       "      <td>33.1470269678005991</td>\n",
       "      <td>-117.205247951238547</td>\n",
       "      <td>/home/mcmccart/WIFIRE/Processed_Data/LabelledT...</td>\n",
       "      <td>-117.205096</td>\n",
       "      <td>33.146875</td>\n",
       "      <td>-117.205400</td>\n",
       "      <td>33.147179</td>\n",
       "      <td>WIFIRE/Processed_Data/LabelledTiles_Fuel_Equal...</td>\n",
       "      <td>U</td>\n",
       "      <td>7</td>\n",
       "    </tr>\n",
       "    <tr>\n",
       "      <th>3</th>\n",
       "      <td>3</td>\n",
       "      <td>91</td>\n",
       "      <td>33.1470269678005991</td>\n",
       "      <td>-117.204944495818296</td>\n",
       "      <td>/home/mcmccart/WIFIRE/Processed_Data/LabelledT...</td>\n",
       "      <td>-117.204793</td>\n",
       "      <td>33.146875</td>\n",
       "      <td>-117.205096</td>\n",
       "      <td>33.147179</td>\n",
       "      <td>WIFIRE/Processed_Data/LabelledTiles_Fuel_Equal...</td>\n",
       "      <td>U</td>\n",
       "      <td>7</td>\n",
       "    </tr>\n",
       "    <tr>\n",
       "      <th>4</th>\n",
       "      <td>4</td>\n",
       "      <td>91</td>\n",
       "      <td>33.1470269678005991</td>\n",
       "      <td>-117.20464104039803</td>\n",
       "      <td>/home/mcmccart/WIFIRE/Processed_Data/LabelledT...</td>\n",
       "      <td>-117.204489</td>\n",
       "      <td>33.146875</td>\n",
       "      <td>-117.204793</td>\n",
       "      <td>33.147179</td>\n",
       "      <td>WIFIRE/Processed_Data/LabelledTiles_Fuel_Equal...</td>\n",
       "      <td>U</td>\n",
       "      <td>7</td>\n",
       "    </tr>\n",
       "  </tbody>\n",
       "</table>\n",
       "</div>"
      ],
      "text/plain": [
       "   FuelFileIndex Label                  Lat                  Long  \\\n",
       "0              0    91  33.1470269678005991  -117.205854862079065   \n",
       "1              1     1  33.1470269678005991  -117.205551406658813   \n",
       "2              2     1  33.1470269678005991  -117.205247951238547   \n",
       "3              3    91  33.1470269678005991  -117.204944495818296   \n",
       "4              4    91  33.1470269678005991   -117.20464104039803   \n",
       "\n",
       "                                            TileName         lrx        lry  \\\n",
       "0  /home/mcmccart/WIFIRE/Processed_Data/LabelledT... -117.205703  33.146875   \n",
       "1  /home/mcmccart/WIFIRE/Processed_Data/LabelledT... -117.205400  33.146875   \n",
       "2  /home/mcmccart/WIFIRE/Processed_Data/LabelledT... -117.205096  33.146875   \n",
       "3  /home/mcmccart/WIFIRE/Processed_Data/LabelledT... -117.204793  33.146875   \n",
       "4  /home/mcmccart/WIFIRE/Processed_Data/LabelledT... -117.204489  33.146875   \n",
       "\n",
       "          ulx        uly                                              Image  \\\n",
       "0 -117.206007  33.147179  WIFIRE/Processed_Data/LabelledTiles_Fuel_Equal...   \n",
       "1 -117.205703  33.147179  WIFIRE/Processed_Data/LabelledTiles_Fuel_Equal...   \n",
       "2 -117.205400  33.147179  WIFIRE/Processed_Data/LabelledTiles_Fuel_Equal...   \n",
       "3 -117.205096  33.147179  WIFIRE/Processed_Data/LabelledTiles_Fuel_Equal...   \n",
       "4 -117.204793  33.147179  WIFIRE/Processed_Data/LabelledTiles_Fuel_Equal...   \n",
       "\n",
       "  NewLabel NewLabel_V  \n",
       "0        U          7  \n",
       "1        U          7  \n",
       "2        U          7  \n",
       "3        U          7  \n",
       "4        U          7  "
      ]
     },
     "execution_count": 5,
     "metadata": {},
     "output_type": "execute_result"
    }
   ],
   "source": [
    "Tiles=pd.merge(Tiles, TilesNL,on='FuelFileIndex',how='left')\n",
    "Tiles.head()"
   ]
  },
  {
   "cell_type": "code",
   "execution_count": 6,
   "metadata": {
    "collapsed": true
   },
   "outputs": [],
   "source": [
    "def MakeGeoPanda(DF):\n",
    "    poly=[]\n",
    "    for index,row in DF.iterrows():\n",
    "        p=Polygon([(row['ulx'],row['lry']),(row['lrx'],row['lry']),(row['lrx'],row['uly']),(row['ulx'],row['uly'])])\n",
    "        poly.append(p)\n",
    "    DF_GP=gpd.GeoDataFrame({'geometry':poly,\"Fuel2014\":list(DF[\"NewLabel_V\"].values),'FuelFileIndex':list(DF['FuelFileIndex'].values),\"TileName\":list(DF[\"TileName\"].values)})\n",
    "    return DF_GP"
   ]
  },
  {
   "cell_type": "code",
   "execution_count": 7,
   "metadata": {
    "collapsed": false
   },
   "outputs": [
    {
     "data": {
      "text/html": [
       "<div>\n",
       "<table border=\"1\" class=\"dataframe\">\n",
       "  <thead>\n",
       "    <tr style=\"text-align: right;\">\n",
       "      <th></th>\n",
       "      <th>Fuel2014</th>\n",
       "      <th>FuelFileIndex</th>\n",
       "      <th>TileName</th>\n",
       "      <th>geometry</th>\n",
       "    </tr>\n",
       "  </thead>\n",
       "  <tbody>\n",
       "    <tr>\n",
       "      <th>0</th>\n",
       "      <td>7</td>\n",
       "      <td>0</td>\n",
       "      <td>/home/mcmccart/WIFIRE/Processed_Data/LabelledT...</td>\n",
       "      <td>POLYGON ((-117.2060065897892 33.1468753676844,...</td>\n",
       "    </tr>\n",
       "    <tr>\n",
       "      <th>1</th>\n",
       "      <td>7</td>\n",
       "      <td>1</td>\n",
       "      <td>/home/mcmccart/WIFIRE/Processed_Data/LabelledT...</td>\n",
       "      <td>POLYGON ((-117.2057031343689 33.1468753676844,...</td>\n",
       "    </tr>\n",
       "    <tr>\n",
       "      <th>2</th>\n",
       "      <td>7</td>\n",
       "      <td>2</td>\n",
       "      <td>/home/mcmccart/WIFIRE/Processed_Data/LabelledT...</td>\n",
       "      <td>POLYGON ((-117.2053996789487 33.1468753676844,...</td>\n",
       "    </tr>\n",
       "    <tr>\n",
       "      <th>3</th>\n",
       "      <td>7</td>\n",
       "      <td>3</td>\n",
       "      <td>/home/mcmccart/WIFIRE/Processed_Data/LabelledT...</td>\n",
       "      <td>POLYGON ((-117.2050962235284 33.1468753676844,...</td>\n",
       "    </tr>\n",
       "    <tr>\n",
       "      <th>4</th>\n",
       "      <td>7</td>\n",
       "      <td>4</td>\n",
       "      <td>/home/mcmccart/WIFIRE/Processed_Data/LabelledT...</td>\n",
       "      <td>POLYGON ((-117.2047927681082 33.1468753676844,...</td>\n",
       "    </tr>\n",
       "  </tbody>\n",
       "</table>\n",
       "</div>"
      ],
      "text/plain": [
       "  Fuel2014  FuelFileIndex                                           TileName  \\\n",
       "0        7              0  /home/mcmccart/WIFIRE/Processed_Data/LabelledT...   \n",
       "1        7              1  /home/mcmccart/WIFIRE/Processed_Data/LabelledT...   \n",
       "2        7              2  /home/mcmccart/WIFIRE/Processed_Data/LabelledT...   \n",
       "3        7              3  /home/mcmccart/WIFIRE/Processed_Data/LabelledT...   \n",
       "4        7              4  /home/mcmccart/WIFIRE/Processed_Data/LabelledT...   \n",
       "\n",
       "                                            geometry  \n",
       "0  POLYGON ((-117.2060065897892 33.1468753676844,...  \n",
       "1  POLYGON ((-117.2057031343689 33.1468753676844,...  \n",
       "2  POLYGON ((-117.2053996789487 33.1468753676844,...  \n",
       "3  POLYGON ((-117.2050962235284 33.1468753676844,...  \n",
       "4  POLYGON ((-117.2047927681082 33.1468753676844,...  "
      ]
     },
     "execution_count": 7,
     "metadata": {},
     "output_type": "execute_result"
    }
   ],
   "source": [
    "#Create GeoPanda for Tiles\n",
    "Tiles_GP=MakeGeoPanda(Tiles)\n",
    "Tiles_GP.head()"
   ]
  },
  {
   "cell_type": "code",
   "execution_count": 8,
   "metadata": {
    "collapsed": false
   },
   "outputs": [
    {
     "data": {
      "text/html": [
       "<div>\n",
       "<table border=\"1\" class=\"dataframe\">\n",
       "  <thead>\n",
       "    <tr style=\"text-align: right;\">\n",
       "      <th></th>\n",
       "      <th>geometry</th>\n",
       "    </tr>\n",
       "  </thead>\n",
       "  <tbody>\n",
       "    <tr>\n",
       "      <th>0</th>\n",
       "      <td>POLYGON ((-117.1522177730791 33.1245863604779,...</td>\n",
       "    </tr>\n",
       "  </tbody>\n",
       "</table>\n",
       "</div>"
      ],
      "text/plain": [
       "                                            geometry\n",
       "0  POLYGON ((-117.1522177730791 33.1245863604779,..."
      ]
     },
     "execution_count": 8,
     "metadata": {},
     "output_type": "execute_result"
    }
   ],
   "source": [
    "#Import 2014 Fire Polygon shapefile\n",
    "Fire=gpd.read_file('ca_cocos_20140515_2344_dd83.shp')\n",
    "Fire.head()"
   ]
  },
  {
   "cell_type": "code",
   "execution_count": 9,
   "metadata": {
    "collapsed": false
   },
   "outputs": [
    {
     "name": "stdout",
     "output_type": "stream",
     "text": [
      "Warning: CRS does not match!\n"
     ]
    },
    {
     "name": "stderr",
     "output_type": "stream",
     "text": [
      "/opt/anaconda3/lib/python3.5/site-packages/numpy/lib/function_base.py:2652: RuntimeWarning: invalid value encountered in ? (vectorized)\n",
      "  outputs = ufunc(*inputs)\n"
     ]
    },
    {
     "data": {
      "text/html": [
       "<div>\n",
       "<table border=\"1\" class=\"dataframe\">\n",
       "  <thead>\n",
       "    <tr style=\"text-align: right;\">\n",
       "      <th></th>\n",
       "      <th>geometry</th>\n",
       "      <th>index_right</th>\n",
       "      <th>Fuel2014</th>\n",
       "      <th>FuelFileIndex</th>\n",
       "      <th>TileName</th>\n",
       "    </tr>\n",
       "  </thead>\n",
       "  <tbody>\n",
       "    <tr>\n",
       "      <th>0</th>\n",
       "      <td>POLYGON ((-117.1522177730791 33.1245863604779,...</td>\n",
       "      <td>76511</td>\n",
       "      <td>2</td>\n",
       "      <td>76511</td>\n",
       "      <td>/home/mcmccart/WIFIRE/Processed_Data/LabelledT...</td>\n",
       "    </tr>\n",
       "    <tr>\n",
       "      <th>0</th>\n",
       "      <td>POLYGON ((-117.1522177730791 33.1245863604779,...</td>\n",
       "      <td>76164</td>\n",
       "      <td>2</td>\n",
       "      <td>76164</td>\n",
       "      <td>/home/mcmccart/WIFIRE/Processed_Data/LabelledT...</td>\n",
       "    </tr>\n",
       "    <tr>\n",
       "      <th>0</th>\n",
       "      <td>POLYGON ((-117.1522177730791 33.1245863604779,...</td>\n",
       "      <td>75817</td>\n",
       "      <td>2</td>\n",
       "      <td>75817</td>\n",
       "      <td>/home/mcmccart/WIFIRE/Processed_Data/LabelledT...</td>\n",
       "    </tr>\n",
       "    <tr>\n",
       "      <th>0</th>\n",
       "      <td>POLYGON ((-117.1522177730791 33.1245863604779,...</td>\n",
       "      <td>75470</td>\n",
       "      <td>2</td>\n",
       "      <td>75470</td>\n",
       "      <td>/home/mcmccart/WIFIRE/Processed_Data/LabelledT...</td>\n",
       "    </tr>\n",
       "    <tr>\n",
       "      <th>0</th>\n",
       "      <td>POLYGON ((-117.1522177730791 33.1245863604779,...</td>\n",
       "      <td>76512</td>\n",
       "      <td>2</td>\n",
       "      <td>76512</td>\n",
       "      <td>/home/mcmccart/WIFIRE/Processed_Data/LabelledT...</td>\n",
       "    </tr>\n",
       "  </tbody>\n",
       "</table>\n",
       "</div>"
      ],
      "text/plain": [
       "                                            geometry  index_right Fuel2014  \\\n",
       "0  POLYGON ((-117.1522177730791 33.1245863604779,...        76511        2   \n",
       "0  POLYGON ((-117.1522177730791 33.1245863604779,...        76164        2   \n",
       "0  POLYGON ((-117.1522177730791 33.1245863604779,...        75817        2   \n",
       "0  POLYGON ((-117.1522177730791 33.1245863604779,...        75470        2   \n",
       "0  POLYGON ((-117.1522177730791 33.1245863604779,...        76512        2   \n",
       "\n",
       "   FuelFileIndex                                           TileName  \n",
       "0          76511  /home/mcmccart/WIFIRE/Processed_Data/LabelledT...  \n",
       "0          76164  /home/mcmccart/WIFIRE/Processed_Data/LabelledT...  \n",
       "0          75817  /home/mcmccart/WIFIRE/Processed_Data/LabelledT...  \n",
       "0          75470  /home/mcmccart/WIFIRE/Processed_Data/LabelledT...  \n",
       "0          76512  /home/mcmccart/WIFIRE/Processed_Data/LabelledT...  "
      ]
     },
     "execution_count": 9,
     "metadata": {},
     "output_type": "execute_result"
    }
   ],
   "source": [
    "#Find all \"Tiles\" that intersect with the Fire Polygon\n",
    "Intersect = gpd.sjoin(Fire, Tiles_GP, how=\"inner\", op='intersects')\n",
    "Intersect.head()"
   ]
  },
  {
   "cell_type": "code",
   "execution_count": 11,
   "metadata": {
    "collapsed": false
   },
   "outputs": [
    {
     "data": {
      "text/html": [
       "<div>\n",
       "<table border=\"1\" class=\"dataframe\">\n",
       "  <thead>\n",
       "    <tr style=\"text-align: right;\">\n",
       "      <th></th>\n",
       "      <th>FuelFileIndex</th>\n",
       "      <th>Label</th>\n",
       "      <th>Lat</th>\n",
       "      <th>Long</th>\n",
       "      <th>TileName</th>\n",
       "      <th>lrx</th>\n",
       "      <th>lry</th>\n",
       "      <th>ulx</th>\n",
       "      <th>uly</th>\n",
       "      <th>Image</th>\n",
       "      <th>NewLabel</th>\n",
       "      <th>NewLabel_V</th>\n",
       "    </tr>\n",
       "  </thead>\n",
       "  <tbody>\n",
       "    <tr>\n",
       "      <th>0</th>\n",
       "      <td>76511</td>\n",
       "      <td>1</td>\n",
       "      <td>33.0803229166736443</td>\n",
       "      <td>-117.153963985214816</td>\n",
       "      <td>/home/mcmccart/WIFIRE/Processed_Data/LabelledT...</td>\n",
       "      <td>-117.153812</td>\n",
       "      <td>33.080171</td>\n",
       "      <td>-117.154116</td>\n",
       "      <td>33.080475</td>\n",
       "      <td>WIFIRE/Processed_Data/LabelledTiles_Fuel_Equal...</td>\n",
       "      <td>S</td>\n",
       "      <td>2</td>\n",
       "    </tr>\n",
       "    <tr>\n",
       "      <th>1</th>\n",
       "      <td>76164</td>\n",
       "      <td>1</td>\n",
       "      <td>33.0806261169060392</td>\n",
       "      <td>-117.153963985214816</td>\n",
       "      <td>/home/mcmccart/WIFIRE/Processed_Data/LabelledT...</td>\n",
       "      <td>-117.153812</td>\n",
       "      <td>33.080475</td>\n",
       "      <td>-117.154116</td>\n",
       "      <td>33.080778</td>\n",
       "      <td>WIFIRE/Processed_Data/LabelledTiles_Fuel_Equal...</td>\n",
       "      <td>S</td>\n",
       "      <td>2</td>\n",
       "    </tr>\n",
       "    <tr>\n",
       "      <th>2</th>\n",
       "      <td>75817</td>\n",
       "      <td>1</td>\n",
       "      <td>33.0809293171384411</td>\n",
       "      <td>-117.153963985214816</td>\n",
       "      <td>/home/mcmccart/WIFIRE/Processed_Data/LabelledT...</td>\n",
       "      <td>-117.153812</td>\n",
       "      <td>33.080778</td>\n",
       "      <td>-117.154116</td>\n",
       "      <td>33.081081</td>\n",
       "      <td>WIFIRE/Processed_Data/LabelledTiles_Fuel_Equal...</td>\n",
       "      <td>S</td>\n",
       "      <td>2</td>\n",
       "    </tr>\n",
       "    <tr>\n",
       "      <th>3</th>\n",
       "      <td>75470</td>\n",
       "      <td>1</td>\n",
       "      <td>33.0812325173708359</td>\n",
       "      <td>-117.153963985214816</td>\n",
       "      <td>/home/mcmccart/WIFIRE/Processed_Data/LabelledT...</td>\n",
       "      <td>-117.153812</td>\n",
       "      <td>33.081081</td>\n",
       "      <td>-117.154116</td>\n",
       "      <td>33.081384</td>\n",
       "      <td>WIFIRE/Processed_Data/LabelledTiles_Fuel_Equal...</td>\n",
       "      <td>S</td>\n",
       "      <td>2</td>\n",
       "    </tr>\n",
       "    <tr>\n",
       "      <th>4</th>\n",
       "      <td>76512</td>\n",
       "      <td>1</td>\n",
       "      <td>33.0803229166736443</td>\n",
       "      <td>-117.153660529794564</td>\n",
       "      <td>/home/mcmccart/WIFIRE/Processed_Data/LabelledT...</td>\n",
       "      <td>-117.153509</td>\n",
       "      <td>33.080171</td>\n",
       "      <td>-117.153812</td>\n",
       "      <td>33.080475</td>\n",
       "      <td>WIFIRE/Processed_Data/LabelledTiles_Fuel_Equal...</td>\n",
       "      <td>S</td>\n",
       "      <td>2</td>\n",
       "    </tr>\n",
       "  </tbody>\n",
       "</table>\n",
       "</div>"
      ],
      "text/plain": [
       "   FuelFileIndex Label                  Lat                  Long  \\\n",
       "0          76511     1  33.0803229166736443  -117.153963985214816   \n",
       "1          76164     1  33.0806261169060392  -117.153963985214816   \n",
       "2          75817     1  33.0809293171384411  -117.153963985214816   \n",
       "3          75470     1  33.0812325173708359  -117.153963985214816   \n",
       "4          76512     1  33.0803229166736443  -117.153660529794564   \n",
       "\n",
       "                                            TileName         lrx        lry  \\\n",
       "0  /home/mcmccart/WIFIRE/Processed_Data/LabelledT... -117.153812  33.080171   \n",
       "1  /home/mcmccart/WIFIRE/Processed_Data/LabelledT... -117.153812  33.080475   \n",
       "2  /home/mcmccart/WIFIRE/Processed_Data/LabelledT... -117.153812  33.080778   \n",
       "3  /home/mcmccart/WIFIRE/Processed_Data/LabelledT... -117.153812  33.081081   \n",
       "4  /home/mcmccart/WIFIRE/Processed_Data/LabelledT... -117.153509  33.080171   \n",
       "\n",
       "          ulx        uly                                              Image  \\\n",
       "0 -117.154116  33.080475  WIFIRE/Processed_Data/LabelledTiles_Fuel_Equal...   \n",
       "1 -117.154116  33.080778  WIFIRE/Processed_Data/LabelledTiles_Fuel_Equal...   \n",
       "2 -117.154116  33.081081  WIFIRE/Processed_Data/LabelledTiles_Fuel_Equal...   \n",
       "3 -117.154116  33.081384  WIFIRE/Processed_Data/LabelledTiles_Fuel_Equal...   \n",
       "4 -117.153812  33.080475  WIFIRE/Processed_Data/LabelledTiles_Fuel_Equal...   \n",
       "\n",
       "  NewLabel NewLabel_V  \n",
       "0        S          2  \n",
       "1        S          2  \n",
       "2        S          2  \n",
       "3        S          2  \n",
       "4        S          2  "
      ]
     },
     "execution_count": 11,
     "metadata": {},
     "output_type": "execute_result"
    }
   ],
   "source": [
    "Out.head()"
   ]
  },
  {
   "cell_type": "code",
   "execution_count": 12,
   "metadata": {
    "collapsed": false
   },
   "outputs": [
    {
     "data": {
      "text/plain": [
       "256"
      ]
     },
     "execution_count": 12,
     "metadata": {},
     "output_type": "execute_result"
    }
   ],
   "source": [
    "Out=pd.merge(Intersect[['FuelFileIndex']],Tiles,on='FuelFileIndex',how='left')\n",
    "Out[['Long','Lat','NewLabel_V']].to_csv('Fuel2014_FirePolygon.xyz',sep=' ', index=False, header=False)\n",
    "gdal_str=\"/opt/anaconda3/bin/gdal_translate Fuel2014_FirePolygon.xyz Fuel2014_FirePolygon.tif\"\n",
    "os.system(gdal_str)\n"
   ]
  },
  {
   "cell_type": "code",
   "execution_count": null,
   "metadata": {
    "collapsed": true
   },
   "outputs": [],
   "source": []
  },
  {
   "cell_type": "code",
   "execution_count": null,
   "metadata": {
    "collapsed": true
   },
   "outputs": [],
   "source": []
  },
  {
   "cell_type": "code",
   "execution_count": null,
   "metadata": {
    "collapsed": true
   },
   "outputs": [],
   "source": []
  },
  {
   "cell_type": "code",
   "execution_count": 2,
   "metadata": {
    "collapsed": false
   },
   "outputs": [
    {
     "data": {
      "text/html": [
       "<div>\n",
       "<table border=\"1\" class=\"dataframe\">\n",
       "  <thead>\n",
       "    <tr style=\"text-align: right;\">\n",
       "      <th></th>\n",
       "      <th>Image</th>\n",
       "      <th>FuelFileIndex</th>\n",
       "      <th>NewLabel</th>\n",
       "      <th>NewLabel_V</th>\n",
       "    </tr>\n",
       "  </thead>\n",
       "  <tbody>\n",
       "    <tr>\n",
       "      <th>0</th>\n",
       "      <td>WIFIRE/Processed_Data/LabelledTiles_Fuel_Equal...</td>\n",
       "      <td>90</td>\n",
       "      <td>B</td>\n",
       "      <td>10</td>\n",
       "    </tr>\n",
       "    <tr>\n",
       "      <th>1</th>\n",
       "      <td>WIFIRE/Processed_Data/LabelledTiles_Fuel_Equal...</td>\n",
       "      <td>104</td>\n",
       "      <td>B</td>\n",
       "      <td>10</td>\n",
       "    </tr>\n",
       "    <tr>\n",
       "      <th>2</th>\n",
       "      <td>WIFIRE/Processed_Data/LabelledTiles_Fuel_Equal...</td>\n",
       "      <td>202</td>\n",
       "      <td>B</td>\n",
       "      <td>10</td>\n",
       "    </tr>\n",
       "    <tr>\n",
       "      <th>3</th>\n",
       "      <td>WIFIRE/Processed_Data/LabelledTiles_Fuel_Equal...</td>\n",
       "      <td>378</td>\n",
       "      <td>B</td>\n",
       "      <td>10</td>\n",
       "    </tr>\n",
       "    <tr>\n",
       "      <th>4</th>\n",
       "      <td>WIFIRE/Processed_Data/LabelledTiles_Fuel_Equal...</td>\n",
       "      <td>409</td>\n",
       "      <td>B</td>\n",
       "      <td>10</td>\n",
       "    </tr>\n",
       "  </tbody>\n",
       "</table>\n",
       "</div>"
      ],
      "text/plain": [
       "                                               Image  FuelFileIndex NewLabel  \\\n",
       "0  WIFIRE/Processed_Data/LabelledTiles_Fuel_Equal...             90        B   \n",
       "1  WIFIRE/Processed_Data/LabelledTiles_Fuel_Equal...            104        B   \n",
       "2  WIFIRE/Processed_Data/LabelledTiles_Fuel_Equal...            202        B   \n",
       "3  WIFIRE/Processed_Data/LabelledTiles_Fuel_Equal...            378        B   \n",
       "4  WIFIRE/Processed_Data/LabelledTiles_Fuel_Equal...            409        B   \n",
       "\n",
       "  NewLabel_V  \n",
       "0         10  \n",
       "1         10  \n",
       "2         10  \n",
       "3         10  \n",
       "4         10  "
      ]
     },
     "execution_count": 2,
     "metadata": {},
     "output_type": "execute_result"
    }
   ],
   "source": [
    "#Import Tiles Reference File (need new labels)\n",
    "TilesNL=pd.read_csv('WIFIRE/Processed_Data/LabelledTiles_Fuel_EqualArea/Reference_Fuel_EqualArea_18May2017_LabelsFromClustering.csv')\n",
    "#change labels to values\n",
    "Switch={'G':'1','S':'2','UF':'3','UG':'4','US':'5','UUF':'6','U':'7','W':'8','B':'10'}\n",
    "TilesNL[\"NewLabel_V\"]=TilesNL[\"NewLabel\"].apply(lambda x: Switch[x])\n",
    "TilesNL.head()"
   ]
  },
  {
   "cell_type": "code",
   "execution_count": 14,
   "metadata": {
    "collapsed": false
   },
   "outputs": [],
   "source": [
    "TilesNL[\"FuelFileIndex\"]=TilesNL[\"FuelFileIndex\"].apply(lambda x: str(x))"
   ]
  },
  {
   "cell_type": "code",
   "execution_count": 15,
   "metadata": {
    "collapsed": false
   },
   "outputs": [],
   "source": [
    "def ImportPreserve(FileName,labelName):\n",
    "    DF=pd.read_table(FileName, header=None)\n",
    "    DF.columns=['Row']\n",
    "    DF[\"Long\"]=DF[\"Row\"].apply(lambda x: x.split(\" \")[0])\n",
    "    DF[\"Lat\"]=DF[\"Row\"].apply(lambda x: x.split(\" \")[1])\n",
    "    DF[labelName]=DF[\"Row\"].apply(lambda x: x.split(\" \")[2])\n",
    "    del DF[\"Row\"]\n",
    "    return DF\n",
    "\n",
    "Ref=ImportPreserve('Fuel2014Index_FirePolygon.xyz','FuelFileIndex')"
   ]
  },
  {
   "cell_type": "code",
   "execution_count": 16,
   "metadata": {
    "collapsed": false
   },
   "outputs": [
    {
     "data": {
      "text/html": [
       "<div>\n",
       "<table border=\"1\" class=\"dataframe\">\n",
       "  <thead>\n",
       "    <tr style=\"text-align: right;\">\n",
       "      <th></th>\n",
       "      <th>Long</th>\n",
       "      <th>Lat</th>\n",
       "      <th>FuelFileIndex</th>\n",
       "      <th>Image</th>\n",
       "      <th>NewLabel</th>\n",
       "      <th>NewLabel_V</th>\n",
       "    </tr>\n",
       "  </thead>\n",
       "  <tbody>\n",
       "    <tr>\n",
       "      <th>0</th>\n",
       "      <td>-117.15426744063507</td>\n",
       "      <td>33.080322916673644</td>\n",
       "      <td>76510</td>\n",
       "      <td>WIFIRE/Processed_Data/LabelledTiles_Fuel_Equal...</td>\n",
       "      <td>S</td>\n",
       "      <td>2</td>\n",
       "    </tr>\n",
       "    <tr>\n",
       "      <th>1</th>\n",
       "      <td>-117.15426744063507</td>\n",
       "      <td>33.08062611690604</td>\n",
       "      <td>76163</td>\n",
       "      <td>WIFIRE/Processed_Data/LabelledTiles_Fuel_Equal...</td>\n",
       "      <td>S</td>\n",
       "      <td>2</td>\n",
       "    </tr>\n",
       "    <tr>\n",
       "      <th>2</th>\n",
       "      <td>-117.15426744063507</td>\n",
       "      <td>33.08092931713844</td>\n",
       "      <td>75816</td>\n",
       "      <td>WIFIRE/Processed_Data/LabelledTiles_Fuel_Equal...</td>\n",
       "      <td>S</td>\n",
       "      <td>2</td>\n",
       "    </tr>\n",
       "    <tr>\n",
       "      <th>3</th>\n",
       "      <td>-117.1539639852148</td>\n",
       "      <td>33.080322916673644</td>\n",
       "      <td>76511</td>\n",
       "      <td>WIFIRE/Processed_Data/LabelledTiles_Fuel_Equal...</td>\n",
       "      <td>S</td>\n",
       "      <td>2</td>\n",
       "    </tr>\n",
       "    <tr>\n",
       "      <th>4</th>\n",
       "      <td>-117.1539639852148</td>\n",
       "      <td>33.08062611690604</td>\n",
       "      <td>76164</td>\n",
       "      <td>WIFIRE/Processed_Data/LabelledTiles_Fuel_Equal...</td>\n",
       "      <td>S</td>\n",
       "      <td>2</td>\n",
       "    </tr>\n",
       "  </tbody>\n",
       "</table>\n",
       "</div>"
      ],
      "text/plain": [
       "                  Long                 Lat FuelFileIndex  \\\n",
       "0  -117.15426744063507  33.080322916673644         76510   \n",
       "1  -117.15426744063507   33.08062611690604         76163   \n",
       "2  -117.15426744063507   33.08092931713844         75816   \n",
       "3   -117.1539639852148  33.080322916673644         76511   \n",
       "4   -117.1539639852148   33.08062611690604         76164   \n",
       "\n",
       "                                               Image NewLabel NewLabel_V  \n",
       "0  WIFIRE/Processed_Data/LabelledTiles_Fuel_Equal...        S          2  \n",
       "1  WIFIRE/Processed_Data/LabelledTiles_Fuel_Equal...        S          2  \n",
       "2  WIFIRE/Processed_Data/LabelledTiles_Fuel_Equal...        S          2  \n",
       "3  WIFIRE/Processed_Data/LabelledTiles_Fuel_Equal...        S          2  \n",
       "4  WIFIRE/Processed_Data/LabelledTiles_Fuel_Equal...        S          2  "
      ]
     },
     "execution_count": 16,
     "metadata": {},
     "output_type": "execute_result"
    }
   ],
   "source": [
    "Out=pd.merge(Ref,TilesNL,on='FuelFileIndex',how='left')\n",
    "Out[['Long','Lat','NewLabel_V']].to_csv('Fuel2014_FirePolygon_NewLabels.xyz',sep=' ', index=False, header=False)\n",
    "Out.head()"
   ]
  },
  {
   "cell_type": "code",
   "execution_count": 17,
   "metadata": {
    "collapsed": false
   },
   "outputs": [
    {
     "data": {
      "text/plain": [
       "256"
      ]
     },
     "execution_count": 17,
     "metadata": {},
     "output_type": "execute_result"
    }
   ],
   "source": [
    "gdal_str=\"/opt/anaconda3/bin/gdal_translate Fuel2014_FirePolygon_NewLabels.xyz Fuel2014_FirePolygon_NewLabels.tif\"\n",
    "os.system(gdal_str)"
   ]
  },
  {
   "cell_type": "code",
   "execution_count": null,
   "metadata": {
    "collapsed": true
   },
   "outputs": [],
   "source": []
  },
  {
   "cell_type": "markdown",
   "metadata": {
    "collapsed": true
   },
   "source": [
    "For some reason, only grabbing the intersecting Tiles will not grid and make a TIFF file\n",
    "\n",
    "So, instead I will just make a TIFF for 2014 of our new fuel categories"
   ]
  },
  {
   "cell_type": "code",
   "execution_count": 2,
   "metadata": {
    "collapsed": false
   },
   "outputs": [
    {
     "data": {
      "text/html": [
       "<div>\n",
       "<table border=\"1\" class=\"dataframe\">\n",
       "  <thead>\n",
       "    <tr style=\"text-align: right;\">\n",
       "      <th></th>\n",
       "      <th>Image</th>\n",
       "      <th>FuelFileIndex</th>\n",
       "      <th>NewLabel</th>\n",
       "      <th>NewLabel_V</th>\n",
       "    </tr>\n",
       "  </thead>\n",
       "  <tbody>\n",
       "    <tr>\n",
       "      <th>0</th>\n",
       "      <td>WIFIRE/Processed_Data/LabelledTiles_Fuel_Equal...</td>\n",
       "      <td>90</td>\n",
       "      <td>B</td>\n",
       "      <td>10</td>\n",
       "    </tr>\n",
       "    <tr>\n",
       "      <th>1</th>\n",
       "      <td>WIFIRE/Processed_Data/LabelledTiles_Fuel_Equal...</td>\n",
       "      <td>104</td>\n",
       "      <td>B</td>\n",
       "      <td>10</td>\n",
       "    </tr>\n",
       "    <tr>\n",
       "      <th>2</th>\n",
       "      <td>WIFIRE/Processed_Data/LabelledTiles_Fuel_Equal...</td>\n",
       "      <td>202</td>\n",
       "      <td>B</td>\n",
       "      <td>10</td>\n",
       "    </tr>\n",
       "    <tr>\n",
       "      <th>3</th>\n",
       "      <td>WIFIRE/Processed_Data/LabelledTiles_Fuel_Equal...</td>\n",
       "      <td>378</td>\n",
       "      <td>B</td>\n",
       "      <td>10</td>\n",
       "    </tr>\n",
       "    <tr>\n",
       "      <th>4</th>\n",
       "      <td>WIFIRE/Processed_Data/LabelledTiles_Fuel_Equal...</td>\n",
       "      <td>409</td>\n",
       "      <td>B</td>\n",
       "      <td>10</td>\n",
       "    </tr>\n",
       "  </tbody>\n",
       "</table>\n",
       "</div>"
      ],
      "text/plain": [
       "                                               Image  FuelFileIndex NewLabel  \\\n",
       "0  WIFIRE/Processed_Data/LabelledTiles_Fuel_Equal...             90        B   \n",
       "1  WIFIRE/Processed_Data/LabelledTiles_Fuel_Equal...            104        B   \n",
       "2  WIFIRE/Processed_Data/LabelledTiles_Fuel_Equal...            202        B   \n",
       "3  WIFIRE/Processed_Data/LabelledTiles_Fuel_Equal...            378        B   \n",
       "4  WIFIRE/Processed_Data/LabelledTiles_Fuel_Equal...            409        B   \n",
       "\n",
       "  NewLabel_V  \n",
       "0         10  \n",
       "1         10  \n",
       "2         10  \n",
       "3         10  \n",
       "4         10  "
      ]
     },
     "execution_count": 2,
     "metadata": {},
     "output_type": "execute_result"
    }
   ],
   "source": [
    "#Import Tiles Reference File (need new labels)\n",
    "TilesNL=pd.read_csv('WIFIRE/Processed_Data/LabelledTiles_Fuel_EqualArea/Reference_Fuel_EqualArea_18May2017_LabelsFromClustering.csv')\n",
    "#change labels to values\n",
    "Switch={'G':'1','S':'2','UF':'3','UG':'4','US':'5','UUF':'6','U':'7','W':'8','B':'10'}\n",
    "TilesNL[\"NewLabel_V\"]=TilesNL[\"NewLabel\"].apply(lambda x: Switch[x])\n",
    "TilesNL.head()"
   ]
  },
  {
   "cell_type": "code",
   "execution_count": 3,
   "metadata": {
    "collapsed": false
   },
   "outputs": [
    {
     "data": {
      "text/html": [
       "<div>\n",
       "<table border=\"1\" class=\"dataframe\">\n",
       "  <thead>\n",
       "    <tr style=\"text-align: right;\">\n",
       "      <th></th>\n",
       "      <th>FuelFileIndex</th>\n",
       "      <th>Label</th>\n",
       "      <th>Lat</th>\n",
       "      <th>Long</th>\n",
       "      <th>TileName</th>\n",
       "      <th>lrx</th>\n",
       "      <th>lry</th>\n",
       "      <th>ulx</th>\n",
       "      <th>uly</th>\n",
       "    </tr>\n",
       "  </thead>\n",
       "  <tbody>\n",
       "    <tr>\n",
       "      <th>0</th>\n",
       "      <td>0</td>\n",
       "      <td>91</td>\n",
       "      <td>33.1470269678005991</td>\n",
       "      <td>-117.205854862079065</td>\n",
       "      <td>/home/mcmccart/WIFIRE/Processed_Data/LabelledT...</td>\n",
       "      <td>-117.20570313436893</td>\n",
       "      <td>33.1468753676844</td>\n",
       "      <td>-117.2060065897892</td>\n",
       "      <td>33.1471785679168</td>\n",
       "    </tr>\n",
       "    <tr>\n",
       "      <th>1</th>\n",
       "      <td>1</td>\n",
       "      <td>1</td>\n",
       "      <td>33.1470269678005991</td>\n",
       "      <td>-117.205551406658813</td>\n",
       "      <td>/home/mcmccart/WIFIRE/Processed_Data/LabelledT...</td>\n",
       "      <td>-117.20539967894868</td>\n",
       "      <td>33.1468753676844</td>\n",
       "      <td>-117.20570313436895</td>\n",
       "      <td>33.1471785679168</td>\n",
       "    </tr>\n",
       "    <tr>\n",
       "      <th>2</th>\n",
       "      <td>2</td>\n",
       "      <td>1</td>\n",
       "      <td>33.1470269678005991</td>\n",
       "      <td>-117.205247951238547</td>\n",
       "      <td>/home/mcmccart/WIFIRE/Processed_Data/LabelledT...</td>\n",
       "      <td>-117.20509622352841</td>\n",
       "      <td>33.1468753676844</td>\n",
       "      <td>-117.20539967894868</td>\n",
       "      <td>33.1471785679168</td>\n",
       "    </tr>\n",
       "    <tr>\n",
       "      <th>3</th>\n",
       "      <td>3</td>\n",
       "      <td>91</td>\n",
       "      <td>33.1470269678005991</td>\n",
       "      <td>-117.204944495818296</td>\n",
       "      <td>/home/mcmccart/WIFIRE/Processed_Data/LabelledT...</td>\n",
       "      <td>-117.20479276810816</td>\n",
       "      <td>33.1468753676844</td>\n",
       "      <td>-117.20509622352843</td>\n",
       "      <td>33.1471785679168</td>\n",
       "    </tr>\n",
       "    <tr>\n",
       "      <th>4</th>\n",
       "      <td>4</td>\n",
       "      <td>91</td>\n",
       "      <td>33.1470269678005991</td>\n",
       "      <td>-117.20464104039803</td>\n",
       "      <td>/home/mcmccart/WIFIRE/Processed_Data/LabelledT...</td>\n",
       "      <td>-117.2044893126879</td>\n",
       "      <td>33.1468753676844</td>\n",
       "      <td>-117.20479276810816</td>\n",
       "      <td>33.1471785679168</td>\n",
       "    </tr>\n",
       "  </tbody>\n",
       "</table>\n",
       "</div>"
      ],
      "text/plain": [
       "   FuelFileIndex Label                  Lat                  Long  \\\n",
       "0              0    91  33.1470269678005991  -117.205854862079065   \n",
       "1              1     1  33.1470269678005991  -117.205551406658813   \n",
       "2              2     1  33.1470269678005991  -117.205247951238547   \n",
       "3              3    91  33.1470269678005991  -117.204944495818296   \n",
       "4              4    91  33.1470269678005991   -117.20464104039803   \n",
       "\n",
       "                                            TileName                  lrx  \\\n",
       "0  /home/mcmccart/WIFIRE/Processed_Data/LabelledT...  -117.20570313436893   \n",
       "1  /home/mcmccart/WIFIRE/Processed_Data/LabelledT...  -117.20539967894868   \n",
       "2  /home/mcmccart/WIFIRE/Processed_Data/LabelledT...  -117.20509622352841   \n",
       "3  /home/mcmccart/WIFIRE/Processed_Data/LabelledT...  -117.20479276810816   \n",
       "4  /home/mcmccart/WIFIRE/Processed_Data/LabelledT...   -117.2044893126879   \n",
       "\n",
       "                lry                  ulx               uly  \n",
       "0  33.1468753676844   -117.2060065897892  33.1471785679168  \n",
       "1  33.1468753676844  -117.20570313436895  33.1471785679168  \n",
       "2  33.1468753676844  -117.20539967894868  33.1471785679168  \n",
       "3  33.1468753676844  -117.20509622352843  33.1471785679168  \n",
       "4  33.1468753676844  -117.20479276810816  33.1471785679168  "
      ]
     },
     "execution_count": 3,
     "metadata": {},
     "output_type": "execute_result"
    }
   ],
   "source": [
    "#Import Tiles Reference File\n",
    "Tiles=pd.read_csv('WIFIRE/Processed_Data/LabelledTiles_Fuel_EqualArea/Reference_Fuel_EqualArea_18May2017.csv',dtype=object, index_col=0)\n",
    "Tiles[\"FuelFileIndex\"]=Tiles[\"FuelFileIndex\"].apply(lambda x: int(x))\n",
    "Tiles.head()"
   ]
  },
  {
   "cell_type": "code",
   "execution_count": 4,
   "metadata": {
    "collapsed": false
   },
   "outputs": [
    {
     "data": {
      "text/html": [
       "<div>\n",
       "<table border=\"1\" class=\"dataframe\">\n",
       "  <thead>\n",
       "    <tr style=\"text-align: right;\">\n",
       "      <th></th>\n",
       "      <th>FuelFileIndex</th>\n",
       "      <th>Label</th>\n",
       "      <th>Lat</th>\n",
       "      <th>Long</th>\n",
       "      <th>TileName</th>\n",
       "      <th>lrx</th>\n",
       "      <th>lry</th>\n",
       "      <th>ulx</th>\n",
       "      <th>uly</th>\n",
       "      <th>Image</th>\n",
       "      <th>NewLabel</th>\n",
       "      <th>NewLabel_V</th>\n",
       "    </tr>\n",
       "  </thead>\n",
       "  <tbody>\n",
       "    <tr>\n",
       "      <th>0</th>\n",
       "      <td>0</td>\n",
       "      <td>91</td>\n",
       "      <td>33.1470269678005991</td>\n",
       "      <td>-117.205854862079065</td>\n",
       "      <td>/home/mcmccart/WIFIRE/Processed_Data/LabelledT...</td>\n",
       "      <td>-117.20570313436893</td>\n",
       "      <td>33.1468753676844</td>\n",
       "      <td>-117.2060065897892</td>\n",
       "      <td>33.1471785679168</td>\n",
       "      <td>WIFIRE/Processed_Data/LabelledTiles_Fuel_Equal...</td>\n",
       "      <td>U</td>\n",
       "      <td>7</td>\n",
       "    </tr>\n",
       "    <tr>\n",
       "      <th>1</th>\n",
       "      <td>1</td>\n",
       "      <td>1</td>\n",
       "      <td>33.1470269678005991</td>\n",
       "      <td>-117.205551406658813</td>\n",
       "      <td>/home/mcmccart/WIFIRE/Processed_Data/LabelledT...</td>\n",
       "      <td>-117.20539967894868</td>\n",
       "      <td>33.1468753676844</td>\n",
       "      <td>-117.20570313436895</td>\n",
       "      <td>33.1471785679168</td>\n",
       "      <td>WIFIRE/Processed_Data/LabelledTiles_Fuel_Equal...</td>\n",
       "      <td>U</td>\n",
       "      <td>7</td>\n",
       "    </tr>\n",
       "    <tr>\n",
       "      <th>2</th>\n",
       "      <td>2</td>\n",
       "      <td>1</td>\n",
       "      <td>33.1470269678005991</td>\n",
       "      <td>-117.205247951238547</td>\n",
       "      <td>/home/mcmccart/WIFIRE/Processed_Data/LabelledT...</td>\n",
       "      <td>-117.20509622352841</td>\n",
       "      <td>33.1468753676844</td>\n",
       "      <td>-117.20539967894868</td>\n",
       "      <td>33.1471785679168</td>\n",
       "      <td>WIFIRE/Processed_Data/LabelledTiles_Fuel_Equal...</td>\n",
       "      <td>U</td>\n",
       "      <td>7</td>\n",
       "    </tr>\n",
       "    <tr>\n",
       "      <th>3</th>\n",
       "      <td>3</td>\n",
       "      <td>91</td>\n",
       "      <td>33.1470269678005991</td>\n",
       "      <td>-117.204944495818296</td>\n",
       "      <td>/home/mcmccart/WIFIRE/Processed_Data/LabelledT...</td>\n",
       "      <td>-117.20479276810816</td>\n",
       "      <td>33.1468753676844</td>\n",
       "      <td>-117.20509622352843</td>\n",
       "      <td>33.1471785679168</td>\n",
       "      <td>WIFIRE/Processed_Data/LabelledTiles_Fuel_Equal...</td>\n",
       "      <td>U</td>\n",
       "      <td>7</td>\n",
       "    </tr>\n",
       "    <tr>\n",
       "      <th>4</th>\n",
       "      <td>4</td>\n",
       "      <td>91</td>\n",
       "      <td>33.1470269678005991</td>\n",
       "      <td>-117.20464104039803</td>\n",
       "      <td>/home/mcmccart/WIFIRE/Processed_Data/LabelledT...</td>\n",
       "      <td>-117.2044893126879</td>\n",
       "      <td>33.1468753676844</td>\n",
       "      <td>-117.20479276810816</td>\n",
       "      <td>33.1471785679168</td>\n",
       "      <td>WIFIRE/Processed_Data/LabelledTiles_Fuel_Equal...</td>\n",
       "      <td>U</td>\n",
       "      <td>7</td>\n",
       "    </tr>\n",
       "  </tbody>\n",
       "</table>\n",
       "</div>"
      ],
      "text/plain": [
       "   FuelFileIndex Label                  Lat                  Long  \\\n",
       "0              0    91  33.1470269678005991  -117.205854862079065   \n",
       "1              1     1  33.1470269678005991  -117.205551406658813   \n",
       "2              2     1  33.1470269678005991  -117.205247951238547   \n",
       "3              3    91  33.1470269678005991  -117.204944495818296   \n",
       "4              4    91  33.1470269678005991   -117.20464104039803   \n",
       "\n",
       "                                            TileName                  lrx  \\\n",
       "0  /home/mcmccart/WIFIRE/Processed_Data/LabelledT...  -117.20570313436893   \n",
       "1  /home/mcmccart/WIFIRE/Processed_Data/LabelledT...  -117.20539967894868   \n",
       "2  /home/mcmccart/WIFIRE/Processed_Data/LabelledT...  -117.20509622352841   \n",
       "3  /home/mcmccart/WIFIRE/Processed_Data/LabelledT...  -117.20479276810816   \n",
       "4  /home/mcmccart/WIFIRE/Processed_Data/LabelledT...   -117.2044893126879   \n",
       "\n",
       "                lry                  ulx               uly  \\\n",
       "0  33.1468753676844   -117.2060065897892  33.1471785679168   \n",
       "1  33.1468753676844  -117.20570313436895  33.1471785679168   \n",
       "2  33.1468753676844  -117.20539967894868  33.1471785679168   \n",
       "3  33.1468753676844  -117.20509622352843  33.1471785679168   \n",
       "4  33.1468753676844  -117.20479276810816  33.1471785679168   \n",
       "\n",
       "                                               Image NewLabel NewLabel_V  \n",
       "0  WIFIRE/Processed_Data/LabelledTiles_Fuel_Equal...        U          7  \n",
       "1  WIFIRE/Processed_Data/LabelledTiles_Fuel_Equal...        U          7  \n",
       "2  WIFIRE/Processed_Data/LabelledTiles_Fuel_Equal...        U          7  \n",
       "3  WIFIRE/Processed_Data/LabelledTiles_Fuel_Equal...        U          7  \n",
       "4  WIFIRE/Processed_Data/LabelledTiles_Fuel_Equal...        U          7  "
      ]
     },
     "execution_count": 4,
     "metadata": {},
     "output_type": "execute_result"
    }
   ],
   "source": [
    "Tiles=pd.merge(Tiles, TilesNL,on='FuelFileIndex',how='left')\n",
    "Tiles.head()"
   ]
  },
  {
   "cell_type": "code",
   "execution_count": 7,
   "metadata": {
    "collapsed": false
   },
   "outputs": [
    {
     "data": {
      "text/plain": [
       "0"
      ]
     },
     "execution_count": 7,
     "metadata": {},
     "output_type": "execute_result"
    }
   ],
   "source": [
    "Tiles[['Long','Lat','NewLabel_V']].to_csv('Fuel2014_NewLabels.xyz',sep=' ', index=False, header=False)\n",
    "gdal_str=\"/opt/anaconda3/bin/gdal_translate Fuel2014_NewLabels.xyz Fuel2014_NewLabels.tif\"\n",
    "os.system(gdal_str)"
   ]
  },
  {
   "cell_type": "code",
   "execution_count": 8,
   "metadata": {
    "collapsed": false
   },
   "outputs": [
    {
     "data": {
      "text/plain": [
       "0"
      ]
     },
     "execution_count": 8,
     "metadata": {},
     "output_type": "execute_result"
    }
   ],
   "source": [
    "Tiles[['Long','Lat','Label']].to_csv('Fuel2014_OriginalLabels.xyz',sep=' ', index=False, header=False)\n",
    "gdal_str=\"/opt/anaconda3/bin/gdal_translate Fuel2014_OriginalLabels.xyz Fuel2014_OriginalLabels.tif\"\n",
    "os.system(gdal_str)"
   ]
  },
  {
   "cell_type": "code",
   "execution_count": null,
   "metadata": {
    "collapsed": true
   },
   "outputs": [],
   "source": []
  }
 ],
 "metadata": {
  "kernelspec": {
   "display_name": "Python 3 conda",
   "language": "python",
   "name": "conda"
  },
  "language_info": {
   "codemirror_mode": {
    "name": "ipython",
    "version": 3
   },
   "file_extension": ".py",
   "mimetype": "text/x-python",
   "name": "python",
   "nbconvert_exporter": "python",
   "pygments_lexer": "ipython3",
   "version": "3.5.2"
  }
 },
 "nbformat": 4,
 "nbformat_minor": 2
}
