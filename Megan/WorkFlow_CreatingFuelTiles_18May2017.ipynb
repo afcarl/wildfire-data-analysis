{
 "cells": [
  {
   "cell_type": "markdown",
   "metadata": {},
   "source": [
    "## Data Prep Work Flow : Fuel Tiles"
   ]
  },
  {
   "cell_type": "code",
   "execution_count": 1,
   "metadata": {
    "collapsed": true
   },
   "outputs": [],
   "source": [
    "import gdal\n",
    "import osr\n",
    "import os, sys\n",
    "import pandas as pd\n",
    "import matplotlib.pyplot as plt\n",
    "%matplotlib inline"
   ]
  },
  {
   "cell_type": "code",
   "execution_count": 2,
   "metadata": {
    "collapsed": true
   },
   "outputs": [],
   "source": [
    "DG='/home/mcmccart/WIFIRE/Raw_Data/DigitalGlobe/'\n",
    "LF='/home/mcmccart/WIFIRE/Raw_Data/LANDFIRE/'\n",
    "Clip='/home/mcmccart/WIFIRE/Data_Prep_Work_Flow/Clipped_Files/'\n",
    "Proj='/home/mcmccart/WIFIRE/Data_Prep_Work_Flow/ReProj_Files/'\n",
    "Tile='/home/mcmccart/WIFIRE/Processed_Data/LabelledTiles_Fuel_EqualArea/TIFF_Files/'"
   ]
  },
  {
   "cell_type": "code",
   "execution_count": 3,
   "metadata": {
    "collapsed": true
   },
   "outputs": [],
   "source": [
    "def ClipFile(SE,FileName,OutFile):\n",
    "    #Input:\n",
    "        # SE - Spatial Extent - [x1, y1, x2, y2]\n",
    "        # Filename - name of file you wish to clip\n",
    "    # OutFile - name of file you want to create\n",
    "    gdal_str=\"/opt/anaconda3/bin/gdal_translate -projwin \"+str.format('{0:.13f}', SE[0])+\\\n",
    "    \" \"+str.format('{0:.13f}', SE[1])+\" \"+str.format('{0:.13f}', SE[2])+\\\n",
    "    \" \"+str.format('{0:.13f}', SE[3])+\" \"+FileName+\" \"+OutFile\n",
    "    os.system(gdal_str)\n",
    "        \n",
    "def GrabCornerCoordinates(FileName):\n",
    "    src = gdal.Open(FileName)\n",
    "    ulx, xres, xskew, uly, yskew, yres  = src.GetGeoTransform()\n",
    "    lrx = ulx + (src.RasterXSize * xres)\n",
    "    lry = uly + (src.RasterYSize * yres)\n",
    "    return [ulx,uly,lrx,lry]\n",
    "        \n",
    "def IntersectBox(CC1,CC2):\n",
    "    # Import:  Corner Coordinates in [Upper Left Long, Upper Left Lat, Lower Right Long, Lower Right Lat]\n",
    "    # Note -- Assuming coordinates are in San Diego (aka - Long and + Lat)\n",
    "    \n",
    "    #Upper Left:\n",
    "    ulx=max(CC1[0],CC2[0])\n",
    "    uly=min(CC1[1],CC2[1])\n",
    "    \n",
    "    #Lower Right:\n",
    "    lrx=min(CC1[2],CC2[2])\n",
    "    lry=max(CC1[3],CC2[3])\n",
    "    \n",
    "    return [ulx,uly,lrx,lry]\n",
    "\n",
    "def ToWGS84(FileName,OutName):\n",
    "    gdal_str=\"/opt/anaconda3/bin/gdalwarp -t_srs wgs84 \"+FileName +\" \"+OutName\n",
    "    print(gdal_str)\n",
    "    os.system(gdal_str)\n",
    "    \n",
    "def ToXYZ(FileName, OutName):\n",
    "    gdal_str=\"/opt/anaconda3/bin/gdal_translate -of XYZ \"+FileName +\" \"+OutName\n",
    "    print(gdal_str)\n",
    "    os.system(gdal_str)\n",
    "    \n",
    "def ImportXYZ(FileName,labelName):\n",
    "    DF=pd.read_table(FileName, header=None)\n",
    "    DF.columns=['Row']\n",
    "    DF[\"Long\"]=DF[\"Row\"].apply(lambda x: float(x.split(\" \")[0]))\n",
    "    DF[\"Lat\"]=DF[\"Row\"].apply(lambda x: float(x.split(\" \")[1]))\n",
    "    DF[labelName]=DF[\"Row\"].apply(lambda x: x.split(\" \")[2])\n",
    "    del DF[\"Row\"]\n",
    "    return DF\n",
    "\n",
    "def Check_PlotExtentions(boxes,SE,plotname=None):\n",
    "    #Input:\n",
    "        #boxes -- dict of corner points (aka list of list), with [Upper Left Long, Upper Left Lat, Lower Right Long, Lower Right Lat]\n",
    "    i=0\n",
    "    color1=['-k','-b','-g','-m','-o','-c']\n",
    "    plt.figure(figsize=(12,8))\n",
    "    for k in boxes.keys():\n",
    "        X=[boxes[k][0],boxes[k][2],boxes[k][2],boxes[k][0],boxes[k][0]]\n",
    "        Y=[boxes[k][1],boxes[k][1],boxes[k][3],boxes[k][3],boxes[k][1]]\n",
    "        plt.plot(X,Y,color1[i],label=k,linewidth=2.0)\n",
    "        i+=1\n",
    "    \n",
    "    i=0\n",
    "    color2=['--r','--y','--c','--o','--g']\n",
    "    for k in SE:\n",
    "        X=[SE[k][0],SE[k][2],SE[k][2],SE[k][0],SE[k][0]]\n",
    "        Y=[SE[k][1],SE[k][1],SE[k][3],SE[k][3],SE[k][1]]\n",
    "        plt.plot(X,Y,color2[i],label=k,linewidth=4.0) \n",
    "        i+=1\n",
    "        \n",
    "    plt.legend(loc='center left', bbox_to_anchor=(1, 0.5))\n",
    "    \n",
    "    if plotname!= None:\n",
    "        plt.savefig(plotname+'.png')\n",
    "        \n",
    "def GetBorder(cx,cy,xres,yres):\n",
    "    ulx=cx-0.5*xres\n",
    "    uly=cy-0.5*yres\n",
    "    lrx=ulx+xres\n",
    "    lry=uly+yres\n",
    "    return [ulx,uly,lrx,lry]\n",
    "\n",
    "def GrabRes(FileName):\n",
    "    src = gdal.Open(FileName)\n",
    "    ulx, xres, xskew, uly, yskew, yres  = src.GetGeoTransform()\n",
    "    return [xres,yres]"
   ]
  },
  {
   "cell_type": "markdown",
   "metadata": {},
   "source": [
    "Clip  all Fuel Years to the same spatial extent and then Re-Project onto  WGS84"
   ]
  },
  {
   "cell_type": "code",
   "execution_count": 35,
   "metadata": {
    "collapsed": false
   },
   "outputs": [],
   "source": [
    "fuel2014=GrabCornerCoordinates(LF+'sandiego-fuel-2014.tif')\n",
    "fuel2012=GrabCornerCoordinates(LF+'sandiego-fuel-2012.tif')\n",
    "fuel2010=GrabCornerCoordinates(LF+'sandiego-fuel-2010.tif')\n",
    "\n",
    "# Vegetation too\n",
    "veg2014=GrabCornerCoordinates(LF+'sandiego-vegtype-2014.tif')\n",
    "veg2012=GrabCornerCoordinates(LF+'sandiego-vegtype-2012.tif')\n",
    "veg2010=GrabCornerCoordinates(LF+'sandiego-vegtype-2010.tif')"
   ]
  },
  {
   "cell_type": "code",
   "execution_count": 37,
   "metadata": {
    "collapsed": false
   },
   "outputs": [
    {
     "data": {
      "image/png": "[encoded data removed]",
      "text/plain": [
       "<matplotlib.figure.Figure at 0x7f582fa94080>"
      ]
     },
     "metadata": {},
     "output_type": "display_data"
    }
   ],
   "source": [
    "#Find Spatial Extent of LandFire & Sat data\n",
    "f10_12=IntersectBox(fuel2010,fuel2012)\n",
    "f10_12_14=IntersectBox(f10_12,fuel2014)\n",
    "v10_f=IntersectBox(f10_12_14,veg2010)\n",
    "V10_12_f=IntersectBox(v10_f,veg2012)\n",
    "SE=IntersectBox(V10_12_f,veg2014)\n",
    "\n",
    "\n",
    "data={'F2010':fuel2010,'F2012': fuel2012,'F2014': fuel2014,'V2010':veg2010,'V2012': veg2012,'V2014': veg2014}\n",
    "intersect={'Total Spatial Extent':SE}\n",
    "Check_PlotExtentions(data,intersect)"
   ]
  },
  {
   "cell_type": "code",
   "execution_count": 38,
   "metadata": {
    "collapsed": true
   },
   "outputs": [],
   "source": [
    "ClipFile(SE,LF+'sandiego-fuel-2014.tif',Clip+'Clip_SanDiego_Fuel2014_UTM.tif')\n",
    "ClipFile(SE,LF+'sandiego-fuel-2012.tif',Clip+'Clip_SanDiego_Fuel2012_UTM.tif')\n",
    "ClipFile(SE,LF+'sandiego-fuel-2010.tif',Clip+'Clip_SanDiego_Fuel2010_UTM.tif')\n",
    "\n",
    "ClipFile(SE,LF+'sandiego-vegtype-2014.tif',Clip+'Clip_SanDiego_Veg2014_UTM.tif')\n",
    "ClipFile(SE,LF+'sandiego-vegtype-2012.tif',Clip+'Clip_SanDiego_Veg2012_UTM.tif')\n",
    "ClipFile(SE,LF+'sandiego-vegtype-2010.tif',Clip+'Clip_SanDiego_Veg2010_UTM.tif')"
   ]
  },
  {
   "cell_type": "code",
   "execution_count": 39,
   "metadata": {
    "collapsed": false
   },
   "outputs": [
    {
     "name": "stdout",
     "output_type": "stream",
     "text": [
      "/opt/anaconda3/bin/gdalwarp -t_srs wgs84 /home/mcmccart/WIFIRE/Data_Prep_Work_Flow/Clipped_Files/Clip_SanDiego_Fuel2014_UTM.tif /home/mcmccart/WIFIRE/Data_Prep_Work_Flow/ReProj_Files/Clip_SanDiego_Fuel2014_UTM_ReProj.tif\n",
      "/opt/anaconda3/bin/gdalwarp -t_srs wgs84 /home/mcmccart/WIFIRE/Data_Prep_Work_Flow/Clipped_Files/Clip_SanDiego_Fuel2012_UTM.tif /home/mcmccart/WIFIRE/Data_Prep_Work_Flow/ReProj_Files/Clip_SanDiego_Fuel2012_UTM_ReProj.tif\n",
      "/opt/anaconda3/bin/gdalwarp -t_srs wgs84 /home/mcmccart/WIFIRE/Data_Prep_Work_Flow/Clipped_Files/Clip_SanDiego_Fuel2010_UTM.tif /home/mcmccart/WIFIRE/Data_Prep_Work_Flow/ReProj_Files/Clip_SanDiego_Fuel2010_UTM_ReProj.tif\n",
      "/opt/anaconda3/bin/gdalwarp -t_srs wgs84 /home/mcmccart/WIFIRE/Data_Prep_Work_Flow/Clipped_Files/Clip_SanDiego_Veg2014_UTM.tif /home/mcmccart/WIFIRE/Data_Prep_Work_Flow/ReProj_Files/Clip_SanDiego_Veg2014_UTM_ReProj.tif\n",
      "/opt/anaconda3/bin/gdalwarp -t_srs wgs84 /home/mcmccart/WIFIRE/Data_Prep_Work_Flow/Clipped_Files/Clip_SanDiego_Veg2012_UTM.tif /home/mcmccart/WIFIRE/Data_Prep_Work_Flow/ReProj_Files/Clip_SanDiego_Veg2012_UTM_ReProj.tif\n",
      "/opt/anaconda3/bin/gdalwarp -t_srs wgs84 /home/mcmccart/WIFIRE/Data_Prep_Work_Flow/Clipped_Files/Clip_SanDiego_Veg2010_UTM.tif /home/mcmccart/WIFIRE/Data_Prep_Work_Flow/ReProj_Files/Clip_SanDiego_Veg2010_UTM_ReProj.tif\n"
     ]
    }
   ],
   "source": [
    "ToWGS84(Clip+'Clip_SanDiego_Fuel2014_UTM.tif',Proj+'Clip_SanDiego_Fuel2014_UTM_ReProj.tif')\n",
    "ToWGS84(Clip+'Clip_SanDiego_Fuel2012_UTM.tif',Proj+'Clip_SanDiego_Fuel2012_UTM_ReProj.tif')\n",
    "ToWGS84(Clip+'Clip_SanDiego_Fuel2010_UTM.tif',Proj+'Clip_SanDiego_Fuel2010_UTM_ReProj.tif')\n",
    "\n",
    "ToWGS84(Clip+'Clip_SanDiego_Veg2014_UTM.tif',Proj+'Clip_SanDiego_Veg2014_UTM_ReProj.tif')\n",
    "ToWGS84(Clip+'Clip_SanDiego_Veg2012_UTM.tif',Proj+'Clip_SanDiego_Veg2012_UTM_ReProj.tif')\n",
    "ToWGS84(Clip+'Clip_SanDiego_Veg2010_UTM.tif',Proj+'Clip_SanDiego_Veg2010_UTM_ReProj.tif')"
   ]
  },
  {
   "cell_type": "markdown",
   "metadata": {},
   "source": [
    "Clip Fuel and Satellite data to the same \"Escondido\" spatial extent"
   ]
  },
  {
   "cell_type": "code",
   "execution_count": 40,
   "metadata": {
    "collapsed": true
   },
   "outputs": [],
   "source": [
    "sat2014=GrabCornerCoordinates(DG+'Escondido2014.tif')\n",
    "sat2012=GrabCornerCoordinates(DG+'Escondido2012v3.tif')\n",
    "sat2010=GrabCornerCoordinates(DG+'escondido2010.tif')"
   ]
  },
  {
   "cell_type": "code",
   "execution_count": 41,
   "metadata": {
    "collapsed": false
   },
   "outputs": [
    {
     "data": {
      "image/png": "[encoded data removed]",
      "text/plain": [
       "<matplotlib.figure.Figure at 0x7f582fab0e48>"
      ]
     },
     "metadata": {},
     "output_type": "display_data"
    }
   ],
   "source": [
    "#Find Spatial Extent of LandFire & Sat data\n",
    "s10_12=IntersectBox(sat2010,sat2012)\n",
    "SE=IntersectBox(s10_12,sat2014)\n",
    "\n",
    "\n",
    "data={'sat2010':sat2010,'sat2012': sat2012,'sat2014': sat2014}\n",
    "intersect={'Total Spatial Extent':SE}\n",
    "Check_PlotExtentions(data,intersect)"
   ]
  },
  {
   "cell_type": "code",
   "execution_count": 42,
   "metadata": {
    "collapsed": false
   },
   "outputs": [
    {
     "data": {
      "text/plain": [
       "[-117.2060065897892,\n",
       " 33.147178567916804,\n",
       " -117.10070755895937,\n",
       " 33.01953127007837]"
      ]
     },
     "execution_count": 42,
     "metadata": {},
     "output_type": "execute_result"
    }
   ],
   "source": [
    "SE"
   ]
  },
  {
   "cell_type": "code",
   "execution_count": 43,
   "metadata": {
    "collapsed": false
   },
   "outputs": [
    {
     "name": "stdout",
     "output_type": "stream",
     "text": [
      "[-117.2060065897892, 33.1471785679168, -117.1007075589594, 33.0195312700784]\n"
     ]
    },
    {
     "data": {
      "image/png": "[encoded data removed]",
      "text/plain": [
       "<matplotlib.figure.Figure at 0x7f582fab08d0>"
      ]
     },
     "metadata": {},
     "output_type": "display_data"
    }
   ],
   "source": [
    "# Have to Clip Fuel first then recalculate spatial extent based on those clips\n",
    "# We then clip Satellite data to this new spatial extent.  Higher resolution satellite data approximates the Lower resolution Fuel data\n",
    "ClipFile(SE,Proj+'Clip_SanDiego_Fuel2014_UTM_ReProj.tif',Clip+'Clip_Fuel2014_Escondido_18May2017.tif')\n",
    "ClipFile(SE,Proj+'Clip_SanDiego_Fuel2012_UTM_ReProj.tif',Clip+'Clip_Fuel2012_Escondido_18May2017.tif')\n",
    "ClipFile(SE,Proj+'Clip_SanDiego_Fuel2010_UTM_ReProj.tif',Clip+'Clip_Fuel2010_Escondido_18May2017.tif')\n",
    "ClipFile(SE,Proj+'Clip_SanDiego_Veg2014_UTM_ReProj.tif',Clip+'Clip_Veg2014_Escondido_18May2017.tif')\n",
    "ClipFile(SE,Proj+'Clip_SanDiego_Veg2012_UTM_ReProj.tif',Clip+'Clip_Veg2012_Escondido_18May2017.tif')\n",
    "ClipFile(SE,Proj+'Clip_SanDiego_Veg2010_UTM_ReProj.tif',Clip+'Clip_Veg2010_Escondido_18May2017.tif')\n",
    "\n",
    "f14=GrabCornerCoordinates(Clip+'Clip_Fuel2014_Escondido_18May2017.tif')\n",
    "f12=GrabCornerCoordinates(Clip+'Clip_Fuel2012_Escondido_18May2017.tif')\n",
    "f10=GrabCornerCoordinates(Clip+'Clip_Fuel2010_Escondido_18May2017.tif')\n",
    "f10_12=IntersectBox(f10,f12)\n",
    "SE2=IntersectBox(f10_12,f14)\n",
    "data={'2010':f10,'2012': f12,'2014': f14}\n",
    "intersect={'Total Spatial Extent':SE2}\n",
    "Check_PlotExtentions(data,intersect)\n",
    "print (SE2)\n",
    "\n",
    "ClipFile(SE,DG+'Escondido2014.tif',Clip+'Clip_Sat2014_Escondido_18May2017.tif')\n",
    "ClipFile(SE,DG+'Escondido2012v3.tif',Clip+'Clip_Sat2012_Escondido_18May2017.tif')\n",
    "ClipFile(SE,DG+'escondido2010.tif',Clip+'Clip_Sat2010_Escondido_18May2017.tif')"
   ]
  },
  {
   "cell_type": "markdown",
   "metadata": {},
   "source": [
    "Now we make the Tiles.  We will create a Tile for every pixel in Fuel.  To do this we  convert Fuel  into XYZ files, which contain lat/long of center & label, then step through each pixel and create corrresponding satelitte tile"
   ]
  },
  {
   "cell_type": "code",
   "execution_count": 44,
   "metadata": {
    "collapsed": false
   },
   "outputs": [
    {
     "name": "stdout",
     "output_type": "stream",
     "text": [
      "/opt/anaconda3/bin/gdal_translate -of XYZ /home/mcmccart/WIFIRE/Data_Prep_Work_Flow/Clipped_Files/Clip_Fuel2014_Escondido_18May2017.tif /home/mcmccart/WIFIRE/Data_Prep_Work_Flow/Clipped_Files/Clip_Fuel2014_Escondido_18May2017.xyz\n"
     ]
    }
   ],
   "source": [
    "ToXYZ(Clip+'Clip_Fuel2014_Escondido_18May2017.tif', Clip+'Clip_Fuel2014_Escondido_18May2017.xyz')"
   ]
  },
  {
   "cell_type": "code",
   "execution_count": 4,
   "metadata": {
    "collapsed": true
   },
   "outputs": [],
   "source": [
    "def ImportPreserve(FileName,labelName):\n",
    "    DF=pd.read_table(FileName, header=None)\n",
    "    DF.columns=['Row']\n",
    "    DF[\"Long\"]=DF[\"Row\"].apply(lambda x: x.split(\" \")[0])\n",
    "    DF[\"Lat\"]=DF[\"Row\"].apply(lambda x: x.split(\" \")[1])\n",
    "    DF[labelName]=DF[\"Row\"].apply(lambda x: x.split(\" \")[2])\n",
    "    del DF[\"Row\"]\n",
    "    return DF"
   ]
  },
  {
   "cell_type": "code",
   "execution_count": 47,
   "metadata": {
    "collapsed": false
   },
   "outputs": [
    {
     "data": {
      "text/html": [
       "<div>\n",
       "<table border=\"1\" class=\"dataframe\">\n",
       "  <thead>\n",
       "    <tr style=\"text-align: right;\">\n",
       "      <th></th>\n",
       "      <th>Long</th>\n",
       "      <th>Lat</th>\n",
       "      <th>Fuel</th>\n",
       "      <th>Index</th>\n",
       "    </tr>\n",
       "  </thead>\n",
       "  <tbody>\n",
       "    <tr>\n",
       "      <th>0</th>\n",
       "      <td>-117.205854862079065</td>\n",
       "      <td>33.1470269678005991</td>\n",
       "      <td>91</td>\n",
       "      <td>0</td>\n",
       "    </tr>\n",
       "    <tr>\n",
       "      <th>1</th>\n",
       "      <td>-117.205551406658813</td>\n",
       "      <td>33.1470269678005991</td>\n",
       "      <td>1</td>\n",
       "      <td>1</td>\n",
       "    </tr>\n",
       "    <tr>\n",
       "      <th>2</th>\n",
       "      <td>-117.205247951238547</td>\n",
       "      <td>33.1470269678005991</td>\n",
       "      <td>1</td>\n",
       "      <td>2</td>\n",
       "    </tr>\n",
       "    <tr>\n",
       "      <th>3</th>\n",
       "      <td>-117.204944495818296</td>\n",
       "      <td>33.1470269678005991</td>\n",
       "      <td>91</td>\n",
       "      <td>3</td>\n",
       "    </tr>\n",
       "    <tr>\n",
       "      <th>4</th>\n",
       "      <td>-117.20464104039803</td>\n",
       "      <td>33.1470269678005991</td>\n",
       "      <td>91</td>\n",
       "      <td>4</td>\n",
       "    </tr>\n",
       "  </tbody>\n",
       "</table>\n",
       "</div>"
      ],
      "text/plain": [
       "                   Long                  Lat Fuel  Index\n",
       "0  -117.205854862079065  33.1470269678005991   91      0\n",
       "1  -117.205551406658813  33.1470269678005991    1      1\n",
       "2  -117.205247951238547  33.1470269678005991    1      2\n",
       "3  -117.204944495818296  33.1470269678005991   91      3\n",
       "4   -117.20464104039803  33.1470269678005991   91      4"
      ]
     },
     "execution_count": 47,
     "metadata": {},
     "output_type": "execute_result"
    }
   ],
   "source": [
    "# Note:  We are only using 2014 data in our model\n",
    "Fuel2014=ImportPreserve(Clip+'Clip_Fuel2014_Escondido_18May2017.xyz','Fuel')\n",
    "Fuel2014[\"Index\"]=Fuel2014.index\n",
    "Fuel2014[\"Index\"].apply(lambda x: str(x))\n",
    "\n",
    "\n",
    "# Save the pixel Index into a XYZ file\n",
    "Fuel2014[[\"Long\", \"Lat\",\"Index\"]].to_csv(Clip+'Clip_Fuel2014_Escondido_18May2017_IndexOnly.xyz',sep=' ', index=False, header=False)\n",
    "\n",
    "\n",
    "Fuel2014.head()"
   ]
  },
  {
   "cell_type": "code",
   "execution_count": 5,
   "metadata": {
    "collapsed": false
   },
   "outputs": [],
   "source": [
    "# Steps to making Tiles:\n",
    "    #1. Find the spatial extent of each fuel pixel\n",
    "    #2. Clip the corresponding spatial extent from satelitte data\n",
    "\n",
    "def CreateTiles(FileName,DF,label,SatFileName,TileFileName):\n",
    "    [xres,yres]=GrabRes(FileName)\n",
    "    poly=[]\n",
    "    ULX=[]\n",
    "    ULY=[]\n",
    "    LRX=[]\n",
    "    LRY=[]\n",
    "    TileName=[]\n",
    "    i=0\n",
    "    for index, row in DF.iterrows():\n",
    "        ulx,uly,lrx,lry=GetBorder(float(row[\"Long\"]),float(row[\"Lat\"]),xres,yres)\n",
    "        ULX.append(ulx)\n",
    "        ULY.append(uly)\n",
    "        LRX.append(lrx)\n",
    "        LRY.append(lry)\n",
    "        tn=TileFileName+\"_Idx\"+str(row[\"Index\"])+\"_\"+str(row[\"Fuel\"])+\".tif\"\n",
    "        TileName.append(tn)\n",
    "        ClipFile([ulx,uly,lrx,lry],SatFileName,tn)\n",
    "        if i%1000==0:\n",
    "            print(i)\n",
    "        i+=1\n",
    "        \n",
    "    DF_Tiles=pd.DataFrame({'Long':list(DF['Long'].values),'Lat':list(DF['Lat'].values),'Label':list(DF['Fuel'].values),'FuelFileIndex':list(DF['Index'].values),\"ulx\":ULX,\"uly\":ULY,\"lrx\":LRX,\"lry\":LRY,'TileName':TileName})\n",
    "\n",
    "    return DF_Tiles\n",
    "\n"
   ]
  },
  {
   "cell_type": "code",
   "execution_count": 52,
   "metadata": {
    "collapsed": false
   },
   "outputs": [
    {
     "name": "stdout",
     "output_type": "stream",
     "text": [
      "0\n",
      "1000\n",
      "2000\n",
      "3000\n",
      "4000\n",
      "5000\n",
      "6000\n",
      "7000\n",
      "8000\n",
      "9000\n",
      "10000\n",
      "11000\n",
      "12000\n",
      "13000\n",
      "14000\n",
      "15000\n",
      "16000\n",
      "17000\n",
      "18000\n",
      "19000\n",
      "20000\n",
      "21000\n",
      "22000\n",
      "23000\n",
      "24000\n",
      "25000\n",
      "26000\n",
      "27000\n",
      "28000\n",
      "29000\n",
      "30000\n",
      "31000\n",
      "32000\n",
      "33000\n",
      "34000\n",
      "35000\n",
      "36000\n",
      "37000\n",
      "38000\n",
      "39000\n",
      "40000\n",
      "41000\n",
      "42000\n",
      "43000\n",
      "44000\n",
      "45000\n",
      "46000\n",
      "47000\n",
      "48000\n",
      "49000\n",
      "50000\n",
      "51000\n",
      "52000\n",
      "53000\n",
      "54000\n",
      "55000\n",
      "56000\n",
      "57000\n",
      "58000\n",
      "59000\n",
      "60000\n",
      "61000\n",
      "62000\n",
      "63000\n",
      "64000\n",
      "65000\n",
      "66000\n",
      "67000\n",
      "68000\n",
      "69000\n",
      "70000\n",
      "71000\n",
      "72000\n",
      "73000\n",
      "74000\n",
      "75000\n",
      "76000\n",
      "77000\n",
      "78000\n",
      "79000\n",
      "80000\n",
      "81000\n",
      "82000\n",
      "83000\n",
      "84000\n",
      "85000\n",
      "86000\n",
      "87000\n",
      "88000\n",
      "89000\n",
      "90000\n",
      "91000\n",
      "92000\n",
      "93000\n",
      "94000\n",
      "95000\n",
      "96000\n",
      "97000\n",
      "98000\n",
      "99000\n",
      "100000\n",
      "101000\n",
      "102000\n",
      "103000\n",
      "104000\n",
      "105000\n",
      "106000\n",
      "107000\n",
      "108000\n",
      "109000\n",
      "110000\n",
      "111000\n",
      "112000\n",
      "113000\n",
      "114000\n",
      "115000\n",
      "116000\n",
      "117000\n",
      "118000\n",
      "119000\n",
      "120000\n",
      "121000\n",
      "122000\n",
      "123000\n",
      "124000\n",
      "125000\n",
      "126000\n",
      "127000\n",
      "128000\n",
      "129000\n",
      "130000\n",
      "131000\n",
      "132000\n",
      "133000\n",
      "134000\n",
      "135000\n",
      "136000\n",
      "137000\n",
      "138000\n",
      "139000\n",
      "140000\n",
      "141000\n",
      "142000\n",
      "143000\n",
      "144000\n",
      "145000\n",
      "146000\n"
     ]
    }
   ],
   "source": [
    "#Make 2014 Fuel Tiles\n",
    "Fuel2014_Tiles=CreateTiles(Clip+'Clip_Fuel2014_Escondido_18May2017.xyz',Fuel2014,'Fuel',Clip+'Clip_Sat2014_Escondido_18May2017.tif',Tile+'FuelTile_2014_Created18May2017')\n"
   ]
  },
  {
   "cell_type": "code",
   "execution_count": 61,
   "metadata": {
    "collapsed": true
   },
   "outputs": [],
   "source": [
    "\n",
    "Fuel2014_Tiles.to_csv('/home/mcmccart/WIFIRE/Processed_Data/LabelledTiles_Fuel_EqualArea/Reference_Fuel_EqualArea_18May2017.csv')"
   ]
  },
  {
   "cell_type": "markdown",
   "metadata": {},
   "source": [
    "Now lets go ahead and do the joins necessary for  Transition Analysis and Veg to Fuel mapping"
   ]
  },
  {
   "cell_type": "code",
   "execution_count": 54,
   "metadata": {
    "collapsed": false
   },
   "outputs": [
    {
     "name": "stdout",
     "output_type": "stream",
     "text": [
      "/opt/anaconda3/bin/gdal_translate -of XYZ /home/mcmccart/WIFIRE/Data_Prep_Work_Flow/Clipped_Files/Clip_Fuel2012_Escondido_18May2017.tif /home/mcmccart/WIFIRE/Data_Prep_Work_Flow/Clipped_Files/Clip_Fuel2012_Escondido_18May2017.xyz\n",
      "/opt/anaconda3/bin/gdal_translate -of XYZ /home/mcmccart/WIFIRE/Data_Prep_Work_Flow/Clipped_Files/Clip_Fuel2010_Escondido_18May2017.tif /home/mcmccart/WIFIRE/Data_Prep_Work_Flow/Clipped_Files/Clip_Fuel2010_Escondido_18May2017.xyz\n",
      "/opt/anaconda3/bin/gdal_translate -of XYZ /home/mcmccart/WIFIRE/Data_Prep_Work_Flow/Clipped_Files/Clip_Veg2014_Escondido_18May2017.tif /home/mcmccart/WIFIRE/Data_Prep_Work_Flow/Clipped_Files/Clip_Veg2014_Escondido_18May2017.xyz\n"
     ]
    }
   ],
   "source": [
    "ToXYZ(Clip+'Clip_Fuel2012_Escondido_18May2017.tif', Clip+'Clip_Fuel2012_Escondido_18May2017.xyz')\n",
    "ToXYZ(Clip+'Clip_Fuel2010_Escondido_18May2017.tif', Clip+'Clip_Fuel2010_Escondido_18May2017.xyz')\n",
    "\n",
    "ToXYZ(Clip+'Clip_Veg2014_Escondido_18May2017.tif', Clip+'Clip_Veg2014_Escondido_18May2017.xyz')"
   ]
  },
  {
   "cell_type": "code",
   "execution_count": 67,
   "metadata": {
    "collapsed": true
   },
   "outputs": [],
   "source": [
    "Fuel2012=ImportPreserve(Clip+'Clip_Fuel2012_Escondido_18May2017.xyz','Fuel2012')\n",
    "Fuel2010=ImportPreserve(Clip+'Clip_Fuel2010_Escondido_18May2017.xyz','Fuel2010')\n",
    "\n",
    "Veg2014=ImportPreserve(Clip+'Clip_Veg2014_Escondido_18May2017.xyz','Veg2014')"
   ]
  },
  {
   "cell_type": "code",
   "execution_count": 66,
   "metadata": {
    "collapsed": false
   },
   "outputs": [
    {
     "data": {
      "text/html": [
       "<div>\n",
       "<table border=\"1\" class=\"dataframe\">\n",
       "  <thead>\n",
       "    <tr style=\"text-align: right;\">\n",
       "      <th></th>\n",
       "      <th>FuelFileIndex</th>\n",
       "      <th>Fuel2014</th>\n",
       "      <th>Lat</th>\n",
       "      <th>Long</th>\n",
       "      <th>TileName</th>\n",
       "      <th>lrx</th>\n",
       "      <th>lry</th>\n",
       "      <th>ulx</th>\n",
       "      <th>uly</th>\n",
       "    </tr>\n",
       "  </thead>\n",
       "  <tbody>\n",
       "    <tr>\n",
       "      <th>0</th>\n",
       "      <td>0</td>\n",
       "      <td>91</td>\n",
       "      <td>33.1470269678005991</td>\n",
       "      <td>-117.205854862079065</td>\n",
       "      <td>/home/mcmccart/WIFIRE/Processed_Data/LabelledT...</td>\n",
       "      <td>-117.205703</td>\n",
       "      <td>33.146875</td>\n",
       "      <td>-117.206007</td>\n",
       "      <td>33.147179</td>\n",
       "    </tr>\n",
       "    <tr>\n",
       "      <th>1</th>\n",
       "      <td>1</td>\n",
       "      <td>1</td>\n",
       "      <td>33.1470269678005991</td>\n",
       "      <td>-117.205551406658813</td>\n",
       "      <td>/home/mcmccart/WIFIRE/Processed_Data/LabelledT...</td>\n",
       "      <td>-117.205400</td>\n",
       "      <td>33.146875</td>\n",
       "      <td>-117.205703</td>\n",
       "      <td>33.147179</td>\n",
       "    </tr>\n",
       "    <tr>\n",
       "      <th>2</th>\n",
       "      <td>2</td>\n",
       "      <td>1</td>\n",
       "      <td>33.1470269678005991</td>\n",
       "      <td>-117.205247951238547</td>\n",
       "      <td>/home/mcmccart/WIFIRE/Processed_Data/LabelledT...</td>\n",
       "      <td>-117.205096</td>\n",
       "      <td>33.146875</td>\n",
       "      <td>-117.205400</td>\n",
       "      <td>33.147179</td>\n",
       "    </tr>\n",
       "    <tr>\n",
       "      <th>3</th>\n",
       "      <td>3</td>\n",
       "      <td>91</td>\n",
       "      <td>33.1470269678005991</td>\n",
       "      <td>-117.204944495818296</td>\n",
       "      <td>/home/mcmccart/WIFIRE/Processed_Data/LabelledT...</td>\n",
       "      <td>-117.204793</td>\n",
       "      <td>33.146875</td>\n",
       "      <td>-117.205096</td>\n",
       "      <td>33.147179</td>\n",
       "    </tr>\n",
       "    <tr>\n",
       "      <th>4</th>\n",
       "      <td>4</td>\n",
       "      <td>91</td>\n",
       "      <td>33.1470269678005991</td>\n",
       "      <td>-117.20464104039803</td>\n",
       "      <td>/home/mcmccart/WIFIRE/Processed_Data/LabelledT...</td>\n",
       "      <td>-117.204489</td>\n",
       "      <td>33.146875</td>\n",
       "      <td>-117.204793</td>\n",
       "      <td>33.147179</td>\n",
       "    </tr>\n",
       "  </tbody>\n",
       "</table>\n",
       "</div>"
      ],
      "text/plain": [
       "   FuelFileIndex Fuel2014                  Lat                  Long  \\\n",
       "0              0       91  33.1470269678005991  -117.205854862079065   \n",
       "1              1        1  33.1470269678005991  -117.205551406658813   \n",
       "2              2        1  33.1470269678005991  -117.205247951238547   \n",
       "3              3       91  33.1470269678005991  -117.204944495818296   \n",
       "4              4       91  33.1470269678005991   -117.20464104039803   \n",
       "\n",
       "                                            TileName         lrx        lry  \\\n",
       "0  /home/mcmccart/WIFIRE/Processed_Data/LabelledT... -117.205703  33.146875   \n",
       "1  /home/mcmccart/WIFIRE/Processed_Data/LabelledT... -117.205400  33.146875   \n",
       "2  /home/mcmccart/WIFIRE/Processed_Data/LabelledT... -117.205096  33.146875   \n",
       "3  /home/mcmccart/WIFIRE/Processed_Data/LabelledT... -117.204793  33.146875   \n",
       "4  /home/mcmccart/WIFIRE/Processed_Data/LabelledT... -117.204489  33.146875   \n",
       "\n",
       "          ulx        uly  \n",
       "0 -117.206007  33.147179  \n",
       "1 -117.205703  33.147179  \n",
       "2 -117.205400  33.147179  \n",
       "3 -117.205096  33.147179  \n",
       "4 -117.204793  33.147179  "
      ]
     },
     "execution_count": 66,
     "metadata": {},
     "output_type": "execute_result"
    }
   ],
   "source": [
    "Fuel2014_Tiles.columns=['FuelFileIndex', 'Fuel2014', 'Lat', 'Long', 'TileName', 'lrx', 'lry','ulx', 'uly']\n",
    "Fuel2014_Tiles.head()"
   ]
  },
  {
   "cell_type": "code",
   "execution_count": 68,
   "metadata": {
    "collapsed": false
   },
   "outputs": [
    {
     "data": {
      "text/html": [
       "<div>\n",
       "<table border=\"1\" class=\"dataframe\">\n",
       "  <thead>\n",
       "    <tr style=\"text-align: right;\">\n",
       "      <th></th>\n",
       "      <th>FuelFileIndex</th>\n",
       "      <th>Fuel2014</th>\n",
       "      <th>Lat</th>\n",
       "      <th>Long</th>\n",
       "      <th>TileName</th>\n",
       "      <th>lrx</th>\n",
       "      <th>lry</th>\n",
       "      <th>ulx</th>\n",
       "      <th>uly</th>\n",
       "      <th>Fuel2012</th>\n",
       "      <th>Fuel2010</th>\n",
       "    </tr>\n",
       "  </thead>\n",
       "  <tbody>\n",
       "    <tr>\n",
       "      <th>0</th>\n",
       "      <td>0</td>\n",
       "      <td>91</td>\n",
       "      <td>33.1470269678005991</td>\n",
       "      <td>-117.205854862079065</td>\n",
       "      <td>/home/mcmccart/WIFIRE/Processed_Data/LabelledT...</td>\n",
       "      <td>-117.205703</td>\n",
       "      <td>33.146875</td>\n",
       "      <td>-117.206007</td>\n",
       "      <td>33.147179</td>\n",
       "      <td>91</td>\n",
       "      <td>91</td>\n",
       "    </tr>\n",
       "    <tr>\n",
       "      <th>1</th>\n",
       "      <td>1</td>\n",
       "      <td>1</td>\n",
       "      <td>33.1470269678005991</td>\n",
       "      <td>-117.205551406658813</td>\n",
       "      <td>/home/mcmccart/WIFIRE/Processed_Data/LabelledT...</td>\n",
       "      <td>-117.205400</td>\n",
       "      <td>33.146875</td>\n",
       "      <td>-117.205703</td>\n",
       "      <td>33.147179</td>\n",
       "      <td>91</td>\n",
       "      <td>1</td>\n",
       "    </tr>\n",
       "    <tr>\n",
       "      <th>2</th>\n",
       "      <td>2</td>\n",
       "      <td>1</td>\n",
       "      <td>33.1470269678005991</td>\n",
       "      <td>-117.205247951238547</td>\n",
       "      <td>/home/mcmccart/WIFIRE/Processed_Data/LabelledT...</td>\n",
       "      <td>-117.205096</td>\n",
       "      <td>33.146875</td>\n",
       "      <td>-117.205400</td>\n",
       "      <td>33.147179</td>\n",
       "      <td>1</td>\n",
       "      <td>1</td>\n",
       "    </tr>\n",
       "    <tr>\n",
       "      <th>3</th>\n",
       "      <td>3</td>\n",
       "      <td>91</td>\n",
       "      <td>33.1470269678005991</td>\n",
       "      <td>-117.204944495818296</td>\n",
       "      <td>/home/mcmccart/WIFIRE/Processed_Data/LabelledT...</td>\n",
       "      <td>-117.204793</td>\n",
       "      <td>33.146875</td>\n",
       "      <td>-117.205096</td>\n",
       "      <td>33.147179</td>\n",
       "      <td>1</td>\n",
       "      <td>91</td>\n",
       "    </tr>\n",
       "    <tr>\n",
       "      <th>4</th>\n",
       "      <td>4</td>\n",
       "      <td>91</td>\n",
       "      <td>33.1470269678005991</td>\n",
       "      <td>-117.20464104039803</td>\n",
       "      <td>/home/mcmccart/WIFIRE/Processed_Data/LabelledT...</td>\n",
       "      <td>-117.204489</td>\n",
       "      <td>33.146875</td>\n",
       "      <td>-117.204793</td>\n",
       "      <td>33.147179</td>\n",
       "      <td>91</td>\n",
       "      <td>91</td>\n",
       "    </tr>\n",
       "  </tbody>\n",
       "</table>\n",
       "</div>"
      ],
      "text/plain": [
       "   FuelFileIndex Fuel2014                  Lat                  Long  \\\n",
       "0              0       91  33.1470269678005991  -117.205854862079065   \n",
       "1              1        1  33.1470269678005991  -117.205551406658813   \n",
       "2              2        1  33.1470269678005991  -117.205247951238547   \n",
       "3              3       91  33.1470269678005991  -117.204944495818296   \n",
       "4              4       91  33.1470269678005991   -117.20464104039803   \n",
       "\n",
       "                                            TileName         lrx        lry  \\\n",
       "0  /home/mcmccart/WIFIRE/Processed_Data/LabelledT... -117.205703  33.146875   \n",
       "1  /home/mcmccart/WIFIRE/Processed_Data/LabelledT... -117.205400  33.146875   \n",
       "2  /home/mcmccart/WIFIRE/Processed_Data/LabelledT... -117.205096  33.146875   \n",
       "3  /home/mcmccart/WIFIRE/Processed_Data/LabelledT... -117.204793  33.146875   \n",
       "4  /home/mcmccart/WIFIRE/Processed_Data/LabelledT... -117.204489  33.146875   \n",
       "\n",
       "          ulx        uly Fuel2012 Fuel2010  \n",
       "0 -117.206007  33.147179       91       91  \n",
       "1 -117.205703  33.147179       91        1  \n",
       "2 -117.205400  33.147179        1        1  \n",
       "3 -117.205096  33.147179        1       91  \n",
       "4 -117.204793  33.147179       91       91  "
      ]
     },
     "execution_count": 68,
     "metadata": {},
     "output_type": "execute_result"
    }
   ],
   "source": [
    "J='WIFIRE/Processed_Data/Joins/'\n",
    "FuelJoin=pd.merge(pd.merge(Fuel2014_Tiles,Fuel2012,on=['Long','Lat'],how='left'),Fuel2010,on=['Long','Lat'],how='left')\n",
    "FuelJoin.to_csv(J+'AllFuelYears_18May2017.csv',index=False)\n",
    "FuelJoin.head()"
   ]
  },
  {
   "cell_type": "code",
   "execution_count": 70,
   "metadata": {
    "collapsed": false
   },
   "outputs": [
    {
     "data": {
      "text/html": [
       "<div>\n",
       "<table border=\"1\" class=\"dataframe\">\n",
       "  <thead>\n",
       "    <tr style=\"text-align: right;\">\n",
       "      <th></th>\n",
       "      <th>FuelFileIndex</th>\n",
       "      <th>Fuel2014</th>\n",
       "      <th>Lat</th>\n",
       "      <th>Long</th>\n",
       "      <th>TileName</th>\n",
       "      <th>lrx</th>\n",
       "      <th>lry</th>\n",
       "      <th>ulx</th>\n",
       "      <th>uly</th>\n",
       "      <th>Veg2014</th>\n",
       "    </tr>\n",
       "  </thead>\n",
       "  <tbody>\n",
       "    <tr>\n",
       "      <th>0</th>\n",
       "      <td>0</td>\n",
       "      <td>91</td>\n",
       "      <td>33.1470269678005991</td>\n",
       "      <td>-117.205854862079065</td>\n",
       "      <td>/home/mcmccart/WIFIRE/Processed_Data/LabelledT...</td>\n",
       "      <td>-117.205703</td>\n",
       "      <td>33.146875</td>\n",
       "      <td>-117.206007</td>\n",
       "      <td>33.147179</td>\n",
       "      <td>3296</td>\n",
       "    </tr>\n",
       "    <tr>\n",
       "      <th>1</th>\n",
       "      <td>1</td>\n",
       "      <td>1</td>\n",
       "      <td>33.1470269678005991</td>\n",
       "      <td>-117.205551406658813</td>\n",
       "      <td>/home/mcmccart/WIFIRE/Processed_Data/LabelledT...</td>\n",
       "      <td>-117.205400</td>\n",
       "      <td>33.146875</td>\n",
       "      <td>-117.205703</td>\n",
       "      <td>33.147179</td>\n",
       "      <td>3913</td>\n",
       "    </tr>\n",
       "    <tr>\n",
       "      <th>2</th>\n",
       "      <td>2</td>\n",
       "      <td>1</td>\n",
       "      <td>33.1470269678005991</td>\n",
       "      <td>-117.205247951238547</td>\n",
       "      <td>/home/mcmccart/WIFIRE/Processed_Data/LabelledT...</td>\n",
       "      <td>-117.205096</td>\n",
       "      <td>33.146875</td>\n",
       "      <td>-117.205400</td>\n",
       "      <td>33.147179</td>\n",
       "      <td>3913</td>\n",
       "    </tr>\n",
       "    <tr>\n",
       "      <th>3</th>\n",
       "      <td>3</td>\n",
       "      <td>91</td>\n",
       "      <td>33.1470269678005991</td>\n",
       "      <td>-117.204944495818296</td>\n",
       "      <td>/home/mcmccart/WIFIRE/Processed_Data/LabelledT...</td>\n",
       "      <td>-117.204793</td>\n",
       "      <td>33.146875</td>\n",
       "      <td>-117.205096</td>\n",
       "      <td>33.147179</td>\n",
       "      <td>3299</td>\n",
       "    </tr>\n",
       "    <tr>\n",
       "      <th>4</th>\n",
       "      <td>4</td>\n",
       "      <td>91</td>\n",
       "      <td>33.1470269678005991</td>\n",
       "      <td>-117.20464104039803</td>\n",
       "      <td>/home/mcmccart/WIFIRE/Processed_Data/LabelledT...</td>\n",
       "      <td>-117.204489</td>\n",
       "      <td>33.146875</td>\n",
       "      <td>-117.204793</td>\n",
       "      <td>33.147179</td>\n",
       "      <td>3299</td>\n",
       "    </tr>\n",
       "  </tbody>\n",
       "</table>\n",
       "</div>"
      ],
      "text/plain": [
       "   FuelFileIndex Fuel2014                  Lat                  Long  \\\n",
       "0              0       91  33.1470269678005991  -117.205854862079065   \n",
       "1              1        1  33.1470269678005991  -117.205551406658813   \n",
       "2              2        1  33.1470269678005991  -117.205247951238547   \n",
       "3              3       91  33.1470269678005991  -117.204944495818296   \n",
       "4              4       91  33.1470269678005991   -117.20464104039803   \n",
       "\n",
       "                                            TileName         lrx        lry  \\\n",
       "0  /home/mcmccart/WIFIRE/Processed_Data/LabelledT... -117.205703  33.146875   \n",
       "1  /home/mcmccart/WIFIRE/Processed_Data/LabelledT... -117.205400  33.146875   \n",
       "2  /home/mcmccart/WIFIRE/Processed_Data/LabelledT... -117.205096  33.146875   \n",
       "3  /home/mcmccart/WIFIRE/Processed_Data/LabelledT... -117.204793  33.146875   \n",
       "4  /home/mcmccart/WIFIRE/Processed_Data/LabelledT... -117.204489  33.146875   \n",
       "\n",
       "          ulx        uly Veg2014  \n",
       "0 -117.206007  33.147179    3296  \n",
       "1 -117.205703  33.147179    3913  \n",
       "2 -117.205400  33.147179    3913  \n",
       "3 -117.205096  33.147179    3299  \n",
       "4 -117.204793  33.147179    3299  "
      ]
     },
     "execution_count": 70,
     "metadata": {},
     "output_type": "execute_result"
    }
   ],
   "source": [
    "VegJoin=pd.merge(Fuel2014_Tiles,Veg2014,on=['Long','Lat'],how='left')\n",
    "VegJoin.to_csv(J+'Fuel_Veg_2014_18May2017.csv',index=False)\n",
    "VegJoin.head()"
   ]
  },
  {
   "cell_type": "code",
   "execution_count": null,
   "metadata": {
    "collapsed": true
   },
   "outputs": [],
   "source": []
  },
  {
   "cell_type": "markdown",
   "metadata": {
    "collapsed": false
   },
   "source": [
    "Make JPEG files"
   ]
  },
  {
   "cell_type": "code",
   "execution_count": 4,
   "metadata": {
    "collapsed": false
   },
   "outputs": [
    {
     "data": {
      "text/html": [
       "<div>\n",
       "<table border=\"1\" class=\"dataframe\">\n",
       "  <thead>\n",
       "    <tr style=\"text-align: right;\">\n",
       "      <th></th>\n",
       "      <th>Unnamed: 0</th>\n",
       "      <th>FuelFileIndex</th>\n",
       "      <th>Label</th>\n",
       "      <th>Lat</th>\n",
       "      <th>Long</th>\n",
       "      <th>TileName</th>\n",
       "      <th>lrx</th>\n",
       "      <th>lry</th>\n",
       "      <th>ulx</th>\n",
       "      <th>uly</th>\n",
       "    </tr>\n",
       "  </thead>\n",
       "  <tbody>\n",
       "    <tr>\n",
       "      <th>0</th>\n",
       "      <td>0</td>\n",
       "      <td>0</td>\n",
       "      <td>91</td>\n",
       "      <td>33.147027</td>\n",
       "      <td>-117.205855</td>\n",
       "      <td>/home/mcmccart/WIFIRE/Processed_Data/LabelledT...</td>\n",
       "      <td>-117.205703</td>\n",
       "      <td>33.146875</td>\n",
       "      <td>-117.206007</td>\n",
       "      <td>33.147179</td>\n",
       "    </tr>\n",
       "    <tr>\n",
       "      <th>1</th>\n",
       "      <td>1</td>\n",
       "      <td>1</td>\n",
       "      <td>1</td>\n",
       "      <td>33.147027</td>\n",
       "      <td>-117.205551</td>\n",
       "      <td>/home/mcmccart/WIFIRE/Processed_Data/LabelledT...</td>\n",
       "      <td>-117.205400</td>\n",
       "      <td>33.146875</td>\n",
       "      <td>-117.205703</td>\n",
       "      <td>33.147179</td>\n",
       "    </tr>\n",
       "    <tr>\n",
       "      <th>2</th>\n",
       "      <td>2</td>\n",
       "      <td>2</td>\n",
       "      <td>1</td>\n",
       "      <td>33.147027</td>\n",
       "      <td>-117.205248</td>\n",
       "      <td>/home/mcmccart/WIFIRE/Processed_Data/LabelledT...</td>\n",
       "      <td>-117.205096</td>\n",
       "      <td>33.146875</td>\n",
       "      <td>-117.205400</td>\n",
       "      <td>33.147179</td>\n",
       "    </tr>\n",
       "    <tr>\n",
       "      <th>3</th>\n",
       "      <td>3</td>\n",
       "      <td>3</td>\n",
       "      <td>91</td>\n",
       "      <td>33.147027</td>\n",
       "      <td>-117.204944</td>\n",
       "      <td>/home/mcmccart/WIFIRE/Processed_Data/LabelledT...</td>\n",
       "      <td>-117.204793</td>\n",
       "      <td>33.146875</td>\n",
       "      <td>-117.205096</td>\n",
       "      <td>33.147179</td>\n",
       "    </tr>\n",
       "    <tr>\n",
       "      <th>4</th>\n",
       "      <td>4</td>\n",
       "      <td>4</td>\n",
       "      <td>91</td>\n",
       "      <td>33.147027</td>\n",
       "      <td>-117.204641</td>\n",
       "      <td>/home/mcmccart/WIFIRE/Processed_Data/LabelledT...</td>\n",
       "      <td>-117.204489</td>\n",
       "      <td>33.146875</td>\n",
       "      <td>-117.204793</td>\n",
       "      <td>33.147179</td>\n",
       "    </tr>\n",
       "  </tbody>\n",
       "</table>\n",
       "</div>"
      ],
      "text/plain": [
       "   Unnamed: 0  FuelFileIndex  Label        Lat        Long  \\\n",
       "0           0              0     91  33.147027 -117.205855   \n",
       "1           1              1      1  33.147027 -117.205551   \n",
       "2           2              2      1  33.147027 -117.205248   \n",
       "3           3              3     91  33.147027 -117.204944   \n",
       "4           4              4     91  33.147027 -117.204641   \n",
       "\n",
       "                                            TileName         lrx        lry  \\\n",
       "0  /home/mcmccart/WIFIRE/Processed_Data/LabelledT... -117.205703  33.146875   \n",
       "1  /home/mcmccart/WIFIRE/Processed_Data/LabelledT... -117.205400  33.146875   \n",
       "2  /home/mcmccart/WIFIRE/Processed_Data/LabelledT... -117.205096  33.146875   \n",
       "3  /home/mcmccart/WIFIRE/Processed_Data/LabelledT... -117.204793  33.146875   \n",
       "4  /home/mcmccart/WIFIRE/Processed_Data/LabelledT... -117.204489  33.146875   \n",
       "\n",
       "          ulx        uly  \n",
       "0 -117.206007  33.147179  \n",
       "1 -117.205703  33.147179  \n",
       "2 -117.205400  33.147179  \n",
       "3 -117.205096  33.147179  \n",
       "4 -117.204793  33.147179  "
      ]
     },
     "execution_count": 4,
     "metadata": {},
     "output_type": "execute_result"
    }
   ],
   "source": [
    "Fuel2014_Tiles=pd.read_csv('/home/mcmccart/WIFIRE/Processed_Data/LabelledTiles_Fuel_EqualArea/Reference_Fuel_EqualArea_18May2017.csv')\n",
    "Fuel2014_Tiles.head()"
   ]
  },
  {
   "cell_type": "code",
   "execution_count": 17,
   "metadata": {
    "collapsed": false
   },
   "outputs": [
    {
     "data": {
      "text/html": [
       "<div>\n",
       "<table border=\"1\" class=\"dataframe\">\n",
       "  <thead>\n",
       "    <tr style=\"text-align: right;\">\n",
       "      <th></th>\n",
       "      <th>Unnamed: 0</th>\n",
       "      <th>FuelFileIndex</th>\n",
       "      <th>Label</th>\n",
       "      <th>Lat</th>\n",
       "      <th>Long</th>\n",
       "      <th>TileName</th>\n",
       "      <th>lrx</th>\n",
       "      <th>lry</th>\n",
       "      <th>ulx</th>\n",
       "      <th>uly</th>\n",
       "      <th>FileName</th>\n",
       "      <th>JPG</th>\n",
       "      <th>JPG_FileName</th>\n",
       "      <th>TIF_FileName</th>\n",
       "    </tr>\n",
       "  </thead>\n",
       "  <tbody>\n",
       "    <tr>\n",
       "      <th>0</th>\n",
       "      <td>0</td>\n",
       "      <td>0</td>\n",
       "      <td>91</td>\n",
       "      <td>33.147027</td>\n",
       "      <td>-117.205855</td>\n",
       "      <td>/home/mcmccart/WIFIRE/Processed_Data/LabelledT...</td>\n",
       "      <td>-117.205703</td>\n",
       "      <td>33.146875</td>\n",
       "      <td>-117.206007</td>\n",
       "      <td>33.147179</td>\n",
       "      <td>FuelTile_2014_Created18May2017_Idx0_91.tif</td>\n",
       "      <td>FuelTile_2014_Created18May2017_Idx0_91.jpg</td>\n",
       "      <td>WIFIRE/Processed_Data/LabelledTiles_Fuel_Equal...</td>\n",
       "      <td>WIFIRE/Processed_Data/LabelledTiles_Fuel_Equal...</td>\n",
       "    </tr>\n",
       "    <tr>\n",
       "      <th>1</th>\n",
       "      <td>1</td>\n",
       "      <td>1</td>\n",
       "      <td>1</td>\n",
       "      <td>33.147027</td>\n",
       "      <td>-117.205551</td>\n",
       "      <td>/home/mcmccart/WIFIRE/Processed_Data/LabelledT...</td>\n",
       "      <td>-117.205400</td>\n",
       "      <td>33.146875</td>\n",
       "      <td>-117.205703</td>\n",
       "      <td>33.147179</td>\n",
       "      <td>FuelTile_2014_Created18May2017_Idx1_1.tif</td>\n",
       "      <td>FuelTile_2014_Created18May2017_Idx1_1.jpg</td>\n",
       "      <td>WIFIRE/Processed_Data/LabelledTiles_Fuel_Equal...</td>\n",
       "      <td>WIFIRE/Processed_Data/LabelledTiles_Fuel_Equal...</td>\n",
       "    </tr>\n",
       "    <tr>\n",
       "      <th>2</th>\n",
       "      <td>2</td>\n",
       "      <td>2</td>\n",
       "      <td>1</td>\n",
       "      <td>33.147027</td>\n",
       "      <td>-117.205248</td>\n",
       "      <td>/home/mcmccart/WIFIRE/Processed_Data/LabelledT...</td>\n",
       "      <td>-117.205096</td>\n",
       "      <td>33.146875</td>\n",
       "      <td>-117.205400</td>\n",
       "      <td>33.147179</td>\n",
       "      <td>FuelTile_2014_Created18May2017_Idx2_1.tif</td>\n",
       "      <td>FuelTile_2014_Created18May2017_Idx2_1.jpg</td>\n",
       "      <td>WIFIRE/Processed_Data/LabelledTiles_Fuel_Equal...</td>\n",
       "      <td>WIFIRE/Processed_Data/LabelledTiles_Fuel_Equal...</td>\n",
       "    </tr>\n",
       "    <tr>\n",
       "      <th>3</th>\n",
       "      <td>3</td>\n",
       "      <td>3</td>\n",
       "      <td>91</td>\n",
       "      <td>33.147027</td>\n",
       "      <td>-117.204944</td>\n",
       "      <td>/home/mcmccart/WIFIRE/Processed_Data/LabelledT...</td>\n",
       "      <td>-117.204793</td>\n",
       "      <td>33.146875</td>\n",
       "      <td>-117.205096</td>\n",
       "      <td>33.147179</td>\n",
       "      <td>FuelTile_2014_Created18May2017_Idx3_91.tif</td>\n",
       "      <td>FuelTile_2014_Created18May2017_Idx3_91.jpg</td>\n",
       "      <td>WIFIRE/Processed_Data/LabelledTiles_Fuel_Equal...</td>\n",
       "      <td>WIFIRE/Processed_Data/LabelledTiles_Fuel_Equal...</td>\n",
       "    </tr>\n",
       "    <tr>\n",
       "      <th>4</th>\n",
       "      <td>4</td>\n",
       "      <td>4</td>\n",
       "      <td>91</td>\n",
       "      <td>33.147027</td>\n",
       "      <td>-117.204641</td>\n",
       "      <td>/home/mcmccart/WIFIRE/Processed_Data/LabelledT...</td>\n",
       "      <td>-117.204489</td>\n",
       "      <td>33.146875</td>\n",
       "      <td>-117.204793</td>\n",
       "      <td>33.147179</td>\n",
       "      <td>FuelTile_2014_Created18May2017_Idx4_91.tif</td>\n",
       "      <td>FuelTile_2014_Created18May2017_Idx4_91.jpg</td>\n",
       "      <td>WIFIRE/Processed_Data/LabelledTiles_Fuel_Equal...</td>\n",
       "      <td>WIFIRE/Processed_Data/LabelledTiles_Fuel_Equal...</td>\n",
       "    </tr>\n",
       "  </tbody>\n",
       "</table>\n",
       "</div>"
      ],
      "text/plain": [
       "   Unnamed: 0  FuelFileIndex  Label        Lat        Long  \\\n",
       "0           0              0     91  33.147027 -117.205855   \n",
       "1           1              1      1  33.147027 -117.205551   \n",
       "2           2              2      1  33.147027 -117.205248   \n",
       "3           3              3     91  33.147027 -117.204944   \n",
       "4           4              4     91  33.147027 -117.204641   \n",
       "\n",
       "                                            TileName         lrx        lry  \\\n",
       "0  /home/mcmccart/WIFIRE/Processed_Data/LabelledT... -117.205703  33.146875   \n",
       "1  /home/mcmccart/WIFIRE/Processed_Data/LabelledT... -117.205400  33.146875   \n",
       "2  /home/mcmccart/WIFIRE/Processed_Data/LabelledT... -117.205096  33.146875   \n",
       "3  /home/mcmccart/WIFIRE/Processed_Data/LabelledT... -117.204793  33.146875   \n",
       "4  /home/mcmccart/WIFIRE/Processed_Data/LabelledT... -117.204489  33.146875   \n",
       "\n",
       "          ulx        uly                                    FileName  \\\n",
       "0 -117.206007  33.147179  FuelTile_2014_Created18May2017_Idx0_91.tif   \n",
       "1 -117.205703  33.147179   FuelTile_2014_Created18May2017_Idx1_1.tif   \n",
       "2 -117.205400  33.147179   FuelTile_2014_Created18May2017_Idx2_1.tif   \n",
       "3 -117.205096  33.147179  FuelTile_2014_Created18May2017_Idx3_91.tif   \n",
       "4 -117.204793  33.147179  FuelTile_2014_Created18May2017_Idx4_91.tif   \n",
       "\n",
       "                                          JPG  \\\n",
       "0  FuelTile_2014_Created18May2017_Idx0_91.jpg   \n",
       "1   FuelTile_2014_Created18May2017_Idx1_1.jpg   \n",
       "2   FuelTile_2014_Created18May2017_Idx2_1.jpg   \n",
       "3  FuelTile_2014_Created18May2017_Idx3_91.jpg   \n",
       "4  FuelTile_2014_Created18May2017_Idx4_91.jpg   \n",
       "\n",
       "                                        JPG_FileName  \\\n",
       "0  WIFIRE/Processed_Data/LabelledTiles_Fuel_Equal...   \n",
       "1  WIFIRE/Processed_Data/LabelledTiles_Fuel_Equal...   \n",
       "2  WIFIRE/Processed_Data/LabelledTiles_Fuel_Equal...   \n",
       "3  WIFIRE/Processed_Data/LabelledTiles_Fuel_Equal...   \n",
       "4  WIFIRE/Processed_Data/LabelledTiles_Fuel_Equal...   \n",
       "\n",
       "                                        TIF_FileName  \n",
       "0  WIFIRE/Processed_Data/LabelledTiles_Fuel_Equal...  \n",
       "1  WIFIRE/Processed_Data/LabelledTiles_Fuel_Equal...  \n",
       "2  WIFIRE/Processed_Data/LabelledTiles_Fuel_Equal...  \n",
       "3  WIFIRE/Processed_Data/LabelledTiles_Fuel_Equal...  \n",
       "4  WIFIRE/Processed_Data/LabelledTiles_Fuel_Equal...  "
      ]
     },
     "execution_count": 17,
     "metadata": {},
     "output_type": "execute_result"
    }
   ],
   "source": [
    "Fuel2014_Tiles['FileName']=Fuel2014_Tiles[\"TileName\"].apply(lambda x: x.split('/')[-1])\n",
    "Fuel2014_Tiles['JPG']=Fuel2014_Tiles[\"FileName\"].apply(lambda x: x.split('.')[0]+'.jpg')\n",
    "\n",
    "jpg='WIFIRE/Processed_Data/LabelledTiles_Fuel_EqualArea/JPG_Files/2014Fuel_18May2017/'\n",
    "Fuel2014_Tiles['JPG_FileName']=Fuel2014_Tiles[\"JPG\"].apply(lambda x: jpg+x)\n",
    "\n",
    "TIF='WIFIRE/Processed_Data/LabelledTiles_Fuel_EqualArea/TIFF_Files/'\n",
    "Fuel2014_Tiles[\"TIF_FileName\"]=Fuel2014_Tiles[\"FileName\"].apply(lambda x: TIF+x)\n",
    "Fuel2014_Tiles.head()"
   ]
  },
  {
   "cell_type": "code",
   "execution_count": 19,
   "metadata": {
    "collapsed": false
   },
   "outputs": [
    {
     "name": "stdout",
     "output_type": "stream",
     "text": [
      "1000\n",
      "2000\n",
      "3000\n",
      "4000\n",
      "5000\n",
      "6000\n",
      "7000\n",
      "8000\n",
      "9000\n",
      "10000\n",
      "11000\n",
      "12000\n",
      "13000\n",
      "14000\n",
      "15000\n",
      "16000\n",
      "17000\n",
      "18000\n",
      "19000\n",
      "20000\n",
      "21000\n",
      "22000\n",
      "23000\n",
      "24000\n",
      "25000\n",
      "26000\n",
      "27000\n",
      "28000\n",
      "29000\n",
      "30000\n",
      "31000\n",
      "32000\n",
      "33000\n",
      "34000\n",
      "35000\n",
      "36000\n",
      "37000\n",
      "38000\n",
      "39000\n",
      "40000\n",
      "41000\n",
      "42000\n",
      "43000\n",
      "44000\n",
      "45000\n",
      "46000\n",
      "47000\n",
      "48000\n",
      "49000\n",
      "50000\n",
      "51000\n",
      "52000\n",
      "53000\n",
      "54000\n",
      "55000\n",
      "56000\n",
      "57000\n",
      "58000\n",
      "59000\n",
      "60000\n",
      "61000\n",
      "62000\n",
      "63000\n",
      "64000\n",
      "65000\n",
      "66000\n",
      "67000\n",
      "68000\n",
      "69000\n",
      "70000\n",
      "71000\n",
      "72000\n",
      "73000\n",
      "74000\n",
      "75000\n",
      "76000\n",
      "77000\n",
      "78000\n",
      "79000\n",
      "80000\n",
      "81000\n",
      "82000\n",
      "83000\n",
      "84000\n",
      "85000\n",
      "86000\n",
      "87000\n",
      "88000\n",
      "89000\n",
      "90000\n",
      "91000\n",
      "92000\n",
      "93000\n",
      "94000\n",
      "95000\n",
      "96000\n",
      "97000\n",
      "98000\n",
      "99000\n",
      "100000\n",
      "101000\n",
      "102000\n",
      "103000\n",
      "104000\n",
      "105000\n",
      "106000\n",
      "107000\n",
      "108000\n",
      "109000\n",
      "110000\n",
      "111000\n",
      "112000\n",
      "113000\n",
      "114000\n",
      "115000\n",
      "116000\n",
      "117000\n",
      "118000\n",
      "119000\n",
      "120000\n",
      "121000\n",
      "122000\n",
      "123000\n",
      "124000\n",
      "125000\n",
      "126000\n",
      "127000\n",
      "128000\n",
      "129000\n",
      "130000\n",
      "131000\n",
      "132000\n",
      "133000\n",
      "134000\n",
      "135000\n",
      "136000\n",
      "137000\n",
      "138000\n",
      "139000\n",
      "140000\n",
      "141000\n",
      "142000\n",
      "143000\n",
      "144000\n",
      "145000\n",
      "146000\n"
     ]
    }
   ],
   "source": [
    "i=0\n",
    "for index, row in Fuel2014_Tiles.iterrows():\n",
    "    gdal_str='/opt/anaconda3/bin/gdal_translate -of JPEG '+row[\"TIF_FileName\"]+' '+row['JPG_FileName']\n",
    "    os.system(gdal_str)\n",
    "    i+=1\n",
    "    if i%1000==0:\n",
    "        print(i)"
   ]
  },
  {
   "cell_type": "code",
   "execution_count": 21,
   "metadata": {
    "collapsed": false
   },
   "outputs": [
    {
     "data": {
      "text/plain": [
       "292174"
      ]
     },
     "execution_count": 21,
     "metadata": {},
     "output_type": "execute_result"
    }
   ],
   "source": [
    "#Check:\n",
    "ListFiles=os.listdir(jpg)\n",
    "len(ListFiles)"
   ]
  },
  {
   "cell_type": "code",
   "execution_count": 20,
   "metadata": {
    "collapsed": false
   },
   "outputs": [
    {
     "data": {
      "text/plain": [
       "292174"
      ]
     },
     "execution_count": 20,
     "metadata": {},
     "output_type": "execute_result"
    }
   ],
   "source": [
    "2*Fuel2014_Tiles.shape[0]"
   ]
  },
  {
   "cell_type": "code",
   "execution_count": null,
   "metadata": {
    "collapsed": false
   },
   "outputs": [],
   "source": []
  },
  {
   "cell_type": "code",
   "execution_count": 22,
   "metadata": {
    "collapsed": true
   },
   "outputs": [],
   "source": [
    "Fuel2014_Tiles[['FuelFileIndex','Label','Lat','Long','TileName','JPG_FileName','lrx','lry','ulx','uly']].to_csv('WIFIRE/Processed_Data/LabelledTiles_Fuel_EqualArea/JPG_Files/Reference_Fuel_EqualArea_18May2017.csv',index=False)"
   ]
  },
  {
   "cell_type": "code",
   "execution_count": null,
   "metadata": {
    "collapsed": true
   },
   "outputs": [],
   "source": []
  },
  {
   "cell_type": "markdown",
   "metadata": {},
   "source": [
    "###  Elevation, Aspect, Slope"
   ]
  },
  {
   "cell_type": "code",
   "execution_count": 5,
   "metadata": {
    "collapsed": false
   },
   "outputs": [
    {
     "name": "stdout",
     "output_type": "stream",
     "text": [
      "[444074.0, 3707032.7241826, 586424.0, 3599242.0]\n"
     ]
    }
   ],
   "source": [
    "SE_UTM=GrabCornerCoordinates('/home/mcmccart/WIFIRE/Data_Prep_Work_Flow/Clipped_Files/Clip_SanDiego_Fuel2014_UTM.tif')\n",
    "print (SE_UTM)"
   ]
  },
  {
   "cell_type": "code",
   "execution_count": 6,
   "metadata": {
    "collapsed": true
   },
   "outputs": [],
   "source": [
    "# Clip the Elev, Aspect, Slope to the same spatial extent as the Fuel Tiles before projection\n",
    "ClipFile(SE_UTM,LF+'sandiego-slope.tif',Clip+'Clip_slope_UTM.tif')\n",
    "ClipFile(SE_UTM,LF+'sandiego-aspect.tif',Clip+'Clip_aspect_UTM.tif')\n",
    "ClipFile(SE_UTM,LF+'sandiego-elevation.tif',Clip+'Clip_elevation_UTM.tif')"
   ]
  },
  {
   "cell_type": "code",
   "execution_count": 7,
   "metadata": {
    "collapsed": false
   },
   "outputs": [
    {
     "name": "stdout",
     "output_type": "stream",
     "text": [
      "/opt/anaconda3/bin/gdalwarp -t_srs wgs84 /home/mcmccart/WIFIRE/Data_Prep_Work_Flow/Clipped_Files/Clip_slope_UTM.tif /home/mcmccart/WIFIRE/Data_Prep_Work_Flow/ReProj_Files/Clip_slope_ReProj.tif\n",
      "/opt/anaconda3/bin/gdalwarp -t_srs wgs84 /home/mcmccart/WIFIRE/Data_Prep_Work_Flow/Clipped_Files/Clip_aspect_UTM.tif /home/mcmccart/WIFIRE/Data_Prep_Work_Flow/ReProj_Files/Clip_aspect_ReProj.tif\n",
      "/opt/anaconda3/bin/gdalwarp -t_srs wgs84 /home/mcmccart/WIFIRE/Data_Prep_Work_Flow/Clipped_Files/Clip_elevation_UTM.tif /home/mcmccart/WIFIRE/Data_Prep_Work_Flow/ReProj_Files/Clip_elevation_ReProj.tif\n"
     ]
    }
   ],
   "source": [
    "# Reproject to WGS84\n",
    "ToWGS84(Clip+'Clip_slope_UTM.tif',Proj+'Clip_slope_ReProj.tif')\n",
    "ToWGS84(Clip+'Clip_aspect_UTM.tif',Proj+'Clip_aspect_ReProj.tif')\n",
    "ToWGS84(Clip+'Clip_elevation_UTM.tif',Proj+'Clip_elevation_ReProj.tif')"
   ]
  },
  {
   "cell_type": "code",
   "execution_count": 9,
   "metadata": {
    "collapsed": false
   },
   "outputs": [
    {
     "data": {
      "text/plain": [
       "[-117.2060065897892, 33.1471785679168, -117.1007075589594, 33.0195312700784]"
      ]
     },
     "execution_count": 9,
     "metadata": {},
     "output_type": "execute_result"
    }
   ],
   "source": [
    "#Now clip to the Escondido spatial extent\n",
    "SE=GrabCornerCoordinates(Clip+'Clip_Fuel2014_Escondido_18May2017.tif')\n",
    "SE"
   ]
  },
  {
   "cell_type": "code",
   "execution_count": 13,
   "metadata": {
    "collapsed": false
   },
   "outputs": [],
   "source": [
    "ClipFile(SE,Proj+'Clip_slope_ReProj.tif',Clip+'Clip_slope_Escondido_18May2017.tif')\n",
    "ClipFile(SE,Proj+'Clip_aspect_ReProj.tif',Clip+'Clip_aspect_Escondido_18May2017.tif')\n",
    "ClipFile(SE,Proj+'Clip_elevation_ReProj.tif',Clip+'Clip_elevation_Escondido_18May2017.tif')"
   ]
  },
  {
   "cell_type": "code",
   "execution_count": 14,
   "metadata": {
    "collapsed": false
   },
   "outputs": [
    {
     "name": "stdout",
     "output_type": "stream",
     "text": [
      "/opt/anaconda3/bin/gdal_translate -of XYZ /home/mcmccart/WIFIRE/Data_Prep_Work_Flow/Clipped_Files/Clip_slope_Escondido_18May2017.tif /home/mcmccart/WIFIRE/Data_Prep_Work_Flow/Clipped_Files/Clip_slope_Escondido_18May2017.xyz\n",
      "/opt/anaconda3/bin/gdal_translate -of XYZ /home/mcmccart/WIFIRE/Data_Prep_Work_Flow/Clipped_Files/Clip_aspect_Escondido_18May2017.tif /home/mcmccart/WIFIRE/Data_Prep_Work_Flow/Clipped_Files/Clip_aspect_Escondido_18May2017.xyz\n",
      "/opt/anaconda3/bin/gdal_translate -of XYZ /home/mcmccart/WIFIRE/Data_Prep_Work_Flow/Clipped_Files/Clip_elevation_Escondido_18May2017.tif /home/mcmccart/WIFIRE/Data_Prep_Work_Flow/Clipped_Files/Clip_elevation_Escondido_18May2017.xyz\n"
     ]
    }
   ],
   "source": [
    "ToXYZ(Clip+'Clip_slope_Escondido_18May2017.tif', Clip+'Clip_slope_Escondido_18May2017.xyz')\n",
    "ToXYZ(Clip+'Clip_aspect_Escondido_18May2017.tif', Clip+'Clip_aspect_Escondido_18May2017.xyz')\n",
    "ToXYZ(Clip+'Clip_elevation_Escondido_18May2017.tif', Clip+'Clip_elevation_Escondido_18May2017.xyz')"
   ]
  },
  {
   "cell_type": "code",
   "execution_count": 28,
   "metadata": {
    "collapsed": false
   },
   "outputs": [
    {
     "data": {
      "text/html": [
       "<div>\n",
       "<table border=\"1\" class=\"dataframe\">\n",
       "  <thead>\n",
       "    <tr style=\"text-align: right;\">\n",
       "      <th></th>\n",
       "      <th>Row</th>\n",
       "      <th>FuelFileIndex</th>\n",
       "      <th>Lat</th>\n",
       "      <th>Long</th>\n",
       "    </tr>\n",
       "  </thead>\n",
       "  <tbody>\n",
       "    <tr>\n",
       "      <th>0</th>\n",
       "      <td>0,0,91,33.1470269678005991,-117.20585486207906...</td>\n",
       "      <td>0</td>\n",
       "      <td>33.1470269678005991</td>\n",
       "      <td>-117.205854862079065</td>\n",
       "    </tr>\n",
       "    <tr>\n",
       "      <th>1</th>\n",
       "      <td>1,1,1,33.1470269678005991,-117.205551406658813...</td>\n",
       "      <td>1</td>\n",
       "      <td>33.1470269678005991</td>\n",
       "      <td>-117.205551406658813</td>\n",
       "    </tr>\n",
       "    <tr>\n",
       "      <th>2</th>\n",
       "      <td>2,2,1,33.1470269678005991,-117.205247951238547...</td>\n",
       "      <td>2</td>\n",
       "      <td>33.1470269678005991</td>\n",
       "      <td>-117.205247951238547</td>\n",
       "    </tr>\n",
       "    <tr>\n",
       "      <th>3</th>\n",
       "      <td>3,3,91,33.1470269678005991,-117.20494449581829...</td>\n",
       "      <td>3</td>\n",
       "      <td>33.1470269678005991</td>\n",
       "      <td>-117.204944495818296</td>\n",
       "    </tr>\n",
       "    <tr>\n",
       "      <th>4</th>\n",
       "      <td>4,4,91,33.1470269678005991,-117.20464104039803...</td>\n",
       "      <td>4</td>\n",
       "      <td>33.1470269678005991</td>\n",
       "      <td>-117.20464104039803</td>\n",
       "    </tr>\n",
       "  </tbody>\n",
       "</table>\n",
       "</div>"
      ],
      "text/plain": [
       "                                                 Row FuelFileIndex  \\\n",
       "0  0,0,91,33.1470269678005991,-117.20585486207906...             0   \n",
       "1  1,1,1,33.1470269678005991,-117.205551406658813...             1   \n",
       "2  2,2,1,33.1470269678005991,-117.205247951238547...             2   \n",
       "3  3,3,91,33.1470269678005991,-117.20494449581829...             3   \n",
       "4  4,4,91,33.1470269678005991,-117.20464104039803...             4   \n",
       "\n",
       "                   Lat                  Long  \n",
       "0  33.1470269678005991  -117.205854862079065  \n",
       "1  33.1470269678005991  -117.205551406658813  \n",
       "2  33.1470269678005991  -117.205247951238547  \n",
       "3  33.1470269678005991  -117.204944495818296  \n",
       "4  33.1470269678005991   -117.20464104039803  "
      ]
     },
     "execution_count": 28,
     "metadata": {},
     "output_type": "execute_result"
    }
   ],
   "source": [
    "# Now we need to import the Tile Reference File & relate the elev/sapect/slope\n",
    "Tile='/home/mcmccart/WIFIRE/Processed_Data/LabelledTiles_Fuel_EqualArea/'\n",
    "Ref=pd.read_table(Tile+'Reference_Fuel_EqualArea_18May2017.csv')\n",
    "Ref.columns=['Row']\n",
    "Ref[\"FuelFileIndex\"]=Ref['Row'].apply(lambda x: x.split(',')[1])\n",
    "Ref[\"Lat\"]=Ref['Row'].apply(lambda x: x.split(',')[3])\n",
    "Ref[\"Long\"]=Ref['Row'].apply(lambda x: x.split(',')[4])\n",
    "Ref.head()"
   ]
  },
  {
   "cell_type": "code",
   "execution_count": 16,
   "metadata": {
    "collapsed": true
   },
   "outputs": [],
   "source": [
    "def ImportPreserve(FileName,labelName):\n",
    "    DF=pd.read_table(FileName, header=None)\n",
    "    DF.columns=['Row']\n",
    "    DF[\"Long\"]=DF[\"Row\"].apply(lambda x: x.split(\" \")[0])\n",
    "    DF[\"Lat\"]=DF[\"Row\"].apply(lambda x: x.split(\" \")[1])\n",
    "    DF[labelName]=DF[\"Row\"].apply(lambda x: x.split(\" \")[2])\n",
    "    del DF[\"Row\"]\n",
    "    return DF"
   ]
  },
  {
   "cell_type": "code",
   "execution_count": 18,
   "metadata": {
    "collapsed": false
   },
   "outputs": [],
   "source": [
    "Elev=ImportPreserve(Clip+'Clip_elevation_Escondido_18May2017.xyz','Elev')\n",
    "Aspect=ImportPreserve(Clip+'Clip_aspect_Escondido_18May2017.xyz','Aspect')\n",
    "Slope=ImportPreserve(Clip+'Clip_slope_Escondido_18May2017.xyz','Slope')"
   ]
  },
  {
   "cell_type": "code",
   "execution_count": 20,
   "metadata": {
    "collapsed": false
   },
   "outputs": [
    {
     "name": "stdout",
     "output_type": "stream",
     "text": [
      "(146087, 3)\n",
      "(146087, 3)\n",
      "(146087, 3)\n",
      "(146087, 5)\n"
     ]
    }
   ],
   "source": [
    "print(Elev.shape)\n",
    "print (Aspect.shape)\n",
    "print (Slope.shape)\n",
    "Data=pd.merge(pd.merge(Elev,Aspect,on=['Long','Lat']),Slope,on=['Long','Lat'])\n",
    "print (Data.shape)"
   ]
  },
  {
   "cell_type": "code",
   "execution_count": 30,
   "metadata": {
    "collapsed": false
   },
   "outputs": [
    {
     "name": "stdout",
     "output_type": "stream",
     "text": [
      "(146087, 7)\n"
     ]
    },
    {
     "data": {
      "text/html": [
       "<div>\n",
       "<table border=\"1\" class=\"dataframe\">\n",
       "  <thead>\n",
       "    <tr style=\"text-align: right;\">\n",
       "      <th></th>\n",
       "      <th>Row</th>\n",
       "      <th>FuelFileIndex</th>\n",
       "      <th>Lat</th>\n",
       "      <th>Long</th>\n",
       "      <th>Elev</th>\n",
       "      <th>Aspect</th>\n",
       "      <th>Slope</th>\n",
       "    </tr>\n",
       "  </thead>\n",
       "  <tbody>\n",
       "    <tr>\n",
       "      <th>0</th>\n",
       "      <td>0,0,91,33.1470269678005991,-117.20585486207906...</td>\n",
       "      <td>0</td>\n",
       "      <td>33.1470269678005991</td>\n",
       "      <td>-117.205854862079065</td>\n",
       "      <td>199</td>\n",
       "      <td>173</td>\n",
       "      <td>4</td>\n",
       "    </tr>\n",
       "    <tr>\n",
       "      <th>1</th>\n",
       "      <td>1,1,1,33.1470269678005991,-117.205551406658813...</td>\n",
       "      <td>1</td>\n",
       "      <td>33.1470269678005991</td>\n",
       "      <td>-117.205551406658813</td>\n",
       "      <td>196</td>\n",
       "      <td>141</td>\n",
       "      <td>6</td>\n",
       "    </tr>\n",
       "    <tr>\n",
       "      <th>2</th>\n",
       "      <td>2,2,1,33.1470269678005991,-117.205247951238547...</td>\n",
       "      <td>2</td>\n",
       "      <td>33.1470269678005991</td>\n",
       "      <td>-117.205247951238547</td>\n",
       "      <td>193</td>\n",
       "      <td>126</td>\n",
       "      <td>6</td>\n",
       "    </tr>\n",
       "    <tr>\n",
       "      <th>3</th>\n",
       "      <td>3,3,91,33.1470269678005991,-117.20494449581829...</td>\n",
       "      <td>3</td>\n",
       "      <td>33.1470269678005991</td>\n",
       "      <td>-117.204944495818296</td>\n",
       "      <td>190</td>\n",
       "      <td>122</td>\n",
       "      <td>4</td>\n",
       "    </tr>\n",
       "    <tr>\n",
       "      <th>4</th>\n",
       "      <td>4,4,91,33.1470269678005991,-117.20464104039803...</td>\n",
       "      <td>4</td>\n",
       "      <td>33.1470269678005991</td>\n",
       "      <td>-117.20464104039803</td>\n",
       "      <td>189</td>\n",
       "      <td>0</td>\n",
       "      <td>2</td>\n",
       "    </tr>\n",
       "  </tbody>\n",
       "</table>\n",
       "</div>"
      ],
      "text/plain": [
       "                                                 Row FuelFileIndex  \\\n",
       "0  0,0,91,33.1470269678005991,-117.20585486207906...             0   \n",
       "1  1,1,1,33.1470269678005991,-117.205551406658813...             1   \n",
       "2  2,2,1,33.1470269678005991,-117.205247951238547...             2   \n",
       "3  3,3,91,33.1470269678005991,-117.20494449581829...             3   \n",
       "4  4,4,91,33.1470269678005991,-117.20464104039803...             4   \n",
       "\n",
       "                   Lat                  Long Elev Aspect Slope  \n",
       "0  33.1470269678005991  -117.205854862079065  199    173     4  \n",
       "1  33.1470269678005991  -117.205551406658813  196    141     6  \n",
       "2  33.1470269678005991  -117.205247951238547  193    126     6  \n",
       "3  33.1470269678005991  -117.204944495818296  190    122     4  \n",
       "4  33.1470269678005991   -117.20464104039803  189      0     2  "
      ]
     },
     "execution_count": 30,
     "metadata": {},
     "output_type": "execute_result"
    }
   ],
   "source": [
    "Combine=pd.merge(Ref, Data, on=['Long','Lat'])\n",
    "print (Combine.shape)\n",
    "Combine.head()"
   ]
  },
  {
   "cell_type": "code",
   "execution_count": 35,
   "metadata": {
    "collapsed": false
   },
   "outputs": [
    {
     "data": {
      "text/html": [
       "<div>\n",
       "<table border=\"1\" class=\"dataframe\">\n",
       "  <thead>\n",
       "    <tr style=\"text-align: right;\">\n",
       "      <th></th>\n",
       "      <th>Image</th>\n",
       "      <th>FuelFileIndex</th>\n",
       "      <th>NewLabel</th>\n",
       "    </tr>\n",
       "  </thead>\n",
       "  <tbody>\n",
       "    <tr>\n",
       "      <th>0</th>\n",
       "      <td>WIFIRE/Processed_Data/LabelledTiles_Fuel_Equal...</td>\n",
       "      <td>90</td>\n",
       "      <td>B</td>\n",
       "    </tr>\n",
       "    <tr>\n",
       "      <th>1</th>\n",
       "      <td>WIFIRE/Processed_Data/LabelledTiles_Fuel_Equal...</td>\n",
       "      <td>104</td>\n",
       "      <td>B</td>\n",
       "    </tr>\n",
       "    <tr>\n",
       "      <th>2</th>\n",
       "      <td>WIFIRE/Processed_Data/LabelledTiles_Fuel_Equal...</td>\n",
       "      <td>202</td>\n",
       "      <td>B</td>\n",
       "    </tr>\n",
       "    <tr>\n",
       "      <th>3</th>\n",
       "      <td>WIFIRE/Processed_Data/LabelledTiles_Fuel_Equal...</td>\n",
       "      <td>378</td>\n",
       "      <td>B</td>\n",
       "    </tr>\n",
       "    <tr>\n",
       "      <th>4</th>\n",
       "      <td>WIFIRE/Processed_Data/LabelledTiles_Fuel_Equal...</td>\n",
       "      <td>409</td>\n",
       "      <td>B</td>\n",
       "    </tr>\n",
       "  </tbody>\n",
       "</table>\n",
       "</div>"
      ],
      "text/plain": [
       "                                               Image FuelFileIndex NewLabel\n",
       "0  WIFIRE/Processed_Data/LabelledTiles_Fuel_Equal...            90        B\n",
       "1  WIFIRE/Processed_Data/LabelledTiles_Fuel_Equal...           104        B\n",
       "2  WIFIRE/Processed_Data/LabelledTiles_Fuel_Equal...           202        B\n",
       "3  WIFIRE/Processed_Data/LabelledTiles_Fuel_Equal...           378        B\n",
       "4  WIFIRE/Processed_Data/LabelledTiles_Fuel_Equal...           409        B"
      ]
     },
     "execution_count": 35,
     "metadata": {},
     "output_type": "execute_result"
    }
   ],
   "source": [
    "# Get the Labels from Clustering\n",
    "ClusterLabel=pd.read_csv(Tile+'Reference_Fuel_EqualArea_18May2017_LabelsFromClustering.csv')\n",
    "ClusterLabel[\"FuelFileIndex\"]=ClusterLabel[\"FuelFileIndex\"].astype(str)\n",
    "ClusterLabel.head()"
   ]
  },
  {
   "cell_type": "code",
   "execution_count": 36,
   "metadata": {
    "collapsed": false
   },
   "outputs": [
    {
     "name": "stdout",
     "output_type": "stream",
     "text": [
      "(146087, 9)\n"
     ]
    },
    {
     "data": {
      "text/html": [
       "<div>\n",
       "<table border=\"1\" class=\"dataframe\">\n",
       "  <thead>\n",
       "    <tr style=\"text-align: right;\">\n",
       "      <th></th>\n",
       "      <th>Row</th>\n",
       "      <th>FuelFileIndex</th>\n",
       "      <th>Lat</th>\n",
       "      <th>Long</th>\n",
       "      <th>Elev</th>\n",
       "      <th>Aspect</th>\n",
       "      <th>Slope</th>\n",
       "      <th>Image</th>\n",
       "      <th>NewLabel</th>\n",
       "    </tr>\n",
       "  </thead>\n",
       "  <tbody>\n",
       "    <tr>\n",
       "      <th>0</th>\n",
       "      <td>0,0,91,33.1470269678005991,-117.20585486207906...</td>\n",
       "      <td>0</td>\n",
       "      <td>33.1470269678005991</td>\n",
       "      <td>-117.205854862079065</td>\n",
       "      <td>199</td>\n",
       "      <td>173</td>\n",
       "      <td>4</td>\n",
       "      <td>WIFIRE/Processed_Data/LabelledTiles_Fuel_Equal...</td>\n",
       "      <td>U</td>\n",
       "    </tr>\n",
       "    <tr>\n",
       "      <th>1</th>\n",
       "      <td>1,1,1,33.1470269678005991,-117.205551406658813...</td>\n",
       "      <td>1</td>\n",
       "      <td>33.1470269678005991</td>\n",
       "      <td>-117.205551406658813</td>\n",
       "      <td>196</td>\n",
       "      <td>141</td>\n",
       "      <td>6</td>\n",
       "      <td>WIFIRE/Processed_Data/LabelledTiles_Fuel_Equal...</td>\n",
       "      <td>U</td>\n",
       "    </tr>\n",
       "    <tr>\n",
       "      <th>2</th>\n",
       "      <td>2,2,1,33.1470269678005991,-117.205247951238547...</td>\n",
       "      <td>2</td>\n",
       "      <td>33.1470269678005991</td>\n",
       "      <td>-117.205247951238547</td>\n",
       "      <td>193</td>\n",
       "      <td>126</td>\n",
       "      <td>6</td>\n",
       "      <td>WIFIRE/Processed_Data/LabelledTiles_Fuel_Equal...</td>\n",
       "      <td>U</td>\n",
       "    </tr>\n",
       "    <tr>\n",
       "      <th>3</th>\n",
       "      <td>3,3,91,33.1470269678005991,-117.20494449581829...</td>\n",
       "      <td>3</td>\n",
       "      <td>33.1470269678005991</td>\n",
       "      <td>-117.204944495818296</td>\n",
       "      <td>190</td>\n",
       "      <td>122</td>\n",
       "      <td>4</td>\n",
       "      <td>WIFIRE/Processed_Data/LabelledTiles_Fuel_Equal...</td>\n",
       "      <td>U</td>\n",
       "    </tr>\n",
       "    <tr>\n",
       "      <th>4</th>\n",
       "      <td>4,4,91,33.1470269678005991,-117.20464104039803...</td>\n",
       "      <td>4</td>\n",
       "      <td>33.1470269678005991</td>\n",
       "      <td>-117.20464104039803</td>\n",
       "      <td>189</td>\n",
       "      <td>0</td>\n",
       "      <td>2</td>\n",
       "      <td>WIFIRE/Processed_Data/LabelledTiles_Fuel_Equal...</td>\n",
       "      <td>U</td>\n",
       "    </tr>\n",
       "  </tbody>\n",
       "</table>\n",
       "</div>"
      ],
      "text/plain": [
       "                                                 Row FuelFileIndex  \\\n",
       "0  0,0,91,33.1470269678005991,-117.20585486207906...             0   \n",
       "1  1,1,1,33.1470269678005991,-117.205551406658813...             1   \n",
       "2  2,2,1,33.1470269678005991,-117.205247951238547...             2   \n",
       "3  3,3,91,33.1470269678005991,-117.20494449581829...             3   \n",
       "4  4,4,91,33.1470269678005991,-117.20464104039803...             4   \n",
       "\n",
       "                   Lat                  Long Elev Aspect Slope  \\\n",
       "0  33.1470269678005991  -117.205854862079065  199    173     4   \n",
       "1  33.1470269678005991  -117.205551406658813  196    141     6   \n",
       "2  33.1470269678005991  -117.205247951238547  193    126     6   \n",
       "3  33.1470269678005991  -117.204944495818296  190    122     4   \n",
       "4  33.1470269678005991   -117.20464104039803  189      0     2   \n",
       "\n",
       "                                               Image NewLabel  \n",
       "0  WIFIRE/Processed_Data/LabelledTiles_Fuel_Equal...        U  \n",
       "1  WIFIRE/Processed_Data/LabelledTiles_Fuel_Equal...        U  \n",
       "2  WIFIRE/Processed_Data/LabelledTiles_Fuel_Equal...        U  \n",
       "3  WIFIRE/Processed_Data/LabelledTiles_Fuel_Equal...        U  \n",
       "4  WIFIRE/Processed_Data/LabelledTiles_Fuel_Equal...        U  "
      ]
     },
     "execution_count": 36,
     "metadata": {},
     "output_type": "execute_result"
    }
   ],
   "source": [
    "#Combine all\n",
    "Final=pd.merge(Combine,ClusterLabel,on='FuelFileIndex')\n",
    "print (Final.shape)\n",
    "Final.head()"
   ]
  },
  {
   "cell_type": "code",
   "execution_count": 37,
   "metadata": {
    "collapsed": false
   },
   "outputs": [],
   "source": [
    "#Export\n",
    "Final[['FuelFileIndex','Lat','Long','Elev','Aspect','Slope','Image','NewLabel']].to_csv(Tile+'Reference_Fuel_EqualArea_18May2017_LabelsFromClustering_ElevAspectSlope.csv')"
   ]
  },
  {
   "cell_type": "code",
   "execution_count": null,
   "metadata": {
    "collapsed": false
   },
   "outputs": [],
   "source": []
  },
  {
   "cell_type": "markdown",
   "metadata": {
    "collapsed": true
   },
   "source": [
    "--------\n",
    "\n",
    "## Final Capstone Presentation:  Run  our Classifications through WIFIRE fire model\n",
    "\n",
    "Create 2012 Tiles for the area around the 2014 polygon.  These will run through our final model and a fuel map (TIFF) file will be made from those predictions.  This TIFF will be inputted into the actaul WIFIRE fire model and we will see how the fire behavior changes with our classification as oppose to the LANDFIRE labels.  Perhaps we can even compare the fire model using our  classifications to the  actual  2014 fire.\n",
    "\n",
    "Rectangular boundary around the  2014 polygon:\n",
    "\n",
    "UL: -117.18257,  33.12640\n",
    "\n",
    "LL: -117.12437,  33.07794"
   ]
  },
  {
   "cell_type": "code",
   "execution_count": 6,
   "metadata": {
    "collapsed": true
   },
   "outputs": [],
   "source": [
    "# Have to Clip Fuel first then recalculate spatial extent based on those clips\n",
    "# We then clip Satellite data to this new spatial extent.  Higher resolution satellite data approximates the Lower resolution Fuel data\n",
    "SE=[-117.18257, 33.12640,-117.12437, 33.07794]\n",
    "ClipFile(SE,Proj+'Clip_SanDiego_Fuel2012_UTM_ReProj.tif',Clip+'Clip_Fuel2012_FirePolygonRectangle.tif')\n",
    "f12=GrabCornerCoordinates(Clip+'Clip_Fuel2012_FirePolygonRectangle.tif')\n",
    "ClipFile(f12,DG+'Escondido2012v3.tif',Clip+'Clip_Sat2012_FirePolygonRectangle.tif')\n"
   ]
  },
  {
   "cell_type": "code",
   "execution_count": 7,
   "metadata": {
    "collapsed": false
   },
   "outputs": [
    {
     "name": "stdout",
     "output_type": "stream",
     "text": [
      "/opt/anaconda3/bin/gdal_translate -of XYZ /home/mcmccart/WIFIRE/Data_Prep_Work_Flow/Clipped_Files/Clip_Fuel2012_FirePolygonRectangle.tif /home/mcmccart/WIFIRE/Data_Prep_Work_Flow/Clipped_Files/Clip_Fuel2012_FirePolygonRectangle.xyz\n"
     ]
    }
   ],
   "source": [
    "ToXYZ(Clip+'Clip_Fuel2012_FirePolygonRectangle.tif', Clip+'Clip_Fuel2012_FirePolygonRectangle.xyz')"
   ]
  },
  {
   "cell_type": "code",
   "execution_count": 8,
   "metadata": {
    "collapsed": false
   },
   "outputs": [
    {
     "data": {
      "text/html": [
       "<div>\n",
       "<table border=\"1\" class=\"dataframe\">\n",
       "  <thead>\n",
       "    <tr style=\"text-align: right;\">\n",
       "      <th></th>\n",
       "      <th>Long</th>\n",
       "      <th>Lat</th>\n",
       "      <th>Fuel</th>\n",
       "      <th>Index</th>\n",
       "    </tr>\n",
       "  </thead>\n",
       "  <tbody>\n",
       "    <tr>\n",
       "      <th>0</th>\n",
       "      <td>-117.182418437500004</td>\n",
       "      <td>33.1262485624999954</td>\n",
       "      <td>91</td>\n",
       "      <td>0</td>\n",
       "    </tr>\n",
       "    <tr>\n",
       "      <th>1</th>\n",
       "      <td>-117.182115312500002</td>\n",
       "      <td>33.1262485624999954</td>\n",
       "      <td>2</td>\n",
       "      <td>1</td>\n",
       "    </tr>\n",
       "    <tr>\n",
       "      <th>2</th>\n",
       "      <td>-117.1818121875</td>\n",
       "      <td>33.1262485624999954</td>\n",
       "      <td>2</td>\n",
       "      <td>2</td>\n",
       "    </tr>\n",
       "    <tr>\n",
       "      <th>3</th>\n",
       "      <td>-117.181509062499998</td>\n",
       "      <td>33.1262485624999954</td>\n",
       "      <td>91</td>\n",
       "      <td>3</td>\n",
       "    </tr>\n",
       "    <tr>\n",
       "      <th>4</th>\n",
       "      <td>-117.181205937499996</td>\n",
       "      <td>33.1262485624999954</td>\n",
       "      <td>91</td>\n",
       "      <td>4</td>\n",
       "    </tr>\n",
       "  </tbody>\n",
       "</table>\n",
       "</div>"
      ],
      "text/plain": [
       "                   Long                  Lat Fuel  Index\n",
       "0  -117.182418437500004  33.1262485624999954   91      0\n",
       "1  -117.182115312500002  33.1262485624999954    2      1\n",
       "2       -117.1818121875  33.1262485624999954    2      2\n",
       "3  -117.181509062499998  33.1262485624999954   91      3\n",
       "4  -117.181205937499996  33.1262485624999954   91      4"
      ]
     },
     "execution_count": 8,
     "metadata": {},
     "output_type": "execute_result"
    }
   ],
   "source": [
    "# Tile the 2012 data inside the \"Fire polygon rectangle\"\n",
    "FP12=ImportPreserve(Clip+'Clip_Fuel2012_FirePolygonRectangle.xyz','Fuel')\n",
    "FP12[\"Index\"]=FP12.index\n",
    "FP12[\"Index\"].apply(lambda x: str(x))\n",
    "\n",
    "\n",
    "# Save the pixel Index into a XYZ file\n",
    "FP12[[\"Long\", \"Lat\",\"Index\"]].to_csv(Clip+'Clip_Fuel2012_FirePolygonRectangle_IndexOnly.xyz',sep=' ', index=False, header=False)\n",
    "\n",
    "\n",
    "FP12.head()"
   ]
  },
  {
   "cell_type": "code",
   "execution_count": 10,
   "metadata": {
    "collapsed": false
   },
   "outputs": [
    {
     "name": "stdout",
     "output_type": "stream",
     "text": [
      "0\n",
      "1000\n",
      "2000\n",
      "3000\n",
      "4000\n",
      "5000\n",
      "6000\n",
      "7000\n",
      "8000\n",
      "9000\n",
      "10000\n",
      "11000\n",
      "12000\n",
      "13000\n",
      "14000\n",
      "15000\n",
      "16000\n",
      "17000\n",
      "18000\n",
      "19000\n",
      "20000\n",
      "21000\n",
      "22000\n",
      "23000\n",
      "24000\n",
      "25000\n",
      "26000\n",
      "27000\n",
      "28000\n",
      "29000\n",
      "30000\n"
     ]
    }
   ],
   "source": [
    "#Make 2012 Tiles for the Fire Polygon Rectangle\n",
    "FP12_Tiles=CreateTiles(Clip+'Clip_Fuel2012_FirePolygonRectangle.xyz',FP12,'Fuel',Clip+'Clip_Sat2012_FirePolygonRectangle.tif',Tile+'FuelTile_2012_FirePolygonRectangle')\n",
    "\n"
   ]
  },
  {
   "cell_type": "code",
   "execution_count": 11,
   "metadata": {
    "collapsed": true
   },
   "outputs": [],
   "source": [
    "FP12_Tiles.to_csv('/home/mcmccart/WIFIRE/Processed_Data/LabelledTiles_Fuel_EqualArea/Reference_Fuel_EqualArea_FirePolygonRectangle2012.csv')"
   ]
  },
  {
   "cell_type": "code",
   "execution_count": null,
   "metadata": {
    "collapsed": true
   },
   "outputs": [],
   "source": []
  }
 ],
 "metadata": {
  "kernelspec": {
   "display_name": "Python 3 conda",
   "language": "python",
   "name": "conda"
  },
  "language_info": {
   "codemirror_mode": {
    "name": "ipython",
    "version": 3
   },
   "file_extension": ".py",
   "mimetype": "text/x-python",
   "name": "python",
   "nbconvert_exporter": "python",
   "pygments_lexer": "ipython3",
   "version": "3.5.2"
  }
 },
 "nbformat": 4,
 "nbformat_minor": 2
}
