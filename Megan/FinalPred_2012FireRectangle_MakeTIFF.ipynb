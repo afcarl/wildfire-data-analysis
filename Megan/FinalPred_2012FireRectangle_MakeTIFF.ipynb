{
 "cells": [
  {
   "cell_type": "markdown",
   "metadata": {},
   "source": [
    "## 2012 Fire Polygon TIFF\n",
    "\n",
    "This notebook takes our final model's predictions for a rectangle around the fire polygon and turns into a TIFF.  This will be run through the  WIFIRE  fire model \n",
    "\n",
    "Recall that in order to run through  WIFIRE model, we need LandFire labels, so we have  to convert our categories to LF  types:\n",
    "* G = 1\n",
    "* S = 5\n",
    "* UF = 8\n",
    "* U = 91\n",
    "* W = 98\n",
    "* B = 99\n",
    "* edges (UG, US, UUF) can be either  Urban (91) or  veg (1, 5, 8)\n",
    "\n",
    "3 Files are created:\n",
    "* TIFF of  our  model predictions where \"edges\" are  called Urban\n",
    "* TIFF of our model predictions where \"edges \" are called  Veg\n",
    "* TIFF of original LANDFIRE labels"
   ]
  },
  {
   "cell_type": "code",
   "execution_count": 1,
   "metadata": {
    "collapsed": true
   },
   "outputs": [],
   "source": [
    "import gdal\n",
    "import os\n",
    "import pandas as pd\n",
    "import matplotlib.pyplot as plt\n",
    "%matplotlib inline"
   ]
  },
  {
   "cell_type": "code",
   "execution_count": 2,
   "metadata": {
    "collapsed": true
   },
   "outputs": [],
   "source": [
    "def ImportPreserve(FileName,labelName):\n",
    "    DF=pd.read_table(FileName, header=None)\n",
    "    DF.columns=['Row']\n",
    "    DF[\"Eastern\"]=DF[\"Row\"].apply(lambda x: x.split(\" \")[0])\n",
    "    DF[\"Northern\"]=DF[\"Row\"].apply(lambda x: x.split(\" \")[1])\n",
    "    DF[labelName]=DF[\"Row\"].apply(lambda x: x.split(\" \")[2])\n",
    "    del DF[\"Row\"]\n",
    "    return DF"
   ]
  },
  {
   "cell_type": "code",
   "execution_count": 3,
   "metadata": {
    "collapsed": false
   },
   "outputs": [
    {
     "data": {
      "text/html": [
       "<div>\n",
       "<table border=\"1\" class=\"dataframe\">\n",
       "  <thead>\n",
       "    <tr style=\"text-align: right;\">\n",
       "      <th></th>\n",
       "      <th>FuelFileIndex</th>\n",
       "      <th>Label</th>\n",
       "      <th>Lat</th>\n",
       "      <th>Long</th>\n",
       "      <th>TileName</th>\n",
       "      <th>lrx</th>\n",
       "      <th>lry</th>\n",
       "      <th>ulx</th>\n",
       "      <th>uly</th>\n",
       "    </tr>\n",
       "  </thead>\n",
       "  <tbody>\n",
       "    <tr>\n",
       "      <th>0</th>\n",
       "      <td>0</td>\n",
       "      <td>91</td>\n",
       "      <td>33.1262485624999954</td>\n",
       "      <td>-117.182418437500004</td>\n",
       "      <td>/home/mcmccart/WIFIRE/Processed_Data/LabelledT...</td>\n",
       "      <td>-117.182266875</td>\n",
       "      <td>33.126097124999994</td>\n",
       "      <td>-117.18257</td>\n",
       "      <td>33.1264</td>\n",
       "    </tr>\n",
       "    <tr>\n",
       "      <th>1</th>\n",
       "      <td>1</td>\n",
       "      <td>2</td>\n",
       "      <td>33.1262485624999954</td>\n",
       "      <td>-117.182115312500002</td>\n",
       "      <td>/home/mcmccart/WIFIRE/Processed_Data/LabelledT...</td>\n",
       "      <td>-117.18196375</td>\n",
       "      <td>33.126097124999994</td>\n",
       "      <td>-117.182266875</td>\n",
       "      <td>33.1264</td>\n",
       "    </tr>\n",
       "    <tr>\n",
       "      <th>2</th>\n",
       "      <td>2</td>\n",
       "      <td>2</td>\n",
       "      <td>33.1262485624999954</td>\n",
       "      <td>-117.1818121875</td>\n",
       "      <td>/home/mcmccart/WIFIRE/Processed_Data/LabelledT...</td>\n",
       "      <td>-117.18166062499999</td>\n",
       "      <td>33.126097124999994</td>\n",
       "      <td>-117.18196375</td>\n",
       "      <td>33.1264</td>\n",
       "    </tr>\n",
       "    <tr>\n",
       "      <th>3</th>\n",
       "      <td>3</td>\n",
       "      <td>91</td>\n",
       "      <td>33.1262485624999954</td>\n",
       "      <td>-117.181509062499998</td>\n",
       "      <td>/home/mcmccart/WIFIRE/Processed_Data/LabelledT...</td>\n",
       "      <td>-117.18135749999999</td>\n",
       "      <td>33.126097124999994</td>\n",
       "      <td>-117.18166062499999</td>\n",
       "      <td>33.1264</td>\n",
       "    </tr>\n",
       "    <tr>\n",
       "      <th>4</th>\n",
       "      <td>4</td>\n",
       "      <td>91</td>\n",
       "      <td>33.1262485624999954</td>\n",
       "      <td>-117.181205937499996</td>\n",
       "      <td>/home/mcmccart/WIFIRE/Processed_Data/LabelledT...</td>\n",
       "      <td>-117.18105437499999</td>\n",
       "      <td>33.126097124999994</td>\n",
       "      <td>-117.18135749999999</td>\n",
       "      <td>33.1264</td>\n",
       "    </tr>\n",
       "  </tbody>\n",
       "</table>\n",
       "</div>"
      ],
      "text/plain": [
       "  FuelFileIndex Label                  Lat                  Long  \\\n",
       "0             0    91  33.1262485624999954  -117.182418437500004   \n",
       "1             1     2  33.1262485624999954  -117.182115312500002   \n",
       "2             2     2  33.1262485624999954       -117.1818121875   \n",
       "3             3    91  33.1262485624999954  -117.181509062499998   \n",
       "4             4    91  33.1262485624999954  -117.181205937499996   \n",
       "\n",
       "                                            TileName                  lrx  \\\n",
       "0  /home/mcmccart/WIFIRE/Processed_Data/LabelledT...       -117.182266875   \n",
       "1  /home/mcmccart/WIFIRE/Processed_Data/LabelledT...        -117.18196375   \n",
       "2  /home/mcmccart/WIFIRE/Processed_Data/LabelledT...  -117.18166062499999   \n",
       "3  /home/mcmccart/WIFIRE/Processed_Data/LabelledT...  -117.18135749999999   \n",
       "4  /home/mcmccart/WIFIRE/Processed_Data/LabelledT...  -117.18105437499999   \n",
       "\n",
       "                  lry                  ulx      uly  \n",
       "0  33.126097124999994           -117.18257  33.1264  \n",
       "1  33.126097124999994       -117.182266875  33.1264  \n",
       "2  33.126097124999994        -117.18196375  33.1264  \n",
       "3  33.126097124999994  -117.18166062499999  33.1264  \n",
       "4  33.126097124999994  -117.18135749999999  33.1264  "
      ]
     },
     "execution_count": 3,
     "metadata": {},
     "output_type": "execute_result"
    }
   ],
   "source": [
    "Ref=pd.read_csv('WIFIRE/Processed_Data/LabelledTiles_Fuel_EqualArea/Reference_Fuel_EqualArea_FirePolygonRectangle2012.csv',dtype=object, index_col=0)\n",
    "Ref.head()"
   ]
  },
  {
   "cell_type": "code",
   "execution_count": 4,
   "metadata": {
    "collapsed": false
   },
   "outputs": [
    {
     "data": {
      "text/html": [
       "<div>\n",
       "<table border=\"1\" class=\"dataframe\">\n",
       "  <thead>\n",
       "    <tr style=\"text-align: right;\">\n",
       "      <th></th>\n",
       "      <th>Unnamed: 0.1</th>\n",
       "      <th>FuelFileIndex</th>\n",
       "      <th>Label</th>\n",
       "      <th>Lat</th>\n",
       "      <th>Long</th>\n",
       "      <th>TileName</th>\n",
       "      <th>lrx</th>\n",
       "      <th>lry</th>\n",
       "      <th>ulx</th>\n",
       "      <th>uly</th>\n",
       "      <th>predict_labels</th>\n",
       "    </tr>\n",
       "  </thead>\n",
       "  <tbody>\n",
       "    <tr>\n",
       "      <th>0</th>\n",
       "      <td>0</td>\n",
       "      <td>0</td>\n",
       "      <td>91</td>\n",
       "      <td>33.1262485625</td>\n",
       "      <td>-117.182418438</td>\n",
       "      <td>/home/mcmccart/WIFIRE/Processed_Data/LabelledT...</td>\n",
       "      <td>-117.182266875</td>\n",
       "      <td>33.126097125</td>\n",
       "      <td>-117.18257</td>\n",
       "      <td>33.1264</td>\n",
       "      <td>S</td>\n",
       "    </tr>\n",
       "    <tr>\n",
       "      <th>1</th>\n",
       "      <td>1</td>\n",
       "      <td>1</td>\n",
       "      <td>2</td>\n",
       "      <td>33.1262485625</td>\n",
       "      <td>-117.182115313</td>\n",
       "      <td>/home/mcmccart/WIFIRE/Processed_Data/LabelledT...</td>\n",
       "      <td>-117.18196375</td>\n",
       "      <td>33.126097125</td>\n",
       "      <td>-117.182266875</td>\n",
       "      <td>33.1264</td>\n",
       "      <td>UUF</td>\n",
       "    </tr>\n",
       "    <tr>\n",
       "      <th>2</th>\n",
       "      <td>2</td>\n",
       "      <td>2</td>\n",
       "      <td>2</td>\n",
       "      <td>33.1262485625</td>\n",
       "      <td>-117.181812188</td>\n",
       "      <td>/home/mcmccart/WIFIRE/Processed_Data/LabelledT...</td>\n",
       "      <td>-117.181660625</td>\n",
       "      <td>33.126097125</td>\n",
       "      <td>-117.18196375</td>\n",
       "      <td>33.1264</td>\n",
       "      <td>UUF</td>\n",
       "    </tr>\n",
       "    <tr>\n",
       "      <th>3</th>\n",
       "      <td>3</td>\n",
       "      <td>3</td>\n",
       "      <td>91</td>\n",
       "      <td>33.1262485625</td>\n",
       "      <td>-117.181509062</td>\n",
       "      <td>/home/mcmccart/WIFIRE/Processed_Data/LabelledT...</td>\n",
       "      <td>-117.1813575</td>\n",
       "      <td>33.126097125</td>\n",
       "      <td>-117.181660625</td>\n",
       "      <td>33.1264</td>\n",
       "      <td>UUF</td>\n",
       "    </tr>\n",
       "    <tr>\n",
       "      <th>4</th>\n",
       "      <td>4</td>\n",
       "      <td>4</td>\n",
       "      <td>91</td>\n",
       "      <td>33.1262485625</td>\n",
       "      <td>-117.181205937</td>\n",
       "      <td>/home/mcmccart/WIFIRE/Processed_Data/LabelledT...</td>\n",
       "      <td>-117.181054375</td>\n",
       "      <td>33.126097125</td>\n",
       "      <td>-117.1813575</td>\n",
       "      <td>33.1264</td>\n",
       "      <td>UUF</td>\n",
       "    </tr>\n",
       "  </tbody>\n",
       "</table>\n",
       "</div>"
      ],
      "text/plain": [
       "  Unnamed: 0.1 FuelFileIndex Label            Lat            Long  \\\n",
       "0            0             0    91  33.1262485625  -117.182418438   \n",
       "1            1             1     2  33.1262485625  -117.182115313   \n",
       "2            2             2     2  33.1262485625  -117.181812188   \n",
       "3            3             3    91  33.1262485625  -117.181509062   \n",
       "4            4             4    91  33.1262485625  -117.181205937   \n",
       "\n",
       "                                            TileName             lrx  \\\n",
       "0  /home/mcmccart/WIFIRE/Processed_Data/LabelledT...  -117.182266875   \n",
       "1  /home/mcmccart/WIFIRE/Processed_Data/LabelledT...   -117.18196375   \n",
       "2  /home/mcmccart/WIFIRE/Processed_Data/LabelledT...  -117.181660625   \n",
       "3  /home/mcmccart/WIFIRE/Processed_Data/LabelledT...    -117.1813575   \n",
       "4  /home/mcmccart/WIFIRE/Processed_Data/LabelledT...  -117.181054375   \n",
       "\n",
       "            lry             ulx      uly predict_labels  \n",
       "0  33.126097125      -117.18257  33.1264              S  \n",
       "1  33.126097125  -117.182266875  33.1264            UUF  \n",
       "2  33.126097125   -117.18196375  33.1264            UUF  \n",
       "3  33.126097125  -117.181660625  33.1264            UUF  \n",
       "4  33.126097125    -117.1813575  33.1264            UUF  "
      ]
     },
     "execution_count": 4,
     "metadata": {},
     "output_type": "execute_result"
    }
   ],
   "source": [
    "Pred=pd.read_csv('WIFIRE/Final_Predictions.csv',dtype=object, index_col=0)\n",
    "Pred.head()"
   ]
  },
  {
   "cell_type": "code",
   "execution_count": 12,
   "metadata": {
    "collapsed": false
   },
   "outputs": [
    {
     "data": {
      "text/html": [
       "<div>\n",
       "<table border=\"1\" class=\"dataframe\">\n",
       "  <thead>\n",
       "    <tr style=\"text-align: right;\">\n",
       "      <th></th>\n",
       "      <th>Unnamed: 0.1</th>\n",
       "      <th>FuelFileIndex</th>\n",
       "      <th>Label</th>\n",
       "      <th>Lat</th>\n",
       "      <th>Long</th>\n",
       "      <th>TileName</th>\n",
       "      <th>lrx</th>\n",
       "      <th>lry</th>\n",
       "      <th>ulx</th>\n",
       "      <th>uly</th>\n",
       "      <th>predict_labels</th>\n",
       "      <th>PredLabel</th>\n",
       "    </tr>\n",
       "  </thead>\n",
       "  <tbody>\n",
       "    <tr>\n",
       "      <th>0</th>\n",
       "      <td>0</td>\n",
       "      <td>0</td>\n",
       "      <td>91</td>\n",
       "      <td>33.1262485625</td>\n",
       "      <td>-117.182418438</td>\n",
       "      <td>/home/mcmccart/WIFIRE/Processed_Data/LabelledT...</td>\n",
       "      <td>-117.182266875</td>\n",
       "      <td>33.126097125</td>\n",
       "      <td>-117.18257</td>\n",
       "      <td>33.1264</td>\n",
       "      <td>S</td>\n",
       "      <td>5</td>\n",
       "    </tr>\n",
       "    <tr>\n",
       "      <th>1</th>\n",
       "      <td>1</td>\n",
       "      <td>1</td>\n",
       "      <td>2</td>\n",
       "      <td>33.1262485625</td>\n",
       "      <td>-117.182115313</td>\n",
       "      <td>/home/mcmccart/WIFIRE/Processed_Data/LabelledT...</td>\n",
       "      <td>-117.18196375</td>\n",
       "      <td>33.126097125</td>\n",
       "      <td>-117.182266875</td>\n",
       "      <td>33.1264</td>\n",
       "      <td>UUF</td>\n",
       "      <td>91</td>\n",
       "    </tr>\n",
       "    <tr>\n",
       "      <th>2</th>\n",
       "      <td>2</td>\n",
       "      <td>2</td>\n",
       "      <td>2</td>\n",
       "      <td>33.1262485625</td>\n",
       "      <td>-117.181812188</td>\n",
       "      <td>/home/mcmccart/WIFIRE/Processed_Data/LabelledT...</td>\n",
       "      <td>-117.181660625</td>\n",
       "      <td>33.126097125</td>\n",
       "      <td>-117.18196375</td>\n",
       "      <td>33.1264</td>\n",
       "      <td>UUF</td>\n",
       "      <td>91</td>\n",
       "    </tr>\n",
       "    <tr>\n",
       "      <th>3</th>\n",
       "      <td>3</td>\n",
       "      <td>3</td>\n",
       "      <td>91</td>\n",
       "      <td>33.1262485625</td>\n",
       "      <td>-117.181509062</td>\n",
       "      <td>/home/mcmccart/WIFIRE/Processed_Data/LabelledT...</td>\n",
       "      <td>-117.1813575</td>\n",
       "      <td>33.126097125</td>\n",
       "      <td>-117.181660625</td>\n",
       "      <td>33.1264</td>\n",
       "      <td>UUF</td>\n",
       "      <td>91</td>\n",
       "    </tr>\n",
       "    <tr>\n",
       "      <th>4</th>\n",
       "      <td>4</td>\n",
       "      <td>4</td>\n",
       "      <td>91</td>\n",
       "      <td>33.1262485625</td>\n",
       "      <td>-117.181205937</td>\n",
       "      <td>/home/mcmccart/WIFIRE/Processed_Data/LabelledT...</td>\n",
       "      <td>-117.181054375</td>\n",
       "      <td>33.126097125</td>\n",
       "      <td>-117.1813575</td>\n",
       "      <td>33.1264</td>\n",
       "      <td>UUF</td>\n",
       "      <td>91</td>\n",
       "    </tr>\n",
       "  </tbody>\n",
       "</table>\n",
       "</div>"
      ],
      "text/plain": [
       "  Unnamed: 0.1 FuelFileIndex Label            Lat            Long  \\\n",
       "0            0             0    91  33.1262485625  -117.182418438   \n",
       "1            1             1     2  33.1262485625  -117.182115313   \n",
       "2            2             2     2  33.1262485625  -117.181812188   \n",
       "3            3             3    91  33.1262485625  -117.181509062   \n",
       "4            4             4    91  33.1262485625  -117.181205937   \n",
       "\n",
       "                                            TileName             lrx  \\\n",
       "0  /home/mcmccart/WIFIRE/Processed_Data/LabelledT...  -117.182266875   \n",
       "1  /home/mcmccart/WIFIRE/Processed_Data/LabelledT...   -117.18196375   \n",
       "2  /home/mcmccart/WIFIRE/Processed_Data/LabelledT...  -117.181660625   \n",
       "3  /home/mcmccart/WIFIRE/Processed_Data/LabelledT...    -117.1813575   \n",
       "4  /home/mcmccart/WIFIRE/Processed_Data/LabelledT...  -117.181054375   \n",
       "\n",
       "            lry             ulx      uly predict_labels PredLabel  \n",
       "0  33.126097125      -117.18257  33.1264              S         5  \n",
       "1  33.126097125  -117.182266875  33.1264            UUF        91  \n",
       "2  33.126097125   -117.18196375  33.1264            UUF        91  \n",
       "3  33.126097125  -117.181660625  33.1264            UUF        91  \n",
       "4  33.126097125    -117.1813575  33.1264            UUF        91  "
      ]
     },
     "execution_count": 12,
     "metadata": {},
     "output_type": "execute_result"
    }
   ],
   "source": [
    "# Assign \"edges\" as Urban\n",
    "SwitchLF1={'G':'1','S':'5','UF':'8','UG':'91','US':'91','UUF':'91','U':'91','W':'98','B':'99'}\n",
    "\n",
    "Pred[\"PredLabel\"]=Pred[\"predict_labels\"].apply(lambda x: SwitchLF1[x])\n",
    "Pred.head()"
   ]
  },
  {
   "cell_type": "code",
   "execution_count": 13,
   "metadata": {
    "collapsed": false
   },
   "outputs": [
    {
     "name": "stdout",
     "output_type": "stream",
     "text": [
      "0\n"
     ]
    }
   ],
   "source": [
    "Tiles=pd.merge(Pred[[\"FuelFileIndex\",\"PredLabel\"]],Ref,on='FuelFileIndex',how='left')\n",
    "print(Tiles[Tiles[\"Lat\"].isnull()].shape[0])"
   ]
  },
  {
   "cell_type": "code",
   "execution_count": 14,
   "metadata": {
    "collapsed": false
   },
   "outputs": [
    {
     "data": {
      "text/html": [
       "<div>\n",
       "<table border=\"1\" class=\"dataframe\">\n",
       "  <thead>\n",
       "    <tr style=\"text-align: right;\">\n",
       "      <th></th>\n",
       "      <th>FuelFileIndex</th>\n",
       "      <th>PredLabel</th>\n",
       "      <th>Label</th>\n",
       "      <th>Lat</th>\n",
       "      <th>Long</th>\n",
       "      <th>TileName</th>\n",
       "      <th>lrx</th>\n",
       "      <th>lry</th>\n",
       "      <th>ulx</th>\n",
       "      <th>uly</th>\n",
       "    </tr>\n",
       "  </thead>\n",
       "  <tbody>\n",
       "    <tr>\n",
       "      <th>0</th>\n",
       "      <td>0</td>\n",
       "      <td>5</td>\n",
       "      <td>91</td>\n",
       "      <td>33.1262485624999954</td>\n",
       "      <td>-117.182418437500004</td>\n",
       "      <td>/home/mcmccart/WIFIRE/Processed_Data/LabelledT...</td>\n",
       "      <td>-117.182266875</td>\n",
       "      <td>33.126097124999994</td>\n",
       "      <td>-117.18257</td>\n",
       "      <td>33.1264</td>\n",
       "    </tr>\n",
       "    <tr>\n",
       "      <th>1</th>\n",
       "      <td>1</td>\n",
       "      <td>91</td>\n",
       "      <td>2</td>\n",
       "      <td>33.1262485624999954</td>\n",
       "      <td>-117.182115312500002</td>\n",
       "      <td>/home/mcmccart/WIFIRE/Processed_Data/LabelledT...</td>\n",
       "      <td>-117.18196375</td>\n",
       "      <td>33.126097124999994</td>\n",
       "      <td>-117.182266875</td>\n",
       "      <td>33.1264</td>\n",
       "    </tr>\n",
       "    <tr>\n",
       "      <th>2</th>\n",
       "      <td>2</td>\n",
       "      <td>91</td>\n",
       "      <td>2</td>\n",
       "      <td>33.1262485624999954</td>\n",
       "      <td>-117.1818121875</td>\n",
       "      <td>/home/mcmccart/WIFIRE/Processed_Data/LabelledT...</td>\n",
       "      <td>-117.18166062499999</td>\n",
       "      <td>33.126097124999994</td>\n",
       "      <td>-117.18196375</td>\n",
       "      <td>33.1264</td>\n",
       "    </tr>\n",
       "    <tr>\n",
       "      <th>3</th>\n",
       "      <td>3</td>\n",
       "      <td>91</td>\n",
       "      <td>91</td>\n",
       "      <td>33.1262485624999954</td>\n",
       "      <td>-117.181509062499998</td>\n",
       "      <td>/home/mcmccart/WIFIRE/Processed_Data/LabelledT...</td>\n",
       "      <td>-117.18135749999999</td>\n",
       "      <td>33.126097124999994</td>\n",
       "      <td>-117.18166062499999</td>\n",
       "      <td>33.1264</td>\n",
       "    </tr>\n",
       "    <tr>\n",
       "      <th>4</th>\n",
       "      <td>4</td>\n",
       "      <td>91</td>\n",
       "      <td>91</td>\n",
       "      <td>33.1262485624999954</td>\n",
       "      <td>-117.181205937499996</td>\n",
       "      <td>/home/mcmccart/WIFIRE/Processed_Data/LabelledT...</td>\n",
       "      <td>-117.18105437499999</td>\n",
       "      <td>33.126097124999994</td>\n",
       "      <td>-117.18135749999999</td>\n",
       "      <td>33.1264</td>\n",
       "    </tr>\n",
       "  </tbody>\n",
       "</table>\n",
       "</div>"
      ],
      "text/plain": [
       "  FuelFileIndex PredLabel Label                  Lat                  Long  \\\n",
       "0             0         5    91  33.1262485624999954  -117.182418437500004   \n",
       "1             1        91     2  33.1262485624999954  -117.182115312500002   \n",
       "2             2        91     2  33.1262485624999954       -117.1818121875   \n",
       "3             3        91    91  33.1262485624999954  -117.181509062499998   \n",
       "4             4        91    91  33.1262485624999954  -117.181205937499996   \n",
       "\n",
       "                                            TileName                  lrx  \\\n",
       "0  /home/mcmccart/WIFIRE/Processed_Data/LabelledT...       -117.182266875   \n",
       "1  /home/mcmccart/WIFIRE/Processed_Data/LabelledT...        -117.18196375   \n",
       "2  /home/mcmccart/WIFIRE/Processed_Data/LabelledT...  -117.18166062499999   \n",
       "3  /home/mcmccart/WIFIRE/Processed_Data/LabelledT...  -117.18135749999999   \n",
       "4  /home/mcmccart/WIFIRE/Processed_Data/LabelledT...  -117.18105437499999   \n",
       "\n",
       "                  lry                  ulx      uly  \n",
       "0  33.126097124999994           -117.18257  33.1264  \n",
       "1  33.126097124999994       -117.182266875  33.1264  \n",
       "2  33.126097124999994        -117.18196375  33.1264  \n",
       "3  33.126097124999994  -117.18166062499999  33.1264  \n",
       "4  33.126097124999994  -117.18135749999999  33.1264  "
      ]
     },
     "execution_count": 14,
     "metadata": {},
     "output_type": "execute_result"
    }
   ],
   "source": [
    "Tiles.head()"
   ]
  },
  {
   "cell_type": "code",
   "execution_count": 17,
   "metadata": {
    "collapsed": true
   },
   "outputs": [],
   "source": [
    "Tiles[[\"Long\", \"Lat\",\"PredLabel\"]].to_csv('FirePolygonRectangle2012_Predictions_EdgesUrban.xyz',sep=' ', index=False, header=False)\n"
   ]
  },
  {
   "cell_type": "code",
   "execution_count": 18,
   "metadata": {
    "collapsed": false
   },
   "outputs": [
    {
     "data": {
      "text/plain": [
       "0"
      ]
     },
     "execution_count": 18,
     "metadata": {},
     "output_type": "execute_result"
    }
   ],
   "source": [
    "gdal_str=\"/opt/anaconda3/bin/gdal_translate FirePolygonRectangle2012_Predictions_EdgesUrban.xyz FirePolygonRectangle2012_Predictions_EdgesUrban.tif\"\n",
    "os.system(gdal_str)"
   ]
  },
  {
   "cell_type": "code",
   "execution_count": null,
   "metadata": {
    "collapsed": true
   },
   "outputs": [],
   "source": []
  },
  {
   "cell_type": "code",
   "execution_count": 19,
   "metadata": {
    "collapsed": false
   },
   "outputs": [
    {
     "data": {
      "text/html": [
       "<div>\n",
       "<table border=\"1\" class=\"dataframe\">\n",
       "  <thead>\n",
       "    <tr style=\"text-align: right;\">\n",
       "      <th></th>\n",
       "      <th>Unnamed: 0.1</th>\n",
       "      <th>FuelFileIndex</th>\n",
       "      <th>Label</th>\n",
       "      <th>Lat</th>\n",
       "      <th>Long</th>\n",
       "      <th>TileName</th>\n",
       "      <th>lrx</th>\n",
       "      <th>lry</th>\n",
       "      <th>ulx</th>\n",
       "      <th>uly</th>\n",
       "      <th>predict_labels</th>\n",
       "      <th>PredLabel</th>\n",
       "    </tr>\n",
       "  </thead>\n",
       "  <tbody>\n",
       "    <tr>\n",
       "      <th>0</th>\n",
       "      <td>0</td>\n",
       "      <td>0</td>\n",
       "      <td>91</td>\n",
       "      <td>33.1262485625</td>\n",
       "      <td>-117.182418438</td>\n",
       "      <td>/home/mcmccart/WIFIRE/Processed_Data/LabelledT...</td>\n",
       "      <td>-117.182266875</td>\n",
       "      <td>33.126097125</td>\n",
       "      <td>-117.18257</td>\n",
       "      <td>33.1264</td>\n",
       "      <td>S</td>\n",
       "      <td>5</td>\n",
       "    </tr>\n",
       "    <tr>\n",
       "      <th>1</th>\n",
       "      <td>1</td>\n",
       "      <td>1</td>\n",
       "      <td>2</td>\n",
       "      <td>33.1262485625</td>\n",
       "      <td>-117.182115313</td>\n",
       "      <td>/home/mcmccart/WIFIRE/Processed_Data/LabelledT...</td>\n",
       "      <td>-117.18196375</td>\n",
       "      <td>33.126097125</td>\n",
       "      <td>-117.182266875</td>\n",
       "      <td>33.1264</td>\n",
       "      <td>UUF</td>\n",
       "      <td>8</td>\n",
       "    </tr>\n",
       "    <tr>\n",
       "      <th>2</th>\n",
       "      <td>2</td>\n",
       "      <td>2</td>\n",
       "      <td>2</td>\n",
       "      <td>33.1262485625</td>\n",
       "      <td>-117.181812188</td>\n",
       "      <td>/home/mcmccart/WIFIRE/Processed_Data/LabelledT...</td>\n",
       "      <td>-117.181660625</td>\n",
       "      <td>33.126097125</td>\n",
       "      <td>-117.18196375</td>\n",
       "      <td>33.1264</td>\n",
       "      <td>UUF</td>\n",
       "      <td>8</td>\n",
       "    </tr>\n",
       "    <tr>\n",
       "      <th>3</th>\n",
       "      <td>3</td>\n",
       "      <td>3</td>\n",
       "      <td>91</td>\n",
       "      <td>33.1262485625</td>\n",
       "      <td>-117.181509062</td>\n",
       "      <td>/home/mcmccart/WIFIRE/Processed_Data/LabelledT...</td>\n",
       "      <td>-117.1813575</td>\n",
       "      <td>33.126097125</td>\n",
       "      <td>-117.181660625</td>\n",
       "      <td>33.1264</td>\n",
       "      <td>UUF</td>\n",
       "      <td>8</td>\n",
       "    </tr>\n",
       "    <tr>\n",
       "      <th>4</th>\n",
       "      <td>4</td>\n",
       "      <td>4</td>\n",
       "      <td>91</td>\n",
       "      <td>33.1262485625</td>\n",
       "      <td>-117.181205937</td>\n",
       "      <td>/home/mcmccart/WIFIRE/Processed_Data/LabelledT...</td>\n",
       "      <td>-117.181054375</td>\n",
       "      <td>33.126097125</td>\n",
       "      <td>-117.1813575</td>\n",
       "      <td>33.1264</td>\n",
       "      <td>UUF</td>\n",
       "      <td>8</td>\n",
       "    </tr>\n",
       "  </tbody>\n",
       "</table>\n",
       "</div>"
      ],
      "text/plain": [
       "  Unnamed: 0.1 FuelFileIndex Label            Lat            Long  \\\n",
       "0            0             0    91  33.1262485625  -117.182418438   \n",
       "1            1             1     2  33.1262485625  -117.182115313   \n",
       "2            2             2     2  33.1262485625  -117.181812188   \n",
       "3            3             3    91  33.1262485625  -117.181509062   \n",
       "4            4             4    91  33.1262485625  -117.181205937   \n",
       "\n",
       "                                            TileName             lrx  \\\n",
       "0  /home/mcmccart/WIFIRE/Processed_Data/LabelledT...  -117.182266875   \n",
       "1  /home/mcmccart/WIFIRE/Processed_Data/LabelledT...   -117.18196375   \n",
       "2  /home/mcmccart/WIFIRE/Processed_Data/LabelledT...  -117.181660625   \n",
       "3  /home/mcmccart/WIFIRE/Processed_Data/LabelledT...    -117.1813575   \n",
       "4  /home/mcmccart/WIFIRE/Processed_Data/LabelledT...  -117.181054375   \n",
       "\n",
       "            lry             ulx      uly predict_labels PredLabel  \n",
       "0  33.126097125      -117.18257  33.1264              S         5  \n",
       "1  33.126097125  -117.182266875  33.1264            UUF         8  \n",
       "2  33.126097125   -117.18196375  33.1264            UUF         8  \n",
       "3  33.126097125  -117.181660625  33.1264            UUF         8  \n",
       "4  33.126097125    -117.1813575  33.1264            UUF         8  "
      ]
     },
     "execution_count": 19,
     "metadata": {},
     "output_type": "execute_result"
    }
   ],
   "source": [
    "# Assign \"edges\" as Veg\n",
    "SwitchLF1={'G':'1','S':'5','UF':'8','UG':'1','US':'5','UUF':'8','U':'91','W':'98','B':'99'}\n",
    "\n",
    "Pred[\"PredLabel\"]=Pred[\"predict_labels\"].apply(lambda x: SwitchLF1[x])\n",
    "Pred.head()"
   ]
  },
  {
   "cell_type": "code",
   "execution_count": 20,
   "metadata": {
    "collapsed": false
   },
   "outputs": [
    {
     "name": "stdout",
     "output_type": "stream",
     "text": [
      "0\n"
     ]
    }
   ],
   "source": [
    "Tiles=pd.merge(Pred[[\"FuelFileIndex\",\"PredLabel\"]],Ref,on='FuelFileIndex',how='left')\n",
    "print(Tiles[Tiles[\"Lat\"].isnull()].shape[0])"
   ]
  },
  {
   "cell_type": "code",
   "execution_count": 21,
   "metadata": {
    "collapsed": true
   },
   "outputs": [],
   "source": [
    "Tiles[[\"Long\", \"Lat\",\"PredLabel\"]].to_csv('FirePolygonRectangle2012_Predictions_EdgesVeg.xyz',sep=' ', index=False, header=False)\n",
    "\n"
   ]
  },
  {
   "cell_type": "code",
   "execution_count": 22,
   "metadata": {
    "collapsed": false
   },
   "outputs": [
    {
     "data": {
      "text/plain": [
       "0"
      ]
     },
     "execution_count": 22,
     "metadata": {},
     "output_type": "execute_result"
    }
   ],
   "source": [
    "gdal_str=\"/opt/anaconda3/bin/gdal_translate FirePolygonRectangle2012_Predictions_EdgesVeg.xyz FirePolygonRectangle2012_Predictions_EdgesVeg.tif\"\n",
    "os.system(gdal_str)"
   ]
  },
  {
   "cell_type": "code",
   "execution_count": null,
   "metadata": {
    "collapsed": true
   },
   "outputs": [],
   "source": []
  },
  {
   "cell_type": "code",
   "execution_count": 24,
   "metadata": {
    "collapsed": false
   },
   "outputs": [
    {
     "data": {
      "text/plain": [
       "0"
      ]
     },
     "execution_count": 24,
     "metadata": {},
     "output_type": "execute_result"
    }
   ],
   "source": [
    "# Now the original Landfire\n",
    "Tiles[[\"Long\", \"Lat\",\"Label\"]].to_csv('FirePolygonRectangle2012_LandFire.xyz',sep=' ', index=False, header=False)\n",
    "\n",
    "gdal_str=\"/opt/anaconda3/bin/gdal_translate FirePolygonRectangle2012_LandFire.xyz FirePolygonRectangle2012_LandFire.tif\"\n",
    "os.system(gdal_str)\n"
   ]
  },
  {
   "cell_type": "code",
   "execution_count": null,
   "metadata": {
    "collapsed": true
   },
   "outputs": [],
   "source": []
  }
 ],
 "metadata": {
  "kernelspec": {
   "display_name": "Python 3 conda",
   "language": "python",
   "name": "conda"
  },
  "language_info": {
   "codemirror_mode": {
    "name": "ipython",
    "version": 3
   },
   "file_extension": ".py",
   "mimetype": "text/x-python",
   "name": "python",
   "nbconvert_exporter": "python",
   "pygments_lexer": "ipython3",
   "version": "3.5.2"
  }
 },
 "nbformat": 4,
 "nbformat_minor": 2
}
