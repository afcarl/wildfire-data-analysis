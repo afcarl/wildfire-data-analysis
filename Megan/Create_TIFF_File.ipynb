{
 "cells": [
  {
   "cell_type": "markdown",
   "metadata": {},
   "source": [
    "## Making a TIFF File\n",
    "\n",
    "This notebook  shows how to  create a custom TIFF file for our analysis.  The idea being that we want to look at only  certain pixels in a fuel map .  For example, when looking at vegetation to fuel mapping, we want to look at those fuel pixels that  correspond to a given vegetation type.\n",
    "\n",
    "The steps:\n",
    "1.  Perform analysis to determine which pixels you want to look at.  Find the index  of those pixels\n",
    "2.  Import a \"clean\" version of the  fuel map.  We will use this as  a template\n",
    "3.  For every pixel not in your Index, replace the label with  0 aka \"no data\"\n",
    "4.  Export to XYZ file\n",
    "5.  Convert XYZ file to TIFF\n",
    "\n",
    "Then you want to scp  the file to your local computer , load it into QGIS, overlay it with the satelite image (from the corresponding year) and  view the  results.  Instructions for that are in a different file\n",
    "\n",
    "Note:  This will only work if you import the  coordinates as strings.  If you import them as floats they will  be rounded  which will  mess up the gridding and prevent the conversion to tiff.\n",
    "\n",
    "** For this notebook, we will be  creating a  custom TIFF file to look at fuel pixels  in 2012 that correspond to  vegetation type  \"Developed-Medium Instensity\" (veg=3297).  Please note that I am working with files in NAD83 but the concept is the same for WGS84 **"
   ]
  },
  {
   "cell_type": "code",
   "execution_count": 17,
   "metadata": {
    "collapsed": true
   },
   "outputs": [],
   "source": [
    "import gdal\n",
    "import os\n",
    "import pandas as pd\n",
    "import matplotlib.pyplot as plt\n",
    "%matplotlib inline"
   ]
  },
  {
   "cell_type": "code",
   "execution_count": 4,
   "metadata": {
    "collapsed": true
   },
   "outputs": [],
   "source": [
    "def ImportXYZ(FileName,labelName):\n",
    "    DF=pd.read_table(FileName, header=None)\n",
    "    DF.columns=['Row']\n",
    "    DF[\"Eastern\"]=DF[\"Row\"].apply(lambda x: float(x.split(\" \")[0]))\n",
    "    DF[\"Northern\"]=DF[\"Row\"].apply(lambda x: float(x.split(\" \")[1]))\n",
    "    DF[labelName]=DF[\"Row\"].apply(lambda x: x.split(\" \")[2])\n",
    "    del DF[\"Row\"]\n",
    "    return DF"
   ]
  },
  {
   "cell_type": "code",
   "execution_count": 6,
   "metadata": {
    "collapsed": true
   },
   "outputs": [],
   "source": [
    "clip='WIFIRE/Data_Prep_Work_Flow/Clipped_Files/'"
   ]
  },
  {
   "cell_type": "markdown",
   "metadata": {},
   "source": [
    "-----------\n",
    "Analysis:  Find the Pixels that you want to  view"
   ]
  },
  {
   "cell_type": "code",
   "execution_count": 2,
   "metadata": {
    "collapsed": true
   },
   "outputs": [],
   "source": [
    "#Import Veg and Fuel \"decoder ring\"\n",
    "DecodeFuel=pd.read_csv('WIFIRE/Data_labels/fuel_labels.csv')\n",
    "DecodeVeg=pd.read_csv('WIFIRE/Data_labels/veg_labels.csv')\n",
    "\n",
    "DecodeFuel.columns=[\"filename\",'id','fuelLabel']\n",
    "DecodeVeg.columns=[\"id\",\"vegLabel\"]"
   ]
  },
  {
   "cell_type": "code",
   "execution_count": 7,
   "metadata": {
    "collapsed": false
   },
   "outputs": [
    {
     "name": "stdout",
     "output_type": "stream",
     "text": [
      "(154671, 3)\n",
      "(154671, 3)\n",
      "(154671, 4)\n"
     ]
    },
    {
     "data": {
      "text/html": [
       "<div>\n",
       "<table border=\"1\" class=\"dataframe\">\n",
       "  <thead>\n",
       "    <tr style=\"text-align: right;\">\n",
       "      <th></th>\n",
       "      <th>Eastern</th>\n",
       "      <th>Northern</th>\n",
       "      <th>Veg2012</th>\n",
       "      <th>Fuel2012</th>\n",
       "      <th>id_x</th>\n",
       "      <th>vegLabel</th>\n",
       "      <th>filename</th>\n",
       "      <th>id_y</th>\n",
       "      <th>fuelLabel</th>\n",
       "    </tr>\n",
       "  </thead>\n",
       "  <tbody>\n",
       "    <tr>\n",
       "      <th>0</th>\n",
       "      <td>480802.714908</td>\n",
       "      <td>3.667607e+06</td>\n",
       "      <td>3092</td>\n",
       "      <td>1</td>\n",
       "      <td>3092</td>\n",
       "      <td>Southern California Coastal Scrub</td>\n",
       "      <td>FBFM1</td>\n",
       "      <td>1</td>\n",
       "      <td>Short Grass</td>\n",
       "    </tr>\n",
       "    <tr>\n",
       "      <th>1</th>\n",
       "      <td>480832.704725</td>\n",
       "      <td>3.667607e+06</td>\n",
       "      <td>3184</td>\n",
       "      <td>1</td>\n",
       "      <td>3184</td>\n",
       "      <td>California Annual Grassland</td>\n",
       "      <td>FBFM1</td>\n",
       "      <td>1</td>\n",
       "      <td>Short Grass</td>\n",
       "    </tr>\n",
       "    <tr>\n",
       "      <th>2</th>\n",
       "      <td>480862.694541</td>\n",
       "      <td>3.667607e+06</td>\n",
       "      <td>3299</td>\n",
       "      <td>91</td>\n",
       "      <td>3299</td>\n",
       "      <td>Developed-Roads</td>\n",
       "      <td>Urban</td>\n",
       "      <td>91</td>\n",
       "      <td>Urban</td>\n",
       "    </tr>\n",
       "    <tr>\n",
       "      <th>3</th>\n",
       "      <td>480892.684358</td>\n",
       "      <td>3.667607e+06</td>\n",
       "      <td>3297</td>\n",
       "      <td>91</td>\n",
       "      <td>3297</td>\n",
       "      <td>Developed-Medium Intensity</td>\n",
       "      <td>Urban</td>\n",
       "      <td>91</td>\n",
       "      <td>Urban</td>\n",
       "    </tr>\n",
       "    <tr>\n",
       "      <th>4</th>\n",
       "      <td>480922.674174</td>\n",
       "      <td>3.667607e+06</td>\n",
       "      <td>3914</td>\n",
       "      <td>91</td>\n",
       "      <td>3914</td>\n",
       "      <td>Western Warm Temperate Urban Shrubland</td>\n",
       "      <td>Urban</td>\n",
       "      <td>91</td>\n",
       "      <td>Urban</td>\n",
       "    </tr>\n",
       "  </tbody>\n",
       "</table>\n",
       "</div>"
      ],
      "text/plain": [
       "         Eastern      Northern  Veg2012  Fuel2012  id_x  \\\n",
       "0  480802.714908  3.667607e+06     3092         1  3092   \n",
       "1  480832.704725  3.667607e+06     3184         1  3184   \n",
       "2  480862.694541  3.667607e+06     3299        91  3299   \n",
       "3  480892.684358  3.667607e+06     3297        91  3297   \n",
       "4  480922.674174  3.667607e+06     3914        91  3914   \n",
       "\n",
       "                                 vegLabel filename  id_y    fuelLabel  \n",
       "0       Southern California Coastal Scrub    FBFM1     1  Short Grass  \n",
       "1             California Annual Grassland    FBFM1     1  Short Grass  \n",
       "2                         Developed-Roads    Urban    91        Urban  \n",
       "3              Developed-Medium Intensity    Urban    91        Urban  \n",
       "4  Western Warm Temperate Urban Shrubland    Urban    91        Urban  "
      ]
     },
     "execution_count": 7,
     "metadata": {},
     "output_type": "execute_result"
    }
   ],
   "source": [
    "#Import Fuel and Veg maps from 2012\n",
    "Fuel2012=ImportXYZ(clip+'Fuel2012_Escondido_UTM.xyz','Fuel2012')\n",
    "Veg2012=ImportXYZ(clip+'Veg2012_Escondido_UTM.xyz','Veg2012')\n",
    "\n",
    "Join12=pd.merge(Veg2012,Fuel2012,on=['Eastern','Northern'],how='inner')\n",
    "print(Fuel2012.shape)\n",
    "print(Veg2012.shape)\n",
    "print(Join12.shape)\n",
    "\n",
    "# Add Fuel and Veg text labels\n",
    "Join12['Veg2012']=Join12['Veg2012'].apply(lambda x: int(x))\n",
    "Join12['Fuel2012']=Join12['Fuel2012'].apply(lambda x: int(x))\n",
    "Join12=pd.merge(pd.merge(Join12,DecodeVeg,left_on='Veg2012', right_on='id',how='left'),DecodeFuel,left_on='Fuel2012',right_on='id',how='left')\n",
    "Join12.head()"
   ]
  },
  {
   "cell_type": "code",
   "execution_count": 8,
   "metadata": {
    "collapsed": true
   },
   "outputs": [],
   "source": [
    "def PlotHist(VegID,VType):\n",
    "    Join12[Join12[\"Veg2012\"]==VegID].groupby(\"fuelLabel\")[\"filename\"].count().plot(kind='bar')\n",
    "    plt.title('Vegetation = ' + VType, fontsize=14)"
   ]
  },
  {
   "cell_type": "code",
   "execution_count": 11,
   "metadata": {
    "collapsed": false
   },
   "outputs": [
    {
     "data": {
      "image/png": "[encoded data removed]",
      "text/plain": [
       "<matplotlib.figure.Figure at 0x7f2165259f60>"
      ]
     },
     "metadata": {},
     "output_type": "display_data"
    }
   ],
   "source": [
    "PlotHist(3296,'Developed-Low Intensity')"
   ]
  },
  {
   "cell_type": "markdown",
   "metadata": {},
   "source": [
    "As you can see from the histogram , Developed-Low Instensity  maps to Urban.  However, there is some noise that could be potential mislabels in the data.  We want to  look at  the pixels corresponding to  Developed-Low Instensity overlayed on the  2012 satellite images that we are using in our model. "
   ]
  },
  {
   "cell_type": "code",
   "execution_count": 12,
   "metadata": {
    "collapsed": true
   },
   "outputs": [],
   "source": [
    "# Collect the Index for fuel pixels corresponding to Developed-Low Intensity\n",
    "Fuel2012[\"IndexFuel\"]=Fuel2012.index\n",
    "Index3297=Join12[(Join12[\"Veg2012\"]==3297)].index"
   ]
  },
  {
   "cell_type": "markdown",
   "metadata": {},
   "source": [
    "------\n",
    "2) Import a  \"clean\" version of the Fuel map"
   ]
  },
  {
   "cell_type": "code",
   "execution_count": 13,
   "metadata": {
    "collapsed": true
   },
   "outputs": [],
   "source": [
    "# Import the fuel map keeping the coordinates as strings so as not to lose precision with float conversion\n",
    "def ImportPreserve(FileName,labelName):\n",
    "    DF=pd.read_table(FileName, header=None)\n",
    "    DF.columns=['Row']\n",
    "    DF[\"Eastern\"]=DF[\"Row\"].apply(lambda x: x.split(\" \")[0])\n",
    "    DF[\"Northern\"]=DF[\"Row\"].apply(lambda x: x.split(\" \")[1])\n",
    "    DF[labelName]=DF[\"Row\"].apply(lambda x: x.split(\" \")[2])\n",
    "    del DF[\"Row\"]\n",
    "    return DF"
   ]
  },
  {
   "cell_type": "code",
   "execution_count": 14,
   "metadata": {
    "collapsed": true
   },
   "outputs": [],
   "source": [
    "PreserveFuel2012=ImportPreserve(clip+'Fuel2012_Escondido_UTM.xyz','Fuel2012')\n",
    "PreserveFuel2012[\"IndexFuel\"]=PreserveFuel2012.index"
   ]
  },
  {
   "cell_type": "markdown",
   "metadata": {},
   "source": [
    "____\n",
    "3)  For every pixel not in your Index, replace the label with  0 aka \"no data\""
   ]
  },
  {
   "cell_type": "code",
   "execution_count": 15,
   "metadata": {
    "collapsed": true
   },
   "outputs": [],
   "source": [
    "Hold=[]\n",
    "for index, row in PreserveFuel2012.iterrows():\n",
    "    if row[\"IndexFuel\"] not in Index3297:\n",
    "        a='0'\n",
    "    else:\n",
    "        a=row[\"Fuel2012\"]\n",
    "    Hold.append(a)\n",
    "\n",
    "DF3297=pd.concat([PreserveFuel2012,pd.DataFrame(Hold,columns=['NewFuel'])],axis=1)"
   ]
  },
  {
   "cell_type": "markdown",
   "metadata": {},
   "source": [
    "----\n",
    "4) Export to XYZ file"
   ]
  },
  {
   "cell_type": "code",
   "execution_count": 16,
   "metadata": {
    "collapsed": true
   },
   "outputs": [],
   "source": [
    "DF3297[[\"Eastern\", \"Northern\",\"NewFuel\"]].to_csv('Fuel2012_WhenVeg3297.xyz',sep=' ', index=False, header=False)"
   ]
  },
  {
   "cell_type": "markdown",
   "metadata": {},
   "source": [
    "----\n",
    "5) Convert XYZ file to TIFF"
   ]
  },
  {
   "cell_type": "code",
   "execution_count": 18,
   "metadata": {
    "collapsed": false
   },
   "outputs": [
    {
     "data": {
      "text/plain": [
       "0"
      ]
     },
     "execution_count": 18,
     "metadata": {},
     "output_type": "execute_result"
    }
   ],
   "source": [
    "gdal_str=\"/opt/anaconda3/bin/gdal_translate Fuel2012_WhenVeg3297.xyz Fuel2012_WhenVeg3297.tif\"\n",
    "os.system(gdal_str)"
   ]
  },
  {
   "cell_type": "markdown",
   "metadata": {},
   "source": [
    "Note that if  a GDAL command  (implemented via os.system) returns 0 then it executed.  If it returns something else then there was an error.  Switch to command line to view the error\n",
    "\n",
    "Now let's do a quick check to make sure everything worked properly"
   ]
  },
  {
   "cell_type": "code",
   "execution_count": 19,
   "metadata": {
    "collapsed": false
   },
   "outputs": [
    {
     "data": {
      "text/plain": [
       "0.0     138823\n",
       "91.0     12594\n",
       "1.0       1504\n",
       "5.0       1005\n",
       "2.0        601\n",
       "8.0         79\n",
       "9.0         35\n",
       "99.0        28\n",
       "98.0         2\n",
       "Name: NewFuel, dtype: int64"
      ]
     },
     "execution_count": 19,
     "metadata": {},
     "output_type": "execute_result"
    }
   ],
   "source": [
    "#Original histogram:\n",
    "DF3297[\"NewFuel\"].astype(float).value_counts()"
   ]
  },
  {
   "cell_type": "code",
   "execution_count": 20,
   "metadata": {
    "collapsed": false
   },
   "outputs": [
    {
     "data": {
      "text/plain": [
       "0.0     138823\n",
       "91.0     12594\n",
       "1.0       1504\n",
       "5.0       1005\n",
       "2.0        601\n",
       "8.0         79\n",
       "9.0         35\n",
       "99.0        28\n",
       "98.0         2\n",
       "Name: Fuel2012, dtype: int64"
      ]
     },
     "execution_count": 20,
     "metadata": {},
     "output_type": "execute_result"
    }
   ],
   "source": [
    "# New file's histogram\n",
    "Test=ImportXYZ('Fuel2012_WhenVeg3297.xyz','Fuel2012')\n",
    "Test[\"Fuel2012\"].astype(float).value_counts()"
   ]
  },
  {
   "cell_type": "code",
   "execution_count": 21,
   "metadata": {
    "collapsed": false
   },
   "outputs": [
    {
     "data": {
      "text/html": [
       "<div>\n",
       "<table border=\"1\" class=\"dataframe\">\n",
       "  <thead>\n",
       "    <tr style=\"text-align: right;\">\n",
       "      <th></th>\n",
       "      <th>Eastern</th>\n",
       "      <th>Northern</th>\n",
       "      <th>Fuel2012</th>\n",
       "    </tr>\n",
       "  </thead>\n",
       "  <tbody>\n",
       "    <tr>\n",
       "      <th>0</th>\n",
       "      <td>480802.714908</td>\n",
       "      <td>3.667607e+06</td>\n",
       "      <td>0</td>\n",
       "    </tr>\n",
       "    <tr>\n",
       "      <th>1</th>\n",
       "      <td>480832.704725</td>\n",
       "      <td>3.667607e+06</td>\n",
       "      <td>0</td>\n",
       "    </tr>\n",
       "    <tr>\n",
       "      <th>2</th>\n",
       "      <td>480862.694541</td>\n",
       "      <td>3.667607e+06</td>\n",
       "      <td>0</td>\n",
       "    </tr>\n",
       "    <tr>\n",
       "      <th>3</th>\n",
       "      <td>480892.684358</td>\n",
       "      <td>3.667607e+06</td>\n",
       "      <td>91</td>\n",
       "    </tr>\n",
       "    <tr>\n",
       "      <th>4</th>\n",
       "      <td>480922.674174</td>\n",
       "      <td>3.667607e+06</td>\n",
       "      <td>0</td>\n",
       "    </tr>\n",
       "  </tbody>\n",
       "</table>\n",
       "</div>"
      ],
      "text/plain": [
       "         Eastern      Northern Fuel2012\n",
       "0  480802.714908  3.667607e+06        0\n",
       "1  480832.704725  3.667607e+06        0\n",
       "2  480862.694541  3.667607e+06        0\n",
       "3  480892.684358  3.667607e+06       91\n",
       "4  480922.674174  3.667607e+06        0"
      ]
     },
     "execution_count": 21,
     "metadata": {},
     "output_type": "execute_result"
    }
   ],
   "source": [
    "Test.head()"
   ]
  },
  {
   "cell_type": "markdown",
   "metadata": {},
   "source": [
    "Everything looks good.  Now it is time to download the file via scp and  switch to QGIS"
   ]
  },
  {
   "cell_type": "code",
   "execution_count": null,
   "metadata": {
    "collapsed": true
   },
   "outputs": [],
   "source": []
  }
 ],
 "metadata": {
  "kernelspec": {
   "display_name": "Python 3 conda",
   "language": "python",
   "name": "conda"
  },
  "language_info": {
   "codemirror_mode": {
    "name": "ipython",
    "version": 3
   },
   "file_extension": ".py",
   "mimetype": "text/x-python",
   "name": "python",
   "nbconvert_exporter": "python",
   "pygments_lexer": "ipython3",
   "version": "3.5.2"
  }
 },
 "nbformat": 4,
 "nbformat_minor": 2
}
