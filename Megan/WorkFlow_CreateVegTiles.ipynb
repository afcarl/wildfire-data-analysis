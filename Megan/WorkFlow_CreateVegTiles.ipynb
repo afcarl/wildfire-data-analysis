{
 "cells": [
  {
   "cell_type": "markdown",
   "metadata": {},
   "source": [
    "##  Model Tiles\n",
    "\n",
    "In this notebook, we will create  \"Tiles\" of satelitte  images with corresponding labels to be used in our model"
   ]
  },
  {
   "cell_type": "code",
   "execution_count": 1,
   "metadata": {
    "collapsed": true
   },
   "outputs": [],
   "source": [
    "import gdal\n",
    "import osr\n",
    "import os, sys\n",
    "import pandas as pd\n",
    "import matplotlib.pyplot as plt\n",
    "%matplotlib inline"
   ]
  },
  {
   "cell_type": "code",
   "execution_count": 46,
   "metadata": {
    "collapsed": true
   },
   "outputs": [],
   "source": [
    "DG='/home/mcmccart/WIFIRE/Raw_Data/DigitalGlobe/'\n",
    "LF='/home/mcmccart/WIFIRE/Raw_Data/LANDFIRE/'\n",
    "Clip='/home/mcmccart/WIFIRE/Data_Prep_Work_Flow/Clipped_Files/'\n",
    "Proj='/home/mcmccart/WIFIRE/Data_Prep_Work_Flow/ReProj_Files/'\n",
    "Tile='/home/mcmccart/WIFIRE/Processed_Data/LabelledTiles_Veg_EqualArea/TIFF_Files/'"
   ]
  },
  {
   "cell_type": "code",
   "execution_count": 42,
   "metadata": {
    "collapsed": false
   },
   "outputs": [],
   "source": [
    "def ClipFile(SE,FileName,OutFile):\n",
    "    #Input:\n",
    "        # SE - Spatial Extent - [x1, y1, x2, y2]\n",
    "        # Filename - name of file you wish to clip\n",
    "    # OutFile - name of file you want to create\n",
    "    gdal_str=\"/opt/anaconda3/bin/gdal_translate -projwin \"+str.format('{0:.13f}', SE[0])+\\\n",
    "    \" \"+str.format('{0:.13f}', SE[1])+\" \"+str.format('{0:.13f}', SE[2])+\\\n",
    "    \" \"+str.format('{0:.13f}', SE[3])+\" \"+FileName+\" \"+OutFile\n",
    "    os.system(gdal_str)\n",
    "        \n",
    "def GrabCornerCoordinates(FileName):\n",
    "    src = gdal.Open(FileName)\n",
    "    ulx, xres, xskew, uly, yskew, yres  = src.GetGeoTransform()\n",
    "    lrx = ulx + (src.RasterXSize * xres)\n",
    "    lry = uly + (src.RasterYSize * yres)\n",
    "    return [ulx,uly,lrx,lry]\n",
    "        \n",
    "def IntersectBox(CC1,CC2):\n",
    "    # Import:  Corner Coordinates in [Upper Left Long, Upper Left Lat, Lower Right Long, Lower Right Lat]\n",
    "    # Note -- Assuming coordinates are in San Diego (aka - Long and + Lat)\n",
    "    \n",
    "    #Upper Left:\n",
    "    ulx=max(CC1[0],CC2[0])\n",
    "    uly=min(CC1[1],CC2[1])\n",
    "    \n",
    "    #Lower Right:\n",
    "    lrx=min(CC1[2],CC2[2])\n",
    "    lry=max(CC1[3],CC2[3])\n",
    "    \n",
    "    return [ulx,uly,lrx,lry]\n",
    "\n",
    "def ToWGS84(FileName,OutName):\n",
    "    gdal_str=\"/opt/anaconda3/bin/gdalwarp -t_srs wgs84 \"+FileName +\" \"+OutName\n",
    "    print(gdal_str)\n",
    "    os.system(gdal_str)\n",
    "    \n",
    "def ToXYZ(FileName, OutName):\n",
    "    gdal_str=\"/opt/anaconda3/bin/gdal_translate -of XYZ \"+FileName +\" \"+OutName\n",
    "    print(gdal_str)\n",
    "    os.system(gdal_str)\n",
    "    \n",
    "def ImportXYZ(FileName,labelName):\n",
    "    DF=pd.read_table(FileName, header=None)\n",
    "    DF.columns=['Row']\n",
    "    DF[\"Long\"]=DF[\"Row\"].apply(lambda x: float(x.split(\" \")[0]))\n",
    "    DF[\"Lat\"]=DF[\"Row\"].apply(lambda x: float(x.split(\" \")[1]))\n",
    "    DF[labelName]=DF[\"Row\"].apply(lambda x: x.split(\" \")[2])\n",
    "    del DF[\"Row\"]\n",
    "    return DF\n",
    "\n",
    "def Check_PlotExtentions(boxes,SE,plotname=None):\n",
    "    #Input:\n",
    "        #boxes -- dict of corner points (aka list of list), with [Upper Left Long, Upper Left Lat, Lower Right Long, Lower Right Lat]\n",
    "    i=0\n",
    "    color1=['-k','-b','-g','-m','-o','-c']\n",
    "    plt.figure(figsize=(12,8))\n",
    "    for k in boxes.keys():\n",
    "        X=[boxes[k][0],boxes[k][2],boxes[k][2],boxes[k][0],boxes[k][0]]\n",
    "        Y=[boxes[k][1],boxes[k][1],boxes[k][3],boxes[k][3],boxes[k][1]]\n",
    "        plt.plot(X,Y,color1[i],label=k,linewidth=2.0)\n",
    "        i+=1\n",
    "    \n",
    "    i=0\n",
    "    color2=['--r','--y','--c','--o','--g']\n",
    "    for k in SE:\n",
    "        X=[SE[k][0],SE[k][2],SE[k][2],SE[k][0],SE[k][0]]\n",
    "        Y=[SE[k][1],SE[k][1],SE[k][3],SE[k][3],SE[k][1]]\n",
    "        plt.plot(X,Y,color2[i],label=k,linewidth=4.0) \n",
    "        i+=1\n",
    "        \n",
    "    plt.legend(loc='center left', bbox_to_anchor=(1, 0.5))\n",
    "    \n",
    "    if plotname!= None:\n",
    "        plt.savefig(plotname+'.png')\n",
    "        \n",
    "def GetBorder(cx,cy,xres,yres):\n",
    "    ulx=cx-0.5*xres\n",
    "    uly=cy-0.5*yres\n",
    "    lrx=ulx+xres\n",
    "    lry=uly+yres\n",
    "    return [ulx,uly,lrx,lry]\n",
    "\n",
    "def GrabRes(FileName):\n",
    "    src = gdal.Open(FileName)\n",
    "    ulx, xres, xskew, uly, yskew, yres  = src.GetGeoTransform()\n",
    "    return [xres,yres]"
   ]
  },
  {
   "cell_type": "markdown",
   "metadata": {},
   "source": [
    "### Change Coordinate System\n",
    "\n",
    "Satellite images are in WGS84, Vegetation maps are in NAD83.  Must reproject  Vegetation  onto WGS84"
   ]
  },
  {
   "cell_type": "code",
   "execution_count": 9,
   "metadata": {
    "collapsed": false
   },
   "outputs": [
    {
     "name": "stdout",
     "output_type": "stream",
     "text": [
      "/opt/anaconda3/bin/gdalwarp -t_srs wgs84 /home/mcmccart/WIFIRE/Raw_Data/LANDFIRE/sandiego-vegtype-2012.tif /home/mcmccart/WIFIRE/Data_Prep_Work_Flow/ReProj_Files/sandiego-vegtype-2012_ReProj.tif\n"
     ]
    }
   ],
   "source": [
    "ToWGS84(LF+'sandiego-vegtype-2012.tif',Proj+'sandiego-vegtype-2012_ReProj.tif')"
   ]
  },
  {
   "cell_type": "code",
   "execution_count": 11,
   "metadata": {
    "collapsed": false
   },
   "outputs": [
    {
     "name": "stdout",
     "output_type": "stream",
     "text": [
      "/opt/anaconda3/bin/gdalwarp -t_srs wgs84 /home/mcmccart/WIFIRE/Raw_Data/LANDFIRE/sandiego-vegtype-2014.tif /home/mcmccart/WIFIRE/Data_Prep_Work_Flow/ReProj_Files/sandiego-vegtype-2014_ReProj.tif\n"
     ]
    }
   ],
   "source": [
    "ToWGS84(LF+'sandiego-vegtype-2014.tif',Proj+'sandiego-vegtype-2014_ReProj.tif')"
   ]
  },
  {
   "cell_type": "markdown",
   "metadata": {},
   "source": [
    "### Spatial Extent\n",
    "\n",
    "Note  from previous analysis we know that  satellite  data  spatial extent is completely contained within  fuel/veg model  data spatial extent.  Thus we need  only satellite data to define our Escondido spatial extent"
   ]
  },
  {
   "cell_type": "code",
   "execution_count": 15,
   "metadata": {
    "collapsed": false
   },
   "outputs": [],
   "source": [
    "sat2014=GrabCornerCoordinates(DG+'Escondido2014.tif')\n",
    "sat2012=GrabCornerCoordinates(DG+'Escondido2012v3.tif')\n",
    "sat2010=GrabCornerCoordinates(DG+'escondido2010.tif')"
   ]
  },
  {
   "cell_type": "code",
   "execution_count": 19,
   "metadata": {
    "collapsed": false
   },
   "outputs": [
    {
     "data": {
      "image/png": "[encoded data removed]",
      "text/plain": [
       "<matplotlib.figure.Figure at 0x7efd8e1c2e10>"
      ]
     },
     "metadata": {},
     "output_type": "display_data"
    }
   ],
   "source": [
    "#Find Spatial Extent of LandFire & Sat data\n",
    "s10_12=IntersectBox(sat2010,sat2012)\n",
    "SE=IntersectBox(s10_12,sat2014)\n",
    "\n",
    "\n",
    "data={'sat2010':sat2010,'sat2012': sat2012,'sat2014': sat2014}\n",
    "intersect={'Total Spatial Extent':SE}\n",
    "Check_PlotExtentions(data,intersect)"
   ]
  },
  {
   "cell_type": "markdown",
   "metadata": {},
   "source": [
    "### Clip Files\n",
    "\n",
    "Now lets get  vegetation and  satellite data for just the  defined spatial extent"
   ]
  },
  {
   "cell_type": "code",
   "execution_count": 20,
   "metadata": {
    "collapsed": false
   },
   "outputs": [
    {
     "data": {
      "text/plain": [
       "[-117.2060065897892,\n",
       " 33.147178567916804,\n",
       " -117.10070755895937,\n",
       " 33.01953127007837]"
      ]
     },
     "execution_count": 20,
     "metadata": {},
     "output_type": "execute_result"
    }
   ],
   "source": [
    "SE"
   ]
  },
  {
   "cell_type": "code",
   "execution_count": 28,
   "metadata": {
    "collapsed": false
   },
   "outputs": [],
   "source": [
    "ClipFile(SE,DG+'Escondido2014.tif',Clip+'Clip_Sat2014_Escondido.tif')"
   ]
  },
  {
   "cell_type": "code",
   "execution_count": 29,
   "metadata": {
    "collapsed": false
   },
   "outputs": [],
   "source": [
    "ClipFile(SE,DG+'Escondido2012v3.tif',Clip+'Clip_Sat2012_Escondido.tif')"
   ]
  },
  {
   "cell_type": "code",
   "execution_count": 30,
   "metadata": {
    "collapsed": false
   },
   "outputs": [],
   "source": [
    "ClipFile(SE,DG+'escondido2010.tif',Clip+'Clip_Sat2010_Escondido.tif')"
   ]
  },
  {
   "cell_type": "code",
   "execution_count": 31,
   "metadata": {
    "collapsed": true
   },
   "outputs": [],
   "source": [
    "ClipFile(SE,Proj+'sandiego-vegtype-2012_ReProj.tif',Clip+'Clip_Veg2012_Escondido.tif')"
   ]
  },
  {
   "cell_type": "code",
   "execution_count": 32,
   "metadata": {
    "collapsed": true
   },
   "outputs": [],
   "source": [
    "ClipFile(SE,Proj+'sandiego-vegtype-2014_ReProj.tif',Clip+'Clip_Veg2014_Escondido.tif')"
   ]
  },
  {
   "cell_type": "code",
   "execution_count": 33,
   "metadata": {
    "collapsed": true
   },
   "outputs": [],
   "source": [
    "ClipFile(SE,Proj+'sandiego-vegtype-2010_ReProj.tif',Clip+'Clip_Veg2010_Escondido.tif')"
   ]
  },
  {
   "cell_type": "markdown",
   "metadata": {},
   "source": [
    "### Make Tiles\n",
    "\n",
    "We will create a Tile for every pixel in Vegetation.  To do this we  convert Veg  into XYZ files, which contain lat/long of center & label, then step through each pixel and create corrresponding satelitte tile"
   ]
  },
  {
   "cell_type": "code",
   "execution_count": 35,
   "metadata": {
    "collapsed": false
   },
   "outputs": [
    {
     "name": "stdout",
     "output_type": "stream",
     "text": [
      "/opt/anaconda3/bin/gdal_translate -of XYZ /home/mcmccart/WIFIRE/Data_Prep_Work_Flow/Clipped_Files/Clip_Veg2012_Escondido.tif /home/mcmccart/WIFIRE/Data_Prep_Work_Flow/Clipped_Files/Clip_Veg2012_Escondido.xyz\n"
     ]
    }
   ],
   "source": [
    "ToXYZ(Clip+'Clip_Veg2012_Escondido.tif', Clip+'Clip_Veg2012_Escondido.xyz')"
   ]
  },
  {
   "cell_type": "code",
   "execution_count": 36,
   "metadata": {
    "collapsed": false
   },
   "outputs": [
    {
     "name": "stdout",
     "output_type": "stream",
     "text": [
      "/opt/anaconda3/bin/gdal_translate -of XYZ /home/mcmccart/WIFIRE/Data_Prep_Work_Flow/Clipped_Files/Clip_Veg2010_Escondido.tif /home/mcmccart/WIFIRE/Data_Prep_Work_Flow/Clipped_Files/Clip_Veg2010_Escondido.xyz\n"
     ]
    }
   ],
   "source": [
    "ToXYZ(Clip+'Clip_Veg2010_Escondido.tif', Clip+'Clip_Veg2010_Escondido.xyz')"
   ]
  },
  {
   "cell_type": "code",
   "execution_count": 37,
   "metadata": {
    "collapsed": false
   },
   "outputs": [
    {
     "name": "stdout",
     "output_type": "stream",
     "text": [
      "/opt/anaconda3/bin/gdal_translate -of XYZ /home/mcmccart/WIFIRE/Data_Prep_Work_Flow/Clipped_Files/Clip_Veg2014_Escondido.tif /home/mcmccart/WIFIRE/Data_Prep_Work_Flow/Clipped_Files/Clip_Veg2014_Escondido.xyz\n"
     ]
    }
   ],
   "source": [
    "ToXYZ(Clip+'Clip_Veg2014_Escondido.tif', Clip+'Clip_Veg2014_Escondido.xyz')"
   ]
  },
  {
   "cell_type": "code",
   "execution_count": 40,
   "metadata": {
    "collapsed": true
   },
   "outputs": [],
   "source": [
    "Veg2010=ImportXYZ(Clip+'Clip_Veg2010_Escondido.xyz','Veg')\n",
    "Veg2012=ImportXYZ(Clip+'Clip_Veg2012_Escondido.xyz','Veg')\n",
    "Veg2014=ImportXYZ(Clip+'Clip_Veg2014_Escondido.xyz','Veg')"
   ]
  },
  {
   "cell_type": "code",
   "execution_count": 43,
   "metadata": {
    "collapsed": false
   },
   "outputs": [
    {
     "data": {
      "text/html": [
       "<div>\n",
       "<table border=\"1\" class=\"dataframe\">\n",
       "  <thead>\n",
       "    <tr style=\"text-align: right;\">\n",
       "      <th></th>\n",
       "      <th>Long</th>\n",
       "      <th>Lat</th>\n",
       "      <th>Veg</th>\n",
       "      <th>VegIndex</th>\n",
       "    </tr>\n",
       "  </thead>\n",
       "  <tbody>\n",
       "    <tr>\n",
       "      <th>0</th>\n",
       "      <td>-117.205855</td>\n",
       "      <td>33.147027</td>\n",
       "      <td>3092</td>\n",
       "      <td>0</td>\n",
       "    </tr>\n",
       "    <tr>\n",
       "      <th>1</th>\n",
       "      <td>-117.205551</td>\n",
       "      <td>33.147027</td>\n",
       "      <td>3184</td>\n",
       "      <td>1</td>\n",
       "    </tr>\n",
       "    <tr>\n",
       "      <th>2</th>\n",
       "      <td>-117.205248</td>\n",
       "      <td>33.147027</td>\n",
       "      <td>3299</td>\n",
       "      <td>2</td>\n",
       "    </tr>\n",
       "    <tr>\n",
       "      <th>3</th>\n",
       "      <td>-117.204944</td>\n",
       "      <td>33.147027</td>\n",
       "      <td>3296</td>\n",
       "      <td>3</td>\n",
       "    </tr>\n",
       "    <tr>\n",
       "      <th>4</th>\n",
       "      <td>-117.204641</td>\n",
       "      <td>33.147027</td>\n",
       "      <td>3296</td>\n",
       "      <td>4</td>\n",
       "    </tr>\n",
       "  </tbody>\n",
       "</table>\n",
       "</div>"
      ],
      "text/plain": [
       "         Long        Lat   Veg  VegIndex\n",
       "0 -117.205855  33.147027  3092         0\n",
       "1 -117.205551  33.147027  3184         1\n",
       "2 -117.205248  33.147027  3299         2\n",
       "3 -117.204944  33.147027  3296         3\n",
       "4 -117.204641  33.147027  3296         4"
      ]
     },
     "execution_count": 43,
     "metadata": {},
     "output_type": "execute_result"
    }
   ],
   "source": [
    "Veg2010[\"VegIndex\"]=Veg2010.index\n",
    "Veg2012[\"VegIndex\"]=Veg2012.index\n",
    "Veg2014[\"VegIndex\"]=Veg2014.index\n",
    "Veg2010.head()"
   ]
  },
  {
   "cell_type": "code",
   "execution_count": 48,
   "metadata": {
    "collapsed": true
   },
   "outputs": [],
   "source": [
    "# Steps to making Tiles:\n",
    "    #1. Find the spatial extent of each veg pixel\n",
    "    #2. Clip the corresponding spatial extent from satelitte data\n",
    "\n",
    "def CreateTiles(FileName,DF,label,SatFileName,TileFileName):\n",
    "    [xres,yres]=GrabRes(FileName)\n",
    "    poly=[]\n",
    "    ULX=[]\n",
    "    ULY=[]\n",
    "    LRX=[]\n",
    "    LRY=[]\n",
    "    TileName=[]\n",
    "    i=0\n",
    "    for index, row in DF.iterrows():\n",
    "        ulx,uly,lrx,lry=GetBorder(row[\"Long\"],row[\"Lat\"],xres,yres)\n",
    "        ULX.append(ulx)\n",
    "        ULY.append(uly)\n",
    "        LRX.append(lrx)\n",
    "        LRY.append(lry)\n",
    "        tn=TileFileName+\"_Idx\"+str(row[\"VegIndex\"])+\"_\"+str(row[\"Veg\"])+\".tif\"\n",
    "        TileName.append(tn)\n",
    "        ClipFile([ulx,uly,lrx,lry],SatFileName,tn)\n",
    "        if i%1000==0:\n",
    "            print(i)\n",
    "        i+=1\n",
    "        \n",
    "    DF_Tiles=pd.DataFrame({'Long':list(DF['Long'].values),'Lat':list(DF['Lat'].values),'Label':list(DF['Veg'].values),'VegFileIndex':list(DF['VegIndex'].values),\"ulx\":ULX,\"uly\":ULY,\"lrx\":LRX,\"lry\":LRY,'TileName':TileName})\n",
    "\n",
    "    return DF_Tiles\n"
   ]
  },
  {
   "cell_type": "code",
   "execution_count": null,
   "metadata": {
    "collapsed": false
   },
   "outputs": [
    {
     "name": "stdout",
     "output_type": "stream",
     "text": [
      "0\n",
      "1000\n",
      "2000\n",
      "3000\n",
      "4000\n",
      "5000\n",
      "6000\n",
      "7000\n",
      "8000\n",
      "9000\n",
      "10000\n",
      "11000\n",
      "12000\n",
      "13000\n",
      "14000\n",
      "15000\n",
      "16000\n",
      "17000\n",
      "18000\n",
      "19000\n",
      "20000\n",
      "21000\n",
      "22000\n",
      "23000\n",
      "24000\n",
      "25000\n",
      "26000\n",
      "27000\n",
      "28000\n",
      "29000\n",
      "30000\n",
      "31000\n",
      "32000\n",
      "33000\n",
      "34000\n",
      "35000\n",
      "36000\n",
      "37000\n",
      "38000\n",
      "39000\n",
      "40000\n",
      "41000\n",
      "42000\n",
      "43000\n",
      "44000\n",
      "45000\n",
      "46000\n",
      "47000\n",
      "48000\n",
      "49000\n",
      "50000\n",
      "51000\n",
      "52000\n",
      "53000\n",
      "54000\n",
      "55000\n",
      "56000\n",
      "57000\n",
      "58000\n",
      "59000\n",
      "60000\n"
     ]
    }
   ],
   "source": [
    "#Veg 2010\n",
    "Veg2010_Tiles=CreateTiles(Clip+'Clip_Veg2010_Escondido.xyz',Veg2010,'Veg',Clip+'Clip_Sat2010_Escondido.tif',Tile+'VegTile_2010')\n"
   ]
  },
  {
   "cell_type": "code",
   "execution_count": null,
   "metadata": {
    "collapsed": true
   },
   "outputs": [],
   "source": [
    "#Veg 2012\n",
    "Veg2012_Tiles=CreateTiles(Clip+'Clip_Veg2012_Escondido.xyz',Veg2012,'Veg',Clip+'Clip_Sat2012_Escondido.tif',Tile+'VegTile_2012')\n"
   ]
  },
  {
   "cell_type": "code",
   "execution_count": null,
   "metadata": {
    "collapsed": true
   },
   "outputs": [],
   "source": [
    "#Veg 2014\n",
    "Veg2014_Tiles=CreateTiles(Clip+'Clip_Veg2014_Escondido.xyz',Veg2014,'Veg',Clip+'Clip_Sat2014_Escondido.tif',Tile+'VegTile_2014')\n"
   ]
  },
  {
   "cell_type": "code",
   "execution_count": null,
   "metadata": {
    "collapsed": true
   },
   "outputs": [],
   "source": [
    "Ref=pd.concat([Veg2010_Tiles,Veg2012_Tiles,Veg2014_Tiles])\n",
    "Ref.to_csv('/home/mcmccart/WIFIRE/Processed_Data/LabelledTiles_Veg_EqualArea/Reference_Veg_EqualArea.csv')"
   ]
  },
  {
   "cell_type": "code",
   "execution_count": null,
   "metadata": {
    "collapsed": true
   },
   "outputs": [],
   "source": []
  }
 ],
 "metadata": {
  "kernelspec": {
   "display_name": "Python 3 conda",
   "language": "python",
   "name": "conda"
  },
  "language_info": {
   "codemirror_mode": {
    "name": "ipython",
    "version": 3
   },
   "file_extension": ".py",
   "mimetype": "text/x-python",
   "name": "python",
   "nbconvert_exporter": "python",
   "pygments_lexer": "ipython3",
   "version": "3.5.2"
  }
 },
 "nbformat": 4,
 "nbformat_minor": 2
}
