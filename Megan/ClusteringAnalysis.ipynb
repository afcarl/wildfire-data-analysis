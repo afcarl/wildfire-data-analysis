{
 "cells": [
  {
   "cell_type": "markdown",
   "metadata": {},
   "source": [
    "### This notebook  returns a dataframe with columns (index , assigned_cluster_number , distance_fromclustercenter)\n",
    "\n",
    "The following code will import Engineered Features (aka  Satellite Tiles that have been run through the Nueral Network) and runs Kmeans clustering.  The resulting data frame contains the Tile index, it's assigned cluster and its distance from that cluster."
   ]
  },
  {
   "cell_type": "code",
   "execution_count": null,
   "metadata": {
    "collapsed": true
   },
   "outputs": [],
   "source": [
    "import numpy as np\n",
    "import pandas as pd\n",
    "from sklearn.cluster import KMeans\n",
    "\n",
    "## Get Data\n",
    "data = np.loadtxt(\"WIFIRE/ResNet50_Analysis/WIFIRE_Engineered/WIFIRE_engineered_features_new.csv\",delimiter=\",\")\n",
    "\n",
    "## Analysis\n",
    "# Run kmeans clustering on image_tiles and save clusters into tile_cluster dataframe           \n",
    "kmeans = KMeans(n_clusters=50, init='k-means++',n_init=50,random_state=0, n_jobs=10)\n",
    "kmeans.fit(data)\n",
    "tile_clusters = pd.DataFrame(kmeans.labels_,columns=['Cluster']).sort_values('Cluster')\n",
    "    \n",
    "##Transform to get distance of data point from each cluster\n",
    "distance = pd.DataFrame(kmeans.transform(data))\n",
    "\n",
    "## Merge clusters with distance:\n",
    "tile_clusters['Distance'] = distance.loc[:,:].min(axis=1).astype(int)"
   ]
  }
 ],
 "metadata": {
  "kernelspec": {
   "display_name": "Python 3 conda",
   "language": "python",
   "name": "conda"
  },
  "language_info": {
   "codemirror_mode": {
    "name": "ipython",
    "version": 3
   },
   "file_extension": ".py",
   "mimetype": "text/x-python",
   "name": "python",
   "nbconvert_exporter": "python",
   "pygments_lexer": "ipython3",
   "version": "3.5.2"
  }
 },
 "nbformat": 4,
 "nbformat_minor": 2
}
