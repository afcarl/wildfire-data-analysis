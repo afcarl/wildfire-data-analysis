{
 "cells": [
  {
   "cell_type": "markdown",
   "metadata": {},
   "source": [
    "## Fuel  Year to  Year  Transition Analysis\n",
    "\n",
    "The purpose of this analysis is to see how the fuel  in Escondido changes from year to year."
   ]
  },
  {
   "cell_type": "markdown",
   "metadata": {},
   "source": [
    "* [Executive Summary](#Executive-Summary)\n",
    "* [Tile Changes Over Time](#Tile-Changes-Over-Time)\n",
    "* [2010 to 2012 Transition Analysis](#Transition-Analysis-for-2010-to-2012)\n",
    "* [2012 to 2014 Transition Analysis](#Transition-Analysis-For-2012-to-2014)"
   ]
  },
  {
   "cell_type": "markdown",
   "metadata": {},
   "source": [
    "# Executive Summary"
   ]
  },
  {
   "cell_type": "raw",
   "metadata": {},
   "source": [
    "2010-2012 Tiles That Stayed The Same: 147783\n",
    "2012-2014 Tiles That Stayed The Same: 118508\n",
    "2010-2012 Tiles That Changed: 6888\n",
    "2012-2014 Tiles That Changed: 36163\n",
    "\n",
    "On a pixel by pixel basis, the following categories are chaning over the years:  Short grass, tall grass, Timber Understory, and Urban.  There are more changes in the time span from 2012-2014, and there is a higher correlation between categories during this timespan, as 2010-2012 years are more randomly distributed.  \n",
    "\n",
    "Depending on the underlying cause of the classification changes, this result may be either be good or bad.  Further investigation may be warranted for these categorical changes. "
   ]
  },
  {
   "cell_type": "code",
   "execution_count": 117,
   "metadata": {
    "collapsed": true
   },
   "outputs": [],
   "source": [
    "import pandas as pd\n",
    "import os\n",
    "import matplotlib.pyplot as plt\n",
    "import numpy as np\n",
    "import numpy as np\n",
    "from bokeh.plotting import figure, show, output_file\n",
    "from bokeh.models import HoverTool, ColumnDataSource\n",
    "import seaborn as sns\n",
    "%matplotlib inline"
   ]
  },
  {
   "cell_type": "code",
   "execution_count": 2,
   "metadata": {
    "collapsed": true
   },
   "outputs": [],
   "source": [
    "def ImportXYZ(FileName,labelName):\n",
    "    DF=pd.read_table(FileName, header=None)\n",
    "    DF.columns=['Row']\n",
    "    DF[\"Eastern\"]=DF[\"Row\"].apply(lambda x: float(x.split(\" \")[0]))\n",
    "    DF[\"Northern\"]=DF[\"Row\"].apply(lambda x: float(x.split(\" \")[1]))\n",
    "    DF[labelName]=DF[\"Row\"].apply(lambda x: x.split(\" \")[2])\n",
    "    del DF[\"Row\"]\n",
    "    return DF"
   ]
  },
  {
   "cell_type": "code",
   "execution_count": 5,
   "metadata": {
    "collapsed": false
   },
   "outputs": [
    {
     "name": "stdout",
     "output_type": "stream",
     "text": [
      "(154671, 3)\n",
      "(154671, 3)\n",
      "(154671, 3)\n",
      "(154671, 5)\n"
     ]
    },
    {
     "data": {
      "text/html": [
       "<div>\n",
       "<table border=\"1\" class=\"dataframe\">\n",
       "  <thead>\n",
       "    <tr style=\"text-align: right;\">\n",
       "      <th></th>\n",
       "      <th>Eastern</th>\n",
       "      <th>Northern</th>\n",
       "      <th>Fuel2010</th>\n",
       "      <th>Fuel2012</th>\n",
       "      <th>Fuel2014</th>\n",
       "    </tr>\n",
       "  </thead>\n",
       "  <tbody>\n",
       "    <tr>\n",
       "      <th>0</th>\n",
       "      <td>480802.714908</td>\n",
       "      <td>3.667607e+06</td>\n",
       "      <td>5</td>\n",
       "      <td>1</td>\n",
       "      <td>5</td>\n",
       "    </tr>\n",
       "    <tr>\n",
       "      <th>1</th>\n",
       "      <td>480832.704725</td>\n",
       "      <td>3.667607e+06</td>\n",
       "      <td>1</td>\n",
       "      <td>1</td>\n",
       "      <td>1</td>\n",
       "    </tr>\n",
       "    <tr>\n",
       "      <th>2</th>\n",
       "      <td>480862.694541</td>\n",
       "      <td>3.667607e+06</td>\n",
       "      <td>91</td>\n",
       "      <td>91</td>\n",
       "      <td>91</td>\n",
       "    </tr>\n",
       "    <tr>\n",
       "      <th>3</th>\n",
       "      <td>480892.684358</td>\n",
       "      <td>3.667607e+06</td>\n",
       "      <td>91</td>\n",
       "      <td>91</td>\n",
       "      <td>91</td>\n",
       "    </tr>\n",
       "    <tr>\n",
       "      <th>4</th>\n",
       "      <td>480922.674174</td>\n",
       "      <td>3.667607e+06</td>\n",
       "      <td>91</td>\n",
       "      <td>91</td>\n",
       "      <td>2</td>\n",
       "    </tr>\n",
       "  </tbody>\n",
       "</table>\n",
       "</div>"
      ],
      "text/plain": [
       "         Eastern      Northern Fuel2010 Fuel2012 Fuel2014\n",
       "0  480802.714908  3.667607e+06        5        1        5\n",
       "1  480832.704725  3.667607e+06        1        1        1\n",
       "2  480862.694541  3.667607e+06       91       91       91\n",
       "3  480892.684358  3.667607e+06       91       91       91\n",
       "4  480922.674174  3.667607e+06       91       91        2"
      ]
     },
     "execution_count": 5,
     "metadata": {},
     "output_type": "execute_result"
    }
   ],
   "source": [
    "clip='~/WIFIRE/Data_Prep_Work_Flow/Clipped_Files/'\n",
    "\n",
    "#Import Fuel\n",
    "Fuel2010=ImportXYZ(clip+'Fuel2010_Escondido_UTM.xyz','Fuel2010')\n",
    "Fuel2012=ImportXYZ(clip+'Fuel2012_Escondido_UTM.xyz','Fuel2012')\n",
    "Fuel2014=ImportXYZ(clip+'Fuel2014_Escondido_UTM.xyz','Fuel2014')\n",
    "\n",
    "#Combine Fuel data\n",
    "Fuel=pd.merge(pd.merge(Fuel2010,Fuel2012,on=['Eastern','Northern']),Fuel2014,on=['Eastern','Northern'])\n",
    "\n",
    "print(Fuel2010.shape)\n",
    "print(Fuel2012.shape)\n",
    "print(Fuel2014.shape)\n",
    "print(Fuel.shape)\n",
    "\n",
    "Fuel.head()"
   ]
  },
  {
   "cell_type": "code",
   "execution_count": 7,
   "metadata": {
    "collapsed": false
   },
   "outputs": [],
   "source": [
    "Hold=[]\n",
    "for index, row in Fuel.iterrows():\n",
    "    if row[\"Fuel2010\"]!=row[\"Fuel2012\"]:\n",
    "        a=(row[\"Fuel2010\"],row[\"Fuel2012\"])\n",
    "        d=1\n",
    "    else:\n",
    "        a=np.nan\n",
    "        d=0\n",
    "    if row[\"Fuel2012\"]!=row[\"Fuel2014\"]:\n",
    "        b=(row[\"Fuel2012\"],row[\"Fuel2014\"])\n",
    "        d+=1\n",
    "    else:\n",
    "        b=np.nan\n",
    "        d+=0\n",
    "    if d>0 :\n",
    "        c=(row[\"Fuel2010\"],row[\"Fuel2012\"],row[\"Fuel2014\"])\n",
    "    else:\n",
    "        c=np.nan\n",
    "    Hold.append([a,b,c])\n",
    "    \n",
    "H=pd.DataFrame(Hold, columns=[\"Tran10-12\",\"Tran12-14\",\"Tran10-12-14\"])"
   ]
  },
  {
   "cell_type": "code",
   "execution_count": 8,
   "metadata": {
    "collapsed": false
   },
   "outputs": [
    {
     "name": "stdout",
     "output_type": "stream",
     "text": [
      "(154671, 5)\n",
      "(154671, 8)\n"
     ]
    }
   ],
   "source": [
    "print (Fuel.shape)\n",
    "Fuel=pd.concat([Fuel,H],axis=1)\n",
    "print (Fuel.shape)"
   ]
  },
  {
   "cell_type": "code",
   "execution_count": 9,
   "metadata": {
    "collapsed": false
   },
   "outputs": [
    {
     "name": "stdout",
     "output_type": "stream",
     "text": [
      "('2010 to 2012: ', 0)\n",
      "('2012 to 2014: ', 0)\n",
      "('2010 to 2012 to 2014: ', 0)\n"
     ]
    }
   ],
   "source": [
    "# What percentage did NOT change?\n",
    "print (\"2010 to 2012: \",Fuel[Fuel[\"Tran10-12\"].isnull()].shape[0]/Fuel.shape[0])\n",
    "print (\"2012 to 2014: \",Fuel[Fuel[\"Tran12-14\"].isnull()].shape[0]/Fuel.shape[0])\n",
    "print (\"2010 to 2012 to 2014: \",Fuel[Fuel[\"Tran10-12-14\"].isnull()].shape[0]/Fuel.shape[0])"
   ]
  },
  {
   "cell_type": "code",
   "execution_count": 11,
   "metadata": {
    "collapsed": false
   },
   "outputs": [
    {
     "name": "stdout",
     "output_type": "stream",
     "text": [
      "('Changed from 2010 to 2012, then Changed Back 2014:', 0)\n"
     ]
    }
   ],
   "source": [
    "#What percentage changed back?\n",
    "def RevertBack(t):\n",
    "    if isinstance(t,tuple):\n",
    "        if t[0]==t[2]:\n",
    "            return t[0]\n",
    "        else:\n",
    "            return np.nan\n",
    "    else:\n",
    "        return np.nan\n",
    "Fuel[\"Reverted\"]=Fuel['Tran10-12-14'].apply(lambda x: RevertBack(x))\n",
    "print(\"Changed from 2010 to 2012, then Changed Back 2014:\",Fuel[Fuel[\"Reverted\"].isnull()==False].shape[0]/Fuel.shape[0])"
   ]
  },
  {
   "cell_type": "code",
   "execution_count": 12,
   "metadata": {
    "collapsed": false
   },
   "outputs": [
    {
     "data": {
      "text/html": [
       "<div>\n",
       "<table border=\"1\" class=\"dataframe\">\n",
       "  <thead>\n",
       "    <tr style=\"text-align: right;\">\n",
       "      <th></th>\n",
       "      <th>Fuel2010&amp;2014</th>\n",
       "      <th>Fuel2012</th>\n",
       "      <th>Count</th>\n",
       "    </tr>\n",
       "  </thead>\n",
       "  <tbody>\n",
       "    <tr>\n",
       "      <th>0</th>\n",
       "      <td>1</td>\n",
       "      <td>2</td>\n",
       "      <td>363</td>\n",
       "    </tr>\n",
       "    <tr>\n",
       "      <th>1</th>\n",
       "      <td>1</td>\n",
       "      <td>5</td>\n",
       "      <td>241</td>\n",
       "    </tr>\n",
       "    <tr>\n",
       "      <th>2</th>\n",
       "      <td>1</td>\n",
       "      <td>8</td>\n",
       "      <td>31</td>\n",
       "    </tr>\n",
       "    <tr>\n",
       "      <th>3</th>\n",
       "      <td>1</td>\n",
       "      <td>9</td>\n",
       "      <td>48</td>\n",
       "    </tr>\n",
       "    <tr>\n",
       "      <th>4</th>\n",
       "      <td>1</td>\n",
       "      <td>91</td>\n",
       "      <td>404</td>\n",
       "    </tr>\n",
       "  </tbody>\n",
       "</table>\n",
       "</div>"
      ],
      "text/plain": [
       "  Fuel2010&2014 Fuel2012  Count\n",
       "0             1        2    363\n",
       "1             1        5    241\n",
       "2             1        8     31\n",
       "3             1        9     48\n",
       "4             1       91    404"
      ]
     },
     "execution_count": 12,
     "metadata": {},
     "output_type": "execute_result"
    }
   ],
   "source": [
    "Revert=Fuel.groupby([\"Reverted\",\"Fuel2012\"])[\"Eastern\"].count().reset_index()\n",
    "Revert.columns=[\"Fuel2010&2014\",\"Fuel2012\",\"Count\"]\n",
    "Revert.head()"
   ]
  },
  {
   "cell_type": "code",
   "execution_count": 14,
   "metadata": {
    "collapsed": false
   },
   "outputs": [
    {
     "data": {
      "text/html": [
       "<div>\n",
       "<table border=\"1\" class=\"dataframe\">\n",
       "  <thead>\n",
       "    <tr style=\"text-align: right;\">\n",
       "      <th></th>\n",
       "      <th>filename</th>\n",
       "      <th>id</th>\n",
       "      <th>fuelLabel</th>\n",
       "    </tr>\n",
       "  </thead>\n",
       "  <tbody>\n",
       "    <tr>\n",
       "      <th>0</th>\n",
       "      <td>FBFM1</td>\n",
       "      <td>1</td>\n",
       "      <td>Short Grass</td>\n",
       "    </tr>\n",
       "    <tr>\n",
       "      <th>1</th>\n",
       "      <td>FBFM2</td>\n",
       "      <td>2</td>\n",
       "      <td>Timber Grass</td>\n",
       "    </tr>\n",
       "    <tr>\n",
       "      <th>2</th>\n",
       "      <td>FBFM3</td>\n",
       "      <td>3</td>\n",
       "      <td>Tall Grass</td>\n",
       "    </tr>\n",
       "    <tr>\n",
       "      <th>3</th>\n",
       "      <td>FBFM4</td>\n",
       "      <td>4</td>\n",
       "      <td>Chaparral</td>\n",
       "    </tr>\n",
       "    <tr>\n",
       "      <th>4</th>\n",
       "      <td>FBFM5</td>\n",
       "      <td>5</td>\n",
       "      <td>Brush</td>\n",
       "    </tr>\n",
       "    <tr>\n",
       "      <th>5</th>\n",
       "      <td>FBFM6</td>\n",
       "      <td>6</td>\n",
       "      <td>Dormant Brush</td>\n",
       "    </tr>\n",
       "    <tr>\n",
       "      <th>6</th>\n",
       "      <td>FBFM7</td>\n",
       "      <td>7</td>\n",
       "      <td>Southern Rough</td>\n",
       "    </tr>\n",
       "    <tr>\n",
       "      <th>7</th>\n",
       "      <td>FBFM8</td>\n",
       "      <td>8</td>\n",
       "      <td>Compact Timber Litter</td>\n",
       "    </tr>\n",
       "    <tr>\n",
       "      <th>8</th>\n",
       "      <td>FBFM9</td>\n",
       "      <td>9</td>\n",
       "      <td>Hardwood Litter</td>\n",
       "    </tr>\n",
       "    <tr>\n",
       "      <th>9</th>\n",
       "      <td>FBFM10</td>\n",
       "      <td>10</td>\n",
       "      <td>Timber Understory</td>\n",
       "    </tr>\n",
       "    <tr>\n",
       "      <th>10</th>\n",
       "      <td>FBFM11</td>\n",
       "      <td>11</td>\n",
       "      <td>Light Slash</td>\n",
       "    </tr>\n",
       "    <tr>\n",
       "      <th>11</th>\n",
       "      <td>FBFM12</td>\n",
       "      <td>12</td>\n",
       "      <td>Medium Slash</td>\n",
       "    </tr>\n",
       "    <tr>\n",
       "      <th>12</th>\n",
       "      <td>FBFM13</td>\n",
       "      <td>13</td>\n",
       "      <td>Heavy Slash</td>\n",
       "    </tr>\n",
       "    <tr>\n",
       "      <th>13</th>\n",
       "      <td>Urban</td>\n",
       "      <td>91</td>\n",
       "      <td>Urban</td>\n",
       "    </tr>\n",
       "    <tr>\n",
       "      <th>14</th>\n",
       "      <td>Snow/Ice</td>\n",
       "      <td>92</td>\n",
       "      <td>Snow/Ice</td>\n",
       "    </tr>\n",
       "    <tr>\n",
       "      <th>15</th>\n",
       "      <td>Agriculture</td>\n",
       "      <td>93</td>\n",
       "      <td>Agriculture</td>\n",
       "    </tr>\n",
       "    <tr>\n",
       "      <th>16</th>\n",
       "      <td>Water</td>\n",
       "      <td>98</td>\n",
       "      <td>water</td>\n",
       "    </tr>\n",
       "    <tr>\n",
       "      <th>17</th>\n",
       "      <td>Barren</td>\n",
       "      <td>99</td>\n",
       "      <td>Barren</td>\n",
       "    </tr>\n",
       "  </tbody>\n",
       "</table>\n",
       "</div>"
      ],
      "text/plain": [
       "       filename  id              fuelLabel\n",
       "0         FBFM1   1            Short Grass\n",
       "1         FBFM2   2           Timber Grass\n",
       "2         FBFM3   3             Tall Grass\n",
       "3         FBFM4   4              Chaparral\n",
       "4         FBFM5   5                  Brush\n",
       "5         FBFM6   6          Dormant Brush\n",
       "6         FBFM7   7         Southern Rough\n",
       "7         FBFM8   8  Compact Timber Litter\n",
       "8         FBFM9   9        Hardwood Litter\n",
       "9        FBFM10  10      Timber Understory\n",
       "10       FBFM11  11            Light Slash\n",
       "11       FBFM12  12           Medium Slash\n",
       "12       FBFM13  13            Heavy Slash\n",
       "13        Urban  91                  Urban\n",
       "14     Snow/Ice  92               Snow/Ice\n",
       "15  Agriculture  93            Agriculture\n",
       "16        Water  98                  water\n",
       "17       Barren  99                 Barren"
      ]
     },
     "execution_count": 14,
     "metadata": {},
     "output_type": "execute_result"
    }
   ],
   "source": [
    "#Import Fuel \"decoder ring\"\n",
    "DecodeFuel=pd.read_csv('~/WIFIRE/Data_labels/fuel_labels.csv')\n",
    "DecodeFuel.columns=[\"filename\",'id','fuelLabel']\n",
    "DecodeFuel[\"id\"]=DecodeFuel[\"id\"].apply(lambda x: str(x))\n",
    "DecodeFuel"
   ]
  },
  {
   "cell_type": "code",
   "execution_count": 15,
   "metadata": {
    "collapsed": false
   },
   "outputs": [
    {
     "data": {
      "text/html": [
       "<div>\n",
       "<table border=\"1\" class=\"dataframe\">\n",
       "  <thead>\n",
       "    <tr style=\"text-align: right;\">\n",
       "      <th></th>\n",
       "      <th>Fuel2010&amp;2014</th>\n",
       "      <th>Fuel2012</th>\n",
       "      <th>Count</th>\n",
       "      <th>id_x</th>\n",
       "      <th>Label10&amp;14</th>\n",
       "      <th>id_y</th>\n",
       "      <th>Label12</th>\n",
       "    </tr>\n",
       "  </thead>\n",
       "  <tbody>\n",
       "    <tr>\n",
       "      <th>0</th>\n",
       "      <td>1</td>\n",
       "      <td>2</td>\n",
       "      <td>363</td>\n",
       "      <td>1</td>\n",
       "      <td>Short Grass</td>\n",
       "      <td>2</td>\n",
       "      <td>Timber Grass</td>\n",
       "    </tr>\n",
       "    <tr>\n",
       "      <th>1</th>\n",
       "      <td>5</td>\n",
       "      <td>2</td>\n",
       "      <td>351</td>\n",
       "      <td>5</td>\n",
       "      <td>Brush</td>\n",
       "      <td>2</td>\n",
       "      <td>Timber Grass</td>\n",
       "    </tr>\n",
       "    <tr>\n",
       "      <th>2</th>\n",
       "      <td>8</td>\n",
       "      <td>2</td>\n",
       "      <td>147</td>\n",
       "      <td>8</td>\n",
       "      <td>Compact Timber Litter</td>\n",
       "      <td>2</td>\n",
       "      <td>Timber Grass</td>\n",
       "    </tr>\n",
       "    <tr>\n",
       "      <th>3</th>\n",
       "      <td>9</td>\n",
       "      <td>2</td>\n",
       "      <td>57</td>\n",
       "      <td>9</td>\n",
       "      <td>Hardwood Litter</td>\n",
       "      <td>2</td>\n",
       "      <td>Timber Grass</td>\n",
       "    </tr>\n",
       "    <tr>\n",
       "      <th>4</th>\n",
       "      <td>91</td>\n",
       "      <td>2</td>\n",
       "      <td>364</td>\n",
       "      <td>91</td>\n",
       "      <td>Urban</td>\n",
       "      <td>2</td>\n",
       "      <td>Timber Grass</td>\n",
       "    </tr>\n",
       "  </tbody>\n",
       "</table>\n",
       "</div>"
      ],
      "text/plain": [
       "  Fuel2010&2014 Fuel2012  Count id_x             Label10&14 id_y       Label12\n",
       "0             1        2    363    1            Short Grass    2  Timber Grass\n",
       "1             5        2    351    5                  Brush    2  Timber Grass\n",
       "2             8        2    147    8  Compact Timber Litter    2  Timber Grass\n",
       "3             9        2     57    9        Hardwood Litter    2  Timber Grass\n",
       "4            91        2    364   91                  Urban    2  Timber Grass"
      ]
     },
     "execution_count": 15,
     "metadata": {},
     "output_type": "execute_result"
    }
   ],
   "source": [
    "Revert=pd.merge(pd.merge(Revert,DecodeFuel[[\"id\",\"fuelLabel\"]],left_on=\"Fuel2010&2014\",right_on=\"id\",how='inner'),DecodeFuel[[\"id\",\"fuelLabel\"]],left_on='Fuel2012',right_on='id',how='inner')\n",
    "Revert.columns=[\"Fuel2010&2014\",\"Fuel2012\",\"Count\",\"id_x\",\"Label10&14\",\"id_y\",\"Label12\"]\n",
    "Revert[[\"Fuel2010&2014\",\"Fuel2012\",\"Count\",\"Label10&14\",\"Label12\"]].to_csv('RevertedFuel.csv',index=False)\n",
    "Revert.head()"
   ]
  },
  {
   "cell_type": "markdown",
   "metadata": {},
   "source": [
    "These \"Reverted\" fuel labels are potential mislabels.  I sent them to CSV so that we can discuss with advisors.  At first look,  I would guess those  labels  in 2010 & 2014 that were Water but something else in 2012 were mislabelled in 2012"
   ]
  },
  {
   "cell_type": "markdown",
   "metadata": {},
   "source": [
    "# Tile Changes Over Time"
   ]
  },
  {
   "cell_type": "code",
   "execution_count": 227,
   "metadata": {
    "collapsed": false
   },
   "outputs": [
    {
     "name": "stdout",
     "output_type": "stream",
     "text": [
      "2010-2012 Tiles That Stayed The Same: 147783\n",
      "2012-2014 Tiles That Stayed The Same: 118508\n",
      "2010-2012 Tiles That Changed: 6888\n",
      "2012-2014 Tiles That Changed: 36163\n"
     ]
    }
   ],
   "source": [
    "print \"2010-2012 Tiles That Stayed The Same:\", len(Fuel.loc[Fuel['Fuel2010'] == Fuel['Fuel2012']])\n",
    "print \"2012-2014 Tiles That Stayed The Same:\",len(Fuel.loc[Fuel['Fuel2012'] == Fuel['Fuel2014']])\n",
    "print \"2010-2012 Tiles That Changed:\", len(Fuel.loc[Fuel['Fuel2010'] != Fuel['Fuel2012']])\n",
    "print \"2012-2014 Tiles That Changed:\", len(Fuel.loc[Fuel['Fuel2012'] != Fuel['Fuel2014']])\n",
    "fueldiff10_12 = Fuel.loc[Fuel['Fuel2010'] != Fuel['Fuel2012']]\n",
    "fueldiff12_14 = Fuel.loc[Fuel['Fuel2012'] != Fuel['Fuel2014']]"
   ]
  },
  {
   "cell_type": "code",
   "execution_count": 230,
   "metadata": {
    "collapsed": false
   },
   "outputs": [
    {
     "name": "stdout",
     "output_type": "stream",
     "text": [
      "['5' '1' '2' '91' '8' '9' '99' '93' '98' '4' '7' '6']\n"
     ]
    }
   ],
   "source": [
    "ls_labels = Fuel.loc[Fuel['Fuel2010'] != Fuel['Fuel2012']].Fuel2010.unique()\n",
    "print ls_labels"
   ]
  },
  {
   "cell_type": "code",
   "execution_count": 231,
   "metadata": {
    "collapsed": false
   },
   "outputs": [],
   "source": [
    "sum_diff10_12 = fueldiff10_12.groupby(['Fuel2010', 'Fuel2012']).size().rename('Count_Pixel').reset_index()\n",
    "sum_diff12_14 = fueldiff12_14.groupby(['Fuel2012', 'Fuel2014']).size().rename('Count_Pixel').reset_index() "
   ]
  },
  {
   "cell_type": "code",
   "execution_count": 261,
   "metadata": {
    "collapsed": true
   },
   "outputs": [],
   "source": [
    "Label_2010 = DecodeFuel[['id','fuelLabel']]\n",
    "Label_2012 = DecodeFuel[['id','fuelLabel']]\n",
    "Label_2014 = DecodeFuel[['id','fuelLabel']]\n",
    "Label_2010.columns = ['Fuel2010','FuelLabel_2010']\n",
    "Label_2012.columns = ['Fuel2012','FuelLabel_2012']\n",
    "Label_2014.columns = ['Fuel2014','FuelLabel_2014']"
   ]
  },
  {
   "cell_type": "code",
   "execution_count": 236,
   "metadata": {
    "collapsed": false
   },
   "outputs": [
    {
     "data": {
      "text/html": [
       "<div>\n",
       "<table border=\"1\" class=\"dataframe\">\n",
       "  <thead>\n",
       "    <tr style=\"text-align: right;\">\n",
       "      <th></th>\n",
       "      <th>id</th>\n",
       "      <th>fuelLabel</th>\n",
       "    </tr>\n",
       "  </thead>\n",
       "  <tbody>\n",
       "    <tr>\n",
       "      <th>0</th>\n",
       "      <td>1</td>\n",
       "      <td>Short Grass</td>\n",
       "    </tr>\n",
       "    <tr>\n",
       "      <th>1</th>\n",
       "      <td>2</td>\n",
       "      <td>Timber Grass</td>\n",
       "    </tr>\n",
       "    <tr>\n",
       "      <th>2</th>\n",
       "      <td>3</td>\n",
       "      <td>Tall Grass</td>\n",
       "    </tr>\n",
       "    <tr>\n",
       "      <th>3</th>\n",
       "      <td>4</td>\n",
       "      <td>Chaparral</td>\n",
       "    </tr>\n",
       "    <tr>\n",
       "      <th>4</th>\n",
       "      <td>5</td>\n",
       "      <td>Brush</td>\n",
       "    </tr>\n",
       "    <tr>\n",
       "      <th>5</th>\n",
       "      <td>6</td>\n",
       "      <td>Dormant Brush</td>\n",
       "    </tr>\n",
       "    <tr>\n",
       "      <th>6</th>\n",
       "      <td>7</td>\n",
       "      <td>Southern Rough</td>\n",
       "    </tr>\n",
       "    <tr>\n",
       "      <th>7</th>\n",
       "      <td>8</td>\n",
       "      <td>Compact Timber Litter</td>\n",
       "    </tr>\n",
       "    <tr>\n",
       "      <th>8</th>\n",
       "      <td>9</td>\n",
       "      <td>Hardwood Litter</td>\n",
       "    </tr>\n",
       "    <tr>\n",
       "      <th>9</th>\n",
       "      <td>10</td>\n",
       "      <td>Timber Understory</td>\n",
       "    </tr>\n",
       "    <tr>\n",
       "      <th>10</th>\n",
       "      <td>11</td>\n",
       "      <td>Light Slash</td>\n",
       "    </tr>\n",
       "    <tr>\n",
       "      <th>11</th>\n",
       "      <td>12</td>\n",
       "      <td>Medium Slash</td>\n",
       "    </tr>\n",
       "    <tr>\n",
       "      <th>12</th>\n",
       "      <td>13</td>\n",
       "      <td>Heavy Slash</td>\n",
       "    </tr>\n",
       "    <tr>\n",
       "      <th>13</th>\n",
       "      <td>91</td>\n",
       "      <td>Urban</td>\n",
       "    </tr>\n",
       "    <tr>\n",
       "      <th>14</th>\n",
       "      <td>92</td>\n",
       "      <td>Snow/Ice</td>\n",
       "    </tr>\n",
       "    <tr>\n",
       "      <th>15</th>\n",
       "      <td>93</td>\n",
       "      <td>Agriculture</td>\n",
       "    </tr>\n",
       "    <tr>\n",
       "      <th>16</th>\n",
       "      <td>98</td>\n",
       "      <td>water</td>\n",
       "    </tr>\n",
       "    <tr>\n",
       "      <th>17</th>\n",
       "      <td>99</td>\n",
       "      <td>Barren</td>\n",
       "    </tr>\n",
       "  </tbody>\n",
       "</table>\n",
       "</div>"
      ],
      "text/plain": [
       "    id              fuelLabel\n",
       "0    1            Short Grass\n",
       "1    2           Timber Grass\n",
       "2    3             Tall Grass\n",
       "3    4              Chaparral\n",
       "4    5                  Brush\n",
       "5    6          Dormant Brush\n",
       "6    7         Southern Rough\n",
       "7    8  Compact Timber Litter\n",
       "8    9        Hardwood Litter\n",
       "9   10      Timber Understory\n",
       "10  11            Light Slash\n",
       "11  12           Medium Slash\n",
       "12  13            Heavy Slash\n",
       "13  91                  Urban\n",
       "14  92               Snow/Ice\n",
       "15  93            Agriculture\n",
       "16  98                  water\n",
       "17  99                 Barren"
      ]
     },
     "execution_count": 236,
     "metadata": {},
     "output_type": "execute_result"
    }
   ],
   "source": [
    "DecodeFuel[['id','fuelLabel']]"
   ]
  },
  {
   "cell_type": "markdown",
   "metadata": {},
   "source": [
    "# Transition Analysis for 2010 to 2012"
   ]
  },
  {
   "cell_type": "code",
   "execution_count": 224,
   "metadata": {
    "collapsed": false
   },
   "outputs": [
    {
     "data": {
      "image/png": "[encoded data removed]",
      "text/plain": [
       "<matplotlib.figure.Figure at 0x10144e10>"
      ]
     },
     "metadata": {},
     "output_type": "display_data"
    }
   ],
   "source": [
    "crosstab10_12 = pd.crosstab(diff10_12.Fuel2010, diff10_12.Fuel2012, values=diff10_12.Count_Pixel, \n",
    "            aggfunc=np.sum)\n",
    "ax = sns.heatmap(crosstab10_12,  linewidths=2, cmap=\"YlGnBu\")"
   ]
  },
  {
   "cell_type": "raw",
   "metadata": {},
   "source": [
    "We can see here that a few different labels are getting either misclassified or are simply changing there labels each year.  Some interesting differences are noted below.\n",
    "\n",
    "Strongly Classification Differences (Pixel By Pixel Basis)\n",
    "1) Categories 1 --> 2\n",
    "2) Cateogry 5 --> Cateogry 1 & 2\n",
    "3) Category 91 --> 1 & 2\n",
    "\n",
    "Weak Classification Differences (Pixel By Pixel Basis) \n",
    "1) 5 == 91\n",
    "2) 8 & 9 == 91\n",
    "3) 91 == 5 and 9\n",
    "\n",
    "1 = Short Grass\n",
    "2 = Tall Grass\n",
    "5 = Dormant Brush\n",
    "9 = Timber Understory\n",
    "91 = Urban\n",
    "\n",
    "Categories of 1 (Short Grass), 2 (Timber Grass), 5 (Dormant Brush), and 9 (Timber Understory) are the most significant changes year by year.  "
   ]
  },
  {
   "cell_type": "code",
   "execution_count": 277,
   "metadata": {
    "collapsed": false
   },
   "outputs": [
    {
     "data": {
      "text/html": [
       "<div>\n",
       "<table border=\"1\" class=\"dataframe\">\n",
       "  <thead>\n",
       "    <tr style=\"text-align: right;\">\n",
       "      <th></th>\n",
       "      <th>Fuel2010</th>\n",
       "      <th>Fuel2012</th>\n",
       "      <th>Count_Pixel</th>\n",
       "      <th>FuelLabel_2010</th>\n",
       "      <th>FuelLabel_2012</th>\n",
       "    </tr>\n",
       "  </thead>\n",
       "  <tbody>\n",
       "    <tr>\n",
       "      <th>0</th>\n",
       "      <td>1</td>\n",
       "      <td>2</td>\n",
       "      <td>487</td>\n",
       "      <td>Short Grass</td>\n",
       "      <td>Timber Grass</td>\n",
       "    </tr>\n",
       "    <tr>\n",
       "      <th>1</th>\n",
       "      <td>4</td>\n",
       "      <td>2</td>\n",
       "      <td>2</td>\n",
       "      <td>Chaparral</td>\n",
       "      <td>Timber Grass</td>\n",
       "    </tr>\n",
       "    <tr>\n",
       "      <th>2</th>\n",
       "      <td>5</td>\n",
       "      <td>2</td>\n",
       "      <td>533</td>\n",
       "      <td>Brush</td>\n",
       "      <td>Timber Grass</td>\n",
       "    </tr>\n",
       "    <tr>\n",
       "      <th>3</th>\n",
       "      <td>6</td>\n",
       "      <td>2</td>\n",
       "      <td>1</td>\n",
       "      <td>Dormant Brush</td>\n",
       "      <td>Timber Grass</td>\n",
       "    </tr>\n",
       "    <tr>\n",
       "      <th>4</th>\n",
       "      <td>8</td>\n",
       "      <td>2</td>\n",
       "      <td>153</td>\n",
       "      <td>Compact Timber Litter</td>\n",
       "      <td>Timber Grass</td>\n",
       "    </tr>\n",
       "  </tbody>\n",
       "</table>\n",
       "</div>"
      ],
      "text/plain": [
       "  Fuel2010 Fuel2012  Count_Pixel         FuelLabel_2010 FuelLabel_2012\n",
       "0        1        2          487            Short Grass   Timber Grass\n",
       "1        4        2            2              Chaparral   Timber Grass\n",
       "2        5        2          533                  Brush   Timber Grass\n",
       "3        6        2            1          Dormant Brush   Timber Grass\n",
       "4        8        2          153  Compact Timber Litter   Timber Grass"
      ]
     },
     "execution_count": 277,
     "metadata": {},
     "output_type": "execute_result"
    }
   ],
   "source": [
    "labeled_10_12 = sum_diff10_12.merge(Label_2010, on = 'Fuel2010')\n",
    "labeled_10_12 = labeled_10_12.merge(Label_2012, on = 'Fuel2012')\n",
    "labeled_10_12.head()"
   ]
  },
  {
   "cell_type": "code",
   "execution_count": 298,
   "metadata": {
    "collapsed": false
   },
   "outputs": [
    {
     "data": {
      "text/plain": [
       "<matplotlib.axes._subplots.AxesSubplot at 0x14564bd0>"
      ]
     },
     "execution_count": 298,
     "metadata": {},
     "output_type": "execute_result"
    },
    {
     "data": {
      "image/png": "[encoded data removed]",
      "text/plain": [
       "<matplotlib.figure.Figure at 0x13d46290>"
      ]
     },
     "metadata": {},
     "output_type": "display_data"
    }
   ],
   "source": [
    "diff_top_labels = ['Short Grass','Timber Grass', 'Brush', 'Urban']\n",
    "\n",
    "fig, axes = plt.subplots(nrows=2, ncols=2)\n",
    "plt.subplots_adjust(wspace=0.9, hspace=1);\n",
    "labeled_10_12[labeled_10_12['FuelLabel_2010'] == 'Short Grass'].plot(ax=axes[0,0],\n",
    "x=\"FuelLabel_2012\", y=\"Count_Pixel\", kind='bar')\n",
    "labeled_10_12[labeled_10_12['FuelLabel_2010'] == 'Timber Grass'].plot(ax=axes[0,1],\n",
    "x=\"FuelLabel_2012\", y=\"Count_Pixel\", kind='bar')\n",
    "labeled_10_12[labeled_10_12['FuelLabel_2010'] == 'Brush'].plot(ax=axes[1,0],\n",
    "x=\"FuelLabel_2012\", y=\"Count_Pixel\", kind='bar')\n",
    "labeled_10_12[labeled_10_12['FuelLabel_2010'] == 'Urban'].plot(ax=axes[1,1],\n",
    "x=\"FuelLabel_2012\", y=\"Count_Pixel\", kind='bar')\n"
   ]
  },
  {
   "cell_type": "markdown",
   "metadata": {},
   "source": [
    "# Transition Analysis For 2012 to 2014"
   ]
  },
  {
   "cell_type": "code",
   "execution_count": 234,
   "metadata": {
    "collapsed": false
   },
   "outputs": [
    {
     "data": {
      "image/png": "[encoded data removed]",
      "text/plain": [
       "<matplotlib.figure.Figure at 0x1024a550>"
      ]
     },
     "metadata": {},
     "output_type": "display_data"
    }
   ],
   "source": [
    "crosstab12_14 = pd.crosstab(sum_diff12_14.Fuel2012, sum_diff12_14.Fuel2014, values=sum_diff12_14.Count_Pixel, \n",
    "            aggfunc=np.sum)\n",
    "ax = sns.heatmap(crosstab12_14,  linewidths=2, cmap=\"YlGnBu\")"
   ]
  },
  {
   "cell_type": "raw",
   "metadata": {},
   "source": [
    "The differences from 2012 to 2014 are mainly focused on the following categories.\n",
    "\n",
    "Strongly Classification Differences (Pixel By Pixel Basis)\n",
    "1) 1 --> 2 \n",
    "2) 5 --> 1 & 2\n",
    "\n",
    "Weak Classification Differences (Pixel By Pixel Basis) \n",
    "1) 1 --> 91\n",
    "2) 1 --> 5\n",
    "3) 5 --> 91\n",
    "\n",
    "1 = Short Grass\n",
    "2 = Tall Grass\n",
    "5 = Dormant Brush\n",
    "91 = Urban\n",
    "\n",
    "We see that short grass and tall grass are changing over the years pixel by pixel, but what does not make sense is that there is a larger portion of tall grass being classified as short grass from year 2012 to 2014. Instead, we should see short grass moving towards a tall grass classification.\n",
    "\n",
    "We also see that short grass  and dormant brush getting reclassfied as urban which is either a misclassification or could be due to development.  Further investigation may be useful here. "
   ]
  },
  {
   "cell_type": "code",
   "execution_count": null,
   "metadata": {
    "collapsed": true
   },
   "outputs": [],
   "source": [
    "labeled_12_14 = sum_diff12_14.merge(Label_2012, on = 'Fuel2012')\n",
    "labeled_12_14 = labeled_10_12.merge(Label_2014, on = 'Fuel2014')\n",
    "labeled_12_14.head()"
   ]
  },
  {
   "cell_type": "code",
   "execution_count": 299,
   "metadata": {
    "collapsed": false
   },
   "outputs": [
    {
     "ename": "NameError",
     "evalue": "name 'labeled_12_14' is not defined",
     "output_type": "error",
     "traceback": [
      "\u001b[0;31m\u001b[0m",
      "\u001b[0;31mNameError\u001b[0mTraceback (most recent call last)",
      "\u001b[0;32m<ipython-input-299-69802515380a>\u001b[0m in \u001b[0;36m<module>\u001b[0;34m()\u001b[0m\n\u001b[1;32m      4\u001b[0m \u001b[0mplt\u001b[0m\u001b[0;34m.\u001b[0m\u001b[0msubplots_adjust\u001b[0m\u001b[0;34m(\u001b[0m\u001b[0mwspace\u001b[0m\u001b[0;34m=\u001b[0m\u001b[0;36m0.9\u001b[0m\u001b[0;34m,\u001b[0m \u001b[0mhspace\u001b[0m\u001b[0;34m=\u001b[0m\u001b[0;36m1\u001b[0m\u001b[0;34m)\u001b[0m\u001b[0;34m;\u001b[0m\u001b[0;34m\u001b[0m\u001b[0m\n\u001b[1;32m      5\u001b[0m \u001b[0;34m\u001b[0m\u001b[0m\n\u001b[0;32m----> 6\u001b[0;31m labeled_12_14[labeled_12_14['FuelLabel_2010'] == 'Short Grass'].plot(ax=axes[0,0],\n\u001b[0m\u001b[1;32m      7\u001b[0m x=\"FuelLabel_2012\", y=\"Count_Pixel\", kind='bar')\n\u001b[1;32m      8\u001b[0m labeled_12_14[labeled_12_14['FuelLabel_2010'] == 'Timber Grass'].plot(ax=axes[0,1],\n",
      "\u001b[0;31mNameError\u001b[0m: name 'labeled_12_14' is not defined"
     ]
    },
    {
     "data": {
      "image/png": "[encoded data removed]",
      "text/plain": [
       "<matplotlib.figure.Figure at 0x141f3e50>"
      ]
     },
     "metadata": {},
     "output_type": "display_data"
    }
   ],
   "source": [
    "diff_top_labels = ['Short Grass','Timber Grass', 'Brush', 'Urban']\n",
    "\n",
    "fig, axes = plt.subplots(nrows=2, ncols=2)\n",
    "plt.subplots_adjust(wspace=0.9, hspace=1);\n",
    "\n",
    "labeled_12_14[labeled_12_14['FuelLabel_2010'] == 'Short Grass'].plot(ax=axes[0,0],\n",
    "x=\"FuelLabel_2012\", y=\"Count_Pixel\", kind='bar')\n",
    "labeled_12_14[labeled_12_14['FuelLabel_2010'] == 'Timber Grass'].plot(ax=axes[0,1],\n",
    "x=\"FuelLabel_2012\", y=\"Count_Pixel\", kind='bar')\n",
    "labeled_12_14[labeled_12_14['FuelLabel_2010'] == 'Brush'].plot(ax=axes[1,0],\n",
    "x=\"FuelLabel_2012\", y=\"Count_Pixel\", kind='bar')\n",
    "labeled_12_14[labeled_12_14['FuelLabel_2010'] == 'Urban'].plot(ax=axes[1,1],\n",
    "x=\"FuelLabel_2012\", y=\"Count_Pixel\", kind='bar')"
   ]
  },
  {
   "cell_type": "code",
   "execution_count": null,
   "metadata": {
    "collapsed": true
   },
   "outputs": [],
   "source": []
  }
 ],
 "metadata": {
  "kernelspec": {
   "display_name": "Python 2",
   "language": "python",
   "name": "python2"
  },
  "language_info": {
   "codemirror_mode": {
    "name": "ipython",
    "version": 2
   },
   "file_extension": ".py",
   "mimetype": "text/x-python",
   "name": "python",
   "nbconvert_exporter": "python",
   "pygments_lexer": "ipython2",
   "version": "2.7.5"
  }
 },
 "nbformat": 4,
 "nbformat_minor": 2
}
